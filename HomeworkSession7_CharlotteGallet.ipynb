{
 "cells": [
  {
   "cell_type": "markdown",
   "id": "a82b8a23",
   "metadata": {},
   "source": [
    "### Exercises about Neural Network Slide 153 Session 7 "
   ]
  },
  {
   "cell_type": "code",
   "execution_count": 1,
   "id": "078bcd51",
   "metadata": {},
   "outputs": [],
   "source": [
    "data = read.csv(\"C:/Users/cgallet/OneDrive - IESEG/MBD/Statistical_ML for Marketing/SML_Section7/data/bankruptcy_prediction/data.csv\")"
   ]
  },
  {
   "cell_type": "code",
   "execution_count": 2,
   "id": "364583b8",
   "metadata": {},
   "outputs": [
    {
     "name": "stdout",
     "output_type": "stream",
     "text": [
      "package 'neuralnet' successfully unpacked and MD5 sums checked\n",
      "\n",
      "The downloaded binary packages are in\n",
      "\tC:\\Users\\cgallet\\AppData\\Local\\Temp\\RtmpaADRmf\\downloaded_packages\n"
     ]
    },
    {
     "name": "stderr",
     "output_type": "stream",
     "text": [
      "Loading required package: ParamHelpers\n",
      "\n",
      "Warning message: 'mlr' is in 'maintenance-only' mode since July 2019.\n",
      "Future development will only happen in 'mlr3'\n",
      "(<https://mlr3.mlr-org.com>). Due to the focus on 'mlr3' there might be\n",
      "uncaught bugs meanwhile in {mlr} - please consider switching.\n",
      "\n"
     ]
    },
    {
     "name": "stdout",
     "output_type": "stream",
     "text": [
      "package 'LiblineaR' successfully unpacked and MD5 sums checked\n",
      "\n",
      "The downloaded binary packages are in\n",
      "\tC:\\Users\\cgallet\\AppData\\Local\\Temp\\RtmpaADRmf\\downloaded_packages\n"
     ]
    },
    {
     "name": "stderr",
     "output_type": "stream",
     "text": [
      "randomForest 4.6-14\n",
      "\n",
      "Type rfNews() to see new features/changes/bug fixes.\n",
      "\n"
     ]
    }
   ],
   "source": [
    "install.packages(\"neuralnet\")\n",
    "library(neuralnet)\n",
    "library(nnet)  \n",
    "library(mlr)\n",
    "install.packages(\"LiblineaR\")\n",
    "library(LiblineaR)     \n",
    "library(randomForest)  "
   ]
  },
  {
   "cell_type": "code",
   "execution_count": 3,
   "id": "1a7e0edf",
   "metadata": {},
   "outputs": [],
   "source": [
    "# Q1 \n",
    "set.seed(1)\n",
    "\n",
    "size <- floor(0.8*nrow(data))\n",
    "sample_size <- sample(seq_len(nrow(data)), size = size)\n",
    "\n",
    "train <- data[sample_size,]\n",
    "test <- data[-sample_size,]"
   ]
  },
  {
   "cell_type": "code",
   "execution_count": 5,
   "id": "c0186682",
   "metadata": {},
   "outputs": [
    {
     "data": {
      "text/html": [
       "<table class=\"dataframe\">\n",
       "<caption>A data.frame: 6 × 96</caption>\n",
       "<thead>\n",
       "\t<tr><th></th><th scope=col>Bankrupt.</th><th scope=col>ROA.C..before.interest.and.depreciation.before.interest</th><th scope=col>ROA.A..before.interest.and...after.tax</th><th scope=col>ROA.B..before.interest.and.depreciation.after.tax</th><th scope=col>Operating.Gross.Margin</th><th scope=col>Realized.Sales.Gross.Margin</th><th scope=col>Operating.Profit.Rate</th><th scope=col>Pre.tax.net.Interest.Rate</th><th scope=col>After.tax.net.Interest.Rate</th><th scope=col>Non.industry.income.and.expenditure.revenue</th><th scope=col>⋯</th><th scope=col>Net.Income.to.Total.Assets</th><th scope=col>Total.assets.to.GNP.price</th><th scope=col>No.credit.Interval</th><th scope=col>Gross.Profit.to.Sales</th><th scope=col>Net.Income.to.Stockholder.s.Equity</th><th scope=col>Liability.to.Equity</th><th scope=col>Degree.of.Financial.Leverage..DFL.</th><th scope=col>Interest.Coverage.Ratio..Interest.expense.to.EBIT.</th><th scope=col>Net.Income.Flag</th><th scope=col>Equity.to.Liability</th></tr>\n",
       "\t<tr><th></th><th scope=col>&lt;int&gt;</th><th scope=col>&lt;dbl&gt;</th><th scope=col>&lt;dbl&gt;</th><th scope=col>&lt;dbl&gt;</th><th scope=col>&lt;dbl&gt;</th><th scope=col>&lt;dbl&gt;</th><th scope=col>&lt;dbl&gt;</th><th scope=col>&lt;dbl&gt;</th><th scope=col>&lt;dbl&gt;</th><th scope=col>&lt;dbl&gt;</th><th scope=col>⋯</th><th scope=col>&lt;dbl&gt;</th><th scope=col>&lt;dbl&gt;</th><th scope=col>&lt;dbl&gt;</th><th scope=col>&lt;dbl&gt;</th><th scope=col>&lt;dbl&gt;</th><th scope=col>&lt;dbl&gt;</th><th scope=col>&lt;dbl&gt;</th><th scope=col>&lt;dbl&gt;</th><th scope=col>&lt;int&gt;</th><th scope=col>&lt;dbl&gt;</th></tr>\n",
       "</thead>\n",
       "<tbody>\n",
       "\t<tr><th scope=row>1</th><td>1</td><td>0.3705943</td><td>0.4243894</td><td>0.4057498</td><td>0.6014572</td><td>0.6014572</td><td>0.9989692</td><td>0.7968871</td><td>0.8088094</td><td>0.3026464</td><td>⋯</td><td>0.7168453</td><td>0.009219440</td><td>0.6228790</td><td>0.6014533</td><td>0.8278902</td><td>0.2902019</td><td>0.02660063</td><td>0.5640501</td><td>1</td><td>0.01646874</td></tr>\n",
       "\t<tr><th scope=row>2</th><td>1</td><td>0.4642909</td><td>0.5382141</td><td>0.5167300</td><td>0.6102351</td><td>0.6102351</td><td>0.9989460</td><td>0.7973802</td><td>0.8093007</td><td>0.3035564</td><td>⋯</td><td>0.7952971</td><td>0.008323302</td><td>0.6236517</td><td>0.6102365</td><td>0.8399693</td><td>0.2838460</td><td>0.26457682</td><td>0.5701749</td><td>1</td><td>0.02079431</td></tr>\n",
       "\t<tr><th scope=row>3</th><td>1</td><td>0.4260713</td><td>0.4990188</td><td>0.4722951</td><td>0.6014500</td><td>0.6013635</td><td>0.9988574</td><td>0.7964034</td><td>0.8083875</td><td>0.3020352</td><td>⋯</td><td>0.7746697</td><td>0.040002853</td><td>0.6238410</td><td>0.6014493</td><td>0.8367743</td><td>0.2901885</td><td>0.02655472</td><td>0.5637061</td><td>1</td><td>0.01647411</td></tr>\n",
       "\t<tr><th scope=row>4</th><td>1</td><td>0.3998440</td><td>0.4512647</td><td>0.4577333</td><td>0.5835411</td><td>0.5835411</td><td>0.9986997</td><td>0.7969670</td><td>0.8089656</td><td>0.3033495</td><td>⋯</td><td>0.7395545</td><td>0.003252475</td><td>0.6229287</td><td>0.5835376</td><td>0.8346971</td><td>0.2817212</td><td>0.02669663</td><td>0.5646634</td><td>1</td><td>0.02398233</td></tr>\n",
       "\t<tr><th scope=row>5</th><td>1</td><td>0.4650222</td><td>0.5384322</td><td>0.5222978</td><td>0.5987835</td><td>0.5987835</td><td>0.9989731</td><td>0.7973661</td><td>0.8093037</td><td>0.3034750</td><td>⋯</td><td>0.7950159</td><td>0.003877563</td><td>0.6235207</td><td>0.5987815</td><td>0.8399727</td><td>0.2785138</td><td>0.02475185</td><td>0.5756166</td><td>1</td><td>0.03549020</td></tr>\n",
       "\t<tr><th scope=row>6</th><td>1</td><td>0.3886803</td><td>0.4151766</td><td>0.4191338</td><td>0.5901714</td><td>0.5902507</td><td>0.9987581</td><td>0.7969032</td><td>0.8087706</td><td>0.3031158</td><td>⋯</td><td>0.7104205</td><td>0.005277875</td><td>0.6226046</td><td>0.5901723</td><td>0.8299390</td><td>0.2850871</td><td>0.02667537</td><td>0.5645383</td><td>1</td><td>0.01953448</td></tr>\n",
       "</tbody>\n",
       "</table>\n"
      ],
      "text/latex": [
       "A data.frame: 6 × 96\n",
       "\\begin{tabular}{r|lllllllllllllllllllll}\n",
       "  & Bankrupt. & ROA.C..before.interest.and.depreciation.before.interest & ROA.A..before.interest.and...after.tax & ROA.B..before.interest.and.depreciation.after.tax & Operating.Gross.Margin & Realized.Sales.Gross.Margin & Operating.Profit.Rate & Pre.tax.net.Interest.Rate & After.tax.net.Interest.Rate & Non.industry.income.and.expenditure.revenue & ⋯ & Net.Income.to.Total.Assets & Total.assets.to.GNP.price & No.credit.Interval & Gross.Profit.to.Sales & Net.Income.to.Stockholder.s.Equity & Liability.to.Equity & Degree.of.Financial.Leverage..DFL. & Interest.Coverage.Ratio..Interest.expense.to.EBIT. & Net.Income.Flag & Equity.to.Liability\\\\\n",
       "  & <int> & <dbl> & <dbl> & <dbl> & <dbl> & <dbl> & <dbl> & <dbl> & <dbl> & <dbl> & ⋯ & <dbl> & <dbl> & <dbl> & <dbl> & <dbl> & <dbl> & <dbl> & <dbl> & <int> & <dbl>\\\\\n",
       "\\hline\n",
       "\t1 & 1 & 0.3705943 & 0.4243894 & 0.4057498 & 0.6014572 & 0.6014572 & 0.9989692 & 0.7968871 & 0.8088094 & 0.3026464 & ⋯ & 0.7168453 & 0.009219440 & 0.6228790 & 0.6014533 & 0.8278902 & 0.2902019 & 0.02660063 & 0.5640501 & 1 & 0.01646874\\\\\n",
       "\t2 & 1 & 0.4642909 & 0.5382141 & 0.5167300 & 0.6102351 & 0.6102351 & 0.9989460 & 0.7973802 & 0.8093007 & 0.3035564 & ⋯ & 0.7952971 & 0.008323302 & 0.6236517 & 0.6102365 & 0.8399693 & 0.2838460 & 0.26457682 & 0.5701749 & 1 & 0.02079431\\\\\n",
       "\t3 & 1 & 0.4260713 & 0.4990188 & 0.4722951 & 0.6014500 & 0.6013635 & 0.9988574 & 0.7964034 & 0.8083875 & 0.3020352 & ⋯ & 0.7746697 & 0.040002853 & 0.6238410 & 0.6014493 & 0.8367743 & 0.2901885 & 0.02655472 & 0.5637061 & 1 & 0.01647411\\\\\n",
       "\t4 & 1 & 0.3998440 & 0.4512647 & 0.4577333 & 0.5835411 & 0.5835411 & 0.9986997 & 0.7969670 & 0.8089656 & 0.3033495 & ⋯ & 0.7395545 & 0.003252475 & 0.6229287 & 0.5835376 & 0.8346971 & 0.2817212 & 0.02669663 & 0.5646634 & 1 & 0.02398233\\\\\n",
       "\t5 & 1 & 0.4650222 & 0.5384322 & 0.5222978 & 0.5987835 & 0.5987835 & 0.9989731 & 0.7973661 & 0.8093037 & 0.3034750 & ⋯ & 0.7950159 & 0.003877563 & 0.6235207 & 0.5987815 & 0.8399727 & 0.2785138 & 0.02475185 & 0.5756166 & 1 & 0.03549020\\\\\n",
       "\t6 & 1 & 0.3886803 & 0.4151766 & 0.4191338 & 0.5901714 & 0.5902507 & 0.9987581 & 0.7969032 & 0.8087706 & 0.3031158 & ⋯ & 0.7104205 & 0.005277875 & 0.6226046 & 0.5901723 & 0.8299390 & 0.2850871 & 0.02667537 & 0.5645383 & 1 & 0.01953448\\\\\n",
       "\\end{tabular}\n"
      ],
      "text/markdown": [
       "\n",
       "A data.frame: 6 × 96\n",
       "\n",
       "| <!--/--> | Bankrupt. &lt;int&gt; | ROA.C..before.interest.and.depreciation.before.interest &lt;dbl&gt; | ROA.A..before.interest.and...after.tax &lt;dbl&gt; | ROA.B..before.interest.and.depreciation.after.tax &lt;dbl&gt; | Operating.Gross.Margin &lt;dbl&gt; | Realized.Sales.Gross.Margin &lt;dbl&gt; | Operating.Profit.Rate &lt;dbl&gt; | Pre.tax.net.Interest.Rate &lt;dbl&gt; | After.tax.net.Interest.Rate &lt;dbl&gt; | Non.industry.income.and.expenditure.revenue &lt;dbl&gt; | ⋯ ⋯ | Net.Income.to.Total.Assets &lt;dbl&gt; | Total.assets.to.GNP.price &lt;dbl&gt; | No.credit.Interval &lt;dbl&gt; | Gross.Profit.to.Sales &lt;dbl&gt; | Net.Income.to.Stockholder.s.Equity &lt;dbl&gt; | Liability.to.Equity &lt;dbl&gt; | Degree.of.Financial.Leverage..DFL. &lt;dbl&gt; | Interest.Coverage.Ratio..Interest.expense.to.EBIT. &lt;dbl&gt; | Net.Income.Flag &lt;int&gt; | Equity.to.Liability &lt;dbl&gt; |\n",
       "|---|---|---|---|---|---|---|---|---|---|---|---|---|---|---|---|---|---|---|---|---|---|\n",
       "| 1 | 1 | 0.3705943 | 0.4243894 | 0.4057498 | 0.6014572 | 0.6014572 | 0.9989692 | 0.7968871 | 0.8088094 | 0.3026464 | ⋯ | 0.7168453 | 0.009219440 | 0.6228790 | 0.6014533 | 0.8278902 | 0.2902019 | 0.02660063 | 0.5640501 | 1 | 0.01646874 |\n",
       "| 2 | 1 | 0.4642909 | 0.5382141 | 0.5167300 | 0.6102351 | 0.6102351 | 0.9989460 | 0.7973802 | 0.8093007 | 0.3035564 | ⋯ | 0.7952971 | 0.008323302 | 0.6236517 | 0.6102365 | 0.8399693 | 0.2838460 | 0.26457682 | 0.5701749 | 1 | 0.02079431 |\n",
       "| 3 | 1 | 0.4260713 | 0.4990188 | 0.4722951 | 0.6014500 | 0.6013635 | 0.9988574 | 0.7964034 | 0.8083875 | 0.3020352 | ⋯ | 0.7746697 | 0.040002853 | 0.6238410 | 0.6014493 | 0.8367743 | 0.2901885 | 0.02655472 | 0.5637061 | 1 | 0.01647411 |\n",
       "| 4 | 1 | 0.3998440 | 0.4512647 | 0.4577333 | 0.5835411 | 0.5835411 | 0.9986997 | 0.7969670 | 0.8089656 | 0.3033495 | ⋯ | 0.7395545 | 0.003252475 | 0.6229287 | 0.5835376 | 0.8346971 | 0.2817212 | 0.02669663 | 0.5646634 | 1 | 0.02398233 |\n",
       "| 5 | 1 | 0.4650222 | 0.5384322 | 0.5222978 | 0.5987835 | 0.5987835 | 0.9989731 | 0.7973661 | 0.8093037 | 0.3034750 | ⋯ | 0.7950159 | 0.003877563 | 0.6235207 | 0.5987815 | 0.8399727 | 0.2785138 | 0.02475185 | 0.5756166 | 1 | 0.03549020 |\n",
       "| 6 | 1 | 0.3886803 | 0.4151766 | 0.4191338 | 0.5901714 | 0.5902507 | 0.9987581 | 0.7969032 | 0.8087706 | 0.3031158 | ⋯ | 0.7104205 | 0.005277875 | 0.6226046 | 0.5901723 | 0.8299390 | 0.2850871 | 0.02667537 | 0.5645383 | 1 | 0.01953448 |\n",
       "\n"
      ],
      "text/plain": [
       "  Bankrupt. ROA.C..before.interest.and.depreciation.before.interest\n",
       "1 1         0.3705943                                              \n",
       "2 1         0.4642909                                              \n",
       "3 1         0.4260713                                              \n",
       "4 1         0.3998440                                              \n",
       "5 1         0.4650222                                              \n",
       "6 1         0.3886803                                              \n",
       "  ROA.A..before.interest.and...after.tax\n",
       "1 0.4243894                             \n",
       "2 0.5382141                             \n",
       "3 0.4990188                             \n",
       "4 0.4512647                             \n",
       "5 0.5384322                             \n",
       "6 0.4151766                             \n",
       "  ROA.B..before.interest.and.depreciation.after.tax Operating.Gross.Margin\n",
       "1 0.4057498                                         0.6014572             \n",
       "2 0.5167300                                         0.6102351             \n",
       "3 0.4722951                                         0.6014500             \n",
       "4 0.4577333                                         0.5835411             \n",
       "5 0.5222978                                         0.5987835             \n",
       "6 0.4191338                                         0.5901714             \n",
       "  Realized.Sales.Gross.Margin Operating.Profit.Rate Pre.tax.net.Interest.Rate\n",
       "1 0.6014572                   0.9989692             0.7968871                \n",
       "2 0.6102351                   0.9989460             0.7973802                \n",
       "3 0.6013635                   0.9988574             0.7964034                \n",
       "4 0.5835411                   0.9986997             0.7969670                \n",
       "5 0.5987835                   0.9989731             0.7973661                \n",
       "6 0.5902507                   0.9987581             0.7969032                \n",
       "  After.tax.net.Interest.Rate Non.industry.income.and.expenditure.revenue\n",
       "1 0.8088094                   0.3026464                                  \n",
       "2 0.8093007                   0.3035564                                  \n",
       "3 0.8083875                   0.3020352                                  \n",
       "4 0.8089656                   0.3033495                                  \n",
       "5 0.8093037                   0.3034750                                  \n",
       "6 0.8087706                   0.3031158                                  \n",
       "  <U+22EF>        Net.Income.to.Total.Assets Total.assets.to.GNP.price\n",
       "1 <U+22EF> 0.7168453                  0.009219440              \n",
       "2 <U+22EF> 0.7952971                  0.008323302              \n",
       "3 <U+22EF> 0.7746697                  0.040002853              \n",
       "4 <U+22EF> 0.7395545                  0.003252475              \n",
       "5 <U+22EF> 0.7950159                  0.003877563              \n",
       "6 <U+22EF> 0.7104205                  0.005277875              \n",
       "  No.credit.Interval Gross.Profit.to.Sales Net.Income.to.Stockholder.s.Equity\n",
       "1 0.6228790          0.6014533             0.8278902                         \n",
       "2 0.6236517          0.6102365             0.8399693                         \n",
       "3 0.6238410          0.6014493             0.8367743                         \n",
       "4 0.6229287          0.5835376             0.8346971                         \n",
       "5 0.6235207          0.5987815             0.8399727                         \n",
       "6 0.6226046          0.5901723             0.8299390                         \n",
       "  Liability.to.Equity Degree.of.Financial.Leverage..DFL.\n",
       "1 0.2902019           0.02660063                        \n",
       "2 0.2838460           0.26457682                        \n",
       "3 0.2901885           0.02655472                        \n",
       "4 0.2817212           0.02669663                        \n",
       "5 0.2785138           0.02475185                        \n",
       "6 0.2850871           0.02667537                        \n",
       "  Interest.Coverage.Ratio..Interest.expense.to.EBIT. Net.Income.Flag\n",
       "1 0.5640501                                          1              \n",
       "2 0.5701749                                          1              \n",
       "3 0.5637061                                          1              \n",
       "4 0.5646634                                          1              \n",
       "5 0.5756166                                          1              \n",
       "6 0.5645383                                          1              \n",
       "  Equity.to.Liability\n",
       "1 0.01646874         \n",
       "2 0.02079431         \n",
       "3 0.01647411         \n",
       "4 0.02398233         \n",
       "5 0.03549020         \n",
       "6 0.01953448         "
      ]
     },
     "metadata": {},
     "output_type": "display_data"
    }
   ],
   "source": [
    "head(data)"
   ]
  },
  {
   "cell_type": "code",
   "execution_count": 12,
   "id": "727cdd96",
   "metadata": {},
   "outputs": [
    {
     "name": "stderr",
     "output_type": "stream",
     "text": [
      "Warning message:\n",
      "\"Algorithm did not converge in 1 of 1 repetition(s) within the stepmax.\"\n"
     ]
    }
   ],
   "source": [
    "# Q2\n",
    "nn_md <- neuralnet(Bankrupt.~., train, hidden=c(30), act.fct=\"logistic\")"
   ]
  },
  {
   "cell_type": "markdown",
   "id": "03a91e75",
   "metadata": {},
   "source": [
    "Because of the warning that resulted from the neuralnet model it is not possible to make the predictions. "
   ]
  },
  {
   "cell_type": "code",
   "execution_count": 8,
   "id": "005e3c9f",
   "metadata": {
    "scrolled": true
   },
   "outputs": [],
   "source": [
    "# Make prediction and evaluation on test\n",
    "test_prob <- predict(nn_md, test)"
   ]
  },
  {
   "cell_type": "code",
   "execution_count": 9,
   "id": "b9b6b8e5",
   "metadata": {
    "scrolled": false
   },
   "outputs": [],
   "source": [
    "test_pred = rep(0,nrow(test))\n",
    "test_pred[test_prob>0.1] = 1"
   ]
  },
  {
   "cell_type": "code",
   "execution_count": 11,
   "id": "3011f739",
   "metadata": {},
   "outputs": [
    {
     "ename": "ERROR",
     "evalue": "Error in table(test_pred, test[\"Bankrupt.\"]): all arguments must have the same length\n",
     "output_type": "error",
     "traceback": [
      "Error in table(test_pred, test[\"Bankrupt.\"]): all arguments must have the same length\nTraceback:\n",
      "1. table(test_pred, test[\"Bankrupt.\"])",
      "2. stop(\"all arguments must have the same length\")"
     ]
    }
   ],
   "source": [
    "table(test_pred,test[\"Bankrupt.\"])"
   ]
  },
  {
   "cell_type": "code",
   "execution_count": 21,
   "id": "a2618e80",
   "metadata": {},
   "outputs": [],
   "source": [
    "# Q3\n",
    "# Create the formula to train Neural Network\n",
    "#formula <- paste(\"Bankrupt.\", paste(names(train)[2:31], collapse=' + '), sep=' ~ ')\n",
    "\n",
    "nn_md <- neuralnet(Bankrupt.~., train, hidden=c(5,10,15,200.), act.fct=\"logistic\")"
   ]
  },
  {
   "cell_type": "code",
   "execution_count": null,
   "id": "f90179bf",
   "metadata": {},
   "outputs": [],
   "source": [
    "# Make prediction and evaluation on test\n",
    "test_prob <- predict(nn_md, test)"
   ]
  },
  {
   "cell_type": "code",
   "execution_count": null,
   "id": "74cc5465",
   "metadata": {},
   "outputs": [],
   "source": [
    "test_pred = rep(0,nrow(test))\n",
    "test_pred[test_prob>0.1] = 1"
   ]
  },
  {
   "cell_type": "code",
   "execution_count": null,
   "id": "1050ae4c",
   "metadata": {},
   "outputs": [],
   "source": [
    "table(test_pred,test[\"Bankrupt.\"])"
   ]
  },
  {
   "cell_type": "code",
   "execution_count": 11,
   "id": "fba9748f",
   "metadata": {},
   "outputs": [],
   "source": [
    "#Q4 \n",
    "# Define the ML classification task\n",
    "train_task <- mlr::makeClassifTask(id ='MNIST_train', data=train, target='Bankrupt.')\n",
    "test_task <- mlr::makeClassifTask(id='MNIST_test', data=test, target='Bankrupt.')"
   ]
  },
  {
   "cell_type": "code",
   "execution_count": 16,
   "id": "639f8264",
   "metadata": {},
   "outputs": [
    {
     "data": {
      "text/html": [
       "<strong>acc:</strong> 0.969941348973607"
      ],
      "text/latex": [
       "\\textbf{acc:} 0.969941348973607"
      ],
      "text/markdown": [
       "**acc:** 0.969941348973607"
      ],
      "text/plain": [
       "      acc \n",
       "0.9699413 "
      ]
     },
     "metadata": {},
     "output_type": "display_data"
    }
   ],
   "source": [
    "# Logistic Regression Lasso (l1)\n",
    "learner <- mlr::makeLearner('classif.LiblineaRL1LogReg')  # Register a machine learning model\n",
    "model <- mlr::train(learner, train_task)\n",
    "pred_test <- predict(model, task=test_task, proba=T)\n",
    "performance(pred_test, measures=acc)"
   ]
  },
  {
   "cell_type": "code",
   "execution_count": 17,
   "id": "e1847cf5",
   "metadata": {},
   "outputs": [
    {
     "data": {
      "text/html": [
       "<strong>acc:</strong> 0.967741935483871"
      ],
      "text/latex": [
       "\\textbf{acc:} 0.967741935483871"
      ],
      "text/markdown": [
       "**acc:** 0.967741935483871"
      ],
      "text/plain": [
       "      acc \n",
       "0.9677419 "
      ]
     },
     "metadata": {},
     "output_type": "display_data"
    }
   ],
   "source": [
    "# k-Nearest Neighbor (k=50)\n",
    "learner <- makeLearner('classif.knn', k=50)\n",
    "model <- mlr::train(learner, train_task)\n",
    "pred_test <- predict(model, task=test_task)\n",
    "performance(pred_test, measures=acc)"
   ]
  },
  {
   "cell_type": "code",
   "execution_count": 18,
   "id": "8ca81001",
   "metadata": {},
   "outputs": [
    {
     "data": {
      "text/html": [
       "<strong>acc:</strong> 0.958211143695015"
      ],
      "text/latex": [
       "\\textbf{acc:} 0.958211143695015"
      ],
      "text/markdown": [
       "**acc:** 0.958211143695015"
      ],
      "text/plain": [
       "      acc \n",
       "0.9582111 "
      ]
     },
     "metadata": {},
     "output_type": "display_data"
    }
   ],
   "source": [
    "# LDA (drop zero-variance features)\n",
    "learner <- makeLearner('classif.lda')\n",
    "model <- mlr::train(learner, filterFeatures(train_task, method='variance', threshold=0.1))\n",
    "pred_test <- predict(model, task=test_task)\n",
    "performance(pred_test, measures=acc)"
   ]
  },
  {
   "cell_type": "code",
   "execution_count": 19,
   "id": "e96ebdd9",
   "metadata": {},
   "outputs": [
    {
     "data": {
      "text/html": [
       "<strong>acc:</strong> 0.965542521994135"
      ],
      "text/latex": [
       "\\textbf{acc:} 0.965542521994135"
      ],
      "text/markdown": [
       "**acc:** 0.965542521994135"
      ],
      "text/plain": [
       "      acc \n",
       "0.9655425 "
      ]
     },
     "metadata": {},
     "output_type": "display_data"
    }
   ],
   "source": [
    "# Decision Tree\n",
    "learner <- mlr::makeLearner('classif.rpart')  # Register a machine learning model\n",
    "model <- mlr::train(learner, train_task)\n",
    "pred_test <- predict(model, task=test_task)\n",
    "performance(pred_test, measures=acc)"
   ]
  },
  {
   "cell_type": "code",
   "execution_count": 20,
   "id": "11aced42",
   "metadata": {},
   "outputs": [
    {
     "data": {
      "text/html": [
       "<strong>acc:</strong> 0.968475073313783"
      ],
      "text/latex": [
       "\\textbf{acc:} 0.968475073313783"
      ],
      "text/markdown": [
       "**acc:** 0.968475073313783"
      ],
      "text/plain": [
       "      acc \n",
       "0.9684751 "
      ]
     },
     "metadata": {},
     "output_type": "display_data"
    }
   ],
   "source": [
    "# Random Forest\n",
    "learner <- makeLearner('classif.randomForest')\n",
    "model <- mlr::train(learner, train_task)\n",
    "pred_test <- predict(model, task=test_task)\n",
    "performance(pred_test, measures=acc)"
   ]
  }
 ],
 "metadata": {
  "kernelspec": {
   "display_name": "R",
   "language": "R",
   "name": "ir"
  },
  "language_info": {
   "codemirror_mode": "r",
   "file_extension": ".r",
   "mimetype": "text/x-r-source",
   "name": "R",
   "pygments_lexer": "r",
   "version": "4.0.5"
  }
 },
 "nbformat": 4,
 "nbformat_minor": 5
}
