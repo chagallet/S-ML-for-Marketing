{
 "cells": [
  {
   "cell_type": "markdown",
   "metadata": {},
   "source": [
    "---\n",
    "\n",
    "# InClass Kaggle Competition - Group 5 \n",
    "\n",
    "This notebook shows the implementation of machine learning pipeline for the InClass Kaggle Competition.\n",
    "\n",
    "Group Members:\n",
    "- Charlotte Gallet\n",
    "- Elina Kelly\n",
    "- Hina Hussain\n",
    "\n",
    "Submitted on: 10/04/2022\n",
    "\n",
    "---\n",
    "\n",
    "The machine learning pipeline includes:\n",
    "\n",
    "1. Data processing (Part 2)\n",
    "- [x] Error correction\n",
    "- [x] Feature engineering\n",
    "- [x] Value transformation\n",
    "- [x] Value representation\n",
    "- [x] Variable selection\n",
    "\n",
    "2. Modeling (Part 3)\n",
    "- [x] Benchmarking 7 models\n",
    "- [x] Hyper parameter tuning\n",
    "\n",
    "4. Interpretation (Part 3)\n",
    "- [x] Learning curve\n",
    "- [x] Feature Importance"
   ]
  },
  {
   "cell_type": "code",
   "execution_count": 632,
   "metadata": {},
   "outputs": [
    {
     "name": "stdout",
     "output_type": "stream",
     "text": [
      "Wall time: 0 ns\n"
     ]
    }
   ],
   "source": [
    "%%time\n",
    "###################################################################\n",
    "# MODIFY THESE FLAGS TO TURN ON/OFF THE DATA PROCESSING FUNCTIONS #\n",
    "###################################################################\n",
    "\n",
    "# Flag variables to run the data processing steps\n",
    "# Feature engineering step\n",
    "enable_num_poly = True  # Add polynomial terms\n",
    "# Value transformation step\n",
    "enable_trans_cat_dt = True  # Remapping cat variables - Decision tree–based remapping\n",
    "enable_trans_num_dt = True  # Discretizing num variables - Decision tree–based discretization\n",
    "#enable_trans_num_ef = True  # Discretizing num variables - Equal frequency discretization\n",
    "#enable_trans_num_ew = True  # Discretizing num variables - Equal width discretization\n",
    "# Value representation step\n",
    "enable_repr_dummy = True  # Represent cat variables - Dummy coding\n",
    "#enable_repr_icd = True  # Represent cat variables - Incidence (of target variable) replacement\n",
    "#enable_repr_woe = True  # Represent cat variables - Weight-of-Evidence (WoE) conversion\n",
    "drop_cat_vars = True  # Drop cat variables after value representation step\n",
    "# Other data processing\n",
    "#enable_normalize = True  # Normalize the data to the same range [0, 1]"
   ]
  },
  {
   "cell_type": "markdown",
   "metadata": {},
   "source": [
    "## Initiation"
   ]
  },
  {
   "cell_type": "code",
   "execution_count": 633,
   "metadata": {},
   "outputs": [
    {
     "name": "stdout",
     "output_type": "stream",
     "text": [
      "Wall time: 2 ms\n"
     ]
    }
   ],
   "source": [
    "%%time\n",
    "# Data exploration\n",
    "import matplotlib.pyplot as plt\n",
    "\n",
    "# Data processing\n",
    "import pickle\n",
    "import numpy as np\n",
    "import pandas as pd\n",
    "from sklearn.impute import SimpleImputer\n",
    "from sklearn.preprocessing import OrdinalEncoder, OneHotEncoder, KBinsDiscretizer\n",
    "from sklearn.preprocessing import PolynomialFeatures\n",
    "from sklearn.preprocessing import MinMaxScaler\n",
    "from sklearn.feature_selection import mutual_info_classif, VarianceThreshold\n",
    "from sklearn.feature_selection import SelectFromModel\n",
    "from sklearn.decomposition import PCA\n",
    "\n",
    "# Modeling\n",
    "from sklearn.linear_model import LogisticRegression\n",
    "from sklearn.discriminant_analysis import LinearDiscriminantAnalysis\n",
    "from sklearn.tree import DecisionTreeClassifier\n",
    "from sklearn.ensemble import RandomForestClassifier\n",
    "from sklearn.ensemble import GradientBoostingClassifier, AdaBoostClassifier\n",
    "from sklearn.neighbors import KNeighborsClassifier\n",
    "from sklearn.svm import SVC\n",
    "from sklearn.neighbors import KNeighborsClassifier\n",
    "#from sklearn.neural_network import MLPClassifier\n",
    "from lightgbm import LGBMClassifier\n",
    "from sklearn.neural_network import MLPClassifier\n",
    "\n",
    "# Experimental setup\n",
    "from sklearn.model_selection import KFold, StratifiedKFold, cross_validate, GridSearchCV\n",
    "#from imblearn.over_sampling import SMOTE, RandomOverSampler\n",
    "#from imblearn.pipeline import Pipeline\n",
    "from sklearn.metrics import roc_auc_score\n",
    "from sklearn.metrics import f1_score\n",
    "from sklearn.metrics import accuracy_score\n",
    "from sklearn.model_selection import learning_curve\n",
    "from sklearn.model_selection import GridSearchCV, train_test_split"
   ]
  },
  {
   "cell_type": "markdown",
   "metadata": {},
   "source": [
    "## 1. Data summary"
   ]
  },
  {
   "cell_type": "markdown",
   "metadata": {},
   "source": [
    "#### (a) Read and print out some data"
   ]
  },
  {
   "cell_type": "code",
   "execution_count": 634,
   "metadata": {},
   "outputs": [
    {
     "name": "stdout",
     "output_type": "stream",
     "text": [
      "Wall time: 241 ms\n"
     ]
    }
   ],
   "source": [
    "%%time\n",
    "# Read train, test\n",
    "train = pd.read_csv(\"C:/Users/hhussain1/Desktop/SML/Group Project/Data/bank_mkt_train.csv\", low_memory=False)\n",
    "test = pd.read_csv(\"C:/Users/hhussain1/Desktop/SML/Group Project/Data/bank_mkt_test.csv\", low_memory=False)\n",
    "\n",
    "\n"
   ]
  },
  {
   "cell_type": "code",
   "execution_count": 635,
   "metadata": {},
   "outputs": [
    {
     "name": "stdout",
     "output_type": "stream",
     "text": [
      "object     10\n",
      "float64     9\n",
      "int64       2\n",
      "dtype: int64\n",
      "Wall time: 7 ms\n"
     ]
    },
    {
     "data": {
      "text/html": [
       "<div>\n",
       "<style scoped>\n",
       "    .dataframe tbody tr th:only-of-type {\n",
       "        vertical-align: middle;\n",
       "    }\n",
       "\n",
       "    .dataframe tbody tr th {\n",
       "        vertical-align: top;\n",
       "    }\n",
       "\n",
       "    .dataframe thead th {\n",
       "        text-align: right;\n",
       "    }\n",
       "</style>\n",
       "<table border=\"1\" class=\"dataframe\">\n",
       "  <thead>\n",
       "    <tr style=\"text-align: right;\">\n",
       "      <th></th>\n",
       "      <th>client_id</th>\n",
       "      <th>age</th>\n",
       "      <th>job</th>\n",
       "      <th>marital</th>\n",
       "      <th>education</th>\n",
       "      <th>default</th>\n",
       "      <th>housing</th>\n",
       "      <th>loan</th>\n",
       "      <th>contact</th>\n",
       "      <th>month</th>\n",
       "      <th>...</th>\n",
       "      <th>campaign</th>\n",
       "      <th>pdays</th>\n",
       "      <th>previous</th>\n",
       "      <th>poutcome</th>\n",
       "      <th>emp.var.rate</th>\n",
       "      <th>cons.price.idx</th>\n",
       "      <th>cons.conf.idx</th>\n",
       "      <th>euribor3m</th>\n",
       "      <th>nr.employed</th>\n",
       "      <th>subscribe</th>\n",
       "    </tr>\n",
       "  </thead>\n",
       "  <tbody>\n",
       "    <tr>\n",
       "      <th>0</th>\n",
       "      <td>29925</td>\n",
       "      <td>42.0</td>\n",
       "      <td>management</td>\n",
       "      <td>married</td>\n",
       "      <td>basic.9y</td>\n",
       "      <td>no</td>\n",
       "      <td>no</td>\n",
       "      <td>no</td>\n",
       "      <td>cellular</td>\n",
       "      <td>jul</td>\n",
       "      <td>...</td>\n",
       "      <td>1.0</td>\n",
       "      <td>999.0</td>\n",
       "      <td>0.0</td>\n",
       "      <td>nonexistent</td>\n",
       "      <td>1.4</td>\n",
       "      <td>93.918</td>\n",
       "      <td>-42.7</td>\n",
       "      <td>4.968</td>\n",
       "      <td>5228.1</td>\n",
       "      <td>0</td>\n",
       "    </tr>\n",
       "    <tr>\n",
       "      <th>1</th>\n",
       "      <td>37529</td>\n",
       "      <td>35.0</td>\n",
       "      <td>unemployed</td>\n",
       "      <td>married</td>\n",
       "      <td>university.degree</td>\n",
       "      <td>no</td>\n",
       "      <td>yes</td>\n",
       "      <td>no</td>\n",
       "      <td>telephone</td>\n",
       "      <td>jun</td>\n",
       "      <td>...</td>\n",
       "      <td>4.0</td>\n",
       "      <td>999.0</td>\n",
       "      <td>0.0</td>\n",
       "      <td>nonexistent</td>\n",
       "      <td>1.4</td>\n",
       "      <td>94.465</td>\n",
       "      <td>-41.8</td>\n",
       "      <td>4.960</td>\n",
       "      <td>5228.1</td>\n",
       "      <td>0</td>\n",
       "    </tr>\n",
       "    <tr>\n",
       "      <th>2</th>\n",
       "      <td>2757</td>\n",
       "      <td>44.0</td>\n",
       "      <td>technician</td>\n",
       "      <td>married</td>\n",
       "      <td>basic.9y</td>\n",
       "      <td>no</td>\n",
       "      <td>yes</td>\n",
       "      <td>yes</td>\n",
       "      <td>cellular</td>\n",
       "      <td>may</td>\n",
       "      <td>...</td>\n",
       "      <td>1.0</td>\n",
       "      <td>999.0</td>\n",
       "      <td>0.0</td>\n",
       "      <td>nonexistent</td>\n",
       "      <td>-1.8</td>\n",
       "      <td>92.893</td>\n",
       "      <td>-46.2</td>\n",
       "      <td>1.264</td>\n",
       "      <td>5099.1</td>\n",
       "      <td>0</td>\n",
       "    </tr>\n",
       "    <tr>\n",
       "      <th>3</th>\n",
       "      <td>9642</td>\n",
       "      <td>45.0</td>\n",
       "      <td>services</td>\n",
       "      <td>married</td>\n",
       "      <td>high.school</td>\n",
       "      <td>no</td>\n",
       "      <td>yes</td>\n",
       "      <td>no</td>\n",
       "      <td>cellular</td>\n",
       "      <td>apr</td>\n",
       "      <td>...</td>\n",
       "      <td>1.0</td>\n",
       "      <td>999.0</td>\n",
       "      <td>0.0</td>\n",
       "      <td>nonexistent</td>\n",
       "      <td>-1.8</td>\n",
       "      <td>93.075</td>\n",
       "      <td>-47.1</td>\n",
       "      <td>1.453</td>\n",
       "      <td>5099.1</td>\n",
       "      <td>0</td>\n",
       "    </tr>\n",
       "    <tr>\n",
       "      <th>4</th>\n",
       "      <td>14183</td>\n",
       "      <td>45.0</td>\n",
       "      <td>unknown</td>\n",
       "      <td>married</td>\n",
       "      <td>unknown</td>\n",
       "      <td>unknown</td>\n",
       "      <td>unknown</td>\n",
       "      <td>unknown</td>\n",
       "      <td>telephone</td>\n",
       "      <td>may</td>\n",
       "      <td>...</td>\n",
       "      <td>1.0</td>\n",
       "      <td>999.0</td>\n",
       "      <td>0.0</td>\n",
       "      <td>nonexistent</td>\n",
       "      <td>1.1</td>\n",
       "      <td>93.994</td>\n",
       "      <td>-36.4</td>\n",
       "      <td>4.859</td>\n",
       "      <td>5191.0</td>\n",
       "      <td>0</td>\n",
       "    </tr>\n",
       "  </tbody>\n",
       "</table>\n",
       "<p>5 rows × 21 columns</p>\n",
       "</div>"
      ],
      "text/plain": [
       "   client_id   age         job  marital          education  default  housing  \\\n",
       "0      29925  42.0  management  married           basic.9y       no       no   \n",
       "1      37529  35.0  unemployed  married  university.degree       no      yes   \n",
       "2       2757  44.0  technician  married           basic.9y       no      yes   \n",
       "3       9642  45.0    services  married        high.school       no      yes   \n",
       "4      14183  45.0     unknown  married            unknown  unknown  unknown   \n",
       "\n",
       "      loan    contact month  ... campaign  pdays  previous     poutcome  \\\n",
       "0       no   cellular   jul  ...      1.0  999.0       0.0  nonexistent   \n",
       "1       no  telephone   jun  ...      4.0  999.0       0.0  nonexistent   \n",
       "2      yes   cellular   may  ...      1.0  999.0       0.0  nonexistent   \n",
       "3       no   cellular   apr  ...      1.0  999.0       0.0  nonexistent   \n",
       "4  unknown  telephone   may  ...      1.0  999.0       0.0  nonexistent   \n",
       "\n",
       "  emp.var.rate  cons.price.idx  cons.conf.idx  euribor3m  nr.employed  \\\n",
       "0          1.4          93.918          -42.7      4.968       5228.1   \n",
       "1          1.4          94.465          -41.8      4.960       5228.1   \n",
       "2         -1.8          92.893          -46.2      1.264       5099.1   \n",
       "3         -1.8          93.075          -47.1      1.453       5099.1   \n",
       "4          1.1          93.994          -36.4      4.859       5191.0   \n",
       "\n",
       "   subscribe  \n",
       "0          0  \n",
       "1          0  \n",
       "2          0  \n",
       "3          0  \n",
       "4          0  \n",
       "\n",
       "[5 rows x 21 columns]"
      ]
     },
     "execution_count": 635,
     "metadata": {},
     "output_type": "execute_result"
    }
   ],
   "source": [
    "%%time\n",
    "# Print out to check the data\n",
    "print(train.dtypes.value_counts())\n",
    "train.head()"
   ]
  },
  {
   "cell_type": "markdown",
   "metadata": {},
   "source": [
    "#### (b) Create a list of column names to manage variables"
   ]
  },
  {
   "cell_type": "code",
   "execution_count": 636,
   "metadata": {},
   "outputs": [
    {
     "name": "stdout",
     "output_type": "stream",
     "text": [
      "Wall time: 0 ns\n"
     ]
    }
   ],
   "source": [
    "%%time\n",
    "# General list of variables\n",
    "id_var = [\"client_id\"]  # ID\n",
    "target_var = [\"subscribe\"]  # Target get variable\n",
    "predictors = [v for v in train.columns if v not in id_var + target_var]\n",
    "\n",
    "# List of numerical and catergorical variables\n",
    "num_vars = ['age', 'campaign', 'pdays', 'previous',\n",
    "            'emp.var.rate', 'cons.price.idx', 'cons.conf.idx', 'euribor3m', 'nr.employed']\n",
    "cat_vars = ['job', 'marital', 'education', 'default', 'housing', 'loan',\n",
    "            'contact', 'month', 'day_of_week',\n",
    "            'poutcome']\n",
    "\n",
    "# Double check the list of variables\n",
    "assert(len(predictors) == len(num_vars) + len(cat_vars))"
   ]
  },
  {
   "cell_type": "markdown",
   "metadata": {},
   "source": [
    "#### (c) Check the target variable class distribution"
   ]
  },
  {
   "cell_type": "code",
   "execution_count": 637,
   "metadata": {},
   "outputs": [
    {
     "name": "stdout",
     "output_type": "stream",
     "text": [
      "subscribe\n",
      "0            17729\n",
      "1             2271\n",
      "dtype: int64\n",
      "subscribe\n",
      "0            0.88645\n",
      "1            0.11355\n",
      "dtype: float64\n",
      "Wall time: 13 ms\n"
     ]
    }
   ],
   "source": [
    "%%time\n",
    "# By number\n",
    "print(train[target_var].value_counts())\n",
    "\n",
    "# By percentage\n",
    "print(train[target_var].value_counts(normalize=True))"
   ]
  },
  {
   "cell_type": "markdown",
   "metadata": {},
   "source": [
    "#### (d) Creating a validation set"
   ]
  },
  {
   "cell_type": "code",
   "execution_count": 638,
   "metadata": {},
   "outputs": [],
   "source": [
    "#Split the train set into train and validation\n",
    "\n",
    "X_train, X_val, y_train, y_val = train_test_split(train[train.columns[~train.columns.isin(['subscribe'])]], train[\"subscribe\"], test_size=0.2, stratify = train[\"subscribe\"], random_state=42)"
   ]
  },
  {
   "cell_type": "code",
   "execution_count": 639,
   "metadata": {},
   "outputs": [],
   "source": [
    "#Create final validation set with IV and DV\n",
    "validation = X_val\n",
    "validation[\"subscribe\"] = y_val"
   ]
  },
  {
   "cell_type": "code",
   "execution_count": 640,
   "metadata": {},
   "outputs": [],
   "source": [
    "#Create final train set\n",
    "train = X_train\n",
    "train[\"subscribe\"] = y_train"
   ]
  },
  {
   "cell_type": "code",
   "execution_count": 641,
   "metadata": {},
   "outputs": [],
   "source": [
    "#Reset index\n",
    "\n",
    "train = train.reset_index(drop=True)\n",
    "validation = validation.reset_index(drop=True)"
   ]
  },
  {
   "cell_type": "code",
   "execution_count": 642,
   "metadata": {},
   "outputs": [
    {
     "name": "stdout",
     "output_type": "stream",
     "text": [
      "(16000, 21)\n",
      "(4000, 21)\n",
      "(10000, 20)\n"
     ]
    }
   ],
   "source": [
    "#Check dimensions\n",
    "print(train.shape)\n",
    "print(validation.shape)\n",
    "print(test.shape)"
   ]
  },
  {
   "cell_type": "markdown",
   "metadata": {},
   "source": [
    "## 2. Processing data"
   ]
  },
  {
   "cell_type": "markdown",
   "metadata": {},
   "source": [
    "### 2.1. Error, data correction"
   ]
  },
  {
   "cell_type": "markdown",
   "metadata": {},
   "source": [
    "#### (a) Check and correct data error - Constant variables\n",
    "\n",
    "Constant variables on train do not contain information and may cause data processing or model training error."
   ]
  },
  {
   "cell_type": "code",
   "execution_count": 643,
   "metadata": {},
   "outputs": [
    {
     "name": "stdout",
     "output_type": "stream",
     "text": [
      "Drop constant variable: []\n",
      "Wall time: 40 ms\n"
     ]
    }
   ],
   "source": [
    "%%time\n",
    "# Count number of unique values of each variable\n",
    "vars_nunique = train[num_vars + cat_vars].apply(pd.Series.nunique, dropna=False, axis=0)\n",
    "cont_vars = vars_nunique.index[vars_nunique < 2].tolist()\n",
    "print(\"Drop constant variable:\", cont_vars)\n",
    "\n",
    "# Correct variable list\n",
    "num_vars = [v for v in num_vars if v not in cont_vars]\n",
    "cat_vars = [v for v in cat_vars if v not in cont_vars]\n",
    "\n",
    "# Update train, validation, test\n",
    "train = train[id_var + num_vars + cat_vars + target_var]\n",
    "validation = validation[id_var + num_vars + cat_vars + target_var]\n",
    "test = test[id_var + num_vars + cat_vars]"
   ]
  },
  {
   "cell_type": "markdown",
   "metadata": {},
   "source": [
    "#### (b) Check and correct data error - Missing values"
   ]
  },
  {
   "cell_type": "code",
   "execution_count": 644,
   "metadata": {},
   "outputs": [
    {
     "name": "stdout",
     "output_type": "stream",
     "text": [
      "Train - # NA of num vars: 1378\n",
      "Train - # NA of cat vars: 1531\n",
      "Validation - # NA of num vars: 352\n",
      "Validation - # NA of cat vars: 403\n",
      "Test - # NA of num vars: 918\n",
      "Test - # NA of cat vars: 1057\n",
      "Wall time: 26 ms\n"
     ]
    }
   ],
   "source": [
    "%%time\n",
    "# Check missing value\n",
    "print('Train - # NA of num vars:', train[num_vars].isna().sum().sum())\n",
    "print('Train - # NA of cat vars:', train[cat_vars].isna().sum().sum())\n",
    "print('Validation - # NA of num vars:', validation[num_vars].isna().sum().sum())\n",
    "print('Validation - # NA of cat vars:', validation[cat_vars].isna().sum().sum())\n",
    "print('Test - # NA of num vars:', test[num_vars].isna().sum().sum())\n",
    "print('Test - # NA of cat vars:', test[cat_vars].isna().sum().sum())"
   ]
  },
  {
   "cell_type": "code",
   "execution_count": 645,
   "metadata": {},
   "outputs": [
    {
     "name": "stdout",
     "output_type": "stream",
     "text": [
      "Drop num variables with high missing pct: []\n",
      "Drop cat variables with high missing pct: []\n",
      "Wall time: 21 ms\n"
     ]
    }
   ],
   "source": [
    "%%time\n",
    "# Here, we test the effect of dropping variables with high missing percentage (>30%)\n",
    "na_threshold = 0.3\n",
    "\n",
    "# Drop num variables with more than 30% missing values\n",
    "num_na_pct = train[num_vars].isnull().mean()\n",
    "num_vars = num_na_pct[num_na_pct <= na_threshold].index.tolist()\n",
    "print(\"Drop num variables with high missing pct:\", num_na_pct[num_na_pct > na_threshold].tolist())\n",
    "\n",
    "# Drop cat variables with more than 30% missing values\n",
    "cat_na_pct = train[cat_vars].isnull().mean()\n",
    "cat_vars = cat_na_pct[cat_na_pct <= 0.3].index.tolist()\n",
    "print(\"Drop cat variables with high missing pct:\", cat_na_pct[cat_na_pct > na_threshold].tolist())\n",
    "\n",
    "# Update train, test\n",
    "train = train[id_var + num_vars + cat_vars + target_var]\n",
    "validation = validation[id_var + num_vars + cat_vars + target_var]\n",
    "test = test[id_var + num_vars + cat_vars]"
   ]
  },
  {
   "cell_type": "code",
   "execution_count": 646,
   "metadata": {},
   "outputs": [
    {
     "name": "stdout",
     "output_type": "stream",
     "text": [
      "Wall time: 0 ns\n"
     ]
    }
   ],
   "source": [
    "%%time\n",
    "# List summary variables to track missing values imputation\n",
    "na_vars = []"
   ]
  },
  {
   "cell_type": "code",
   "execution_count": 647,
   "metadata": {},
   "outputs": [
    {
     "name": "stdout",
     "output_type": "stream",
     "text": [
      "Wall time: 48.1 ms\n"
     ]
    }
   ],
   "source": [
    "%%time\n",
    "# Numerical variables\n",
    "# Build the missing value imputor using the mean\n",
    "imp = SimpleImputer(missing_values=np.nan, strategy='mean', add_indicator=True)\n",
    "imp.fit(train[num_vars])\n",
    "\n",
    "# Reconstruct the list of vars + indicators\n",
    "na_vars = na_vars + [num_vars[v] + \"_na\" for v in imp.indicator_.features_]\n",
    "impute_vars = num_vars + na_vars\n",
    "\n",
    "# Apply on train, validation, test\n",
    "train[impute_vars] = pd.DataFrame(imp.transform(train[num_vars]), columns=impute_vars)\n",
    "validation[impute_vars] = pd.DataFrame(imp.transform(validation[num_vars]), columns=impute_vars)\n",
    "test[impute_vars] = pd.DataFrame(imp.transform(test[num_vars]), columns=impute_vars)"
   ]
  },
  {
   "cell_type": "code",
   "execution_count": 648,
   "metadata": {},
   "outputs": [
    {
     "data": {
      "text/html": [
       "<div>\n",
       "<style scoped>\n",
       "    .dataframe tbody tr th:only-of-type {\n",
       "        vertical-align: middle;\n",
       "    }\n",
       "\n",
       "    .dataframe tbody tr th {\n",
       "        vertical-align: top;\n",
       "    }\n",
       "\n",
       "    .dataframe thead th {\n",
       "        text-align: right;\n",
       "    }\n",
       "</style>\n",
       "<table border=\"1\" class=\"dataframe\">\n",
       "  <thead>\n",
       "    <tr style=\"text-align: right;\">\n",
       "      <th></th>\n",
       "      <th>client_id</th>\n",
       "      <th>age</th>\n",
       "      <th>campaign</th>\n",
       "      <th>pdays</th>\n",
       "      <th>previous</th>\n",
       "      <th>emp.var.rate</th>\n",
       "      <th>cons.price.idx</th>\n",
       "      <th>cons.conf.idx</th>\n",
       "      <th>euribor3m</th>\n",
       "      <th>nr.employed</th>\n",
       "      <th>...</th>\n",
       "      <th>subscribe</th>\n",
       "      <th>age_na</th>\n",
       "      <th>campaign_na</th>\n",
       "      <th>pdays_na</th>\n",
       "      <th>previous_na</th>\n",
       "      <th>emp.var.rate_na</th>\n",
       "      <th>cons.price.idx_na</th>\n",
       "      <th>cons.conf.idx_na</th>\n",
       "      <th>euribor3m_na</th>\n",
       "      <th>nr.employed_na</th>\n",
       "    </tr>\n",
       "  </thead>\n",
       "  <tbody>\n",
       "    <tr>\n",
       "      <th>0</th>\n",
       "      <td>21641</td>\n",
       "      <td>36.0</td>\n",
       "      <td>2.0</td>\n",
       "      <td>999.0</td>\n",
       "      <td>0.0</td>\n",
       "      <td>1.1</td>\n",
       "      <td>93.994</td>\n",
       "      <td>-36.4</td>\n",
       "      <td>4.857</td>\n",
       "      <td>5191.0</td>\n",
       "      <td>...</td>\n",
       "      <td>0</td>\n",
       "      <td>0.0</td>\n",
       "      <td>0.0</td>\n",
       "      <td>0.0</td>\n",
       "      <td>0.0</td>\n",
       "      <td>0.0</td>\n",
       "      <td>0.0</td>\n",
       "      <td>0.0</td>\n",
       "      <td>0.0</td>\n",
       "      <td>0.0</td>\n",
       "    </tr>\n",
       "    <tr>\n",
       "      <th>1</th>\n",
       "      <td>35922</td>\n",
       "      <td>26.0</td>\n",
       "      <td>1.0</td>\n",
       "      <td>999.0</td>\n",
       "      <td>0.0</td>\n",
       "      <td>1.4</td>\n",
       "      <td>94.465</td>\n",
       "      <td>-41.8</td>\n",
       "      <td>4.962</td>\n",
       "      <td>5228.1</td>\n",
       "      <td>...</td>\n",
       "      <td>0</td>\n",
       "      <td>0.0</td>\n",
       "      <td>0.0</td>\n",
       "      <td>0.0</td>\n",
       "      <td>0.0</td>\n",
       "      <td>0.0</td>\n",
       "      <td>0.0</td>\n",
       "      <td>0.0</td>\n",
       "      <td>0.0</td>\n",
       "      <td>0.0</td>\n",
       "    </tr>\n",
       "  </tbody>\n",
       "</table>\n",
       "<p>2 rows × 30 columns</p>\n",
       "</div>"
      ],
      "text/plain": [
       "   client_id   age  campaign  pdays  previous  emp.var.rate  cons.price.idx  \\\n",
       "0      21641  36.0       2.0  999.0       0.0           1.1          93.994   \n",
       "1      35922  26.0       1.0  999.0       0.0           1.4          94.465   \n",
       "\n",
       "   cons.conf.idx  euribor3m  nr.employed  ... subscribe age_na campaign_na  \\\n",
       "0          -36.4      4.857       5191.0  ...         0    0.0         0.0   \n",
       "1          -41.8      4.962       5228.1  ...         0    0.0         0.0   \n",
       "\n",
       "  pdays_na previous_na emp.var.rate_na cons.price.idx_na cons.conf.idx_na  \\\n",
       "0      0.0         0.0             0.0               0.0              0.0   \n",
       "1      0.0         0.0             0.0               0.0              0.0   \n",
       "\n",
       "  euribor3m_na nr.employed_na  \n",
       "0          0.0            0.0  \n",
       "1          0.0            0.0  \n",
       "\n",
       "[2 rows x 30 columns]"
      ]
     },
     "execution_count": 648,
     "metadata": {},
     "output_type": "execute_result"
    }
   ],
   "source": [
    "train.head(2)"
   ]
  },
  {
   "cell_type": "code",
   "execution_count": 649,
   "metadata": {},
   "outputs": [
    {
     "name": "stdout",
     "output_type": "stream",
     "text": [
      "Wall time: 33 ms\n"
     ]
    }
   ],
   "source": [
    "%%time\n",
    "# Categorical variables\n",
    "# Impute missing value using a new category \"Missing\"\n",
    "# Note: If the categorical vars are imputed by most_frequent, the indicators should be added\n",
    "train[cat_vars] = train[cat_vars].fillna('Missing')\n",
    "validation[cat_vars] = validation[cat_vars].fillna('Missing')\n",
    "test[cat_vars] = test[cat_vars].fillna('Missing')"
   ]
  },
  {
   "cell_type": "markdown",
   "metadata": {},
   "source": [
    "#### (c) Check and correct data error - Outliers in numerical variables\n"
   ]
  },
  {
   "cell_type": "code",
   "execution_count": 650,
   "metadata": {},
   "outputs": [
    {
     "name": "stdout",
     "output_type": "stream",
     "text": [
      "age has # outliers on train, validation, test : 144 [ 0.9 % ] 37 [ 0.92 % ] 89 [ 0.89 % ]\n",
      "campaign has # outliers on train, validation, test : 341 [ 2.13 % ] 82 [ 2.05 % ] 210 [ 2.1 % ]\n",
      "pdays has # outliers on train, validation, test : 596 [ 3.72 % ] 154 [ 3.85 % ] 371 [ 3.71 % ]\n",
      "previous has # outliers on train, validation, test : 416 [ 2.6 % ] 103 [ 2.58 % ] 269 [ 2.69 % ]\n",
      "Wall time: 32 ms\n"
     ]
    }
   ],
   "source": [
    "%%time\n",
    "# Check the outliers on train, validation, test\n",
    "for v in num_vars:\n",
    "    # Calculate the boundaries on train [mean-3*sd, mean+3*sd]\n",
    "    mu = np.mean(train[v])\n",
    "    sd = np.std(train[v])\n",
    "    lower = mu - 3*sd\n",
    "    upper = mu + 3*sd\n",
    "    # Check outliers using the boundaries\n",
    "    train_out = (train[v] < lower) | (train[v] > upper)\n",
    "    validation_out = (validation[v] < lower) | (validation[v] > upper)\n",
    "    test_out = (test[v] < lower) | (test[v] > upper)\n",
    "    if np.sum(train_out) + np.sum(validation_out) +  np.sum(test_out) > 0:\n",
    "        print(v, \"has # outliers on train, validation, test :\",\n",
    "              np.sum(train_out), \"[\", np.round(100*np.mean(train_out), 2), \"% ]\",\n",
    "              np.sum(validation_out), \"[\", np.round(100*np.mean(validation_out), 2), \"% ]\",\n",
    "              np.sum(test_out), \"[\", np.round(100*np.mean(test_out), 2), \"% ]\")"
   ]
  },
  {
   "cell_type": "markdown",
   "metadata": {},
   "source": [
    "<u>Looking at the context of the outliers, it was decided not to treat them.</u>\n",
    "\n",
    "- Maximum age is 98 and minimum age is 17 which is realistic and does not seem to be an error \n",
    "- The same is true for the campaign variable that the values seem realistic\n",
    "- pdays shows an outlier because the number 999 shows that a client was never contacted\n",
    "- The values in the previous column are also realistic and do not require adjustment"
   ]
  },
  {
   "cell_type": "markdown",
   "metadata": {},
   "source": [
    "#### (d) Encode categorical variables\n",
    "\n"
   ]
  },
  {
   "cell_type": "code",
   "execution_count": 651,
   "metadata": {},
   "outputs": [
    {
     "name": "stdout",
     "output_type": "stream",
     "text": [
      "Wall time: 177 ms\n"
     ]
    }
   ],
   "source": [
    "%%time\n",
    "# Encode categorical variables as integer values\n",
    "# Categorical variables in any format will be converted to string\n",
    "# Note: All the NA values were imputed previously\n",
    "enc = OrdinalEncoder()\n",
    "enc.fit(pd.concat([train[cat_vars].astype(str), test[cat_vars].astype(str), validation[cat_vars].astype(str)], axis=0))\n",
    "# Apply on train, validation, test\n",
    "train[cat_vars] = enc.transform(train[cat_vars].astype(str))\n",
    "validation[cat_vars] = enc.transform(validation[cat_vars].astype(str))\n",
    "test[cat_vars] = enc.transform(test[cat_vars].astype(str))"
   ]
  },
  {
   "cell_type": "markdown",
   "metadata": {},
   "source": [
    "#### (e) Finalize the processed data\n",
    "\n",
    "Current lists of variables:\n",
    "- id_var : customer ID\n",
    "- num_vars : numerical variables\n",
    "- cat_vars : categorical variables\n",
    "- na_vars : indicators for tracking missing values, bool [False, True]\n",
    "- target_var : target variable, subscribe [0, 1]\n",
    "\n"
   ]
  },
  {
   "cell_type": "code",
   "execution_count": 652,
   "metadata": {},
   "outputs": [
    {
     "name": "stdout",
     "output_type": "stream",
     "text": [
      "Wall time: 79.8 ms\n"
     ]
    }
   ],
   "source": [
    "%%time\n",
    "# Convert bool variable to int\n",
    "train[na_vars] = train[na_vars].astype(np.int8)\n",
    "validation[na_vars] = validation[na_vars].astype(np.int8)\n",
    "test[na_vars] = test[na_vars].astype(np.int8)"
   ]
  },
  {
   "cell_type": "code",
   "execution_count": 653,
   "metadata": {},
   "outputs": [
    {
     "name": "stdout",
     "output_type": "stream",
     "text": [
      "# id_var [ 1 ] : ['client_id']\n",
      "# num_vars [ 9 ] : ['age', 'campaign', 'pdays', 'previous', 'emp.var.rate'] ...\n",
      "# cat_vars [ 10 ] : ['job', 'marital', 'education', 'default', 'housing'] ...\n",
      "# na_vars [ 9 ] : ['age_na', 'campaign_na', 'pdays_na', 'previous_na', 'emp.var.rate_na'] ...\n",
      "# target_var [ 1 ] : ['subscribe']\n",
      "Wall time: 4 ms\n"
     ]
    }
   ],
   "source": [
    "%%time\n",
    "# Print out the final variables\n",
    "print(\"# id_var [\", len(id_var), \"] :\", id_var)\n",
    "print(\"# num_vars [\", len(num_vars), \"] :\", num_vars[:5], \"...\")\n",
    "print(\"# cat_vars [\", len(cat_vars), \"] :\", cat_vars[:5], \"...\")\n",
    "print(\"# na_vars [\", len(na_vars), \"] :\", na_vars[:5], \"...\")\n",
    "print(\"# target_var [\", len(target_var), \"] :\", target_var)"
   ]
  },
  {
   "cell_type": "code",
   "execution_count": 654,
   "metadata": {},
   "outputs": [
    {
     "name": "stdout",
     "output_type": "stream",
     "text": [
      "(16000, 30)\n",
      "(4000, 30)\n",
      "(10000, 29)\n",
      "Wall time: 8.02 ms\n"
     ]
    }
   ],
   "source": [
    "%%time\n",
    "# Sort the data according to the variables list\n",
    "train = train[id_var + num_vars + cat_vars + na_vars + target_var]\n",
    "validation = validation[id_var + num_vars + cat_vars + na_vars + target_var]\n",
    "test = test[id_var + num_vars + cat_vars + na_vars]\n",
    "print(train.shape)\n",
    "print(validation.shape)\n",
    "print(test.shape)"
   ]
  },
  {
   "cell_type": "markdown",
   "metadata": {},
   "source": [
    "### 2.2. Feature engineering\n",
    "\n"
   ]
  },
  {
   "cell_type": "markdown",
   "metadata": {},
   "source": [
    "#### (a) Quickly detect most (potentially) important varriables - Correlation test for numerical variables"
   ]
  },
  {
   "cell_type": "code",
   "execution_count": 655,
   "metadata": {},
   "outputs": [
    {
     "name": "stdout",
     "output_type": "stream",
     "text": [
      "Top 5 vars [+] correlated with target_var :\n",
      "previous         0.240116\n",
      "cons.conf.idx    0.052099\n",
      "age              0.034763\n",
      "Name: subscribe, dtype: float64\n",
      "\n",
      "Top 5 vars [-] correlated with target_var :\n",
      "cons.price.idx   -0.132582\n",
      "emp.var.rate     -0.299465\n",
      "euribor3m        -0.310996\n",
      "pdays            -0.335399\n",
      "nr.employed      -0.360334\n",
      "Name: subscribe, dtype: float64\n",
      "Wall time: 12 ms\n"
     ]
    }
   ],
   "source": [
    "%%time\n",
    "# Pearson's correlation for numerical variables\n",
    "corr = train[num_vars + target_var].corr(method='pearson')\n",
    "corr = corr[target_var[0]][:-1].dropna().sort_values(ascending=False)\n",
    "print(\"Top 5 vars [+] correlated with target_var :\"); print(corr[corr > 0][:5])\n",
    "print(\"\")\n",
    "print(\"Top 5 vars [-] correlated with target_var :\"); print(corr[corr < 0][-5:])"
   ]
  },
  {
   "cell_type": "markdown",
   "metadata": {},
   "source": [
    "#### (b) Add polynomial terms for numerical variables\n",
    "\n",
    "<u>Note:</u> We only add the polynomial terms (degree=3) for a num variable if it increases the LR model performance."
   ]
  },
  {
   "cell_type": "code",
   "execution_count": 656,
   "metadata": {
    "scrolled": true
   },
   "outputs": [
    {
     "name": "stdout",
     "output_type": "stream",
     "text": [
      "Variable age AUC vs. AUC poly: 0.49143272622017353 --> 0.6007377603416612\n"
     ]
    },
    {
     "name": "stderr",
     "output_type": "stream",
     "text": [
      "C:\\tools\\Anaconda3\\envs\\py\\lib\\site-packages\\sklearn\\utils\\deprecation.py:87: FutureWarning: Function get_feature_names is deprecated; get_feature_names is deprecated in 1.0 and will be removed in 1.2. Please use get_feature_names_out instead.\n",
      "  warnings.warn(msg, category=FutureWarning)\n"
     ]
    },
    {
     "name": "stdout",
     "output_type": "stream",
     "text": [
      "Wall time: 3.74 s\n"
     ]
    }
   ],
   "source": [
    "%%time\n",
    "if enable_num_poly:\n",
    "    for v in num_vars:\n",
    "        # Setup the LR model\n",
    "        cv = KFold(n_splits=5, random_state=1, shuffle=True)\n",
    "        model = LogisticRegression(max_iter=200)\n",
    "        parameters = {}\n",
    "        clf = GridSearchCV(model, parameters, scoring=\"roc_auc\", n_jobs=-1, cv=cv, verbose=0)\n",
    "        \n",
    "        # Fit the LR model for 1 numerical variable\n",
    "        clf.fit(train[[v]], train[target_var].squeeze())\n",
    "        clf_num_score = clf.best_score_\n",
    "        \n",
    "        # Fit the LR model for 1 numerical variable + it polynomial degree = 3\n",
    "        poly = PolynomialFeatures(degree=3, include_bias=False)\n",
    "        poly.fit(train[[v]])\n",
    "        clf.fit(poly.transform(train[[v]]), train[target_var].squeeze())\n",
    "        clf_poly_score = clf.best_score_\n",
    "        \n",
    "        # Add the polynomial terms to train, validation test\n",
    "        if (clf_poly_score > 0.5) & (clf_poly_score - clf_num_score > 0.05):\n",
    "            print('Variable', v, 'AUC vs. AUC poly:', clf_num_score, '-->', clf_poly_score)\n",
    "            poly_vars = [v_poly.replace('x0', v) for v_poly in poly.get_feature_names()[1:]]\n",
    "            num_vars = num_vars + poly_vars\n",
    "            train[poly_vars] = pd.DataFrame(poly.transform(train[[v]])[:, 1:], columns=poly_vars)\n",
    "            validation[poly_vars] = pd.DataFrame(poly.transform(validation[[v]])[:, 1:], columns=poly_vars)            \n",
    "            test[poly_vars] = pd.DataFrame(poly.transform(test[[v]])[:, 1:], columns=poly_vars)"
   ]
  },
  {
   "cell_type": "markdown",
   "metadata": {},
   "source": [
    "### 2.3. Value transformation (num, cat => cat)\n",
    "\n",
    "- Categorical variable: remapping\n",
    "- Continuous variable: discretization\n",
    "\n",
    "\n",
    "<u>Reference:</u>\n",
    "\n",
    "- Coussement, K., Lessmann, S., & Verstraeten, G. (2017). A comparative analysis of data preparation algorithms for customer churn prediction: A case study in the telecommunication industry. Decision Support Systems, 95, 27-36."
   ]
  },
  {
   "cell_type": "code",
   "execution_count": 657,
   "metadata": {},
   "outputs": [
    {
     "name": "stdout",
     "output_type": "stream",
     "text": [
      "Wall time: 0 ns\n"
     ]
    }
   ],
   "source": [
    "%%time\n",
    "# List of variables to track the value transformation process\n",
    "trans_vars = []"
   ]
  },
  {
   "cell_type": "markdown",
   "metadata": {},
   "source": [
    "#### 2.3.1. Remapping categorical variables - Decision tree–based remapping"
   ]
  },
  {
   "cell_type": "markdown",
   "metadata": {},
   "source": [
    "#### (a) Apply the variable remmaping for all categorical variables\n",
    "\n",
    "<u>Note:</u> Only remap the variables if AUC > 0.5 and the number of new categories > 1."
   ]
  },
  {
   "cell_type": "code",
   "execution_count": 658,
   "metadata": {
    "scrolled": true
   },
   "outputs": [
    {
     "name": "stdout",
     "output_type": "stream",
     "text": [
      "Remapping variable job from 13 to 11 categories\n",
      "Remapping variable marital from 5 to 3 categories\n",
      "Remapping variable education from 9 to 6 categories\n",
      "Remapping variable default from 4 to 3 categories\n",
      "Remapping variable housing from 4 to 2 categories\n",
      "Remapping variable contact from 3 to 3 categories\n",
      "Remapping variable month from 11 to 10 categories\n",
      "Remapping variable day_of_week from 6 to 2 categories\n",
      "Remapping variable poutcome from 4 to 3 categories\n",
      "Wall time: 2.38 s\n"
     ]
    }
   ],
   "source": [
    "%%time\n",
    "if enable_trans_cat_dt:\n",
    "    for v in cat_vars:\n",
    "        # Find the best decision tree using CV\n",
    "        cv = KFold(n_splits=5, random_state=1, shuffle=True)\n",
    "        model = DecisionTreeClassifier()\n",
    "        parameters = {'min_samples_leaf':(train.shape[0]*np.array([0.01, 0.025, 0.05, 0.1, 0.25, 0.5])).astype(int)}\n",
    "        clf = GridSearchCV(model, parameters, scoring=\"roc_auc\", n_jobs=-1, cv=cv, verbose=0)\n",
    "        clf.fit(train[[v]], train[target_var])\n",
    "        # Remap the variable on train, validation, test\n",
    "        if (clf.best_score_ > 0.5) & (clf.best_estimator_.get_n_leaves() > 1):\n",
    "            print(\"Remapping variable\", v,\n",
    "                  \"from\", train[[v]].nunique().values[0],\n",
    "                  \"to\", clf.best_estimator_.get_n_leaves(), \"categories\")\n",
    "            remap_var = v + '_remap'\n",
    "            trans_vars.append(remap_var)\n",
    "            train[remap_var] = [np.nonzero(r)[0].max() for r in clf.best_estimator_.decision_path(train[[v]]).toarray()]\n",
    "            validation[remap_var] = [np.nonzero(r)[0].max() for r in clf.best_estimator_.decision_path(validation[[v]]).toarray()]\n",
    "            test[remap_var] = [np.nonzero(r)[0].max() for r in clf.best_estimator_.decision_path(test[[v]]).toarray()]"
   ]
  },
  {
   "cell_type": "markdown",
   "metadata": {},
   "source": [
    "#### 2.3.2. Discretizing (or binning) numerical variables - Decision tree–based discretization"
   ]
  },
  {
   "cell_type": "markdown",
   "metadata": {},
   "source": [
    "#### (a) Apply the variable discretizing for all numerical variables\n",
    "\n",
    "<u>Note:</u> Only bin/discretize the variables if the number of new categories > 1."
   ]
  },
  {
   "cell_type": "code",
   "execution_count": 660,
   "metadata": {
    "scrolled": true
   },
   "outputs": [
    {
     "name": "stdout",
     "output_type": "stream",
     "text": [
      "Discretize variable age from [18.0, 95.0] to 39 categories\n",
      "Discretize variable campaign from [1.0, 56.0] to 7 categories\n",
      "Discretize variable pdays from [0.0, 999.0] to 3 categories\n",
      "Discretize variable previous from [0.0, 6.0] to 4 categories\n",
      "Discretize variable emp.var.rate from [-3.4, 1.4] to 8 categories\n",
      "Discretize variable cons.price.idx from [92.201, 94.767] to 14 categories\n",
      "Discretize variable cons.conf.idx from [-50.8, -26.9] to 15 categories\n",
      "Discretize variable euribor3m from [0.634, 5.045] to 47 categories\n",
      "Discretize variable nr.employed from [4963.6, 5228.1] to 9 categories\n",
      "Discretize variable age^2 from [324.0, 9025.0] to 39 categories\n",
      "Discretize variable age^3 from [5832.0, 857375.0] to 39 categories\n",
      "Wall time: 2.94 s\n"
     ]
    }
   ],
   "source": [
    "%%time\n",
    "if enable_trans_num_dt:\n",
    "    for v in num_vars:\n",
    "        # Find the best decision tree using CV\n",
    "        cv = KFold(n_splits=5, random_state=1, shuffle=True)\n",
    "        model = DecisionTreeClassifier()\n",
    "        parameters = {'min_samples_leaf':(train.shape[0]*np.array([0.01, 0.025, 0.05, 0.1, 0.25, 0.5])).astype(int)}\n",
    "        clf = GridSearchCV(model, parameters, scoring=\"roc_auc\", n_jobs=-1, cv=cv, verbose=0)\n",
    "        clf.fit(train[[v]], train[target_var])\n",
    "        # Remap the variable on train, validation, test\n",
    "        if (clf.best_score_ > 0.5) & (clf.best_estimator_.get_n_leaves() > 1):\n",
    "            print(\"Discretize variable\", v,\n",
    "                  \"from\", [train[[v]].min().values[0], train[[v]].max().values[0]],\n",
    "                  \"to\", clf.best_estimator_.get_n_leaves(), \"categories\")\n",
    "            remap_var = v + '_bin'\n",
    "            trans_vars.append(remap_var)\n",
    "            train[remap_var] = [np.nonzero(r)[0].max() for r in clf.best_estimator_.decision_path(train[[v]]).toarray()]\n",
    "            validation[remap_var] = [np.nonzero(r)[0].max() for r in clf.best_estimator_.decision_path(validation[[v]]).toarray()]\n",
    "            test[remap_var] = [np.nonzero(r)[0].max() for r in clf.best_estimator_.decision_path(test[[v]]).toarray()]"
   ]
  },
  {
   "cell_type": "markdown",
   "metadata": {},
   "source": [
    "#### 2.3.3. Finalize value transformation\n",
    "\n",
    "- Finalize the variables list\n",
    "- Arrange the data columns\n",
    "\n",
    "<u>Note:</u> After the end of the value transformation step, we have these final lists of variables to manage:\n",
    "- num_vars\n",
    "- na_vars\n",
    "- cat_vars = cat_vars + trans_vars"
   ]
  },
  {
   "cell_type": "code",
   "execution_count": 661,
   "metadata": {},
   "outputs": [
    {
     "name": "stdout",
     "output_type": "stream",
     "text": [
      "Transformed num, cat variables into # new categorical variables : 20\n",
      "Wall time: 0 ns\n"
     ]
    }
   ],
   "source": [
    "%%time\n",
    "# Finalize the variable list\n",
    "cat_vars = cat_vars + trans_vars\n",
    "print(\"Transformed num, cat variables into # new categorical variables :\", len(trans_vars))"
   ]
  },
  {
   "cell_type": "code",
   "execution_count": 662,
   "metadata": {},
   "outputs": [
    {
     "name": "stdout",
     "output_type": "stream",
     "text": [
      "(16000, 52)\n",
      "(4000, 52)\n",
      "(10000, 51)\n",
      "Wall time: 32.5 ms\n"
     ]
    }
   ],
   "source": [
    "%%time\n",
    "# Arrange the data columns\n",
    "train = train[id_var + num_vars + cat_vars + na_vars + target_var]\n",
    "validation = validation[id_var + num_vars + cat_vars + na_vars + target_var]\n",
    "test = test[id_var + num_vars + cat_vars + na_vars]\n",
    "print(train.shape)\n",
    "print(validation.shape)\n",
    "print(test.shape)"
   ]
  },
  {
   "cell_type": "code",
   "execution_count": 663,
   "metadata": {},
   "outputs": [
    {
     "data": {
      "text/plain": [
       "0"
      ]
     },
     "execution_count": 663,
     "metadata": {},
     "output_type": "execute_result"
    }
   ],
   "source": [
    "train.isna().sum().sum()"
   ]
  },
  {
   "cell_type": "code",
   "execution_count": 664,
   "metadata": {},
   "outputs": [
    {
     "data": {
      "text/plain": [
       "0"
      ]
     },
     "execution_count": 664,
     "metadata": {},
     "output_type": "execute_result"
    }
   ],
   "source": [
    "validation.isna().sum().sum()"
   ]
  },
  {
   "cell_type": "code",
   "execution_count": 665,
   "metadata": {},
   "outputs": [
    {
     "data": {
      "text/plain": [
       "0"
      ]
     },
     "execution_count": 665,
     "metadata": {},
     "output_type": "execute_result"
    }
   ],
   "source": [
    "test.isna().sum().sum()"
   ]
  },
  {
   "cell_type": "markdown",
   "metadata": {},
   "source": [
    "### 2.4. Value representation (cat => num)\n",
    "\n",
    "- Categorical variable: Dummy coding\n",
    "\n",
    "<u>Reference:</u>  \n",
    "\n",
    "- Coussement, K., Lessmann, S., & Verstraeten, G. (2017). A comparative analysis of data preparation algorithms for customer churn prediction: A case study in the telecommunication industry. Decision Support Systems, 95, 27-36."
   ]
  },
  {
   "cell_type": "code",
   "execution_count": 666,
   "metadata": {},
   "outputs": [
    {
     "name": "stdout",
     "output_type": "stream",
     "text": [
      "Wall time: 0 ns\n"
     ]
    }
   ],
   "source": [
    "%%time\n",
    "# List of variables to track the value representation process\n",
    "repr_vars = []\n",
    "dummy_vars = []"
   ]
  },
  {
   "cell_type": "markdown",
   "metadata": {},
   "source": [
    "#### 2.4.1. Dummy coding\n",
    "\n",
    "<u>Note:</u> Here, we can fit the encoder on both train and test to make sure it captures all unique categories."
   ]
  },
  {
   "cell_type": "markdown",
   "metadata": {},
   "source": [
    "#### (a) Apply the value representation for all categorical variables"
   ]
  },
  {
   "cell_type": "code",
   "execution_count": 667,
   "metadata": {},
   "outputs": [
    {
     "name": "stdout",
     "output_type": "stream",
     "text": [
      "Wall time: 145 ms\n"
     ]
    }
   ],
   "source": [
    "%%time\n",
    "\n",
    "if enable_repr_dummy:\n",
    "    # Create dummy variables, drop the first dummy column\n",
    "    enc = OneHotEncoder(drop=\"first\", handle_unknown=\"error\")\n",
    "    enc.fit(pd.concat([train[cat_vars], validation[cat_vars],  test[cat_vars]], axis=0))\n",
    "    dummy_vars = enc.get_feature_names_out().tolist()\n",
    "    repr_vars = repr_vars + dummy_vars\n",
    "    # Transform train, validation test\n",
    "    train_dummy = enc.transform(train[cat_vars])\n",
    "    validation_dummy = enc.transform(validation[cat_vars])    \n",
    "    test_dummy = enc.transform(test[cat_vars])"
   ]
  },
  {
   "cell_type": "markdown",
   "metadata": {},
   "source": [
    "#### 2.4.2. Finalize value representation "
   ]
  },
  {
   "cell_type": "markdown",
   "metadata": {},
   "source": [
    "#### (a) Drop categorical variables, add dummy variables\n",
    "\n",
    "At the end of this step, all categorical variables were represented by dummy variables or numerical variables. Therefore, it is no need to keep categorical variables."
   ]
  },
  {
   "cell_type": "code",
   "execution_count": 668,
   "metadata": {},
   "outputs": [
    {
     "name": "stdout",
     "output_type": "stream",
     "text": [
      "Wall time: 3.99 ms\n"
     ]
    }
   ],
   "source": [
    "%%time\n",
    "# Drop cat vars\n",
    "if drop_cat_vars:\n",
    "    train = train.drop(cat_vars, axis=1)\n",
    "    validation = validation.drop(cat_vars, axis=1)\n",
    "    test = test.drop(cat_vars, axis=1)\n",
    "    cat_vars = []"
   ]
  },
  {
   "cell_type": "code",
   "execution_count": 669,
   "metadata": {},
   "outputs": [
    {
     "name": "stdout",
     "output_type": "stream",
     "text": [
      "Wall time: 108 ms\n"
     ]
    }
   ],
   "source": [
    "%%time\n",
    "# Add dummy variables\n",
    "if enable_repr_dummy:\n",
    "    train = pd.concat([train, pd.DataFrame(train_dummy.toarray(), columns=dummy_vars)], axis=1)\n",
    "    validation = pd.concat([validation, pd.DataFrame(validation_dummy.toarray(), columns=dummy_vars)], axis=1)\n",
    "    test = pd.concat([test, pd.DataFrame(test_dummy.toarray(), columns=dummy_vars)], axis=1)\n",
    "    del train_dummy, test_dummy"
   ]
  },
  {
   "cell_type": "code",
   "execution_count": 670,
   "metadata": {},
   "outputs": [
    {
     "data": {
      "text/plain": [
       "0"
      ]
     },
     "execution_count": 670,
     "metadata": {},
     "output_type": "execute_result"
    }
   ],
   "source": [
    "train.isna().sum().sum()"
   ]
  },
  {
   "cell_type": "code",
   "execution_count": 671,
   "metadata": {},
   "outputs": [
    {
     "data": {
      "text/plain": [
       "0"
      ]
     },
     "execution_count": 671,
     "metadata": {},
     "output_type": "execute_result"
    }
   ],
   "source": [
    "validation.isna().sum().sum()"
   ]
  },
  {
   "cell_type": "code",
   "execution_count": 672,
   "metadata": {},
   "outputs": [
    {
     "data": {
      "text/plain": [
       "0"
      ]
     },
     "execution_count": 672,
     "metadata": {},
     "output_type": "execute_result"
    }
   ],
   "source": [
    "test.isna().sum().sum()"
   ]
  },
  {
   "cell_type": "markdown",
   "metadata": {},
   "source": [
    "#### (b) Finalize the variables list\n",
    "\n",
    "<u>Note:</u> At the end of the value representation step, we have these final lists of variables to manage:\n",
    "- num_vars = num_vars + repr_vars\n",
    "- na_vars"
   ]
  },
  {
   "cell_type": "code",
   "execution_count": 673,
   "metadata": {},
   "outputs": [
    {
     "name": "stdout",
     "output_type": "stream",
     "text": [
      "Represented cat variables with # new num variables : 300\n",
      "Wall time: 997 µs\n"
     ]
    }
   ],
   "source": [
    "%%time\n",
    "# Combine the variable list\n",
    "num_vars = num_vars + repr_vars\n",
    "print(\"Represented cat variables with # new num variables :\", len(repr_vars))"
   ]
  },
  {
   "cell_type": "code",
   "execution_count": 674,
   "metadata": {},
   "outputs": [
    {
     "name": "stdout",
     "output_type": "stream",
     "text": [
      "(16000, 322)\n",
      "(4000, 322)\n",
      "(10000, 321)\n",
      "Wall time: 93.9 ms\n"
     ]
    }
   ],
   "source": [
    "%%time\n",
    "# Arrange the data columns\n",
    "train = train[id_var + num_vars + cat_vars + na_vars + target_var]\n",
    "validation = validation[id_var + num_vars + cat_vars + na_vars + target_var]\n",
    "test = test[id_var + num_vars + cat_vars + na_vars]\n",
    "print(train.shape)\n",
    "print(validation.shape)\n",
    "print(test.shape)"
   ]
  },
  {
   "cell_type": "markdown",
   "metadata": {},
   "source": [
    "### 2.5. Other data processing"
   ]
  },
  {
   "cell_type": "markdown",
   "metadata": {},
   "source": [
    "####  (a) Filter out low variance variables (or constant)\n",
    "\n",
    "During the data processing, we may accidentally create some new constant variables. Therefore, it is necessary to filter again."
   ]
  },
  {
   "cell_type": "code",
   "execution_count": 675,
   "metadata": {},
   "outputs": [
    {
     "name": "stdout",
     "output_type": "stream",
     "text": [
      "Wall time: 0 ns\n"
     ]
    }
   ],
   "source": [
    "%%time\n",
    "# List of all predictors\n",
    "predictors = num_vars + cat_vars + na_vars"
   ]
  },
  {
   "cell_type": "code",
   "execution_count": 676,
   "metadata": {},
   "outputs": [
    {
     "name": "stdout",
     "output_type": "stream",
     "text": [
      "Drop # constant vars : 0\n",
      "Wall time: 142 ms\n"
     ]
    }
   ],
   "source": [
    "%%time\n",
    "# Detect constant vars\n",
    "sel = VarianceThreshold(0)  # Var = 0 by default\n",
    "sel.fit(train[predictors])\n",
    "const_vars = [predictors[i] for i in np.where(sel.variances_ == 0)[0]]\n",
    "predictors = [v for v in predictors if v not in const_vars]\n",
    "\n",
    "# Drop from train, validation, test\n",
    "print('Drop # constant vars :', len(const_vars))\n",
    "train = train.drop(const_vars, axis=1)\n",
    "validation = validation.drop(const_vars, axis=1)\n",
    "test = test.drop(const_vars, axis=1)"
   ]
  },
  {
   "cell_type": "markdown",
   "metadata": {},
   "source": [
    "#### (b) Drop duplicated variables\n",
    "\n",
    "Sometime, the data processing process can create a lot of duplicated variables. In this case, it is necessary to identify and drop them."
   ]
  },
  {
   "cell_type": "code",
   "execution_count": 677,
   "metadata": {},
   "outputs": [
    {
     "name": "stdout",
     "output_type": "stream",
     "text": [
      "# duplicated vars : 104\n",
      "Wall time: 3.16 s\n"
     ]
    }
   ],
   "source": [
    "%%time\n",
    "# Count the duplicated vars\n",
    "dup_vars = train[predictors].T.duplicated()\n",
    "print('# duplicated vars :', dup_vars.sum())"
   ]
  },
  {
   "cell_type": "code",
   "execution_count": 678,
   "metadata": {},
   "outputs": [
    {
     "name": "stdout",
     "output_type": "stream",
     "text": [
      "Wall time: 27 ms\n"
     ]
    }
   ],
   "source": [
    "%%time\n",
    "# Drop the duplicated vars from train, validation, test\n",
    "predictors = [predictors[i] for i in range(0, len(predictors)) if not dup_vars[i]]\n",
    "train = train[id_var + predictors + target_var]\n",
    "validation = validation[id_var + predictors + target_var]\n",
    "test = test[id_var + predictors]"
   ]
  },
  {
   "cell_type": "markdown",
   "metadata": {},
   "source": [
    "#### (c) Export the processed data to file"
   ]
  },
  {
   "cell_type": "code",
   "execution_count": 679,
   "metadata": {},
   "outputs": [
    {
     "name": "stdout",
     "output_type": "stream",
     "text": [
      "(16000, 218)\n",
      "(4000, 218)\n",
      "(10000, 217)\n",
      "Wall time: 1.05 ms\n"
     ]
    }
   ],
   "source": [
    "%%time\n",
    "# Print out the data to check\n",
    "print(train.shape)\n",
    "print(validation.shape)\n",
    "print(test.shape)"
   ]
  },
  {
   "cell_type": "code",
   "execution_count": 680,
   "metadata": {},
   "outputs": [
    {
     "name": "stdout",
     "output_type": "stream",
     "text": [
      "Wall time: 28 ms\n"
     ]
    }
   ],
   "source": [
    "%%time\n",
    "# Save to pickle format\n",
    "train.to_pickle(\"C:/Users/hhussain1/Desktop/SML/Group Project/Pickles/train_processed.pkl\")\n",
    "validation.to_pickle(\"C:/Users/hhussain1/Desktop/SML/Group Project/Pickles/validation_processed.pkl\")\n",
    "test.to_pickle(\"C:/Users/hhussain1/Desktop/SML/Group Project/Pickles/test_processed.pkl\")"
   ]
  },
  {
   "cell_type": "code",
   "execution_count": 703,
   "metadata": {},
   "outputs": [],
   "source": [
    "#Save to CSV for submission\n",
    "\n",
    "train.to_csv(\"C:/Users/hhussain1/Desktop/SML/Group Project/train.csv\", index = False)\n",
    "validation.to_csv(\"C:/Users/hhussain1/Desktop/SML/Group Project/validation.csv\", index = False)\n",
    "test.to_csv(\"C:/Users/hhussain1/Desktop/SML/Group Project/test.csv\", index = False)"
   ]
  },
  {
   "cell_type": "markdown",
   "metadata": {},
   "source": [
    "### 2.6. Variable selection\n",
    "\n",
    "<u>Reference:</u>  \n",
    "\n",
    "- Verbeke, W., Dejaeger, K., Martens, D., Hur, J., & Baesens, B. (2012). New insights into churn prediction in the telecommunication sector: A profit driven data mining approach. European Journal of Operational Research, 218(1), 211-229."
   ]
  },
  {
   "cell_type": "code",
   "execution_count": 681,
   "metadata": {},
   "outputs": [
    {
     "name": "stdout",
     "output_type": "stream",
     "text": [
      "Wall time: 42 ms\n"
     ]
    }
   ],
   "source": [
    "%%time\n",
    "# Read back the processed data\n",
    "train = pd.read_pickle(\"C:/Users/hhussain1/Desktop/SML/Group Project/Pickles/train_processed.pkl\")\n",
    "validation = pd.read_pickle(\"C:/Users/hhussain1/Desktop/SML/Group Project/Pickles/validation_processed.pkl\")\n",
    "test = pd.read_pickle(\"C:/Users/hhussain1/Desktop/SML/Group Project/Pickles/test_processed.pkl\")"
   ]
  },
  {
   "cell_type": "code",
   "execution_count": 682,
   "metadata": {},
   "outputs": [
    {
     "name": "stdout",
     "output_type": "stream",
     "text": [
      "Wall time: 0 ns\n"
     ]
    }
   ],
   "source": [
    "%%time\n",
    "# Create several lists to handle variables\n",
    "id_var = ['client_id']\n",
    "target_var = ['subscribe']\n",
    "predictors = [v for v in train.columns if v not in id_var + target_var]"
   ]
  },
  {
   "cell_type": "markdown",
   "metadata": {},
   "source": [
    "####  Variable selection: Fisher Score"
   ]
  },
  {
   "cell_type": "code",
   "execution_count": 683,
   "metadata": {},
   "outputs": [
    {
     "name": "stdout",
     "output_type": "stream",
     "text": [
      "Wall time: 0 ns\n"
     ]
    }
   ],
   "source": [
    "%%time\n",
    "def FisherScore(bt, target_var, predictors):\n",
    "    \"\"\"\n",
    "    This function calculate the Fisher score of a variable.\n",
    "\n",
    "    Ref:\n",
    "    ---\n",
    "    Verbeke, W., Dejaeger, K., Martens, D., Hur, J., & Baesens, B. (2012). New insights\n",
    "    into churn prediction in the telecommunication sector: A profit driven data mining\n",
    "    approach. European Journal of Operational Research, 218(1), 211-229.\n",
    "    \"\"\"\n",
    "    \n",
    "    # Get the unique values of dependent variable\n",
    "    target_var_val = bt[target_var].unique()\n",
    "    # Calculate FisherScore for each predictor\n",
    "    predictor_FisherScore = []\n",
    "    for v in predictors:\n",
    "        fs = np.abs(np.mean(bt.loc[bt[target_var]==target_var_val[0], v]) - np.mean(bt.loc[bt[target_var]==target_var_val[1], v])) / \\\n",
    "             np.sqrt(np.var(bt.loc[bt[target_var]==target_var_val[0], v]) + np.var(bt.loc[bt[target_var]==target_var_val[1], v]))\n",
    "        predictor_FisherScore.append(fs)\n",
    "    return predictor_FisherScore"
   ]
  },
  {
   "cell_type": "code",
   "execution_count": 684,
   "metadata": {},
   "outputs": [
    {
     "name": "stdout",
     "output_type": "stream",
     "text": [
      "Wall time: 440 ms\n"
     ]
    },
    {
     "data": {
      "text/html": [
       "<div>\n",
       "<style scoped>\n",
       "    .dataframe tbody tr th:only-of-type {\n",
       "        vertical-align: middle;\n",
       "    }\n",
       "\n",
       "    .dataframe tbody tr th {\n",
       "        vertical-align: top;\n",
       "    }\n",
       "\n",
       "    .dataframe thead th {\n",
       "        text-align: right;\n",
       "    }\n",
       "</style>\n",
       "<table border=\"1\" class=\"dataframe\">\n",
       "  <thead>\n",
       "    <tr style=\"text-align: right;\">\n",
       "      <th></th>\n",
       "      <th>predictor</th>\n",
       "      <th>fisherscore</th>\n",
       "    </tr>\n",
       "  </thead>\n",
       "  <tbody>\n",
       "    <tr>\n",
       "      <th>8</th>\n",
       "      <td>nr.employed</td>\n",
       "      <td>0.747921</td>\n",
       "    </tr>\n",
       "    <tr>\n",
       "      <th>7</th>\n",
       "      <td>euribor3m</td>\n",
       "      <td>0.706608</td>\n",
       "    </tr>\n",
       "    <tr>\n",
       "      <th>4</th>\n",
       "      <td>emp.var.rate</td>\n",
       "      <td>0.670617</td>\n",
       "    </tr>\n",
       "    <tr>\n",
       "      <th>2</th>\n",
       "      <td>pdays</td>\n",
       "      <td>0.468189</td>\n",
       "    </tr>\n",
       "    <tr>\n",
       "      <th>116</th>\n",
       "      <td>pdays_bin_4</td>\n",
       "      <td>0.467943</td>\n",
       "    </tr>\n",
       "  </tbody>\n",
       "</table>\n",
       "</div>"
      ],
      "text/plain": [
       "        predictor  fisherscore\n",
       "8     nr.employed     0.747921\n",
       "7       euribor3m     0.706608\n",
       "4    emp.var.rate     0.670617\n",
       "2           pdays     0.468189\n",
       "116   pdays_bin_4     0.467943"
      ]
     },
     "execution_count": 684,
     "metadata": {},
     "output_type": "execute_result"
    }
   ],
   "source": [
    "%%time\n",
    "# Calculate Fisher Score for all variable\n",
    "fs = FisherScore(train, target_var[0], predictors)\n",
    "fs_df = pd.DataFrame({\"predictor\":predictors, \"fisherscore\":fs})\n",
    "fs_df = fs_df.sort_values('fisherscore', ascending=False)\n",
    "fs_df.head()"
   ]
  },
  {
   "cell_type": "code",
   "execution_count": 685,
   "metadata": {},
   "outputs": [
    {
     "data": {
      "image/png": "[encoded data removed]",
      "text/plain": [
       "<Figure size 432x288 with 1 Axes>"
      ]
     },
     "metadata": {
      "needs_background": "light"
     },
     "output_type": "display_data"
    },
    {
     "name": "stdout",
     "output_type": "stream",
     "text": [
      "Wall time: 168 ms\n"
     ]
    }
   ],
   "source": [
    "%%time\n",
    "# Visualize the Fisher Score\n",
    "plt.plot(fs_df['fisherscore'].values.squeeze())\n",
    "plt.axvline(x=20, linestyle='dashed', color='red')\n",
    "plt.xticks(rotation=45)\n",
    "plt.xlabel(str(fs_df.shape[0]) + ' predictors')\n",
    "plt.ylabel('Fisher Score')\n",
    "plt.legend(['Fisher Score', 'Top20'])\n",
    "plt.show()"
   ]
  },
  {
   "cell_type": "code",
   "execution_count": 686,
   "metadata": {
    "scrolled": true
   },
   "outputs": [
    {
     "data": {
      "image/png": "[encoded data removed]",
      "text/plain": [
       "<Figure size 432x288 with 1 Axes>"
      ]
     },
     "metadata": {
      "needs_background": "light"
     },
     "output_type": "display_data"
    },
    {
     "name": "stdout",
     "output_type": "stream",
     "text": [
      "Wall time: 20.7 s\n"
     ]
    }
   ],
   "source": [
    "%%time\n",
    "# Check how AUC change when add more variables: Top n vars\n",
    "fs_scores = []\n",
    "top_n_vars = 50\n",
    "for i in range(1, top_n_vars+1):\n",
    "    if i % 100 == 0: print('Added # top vars :', i)\n",
    "    top_n_predictors = fs_df['predictor'][:i]\n",
    "    clf = LogisticRegression()\n",
    "    fs_scores.append(cross_validate(clf, train[top_n_predictors], train[target_var].values.squeeze(),\n",
    "                                    scoring='roc_auc', cv=5, verbose=0, n_jobs=-1, return_train_score=True))\n",
    "\n",
    "# How the AUC curve looks like when adding top vars\n",
    "plt.plot([s['train_score'].mean() for s in fs_scores], color='blue')\n",
    "plt.plot([s['test_score'].mean() for s in fs_scores], color='red')\n",
    "plt.xlabel('# vars')\n",
    "plt.ylabel('AUC')\n",
    "plt.legend(['train', 'test'])\n",
    "plt.show()"
   ]
  },
  {
   "cell_type": "code",
   "execution_count": 687,
   "metadata": {
    "scrolled": true
   },
   "outputs": [
    {
     "name": "stdout",
     "output_type": "stream",
     "text": [
      "Selected # vars : 50\n",
      "Wall time: 0 ns\n"
     ]
    },
    {
     "data": {
      "text/plain": [
       "array(['nr.employed', 'euribor3m', 'emp.var.rate', 'pdays', 'pdays_bin_4',\n",
       "       'poutcome_3.0', 'previous', 'poutcome_2.0', 'emp.var.rate_bin_14',\n",
       "       'nr.employed_bin_16', 'pdays_bin_3', 'cons.price.idx_bin_21',\n",
       "       'contact_2.0', 'nr.employed_bin_13', 'emp.var.rate_bin_13',\n",
       "       'cons.conf.idx_bin_20', 'contact_1.0', 'previous_bin_6',\n",
       "       'nr.employed_bin_8', 'cons.price.idx', 'cons.conf.idx_bin_23',\n",
       "       'nr.employed_bin_9', 'emp.var.rate_bin_5', 'month_7.0',\n",
       "       'default_remap_4', 'default_2.0', 'emp.var.rate_bin_8',\n",
       "       'nr.employed_bin_6', 'nr.employed_bin_7', 'cons.price.idx_bin_25',\n",
       "       'cons.conf.idx_bin_18', 'cons.price.idx_bin_5', 'default_1.0',\n",
       "       'cons.conf.idx_bin_17', 'emp.var.rate_bin_9', 'previous_bin_5',\n",
       "       'month_9.0', 'cons.price.idx_bin_4', 'euribor3m_bin_60',\n",
       "       'cons.conf.idx_bin_27', 'month_10.0', 'month_6.0',\n",
       "       'euribor3m_bin_7', 'cons.price.idx_bin_17', 'age_bin_76',\n",
       "       'euribor3m_bin_4', 'cons.conf.idx_bin_21', 'euribor3m_bin_14',\n",
       "       'cons.conf.idx_bin_11', 'cons.conf.idx_bin_13'], dtype=object)"
      ]
     },
     "execution_count": 687,
     "metadata": {},
     "output_type": "execute_result"
    }
   ],
   "source": [
    "%%time\n",
    "# Select the top variables based on Fisher Score\n",
    "n_top_fs_vars = 50  # Top FS vars\n",
    "top_fs_vars = fs_df['predictor'].values[:n_top_fs_vars]\n",
    "print(\"Selected # vars :\", len(top_fs_vars))\n",
    "top_fs_vars"
   ]
  },
  {
   "cell_type": "code",
   "execution_count": 688,
   "metadata": {},
   "outputs": [
    {
     "name": "stdout",
     "output_type": "stream",
     "text": [
      "(16000, 218)\n",
      "(4000, 218)\n",
      "(10000, 217)\n"
     ]
    }
   ],
   "source": [
    "print(train.shape)\n",
    "print(validation.shape)\n",
    "print(test.shape)"
   ]
  },
  {
   "cell_type": "markdown",
   "metadata": {},
   "source": [
    "## 3. Modeling\n",
    "\n"
   ]
  },
  {
   "cell_type": "code",
   "execution_count": 689,
   "metadata": {},
   "outputs": [
    {
     "name": "stdout",
     "output_type": "stream",
     "text": [
      "Wall time: 19 ms\n"
     ]
    }
   ],
   "source": [
    "%%time\n",
    "\n",
    "#Subset the train, validation, and test sets to keep only the features selected through the fisher score\n",
    "\n",
    "X_train = train[top_fs_vars]\n",
    "X_validation = validation[top_fs_vars]\n",
    "X_test = test[top_fs_vars]\n",
    "X_full = pd.concat([X_train, X_validation], axis=0)\n",
    "\n",
    "test_id = test[id_var]\n",
    "\n",
    "\n",
    "y_train = train[target_var]\n",
    "y_validation = validation[target_var]\n",
    "y_full = pd.concat([y_train, y_validation], axis=0)"
   ]
  },
  {
   "cell_type": "markdown",
   "metadata": {},
   "source": [
    "### 3.1. Modeling Benchmark"
   ]
  },
  {
   "cell_type": "code",
   "execution_count": 690,
   "metadata": {},
   "outputs": [],
   "source": [
    "# Instanciate the models\n",
    "\n",
    "tree         = DecisionTreeClassifier()\n",
    "logistic     = LogisticRegression(solver = \"lbfgs\", max_iter = 500)\n",
    "randomForest = RandomForestClassifier(n_estimators = 100)\n",
    "boostedTree  = GradientBoostingClassifier()\n",
    "svm          = SVC(gamma = \"scale\", probability = True)\n",
    "neuralNet    = MLPClassifier()\n",
    "neighbors    = KNeighborsClassifier()"
   ]
  },
  {
   "cell_type": "code",
   "execution_count": 691,
   "metadata": {},
   "outputs": [],
   "source": [
    "models = {\"Decision Tree\"         :tree,\n",
    "          \"Logistic Regression\"     :logistic,\n",
    "          \"Random Forest\" :randomForest,\n",
    "          \"Boosted Tree\"  :boostedTree,\n",
    "          \"SVM\"          :svm,\n",
    "          \"NeuralNet\"    :neuralNet,\n",
    "          \"KNN\"    :neighbors\n",
    "         }"
   ]
  },
  {
   "cell_type": "code",
   "execution_count": 692,
   "metadata": {},
   "outputs": [],
   "source": [
    "#Train the models on the train set\n",
    "\n",
    "for model in models:\n",
    "    models[model].fit(X_train, y_train.values.ravel())\n",
    "    \n"
   ]
  },
  {
   "cell_type": "code",
   "execution_count": 693,
   "metadata": {},
   "outputs": [],
   "source": [
    "#Predict on the train and validation to evaluate and compare\n",
    "\n",
    "performances = {}\n",
    "\n",
    "for model in models:\n",
    "    train_pred          = models[model].predict(X_train)\n",
    "    validation_pred     = models[model].predict(X_validation)\n",
    "    train_prob          = pd.DataFrame(models[model].predict_proba(X_train))[1]\n",
    "    validation_prob     = pd.DataFrame(models[model].predict_proba(X_validation))[1]\n",
    "    train_accuracy      = accuracy_score(y_train, train_pred)\n",
    "    validation_accuracy = accuracy_score(y_validation, validation_pred)\n",
    "    train_auc           = roc_auc_score(np.array(y_train),np.array(train_prob))\n",
    "    validation_auc      = roc_auc_score(np.array(y_validation),np.array(validation_prob))\n",
    "    train_f1            = f1_score(y_train, train_pred)\n",
    "    validation_f1       = f1_score(y_validation, validation_pred)\n",
    "    \n",
    "    performances[model] = {\"Validation Accuracy\": validation_accuracy, \"Train Accuracy\": train_accuracy, \"Validation AUC\": validation_auc, \"Train AUC\": train_auc, \"Validation F1\": validation_f1, \"Train F1\": train_f1}"
   ]
  },
  {
   "cell_type": "code",
   "execution_count": 694,
   "metadata": {},
   "outputs": [
    {
     "data": {
      "text/html": [
       "<div>\n",
       "<style scoped>\n",
       "    .dataframe tbody tr th:only-of-type {\n",
       "        vertical-align: middle;\n",
       "    }\n",
       "\n",
       "    .dataframe tbody tr th {\n",
       "        vertical-align: top;\n",
       "    }\n",
       "\n",
       "    .dataframe thead th {\n",
       "        text-align: right;\n",
       "    }\n",
       "</style>\n",
       "<table border=\"1\" class=\"dataframe\">\n",
       "  <thead>\n",
       "    <tr style=\"text-align: right;\">\n",
       "      <th></th>\n",
       "      <th>Validation Accuracy</th>\n",
       "      <th>Train Accuracy</th>\n",
       "      <th>Validation AUC</th>\n",
       "      <th>Train AUC</th>\n",
       "      <th>Validation F1</th>\n",
       "      <th>Train F1</th>\n",
       "    </tr>\n",
       "  </thead>\n",
       "  <tbody>\n",
       "    <tr>\n",
       "      <th>Decision Tree</th>\n",
       "      <td>0.88975</td>\n",
       "      <td>0.929312</td>\n",
       "      <td>0.684741</td>\n",
       "      <td>0.887035</td>\n",
       "      <td>0.336842</td>\n",
       "      <td>0.565501</td>\n",
       "    </tr>\n",
       "    <tr>\n",
       "      <th>Logistic Regression</th>\n",
       "      <td>0.89625</td>\n",
       "      <td>0.901687</td>\n",
       "      <td>0.788269</td>\n",
       "      <td>0.789066</td>\n",
       "      <td>0.323002</td>\n",
       "      <td>0.353473</td>\n",
       "    </tr>\n",
       "    <tr>\n",
       "      <th>Random Forest</th>\n",
       "      <td>0.89200</td>\n",
       "      <td>0.929312</td>\n",
       "      <td>0.768827</td>\n",
       "      <td>0.875760</td>\n",
       "      <td>0.393258</td>\n",
       "      <td>0.593312</td>\n",
       "    </tr>\n",
       "    <tr>\n",
       "      <th>Boosted Tree</th>\n",
       "      <td>0.89525</td>\n",
       "      <td>0.905563</td>\n",
       "      <td>0.795651</td>\n",
       "      <td>0.806551</td>\n",
       "      <td>0.325282</td>\n",
       "      <td>0.394389</td>\n",
       "    </tr>\n",
       "    <tr>\n",
       "      <th>SVM</th>\n",
       "      <td>0.89600</td>\n",
       "      <td>0.897938</td>\n",
       "      <td>0.721191</td>\n",
       "      <td>0.721484</td>\n",
       "      <td>0.315789</td>\n",
       "      <td>0.323249</td>\n",
       "    </tr>\n",
       "    <tr>\n",
       "      <th>NeuralNet</th>\n",
       "      <td>0.89575</td>\n",
       "      <td>0.898375</td>\n",
       "      <td>0.790384</td>\n",
       "      <td>0.790185</td>\n",
       "      <td>0.324149</td>\n",
       "      <td>0.341167</td>\n",
       "    </tr>\n",
       "    <tr>\n",
       "      <th>KNN</th>\n",
       "      <td>0.89275</td>\n",
       "      <td>0.910250</td>\n",
       "      <td>0.728337</td>\n",
       "      <td>0.791452</td>\n",
       "      <td>0.384505</td>\n",
       "      <td>0.473993</td>\n",
       "    </tr>\n",
       "  </tbody>\n",
       "</table>\n",
       "</div>"
      ],
      "text/plain": [
       "                     Validation Accuracy  Train Accuracy  Validation AUC  \\\n",
       "Decision Tree                    0.88975        0.929312        0.684741   \n",
       "Logistic Regression              0.89625        0.901687        0.788269   \n",
       "Random Forest                    0.89200        0.929312        0.768827   \n",
       "Boosted Tree                     0.89525        0.905563        0.795651   \n",
       "SVM                              0.89600        0.897938        0.721191   \n",
       "NeuralNet                        0.89575        0.898375        0.790384   \n",
       "KNN                              0.89275        0.910250        0.728337   \n",
       "\n",
       "                     Train AUC  Validation F1  Train F1  \n",
       "Decision Tree         0.887035       0.336842  0.565501  \n",
       "Logistic Regression   0.789066       0.323002  0.353473  \n",
       "Random Forest         0.875760       0.393258  0.593312  \n",
       "Boosted Tree          0.806551       0.325282  0.394389  \n",
       "SVM                   0.721484       0.315789  0.323249  \n",
       "NeuralNet             0.790185       0.324149  0.341167  \n",
       "KNN                   0.791452       0.384505  0.473993  "
      ]
     },
     "execution_count": 694,
     "metadata": {},
     "output_type": "execute_result"
    }
   ],
   "source": [
    "pd.DataFrame(performances).T"
   ]
  },
  {
   "cell_type": "markdown",
   "metadata": {},
   "source": [
    "### 3.2. Hyperparameter Tuning of Selected Models"
   ]
  },
  {
   "cell_type": "markdown",
   "metadata": {},
   "source": [
    "Grid Search 1"
   ]
  },
  {
   "cell_type": "code",
   "execution_count": 444,
   "metadata": {},
   "outputs": [
    {
     "name": "stdout",
     "output_type": "stream",
     "text": [
      "Fitting 5 folds for each of 48 candidates, totalling 240 fits\n",
      "MLPClassifier()\n",
      "Wall time: 6min 20s\n"
     ]
    }
   ],
   "source": [
    "%%time\n",
    "#Grid search over Boosted Tree with 5 CV folds\n",
    "cv = KFold(n_splits=5, random_state=1, shuffle=True)\n",
    "model = MLPClassifier()\n",
    "parameters = {\n",
    "    'hidden_layer_sizes': [(50,50,50), (100,100,100), (100,)],\n",
    "    'activation': ['tanh', 'relu'],\n",
    "    'solver': ['sgd', 'adam'],\n",
    "    'alpha': [0.0001, 0.05],\n",
    "    'learning_rate': ['constant','adaptive'],\n",
    "}\n",
    "gs_nn = GridSearchCV(model, parameters, scoring=\"roc_auc\", n_jobs=-1, cv=cv, verbose=1)\n",
    "gs_nn.fit(X_train, y_train.values.ravel())"
   ]
  },
  {
   "cell_type": "code",
   "execution_count": 446,
   "metadata": {},
   "outputs": [
    {
     "name": "stdout",
     "output_type": "stream",
     "text": [
      "{'activation': 'relu', 'alpha': 0.0001, 'hidden_layer_sizes': (100,), 'learning_rate': 'constant', 'solver': 'adam'}\n"
     ]
    }
   ],
   "source": [
    "print(gs_nn.best_params_)"
   ]
  },
  {
   "cell_type": "code",
   "execution_count": 448,
   "metadata": {},
   "outputs": [
    {
     "data": {
      "text/html": [
       "<div>\n",
       "<style scoped>\n",
       "    .dataframe tbody tr th:only-of-type {\n",
       "        vertical-align: middle;\n",
       "    }\n",
       "\n",
       "    .dataframe tbody tr th {\n",
       "        vertical-align: top;\n",
       "    }\n",
       "\n",
       "    .dataframe thead th {\n",
       "        text-align: right;\n",
       "    }\n",
       "</style>\n",
       "<table border=\"1\" class=\"dataframe\">\n",
       "  <thead>\n",
       "    <tr style=\"text-align: right;\">\n",
       "      <th></th>\n",
       "      <th>Train AUC</th>\n",
       "      <th>Train Accuracy</th>\n",
       "      <th>Train F1</th>\n",
       "      <th>Validation AUC</th>\n",
       "      <th>Validation Accuracy</th>\n",
       "      <th>Validation F1</th>\n",
       "    </tr>\n",
       "  </thead>\n",
       "  <tbody>\n",
       "    <tr>\n",
       "      <th>NeuralNet</th>\n",
       "      <td>0.789121</td>\n",
       "      <td>0.886437</td>\n",
       "      <td>0.0</td>\n",
       "      <td>0.789024</td>\n",
       "      <td>0.8865</td>\n",
       "      <td>0.0</td>\n",
       "    </tr>\n",
       "  </tbody>\n",
       "</table>\n",
       "</div>"
      ],
      "text/plain": [
       "           Train AUC  Train Accuracy  Train F1  Validation AUC  \\\n",
       "NeuralNet   0.789121        0.886437       0.0        0.789024   \n",
       "\n",
       "           Validation Accuracy  Validation F1  \n",
       "NeuralNet               0.8865            0.0  "
      ]
     },
     "execution_count": 448,
     "metadata": {},
     "output_type": "execute_result"
    }
   ],
   "source": [
    "nn = MLPClassifier(activation =  'relu', alpha =  0.0001, hidden_layer_sizes =  (100,), learning_rate =  'constant', solver =  'adam')\n",
    "\n",
    "models = {\"NeuralNet\" : nn\n",
    "         }\n",
    "for model in models:\n",
    "    models[model].fit(X_train, y_train.values.ravel())\n",
    "performances = {}\n",
    "for model in models:\n",
    "    train_pred          = models[model].predict(X_train)\n",
    "    validation_pred     = models[model].predict(X_validation)\n",
    "    train_prob          = pd.DataFrame(models[model].predict_proba(X_train))[1]\n",
    "    validation_prob     = pd.DataFrame(models[model].predict_proba(X_validation))[1]\n",
    "    train_accuracy      = accuracy_score(y_train, train_pred)\n",
    "    validation_accuracy = accuracy_score(y_validation, validation_pred)\n",
    "    train_auc           = roc_auc_score(np.array(y_train),np.array(train_prob))\n",
    "    validation_auc      = roc_auc_score(np.array(y_validation),np.array(validation_prob))\n",
    "    train_f1            = f1_score(y_train, train_pred)\n",
    "    validation_f1       = f1_score(y_validation, validation_pred)\n",
    "    performances[model] = {\"Validation Accuracy\": validation_accuracy, \"Train Accuracy\": train_accuracy, \"Validation AUC\": validation_auc, \"Train AUC\": train_auc, \"Validation F1\": validation_f1, \"Train F1\": train_f1}\n",
    "pd.DataFrame(performances).T"
   ]
  },
  {
   "cell_type": "markdown",
   "metadata": {},
   "source": [
    "Grid Search 2"
   ]
  },
  {
   "cell_type": "code",
   "execution_count": 454,
   "metadata": {},
   "outputs": [
    {
     "name": "stdout",
     "output_type": "stream",
     "text": [
      "Fitting 5 folds for each of 12 candidates, totalling 60 fits\n",
      "{'alpha': 0.0001, 'hidden_layer_sizes': (150, 100, 50)}\n",
      "Wall time: 1min 59s\n"
     ]
    }
   ],
   "source": [
    "%%time\n",
    "#Grid search over Boosted Tree with 5 CV folds\n",
    "cv = KFold(n_splits=5, random_state=1, shuffle=True)\n",
    "model = MLPClassifier()\n",
    "parameters = {\n",
    "    'hidden_layer_sizes': [(50,50,50), (100,100,100), (150, 100, 50)],\n",
    "    'alpha': [0.0001, 0.01, 0.05, 0.09]\n",
    "}\n",
    "gs_nn = GridSearchCV(model, parameters, scoring=\"roc_auc\", n_jobs=-1, cv=cv, verbose=1)\n",
    "gs_nn.fit(X_train, y_train.values.ravel())\n",
    "\n",
    "print(gs_nn.best_params_)"
   ]
  },
  {
   "cell_type": "code",
   "execution_count": 456,
   "metadata": {},
   "outputs": [
    {
     "data": {
      "text/html": [
       "<div>\n",
       "<style scoped>\n",
       "    .dataframe tbody tr th:only-of-type {\n",
       "        vertical-align: middle;\n",
       "    }\n",
       "\n",
       "    .dataframe tbody tr th {\n",
       "        vertical-align: top;\n",
       "    }\n",
       "\n",
       "    .dataframe thead th {\n",
       "        text-align: right;\n",
       "    }\n",
       "</style>\n",
       "<table border=\"1\" class=\"dataframe\">\n",
       "  <thead>\n",
       "    <tr style=\"text-align: right;\">\n",
       "      <th></th>\n",
       "      <th>Train AUC</th>\n",
       "      <th>Train Accuracy</th>\n",
       "      <th>Train F1</th>\n",
       "      <th>Validation AUC</th>\n",
       "      <th>Validation Accuracy</th>\n",
       "      <th>Validation F1</th>\n",
       "    </tr>\n",
       "  </thead>\n",
       "  <tbody>\n",
       "    <tr>\n",
       "      <th>NeuralNet</th>\n",
       "      <td>0.788526</td>\n",
       "      <td>0.900375</td>\n",
       "      <td>0.321702</td>\n",
       "      <td>0.790685</td>\n",
       "      <td>0.89725</td>\n",
       "      <td>0.309244</td>\n",
       "    </tr>\n",
       "  </tbody>\n",
       "</table>\n",
       "</div>"
      ],
      "text/plain": [
       "           Train AUC  Train Accuracy  Train F1  Validation AUC  \\\n",
       "NeuralNet   0.788526        0.900375  0.321702        0.790685   \n",
       "\n",
       "           Validation Accuracy  Validation F1  \n",
       "NeuralNet              0.89725       0.309244  "
      ]
     },
     "execution_count": 456,
     "metadata": {},
     "output_type": "execute_result"
    }
   ],
   "source": [
    "nn = MLPClassifier(alpha =  0.0001, hidden_layer_sizes =  (150, 100, 50))\n",
    "\n",
    "models = {\"NeuralNet\" : nn\n",
    "         }\n",
    "for model in models:\n",
    "    models[model].fit(X_train, y_train.values.ravel())\n",
    "performances = {}\n",
    "for model in models:\n",
    "    train_pred          = models[model].predict(X_train)\n",
    "    validation_pred     = models[model].predict(X_validation)\n",
    "    train_prob          = pd.DataFrame(models[model].predict_proba(X_train))[1]\n",
    "    validation_prob     = pd.DataFrame(models[model].predict_proba(X_validation))[1]\n",
    "    train_accuracy      = accuracy_score(y_train, train_pred)\n",
    "    validation_accuracy = accuracy_score(y_validation, validation_pred)\n",
    "    train_auc           = roc_auc_score(np.array(y_train),np.array(train_prob))\n",
    "    validation_auc      = roc_auc_score(np.array(y_validation),np.array(validation_prob))\n",
    "    train_f1            = f1_score(y_train, train_pred)\n",
    "    validation_f1       = f1_score(y_validation, validation_pred)\n",
    "    performances[model] = {\"Validation Accuracy\": validation_accuracy, \"Train Accuracy\": train_accuracy, \"Validation AUC\": validation_auc, \"Train AUC\": train_auc, \"Validation F1\": validation_f1, \"Train F1\": train_f1}\n",
    "pd.DataFrame(performances).T"
   ]
  },
  {
   "cell_type": "markdown",
   "metadata": {},
   "source": [
    "Grid Search 3"
   ]
  },
  {
   "cell_type": "code",
   "execution_count": 464,
   "metadata": {},
   "outputs": [
    {
     "name": "stdout",
     "output_type": "stream",
     "text": [
      "Fitting 5 folds for each of 24 candidates, totalling 120 fits\n",
      "{'alpha': 0.001, 'hidden_layer_sizes': (15,), 'solver': 'adam'}\n",
      "Wall time: 1min 16s\n"
     ]
    }
   ],
   "source": [
    "%%time\n",
    "#Grid search over Boosted Tree with 5 CV folds\n",
    "cv = KFold(n_splits=5, random_state=1, shuffle=True)\n",
    "model = MLPClassifier()\n",
    "parameters = {\n",
    "    'hidden_layer_sizes': [(15,), (45,2,11,), (100,), (2,)],\n",
    "    'solver': ['sgd', 'adam', 'lbfgs'],\n",
    "    'alpha': [0.0001, 0.001]\n",
    "}\n",
    "gs_nn = GridSearchCV(model, parameters, scoring=\"roc_auc\", n_jobs=-1, cv=cv, verbose=1)\n",
    "gs_nn.fit(X_train, y_train.values.ravel())\n",
    "print(gs_nn.best_params_)"
   ]
  },
  {
   "cell_type": "code",
   "execution_count": 467,
   "metadata": {},
   "outputs": [
    {
     "data": {
      "text/html": [
       "<div>\n",
       "<style scoped>\n",
       "    .dataframe tbody tr th:only-of-type {\n",
       "        vertical-align: middle;\n",
       "    }\n",
       "\n",
       "    .dataframe tbody tr th {\n",
       "        vertical-align: top;\n",
       "    }\n",
       "\n",
       "    .dataframe thead th {\n",
       "        text-align: right;\n",
       "    }\n",
       "</style>\n",
       "<table border=\"1\" class=\"dataframe\">\n",
       "  <thead>\n",
       "    <tr style=\"text-align: right;\">\n",
       "      <th></th>\n",
       "      <th>Train AUC</th>\n",
       "      <th>Train Accuracy</th>\n",
       "      <th>Train F1</th>\n",
       "      <th>Validation AUC</th>\n",
       "      <th>Validation Accuracy</th>\n",
       "      <th>Validation F1</th>\n",
       "    </tr>\n",
       "  </thead>\n",
       "  <tbody>\n",
       "    <tr>\n",
       "      <th>NeuralNet</th>\n",
       "      <td>0.78886</td>\n",
       "      <td>0.886437</td>\n",
       "      <td>0.0</td>\n",
       "      <td>0.789465</td>\n",
       "      <td>0.8865</td>\n",
       "      <td>0.0</td>\n",
       "    </tr>\n",
       "  </tbody>\n",
       "</table>\n",
       "</div>"
      ],
      "text/plain": [
       "           Train AUC  Train Accuracy  Train F1  Validation AUC  \\\n",
       "NeuralNet    0.78886        0.886437       0.0        0.789465   \n",
       "\n",
       "           Validation Accuracy  Validation F1  \n",
       "NeuralNet               0.8865            0.0  "
      ]
     },
     "execution_count": 467,
     "metadata": {},
     "output_type": "execute_result"
    }
   ],
   "source": [
    "nn = MLPClassifier(alpha =  0.001, hidden_layer_sizes =  (15,), solver =  'adam')\n",
    "\n",
    "models = {\"NeuralNet\" : nn\n",
    "         }\n",
    "for model in models:\n",
    "    models[model].fit(X_train, y_train.values.ravel())\n",
    "performances = {}\n",
    "for model in models:\n",
    "    train_pred          = models[model].predict(X_train)\n",
    "    validation_pred     = models[model].predict(X_validation)\n",
    "    train_prob          = pd.DataFrame(models[model].predict_proba(X_train))[1]\n",
    "    validation_prob     = pd.DataFrame(models[model].predict_proba(X_validation))[1]\n",
    "    train_accuracy      = accuracy_score(y_train, train_pred)\n",
    "    validation_accuracy = accuracy_score(y_validation, validation_pred)\n",
    "    train_auc           = roc_auc_score(np.array(y_train),np.array(train_prob))\n",
    "    validation_auc      = roc_auc_score(np.array(y_validation),np.array(validation_prob))\n",
    "    train_f1            = f1_score(y_train, train_pred)\n",
    "    validation_f1       = f1_score(y_validation, validation_pred)\n",
    "    performances[model] = {\"Validation Accuracy\": validation_accuracy, \"Train Accuracy\": train_accuracy, \"Validation AUC\": validation_auc, \"Train AUC\": train_auc, \"Validation F1\": validation_f1, \"Train F1\": train_f1}\n",
    "pd.DataFrame(performances).T"
   ]
  },
  {
   "cell_type": "markdown",
   "metadata": {},
   "source": [
    "Grid Search 4"
   ]
  },
  {
   "cell_type": "code",
   "execution_count": 470,
   "metadata": {},
   "outputs": [
    {
     "name": "stdout",
     "output_type": "stream",
     "text": [
      "Fitting 5 folds for each of 16 candidates, totalling 80 fits\n"
     ]
    },
    {
     "name": "stderr",
     "output_type": "stream",
     "text": [
      "C:\\tools\\Anaconda3\\envs\\py\\lib\\site-packages\\scipy\\optimize\\linesearch.py:478: LineSearchWarning: The line search algorithm did not converge\n",
      "  warn('The line search algorithm did not converge', LineSearchWarning)\n",
      "C:\\tools\\Anaconda3\\envs\\py\\lib\\site-packages\\scipy\\optimize\\linesearch.py:327: LineSearchWarning: The line search algorithm did not converge\n",
      "  warn('The line search algorithm did not converge', LineSearchWarning)\n"
     ]
    },
    {
     "name": "stdout",
     "output_type": "stream",
     "text": [
      "{'max_iter': 100, 'penalty': 'none', 'solver': 'newton-cg'}\n",
      "Wall time: 1min 44s\n"
     ]
    },
    {
     "name": "stderr",
     "output_type": "stream",
     "text": [
      "C:\\tools\\Anaconda3\\envs\\py\\lib\\site-packages\\sklearn\\utils\\optimize.py:210: ConvergenceWarning: newton-cg failed to converge. Increase the number of iterations.\n",
      "  warnings.warn(\n"
     ]
    }
   ],
   "source": [
    "%%time\n",
    "#Grid search over Boosted Tree with 5 CV folds\n",
    "cv = KFold(n_splits=5, random_state=1, shuffle=True)\n",
    "model = LogisticRegression()\n",
    "parameters = {\n",
    "    'penalty': ['l2', 'none'],\n",
    "    'solver':  ['newton-cg', 'lbfgs', 'sag', 'saga'],\n",
    "    'max_iter': [100,300]\n",
    "}\n",
    "gs_lr = GridSearchCV(model, parameters, scoring=\"roc_auc\", n_jobs=-1, cv=cv, verbose=1)\n",
    "gs_lr.fit(X_train, y_train.values.ravel())\n",
    "\n",
    "print(gs_lr.best_params_)"
   ]
  },
  {
   "cell_type": "code",
   "execution_count": 471,
   "metadata": {},
   "outputs": [
    {
     "name": "stderr",
     "output_type": "stream",
     "text": [
      "C:\\tools\\Anaconda3\\envs\\py\\lib\\site-packages\\scipy\\optimize\\linesearch.py:478: LineSearchWarning: The line search algorithm did not converge\n",
      "  warn('The line search algorithm did not converge', LineSearchWarning)\n",
      "C:\\tools\\Anaconda3\\envs\\py\\lib\\site-packages\\scipy\\optimize\\linesearch.py:327: LineSearchWarning: The line search algorithm did not converge\n",
      "  warn('The line search algorithm did not converge', LineSearchWarning)\n",
      "C:\\tools\\Anaconda3\\envs\\py\\lib\\site-packages\\sklearn\\utils\\optimize.py:210: ConvergenceWarning: newton-cg failed to converge. Increase the number of iterations.\n",
      "  warnings.warn(\n"
     ]
    },
    {
     "data": {
      "text/html": [
       "<div>\n",
       "<style scoped>\n",
       "    .dataframe tbody tr th:only-of-type {\n",
       "        vertical-align: middle;\n",
       "    }\n",
       "\n",
       "    .dataframe tbody tr th {\n",
       "        vertical-align: top;\n",
       "    }\n",
       "\n",
       "    .dataframe thead th {\n",
       "        text-align: right;\n",
       "    }\n",
       "</style>\n",
       "<table border=\"1\" class=\"dataframe\">\n",
       "  <thead>\n",
       "    <tr style=\"text-align: right;\">\n",
       "      <th></th>\n",
       "      <th>Train AUC</th>\n",
       "      <th>Train Accuracy</th>\n",
       "      <th>Train F1</th>\n",
       "      <th>Validation AUC</th>\n",
       "      <th>Validation Accuracy</th>\n",
       "      <th>Validation F1</th>\n",
       "    </tr>\n",
       "  </thead>\n",
       "  <tbody>\n",
       "    <tr>\n",
       "      <th>Logreg</th>\n",
       "      <td>0.795268</td>\n",
       "      <td>0.90175</td>\n",
       "      <td>0.360976</td>\n",
       "      <td>0.793759</td>\n",
       "      <td>0.8965</td>\n",
       "      <td>0.334405</td>\n",
       "    </tr>\n",
       "  </tbody>\n",
       "</table>\n",
       "</div>"
      ],
      "text/plain": [
       "        Train AUC  Train Accuracy  Train F1  Validation AUC  \\\n",
       "Logreg   0.795268         0.90175  0.360976        0.793759   \n",
       "\n",
       "        Validation Accuracy  Validation F1  \n",
       "Logreg               0.8965       0.334405  "
      ]
     },
     "execution_count": 471,
     "metadata": {},
     "output_type": "execute_result"
    }
   ],
   "source": [
    "lr = LogisticRegression(max_iter = 100, penalty = 'none', solver = 'newton-cg')\n",
    "\n",
    "models = {\"Logreg\" : lr\n",
    "         }\n",
    "for model in models:\n",
    "    models[model].fit(X_train, y_train.values.ravel())\n",
    "performances = {}\n",
    "for model in models:\n",
    "    train_pred          = models[model].predict(X_train)\n",
    "    validation_pred     = models[model].predict(X_validation)\n",
    "    train_prob          = pd.DataFrame(models[model].predict_proba(X_train))[1]\n",
    "    validation_prob     = pd.DataFrame(models[model].predict_proba(X_validation))[1]\n",
    "    train_accuracy      = accuracy_score(y_train, train_pred)\n",
    "    validation_accuracy = accuracy_score(y_validation, validation_pred)\n",
    "    train_auc           = roc_auc_score(np.array(y_train),np.array(train_prob))\n",
    "    validation_auc      = roc_auc_score(np.array(y_validation),np.array(validation_prob))\n",
    "    train_f1            = f1_score(y_train, train_pred)\n",
    "    validation_f1       = f1_score(y_validation, validation_pred)\n",
    "    performances[model] = {\"Validation Accuracy\": validation_accuracy, \"Train Accuracy\": train_accuracy, \"Validation AUC\": validation_auc, \"Train AUC\": train_auc, \"Validation F1\": validation_f1, \"Train F1\": train_f1}\n",
    "pd.DataFrame(performances).T"
   ]
  },
  {
   "cell_type": "markdown",
   "metadata": {},
   "source": [
    "Grid Search 5"
   ]
  },
  {
   "cell_type": "code",
   "execution_count": 478,
   "metadata": {},
   "outputs": [
    {
     "name": "stdout",
     "output_type": "stream",
     "text": [
      "Fitting 5 folds for each of 12 candidates, totalling 60 fits\n",
      "{'max_iter': 300, 'penalty': 'l1', 'solver': 'liblinear'}\n",
      "Wall time: 1min 15s\n"
     ]
    }
   ],
   "source": [
    "%%time\n",
    "#Grid search over Boosted Tree with 5 CV folds\n",
    "cv = KFold(n_splits=5, random_state=1, shuffle=True)\n",
    "model = LogisticRegression()\n",
    "parameters = {\n",
    "    'penalty': ['l2', 'l1'],\n",
    "    'solver':  ['liblinear', 'saga'],\n",
    "    'max_iter': [100,300, 700]\n",
    "}\n",
    "gs_lr = GridSearchCV(model, parameters, scoring=\"roc_auc\", n_jobs=-1, cv=cv, verbose=1)\n",
    "gs_lr.fit(X_train, y_train.values.ravel())\n",
    "\n",
    "print(gs_lr.best_params_)"
   ]
  },
  {
   "cell_type": "code",
   "execution_count": 479,
   "metadata": {},
   "outputs": [
    {
     "data": {
      "text/html": [
       "<div>\n",
       "<style scoped>\n",
       "    .dataframe tbody tr th:only-of-type {\n",
       "        vertical-align: middle;\n",
       "    }\n",
       "\n",
       "    .dataframe tbody tr th {\n",
       "        vertical-align: top;\n",
       "    }\n",
       "\n",
       "    .dataframe thead th {\n",
       "        text-align: right;\n",
       "    }\n",
       "</style>\n",
       "<table border=\"1\" class=\"dataframe\">\n",
       "  <thead>\n",
       "    <tr style=\"text-align: right;\">\n",
       "      <th></th>\n",
       "      <th>Train AUC</th>\n",
       "      <th>Train Accuracy</th>\n",
       "      <th>Train F1</th>\n",
       "      <th>Validation AUC</th>\n",
       "      <th>Validation Accuracy</th>\n",
       "      <th>Validation F1</th>\n",
       "    </tr>\n",
       "  </thead>\n",
       "  <tbody>\n",
       "    <tr>\n",
       "      <th>Logreg</th>\n",
       "      <td>0.793226</td>\n",
       "      <td>0.901312</td>\n",
       "      <td>0.355773</td>\n",
       "      <td>0.794583</td>\n",
       "      <td>0.89475</td>\n",
       "      <td>0.313214</td>\n",
       "    </tr>\n",
       "  </tbody>\n",
       "</table>\n",
       "</div>"
      ],
      "text/plain": [
       "        Train AUC  Train Accuracy  Train F1  Validation AUC  \\\n",
       "Logreg   0.793226        0.901312  0.355773        0.794583   \n",
       "\n",
       "        Validation Accuracy  Validation F1  \n",
       "Logreg              0.89475       0.313214  "
      ]
     },
     "execution_count": 479,
     "metadata": {},
     "output_type": "execute_result"
    }
   ],
   "source": [
    "lr = LogisticRegression(max_iter = 300, penalty = 'l1', solver = 'liblinear')\n",
    "\n",
    "models = {\"Logreg\" : lr\n",
    "         }\n",
    "for model in models:\n",
    "    models[model].fit(X_train, y_train.values.ravel())\n",
    "performances = {}\n",
    "for model in models:\n",
    "    train_pred          = models[model].predict(X_train)\n",
    "    validation_pred     = models[model].predict(X_validation)\n",
    "    train_prob          = pd.DataFrame(models[model].predict_proba(X_train))[1]\n",
    "    validation_prob     = pd.DataFrame(models[model].predict_proba(X_validation))[1]\n",
    "    train_accuracy      = accuracy_score(y_train, train_pred)\n",
    "    validation_accuracy = accuracy_score(y_validation, validation_pred)\n",
    "    train_auc           = roc_auc_score(np.array(y_train),np.array(train_prob))\n",
    "    validation_auc      = roc_auc_score(np.array(y_validation),np.array(validation_prob))\n",
    "    train_f1            = f1_score(y_train, train_pred)\n",
    "    validation_f1       = f1_score(y_validation, validation_pred)\n",
    "    performances[model] = {\"Validation Accuracy\": validation_accuracy, \"Train Accuracy\": train_accuracy, \"Validation AUC\": validation_auc, \"Train AUC\": train_auc, \"Validation F1\": validation_f1, \"Train F1\": train_f1}\n",
    "pd.DataFrame(performances).T"
   ]
  },
  {
   "cell_type": "markdown",
   "metadata": {},
   "source": [
    "Grid Search 6"
   ]
  },
  {
   "cell_type": "code",
   "execution_count": 485,
   "metadata": {},
   "outputs": [
    {
     "name": "stdout",
     "output_type": "stream",
     "text": [
      "Fitting 5 folds for each of 864 candidates, totalling 4320 fits\n"
     ]
    },
    {
     "name": "stderr",
     "output_type": "stream",
     "text": [
      "C:\\tools\\Anaconda3\\envs\\py\\lib\\site-packages\\sklearn\\model_selection\\_search.py:969: UserWarning: One or more of the test scores are non-finite: [       nan 0.78667417 0.5293832         nan 0.78934423 0.48670373\n",
      "        nan 0.78764853 0.55964971        nan 0.78834864 0.5\n",
      " 0.526773   0.78710625 0.57479106 0.55752012 0.78840992 0.51376741\n",
      "        nan 0.78846339 0.61228407        nan 0.78846311 0.56735382\n",
      "        nan 0.78821969 0.59881467        nan 0.78940469 0.51547767\n",
      "        nan 0.78735987 0.5               nan 0.78739158 0.54874034\n",
      "        nan 0.7874578  0.51521648        nan 0.787845   0.5218835\n",
      "        nan 0.78767824 0.50121752        nan 0.78745485 0.5649817\n",
      " 0.57964836 0.78577636 0.56933924 0.57777567 0.78957351 0.61347357\n",
      "        nan 0.78556143 0.51184632        nan 0.78725406 0.55662876\n",
      "        nan 0.78854814 0.52706754        nan 0.7855311  0.55895226\n",
      "        nan 0.7207158  0.56367325        nan 0.78644383 0.54390467\n",
      "        nan 0.78692066 0.57120929        nan 0.78420671 0.58632548\n",
      "        nan 0.78745503 0.53846017        nan 0.78691032 0.5\n",
      " 0.60002164 0.78573788 0.5327563  0.55943425 0.78819735 0.49281913\n",
      "        nan 0.78738085 0.66514284        nan 0.78839567 0.5447914\n",
      "        nan 0.78848927 0.54358606        nan 0.78915635 0.66290905\n",
      "        nan 0.78880314 0.57557932        nan 0.78865428 0.55055722\n",
      "        nan 0.78879442 0.52407403        nan 0.78857157 0.61090882\n",
      "        nan 0.78566673 0.50717639        nan 0.78893277 0.55338195\n",
      " 0.57964836 0.78830371 0.5569026  0.60002164 0.78854442 0.50786696\n",
      "        nan 0.78842778 0.59471242        nan 0.6619938  0.51488276\n",
      "        nan 0.70903728 0.56014987        nan 0.72182205 0.50561524\n",
      "        nan 0.78800168 0.617123          nan 0.78582349 0.54419948\n",
      "        nan 0.78533056 0.57251912        nan 0.78583542 0.56125984\n",
      "        nan 0.78770243 0.56977766        nan 0.78817753 0.5608388\n",
      " 0.53391331 0.78851808 0.48732803 0.56287481 0.78903588 0.59261304\n",
      "        nan 0.78781392 0.53511057        nan 0.78877485 0.59241383\n",
      "        nan 0.78903872 0.54572614        nan 0.78697247 0.50916209\n",
      "        nan 0.78904401 0.61323878        nan 0.78651046 0.55180041\n",
      "        nan 0.78786026 0.52265305        nan 0.78741535 0.57527151\n",
      "        nan 0.7876284  0.55449835        nan 0.78821856 0.50926029\n",
      " 0.58121623 0.78836892 0.56716106 0.60002164 0.78814388 0.52648386\n",
      "        nan 0.77198686 0.62191619        nan 0.78755817 0.6682698\n",
      "        nan 0.78727815 0.59288081        nan 0.7865223  0.55979981\n",
      "        nan 0.78705674 0.51945151        nan 0.78780495 0.61626046\n",
      " 0.5207193  0.45767783 0.63529956 0.57055621 0.47453108 0.53204366\n",
      " 0.56278188 0.50433815 0.47312201 0.50472229 0.45834694 0.47270859\n",
      " 0.41897193 0.45660019 0.5        0.58221099 0.50606832 0.53230476\n",
      " 0.4818483  0.4508574  0.54530133 0.59787647 0.45033314 0.62743761\n",
      " 0.53043867 0.45165288 0.57476445 0.48403222 0.44978943 0.52932208\n",
      " 0.4650621  0.4511111  0.45859178 0.43004537 0.45091716 0.57851109\n",
      " 0.51547182 0.51121882 0.4882392  0.4479064  0.49037456 0.45199305\n",
      " 0.46245891 0.48546669 0.51815525 0.51092315 0.5243551  0.53143806\n",
      " 0.54470524 0.53810941 0.44608358 0.57749784 0.52273177 0.57642287\n",
      " 0.5        0.4897109  0.5        0.5        0.49881929 0.5\n",
      " 0.47959347 0.49606896 0.5        0.53037095 0.47173793 0.5\n",
      " 0.5        0.41688806 0.5        0.51885274 0.48014746 0.5\n",
      " 0.50371179 0.45066446 0.63934773 0.52171099 0.45089624 0.54735777\n",
      " 0.50476168 0.45122617 0.59562763 0.52820004 0.45905701 0.52025555\n",
      " 0.4893667  0.45460298 0.51529315 0.58260389 0.45269201 0.48808757\n",
      " 0.62252659 0.4517659  0.56858246 0.46679031 0.45104587 0.55841717\n",
      " 0.47699011 0.45239856 0.64758629 0.56466983 0.45125401 0.56125243\n",
      " 0.53570434 0.45356865 0.54593228 0.66407551 0.45327673 0.4968006\n",
      " 0.5878608  0.53787392 0.46079557 0.4899894  0.52001357 0.49482454\n",
      " 0.55226946 0.51259974 0.51039437 0.51729993 0.54744318 0.56655894\n",
      " 0.64897578 0.525301   0.53551075 0.49792285 0.51985192 0.52169637\n",
      " 0.5        0.50620046 0.53901305 0.49674482 0.53870147 0.4805208\n",
      " 0.5        0.51308799 0.51262917 0.49854785 0.50118647 0.52019274\n",
      " 0.5        0.53480532 0.5        0.5        0.55573161 0.5\n",
      " 0.49156555 0.45152621 0.47588314 0.5210254  0.46762859 0.61963244\n",
      " 0.57002534 0.45151213 0.54058652 0.4565559  0.45299341 0.48614229\n",
      " 0.48916182 0.45188894 0.5719564  0.56134846 0.4775907  0.61275106\n",
      " 0.52137798 0.45220163 0.47036708 0.46895542 0.45391465 0.54993998\n",
      " 0.38027079 0.4512897  0.58600896 0.55323409 0.45384399 0.55815993\n",
      " 0.46278821 0.45220528 0.53683726 0.53597948 0.49894198 0.48924154\n",
      " 0.46574672 0.45331851 0.63269611 0.4506975  0.45137417 0.5061715\n",
      " 0.52227536 0.45546145 0.59381705 0.52121437 0.492588   0.49258752\n",
      " 0.65275219 0.45133294 0.53310464 0.60388564 0.48041765 0.56538998\n",
      " 0.47120898 0.50594851 0.50018455 0.5        0.48107488 0.51834142\n",
      " 0.5        0.49954368 0.5        0.5        0.50352807 0.5604585\n",
      " 0.51882274 0.52042655 0.50131877 0.48165858 0.50051413 0.49614056\n",
      " 0.54083819 0.40458158 0.5489306  0.57969955 0.46447342 0.57393424\n",
      " 0.53935281 0.36898514 0.54071731 0.526482   0.40874241 0.56283562\n",
      " 0.49122052 0.28605004 0.54105139 0.55740082 0.52023269 0.55954266\n",
      " 0.45098737 0.40947138 0.53651102 0.49419323 0.44999755 0.53595568\n",
      " 0.56400301 0.44791297 0.61715492 0.5600611  0.56909331 0.61179365\n",
      " 0.52156713 0.44941502 0.50998355 0.408377   0.44853929 0.61588253\n",
      " 0.44657745 0.45723611 0.60209444 0.47036274 0.46676322 0.5737659\n",
      " 0.60470441 0.46018286 0.62629681 0.5997511  0.4588429  0.58487025\n",
      " 0.56577998 0.47243808 0.59949791 0.5511642  0.45652566 0.50599537\n",
      " 0.52025555 0.47398709 0.53467797 0.51834142 0.42876335 0.5\n",
      " 0.5        0.44347593 0.51834142 0.5        0.42180885 0.52224597\n",
      " 0.5        0.34706859 0.5        0.5        0.40907456 0.5\n",
      " 0.54051776 0.48967572 0.58608395 0.56082374 0.50275914 0.54105139\n",
      " 0.53859307 0.50411904 0.59999045 0.55740239 0.38183934 0.5554456\n",
      " 0.55691231 0.41116004 0.55939281 0.52073819 0.47366773 0.52286475\n",
      " 0.53268295 0.5080526  0.61656809 0.61608396 0.46111804 0.54339467\n",
      " 0.54022755 0.45351145 0.54593439 0.57751582 0.44937427 0.53674148\n",
      " 0.49751396 0.44753384 0.61149914 0.48446685 0.46332907 0.60011325\n",
      " 0.53576802 0.45479118 0.48458518 0.59837228 0.45571793 0.60674354\n",
      " 0.58060635 0.46545879 0.62720824 0.56018235 0.52552427 0.5681638\n",
      " 0.59013262 0.4647782  0.50750774 0.52526824 0.46418768 0.57862397\n",
      " 0.5        0.45488468 0.5        0.5        0.43979306 0.5\n",
      " 0.5        0.44400734 0.5        0.5        0.39567883 0.5\n",
      " 0.5        0.5        0.5        0.5        0.38969843 0.5\n",
      " 0.56102198 0.50171104 0.54058739 0.53921729 0.41109069 0.43736308\n",
      " 0.59251551 0.37666526 0.56776027 0.56130684 0.51869297 0.57954871\n",
      " 0.48525062 0.45057237 0.5546427  0.50024186 0.45097949 0.51834142\n",
      " 0.50876653 0.42209595 0.57037979 0.53992218 0.48515413 0.61529063\n",
      " 0.56292693 0.44962332 0.58140275 0.51661262 0.45515942 0.58812788\n",
      " 0.58912282 0.45162112 0.62269137 0.45528226 0.457671   0.59437808\n",
      " 0.59728508 0.45335535 0.51562031 0.6534876  0.44943554 0.6257455\n",
      " 0.52919144 0.45547955 0.54629646 0.53592665 0.45430655 0.55176112\n",
      " 0.46574674 0.48259313 0.5812246  0.58948362 0.46398638 0.56031823\n",
      " 0.51883403 0.44871465 0.5        0.5099894  0.4912999  0.5\n",
      " 0.5        0.51834142 0.5387147  0.5        0.34792187 0.53906447\n",
      " 0.5        0.38923628 0.52037328 0.5        0.29026535 0.5\n",
      " 0.5        0.78762409 0.57667111 0.5        0.78868125 0.51800841\n",
      " 0.5        0.78543689 0.5        0.5        0.78680264 0.5\n",
      " 0.5        0.78528778 0.5        0.5        0.78664892 0.49843505\n",
      " 0.5        0.55485233 0.514112   0.5        0.62153872 0.5\n",
      " 0.5        0.56017838 0.55615268 0.5        0.55482226 0.5\n",
      " 0.5        0.61505585 0.55851937 0.5        0.61178907 0.5\n",
      " 0.5        0.78805783 0.50941472 0.5        0.78891517 0.59863418\n",
      " 0.5        0.78834235 0.61069758 0.5        0.78864647 0.55881779\n",
      " 0.5        0.78883548 0.5223002  0.5        0.7891988  0.5\n",
      " 0.5        0.60942504 0.5023725  0.5        0.66313661 0.5\n",
      " 0.5        0.62881075 0.5        0.5        0.60717261 0.55497564\n",
      " 0.5        0.67270349 0.55634031 0.5        0.67737084 0.5\n",
      " 0.5        0.78471613 0.60217352 0.5        0.78751195 0.60343781\n",
      " 0.5        0.78691307 0.51037898 0.5        0.78554486 0.47671741\n",
      " 0.5        0.78954338 0.51920195 0.5        0.78561848 0.49418762\n",
      " 0.5        0.61437471 0.5        0.5        0.6723022  0.55881223\n",
      " 0.5        0.61674473 0.60563707 0.5        0.61698873 0.5\n",
      " 0.5        0.56094497 0.55388747 0.5        0.5        0.55526557\n",
      " 0.5        0.78816424 0.56419154 0.5        0.7878343  0.61686133\n",
      " 0.5        0.78916969 0.52016773 0.5        0.78722964 0.52884782\n",
      " 0.51878977 0.78905081 0.56502742 0.5        0.78867077 0.50047941\n",
      " 0.5        0.72572328 0.5        0.5        0.56915108 0.5\n",
      " 0.5        0.61961479 0.57495238 0.5        0.62778056 0.55613476\n",
      " 0.5        0.78726676 0.49950368 0.5        0.58447884 0.55176837\n",
      " 0.5        0.77790833 0.59969326 0.5        0.78935802 0.63048876\n",
      " 0.5        0.78759171 0.54465035 0.5        0.78703995 0.55950765\n",
      " 0.5        0.78494802 0.5        0.5        0.78584217 0.60447234\n",
      " 0.5        0.61718057 0.61649066 0.5        0.67763345 0.5\n",
      " 0.5        0.5        0.50772691 0.5        0.61424444 0.56013644\n",
      " 0.5        0.67143044 0.54527799 0.5        0.55415732 0.5\n",
      " 0.5        0.7870212  0.52794036 0.5        0.78796537 0.5136197\n",
      " 0.5        0.78825715 0.55512375 0.5        0.78675207 0.57431189\n",
      " 0.54040453 0.78794256 0.56662989 0.5        0.78895778 0.51012934\n",
      " 0.5        0.62479705 0.5        0.5        0.68822247 0.5\n",
      " 0.5        0.68714554 0.5        0.5        0.63729045 0.54827139\n",
      " 0.5        0.6907836  0.52227154 0.5        0.65900946 0.58730763]\n",
      "  warnings.warn(\n"
     ]
    },
    {
     "name": "stdout",
     "output_type": "stream",
     "text": [
      "{'activation': 'identity', 'alpha': 0.0001, 'hidden_layer_sizes': (100,), 'learning_rate': 'invscaling', 'max_iter': 500, 'solver': 'adam'}\n",
      "Wall time: 1h 10min 28s\n"
     ]
    }
   ],
   "source": [
    "%%time\n",
    "#Grid search over Boosted Tree with 5 CV folds\n",
    "cv = KFold(n_splits=5, random_state=1, shuffle=True)\n",
    "model = MLPClassifier()\n",
    "parameters = {\n",
    "    'hidden_layer_sizes': [(15,), (45,2,11,), (100,), (2,5,)],\n",
    "    'solver': ['sgd', 'adam', 'lbfgs'],\n",
    "    'alpha': [0.0001, 0.001, 0.01],\n",
    "    'activation': ['identity', 'logistic', 'tanh', 'relu'],\n",
    "    'learning_rate': ['constant','adaptive', 'invscaling'],\n",
    "    'max_iter' : [200, 500]\n",
    "}\n",
    "gs_nn = GridSearchCV(model, parameters, scoring=\"roc_auc\", n_jobs=-1, cv=cv, verbose=1)\n",
    "gs_nn.fit(X_train, y_train.values.ravel())\n",
    "print(gs_nn.best_params_)"
   ]
  },
  {
   "cell_type": "code",
   "execution_count": 486,
   "metadata": {},
   "outputs": [
    {
     "data": {
      "text/html": [
       "<div>\n",
       "<style scoped>\n",
       "    .dataframe tbody tr th:only-of-type {\n",
       "        vertical-align: middle;\n",
       "    }\n",
       "\n",
       "    .dataframe tbody tr th {\n",
       "        vertical-align: top;\n",
       "    }\n",
       "\n",
       "    .dataframe thead th {\n",
       "        text-align: right;\n",
       "    }\n",
       "</style>\n",
       "<table border=\"1\" class=\"dataframe\">\n",
       "  <thead>\n",
       "    <tr style=\"text-align: right;\">\n",
       "      <th></th>\n",
       "      <th>Train AUC</th>\n",
       "      <th>Train Accuracy</th>\n",
       "      <th>Train F1</th>\n",
       "      <th>Validation AUC</th>\n",
       "      <th>Validation Accuracy</th>\n",
       "      <th>Validation F1</th>\n",
       "    </tr>\n",
       "  </thead>\n",
       "  <tbody>\n",
       "    <tr>\n",
       "      <th>NeuralNet</th>\n",
       "      <td>0.789745</td>\n",
       "      <td>0.89775</td>\n",
       "      <td>0.383572</td>\n",
       "      <td>0.788734</td>\n",
       "      <td>0.89175</td>\n",
       "      <td>0.348872</td>\n",
       "    </tr>\n",
       "  </tbody>\n",
       "</table>\n",
       "</div>"
      ],
      "text/plain": [
       "           Train AUC  Train Accuracy  Train F1  Validation AUC  \\\n",
       "NeuralNet   0.789745         0.89775  0.383572        0.788734   \n",
       "\n",
       "           Validation Accuracy  Validation F1  \n",
       "NeuralNet              0.89175       0.348872  "
      ]
     },
     "execution_count": 486,
     "metadata": {},
     "output_type": "execute_result"
    }
   ],
   "source": [
    "nn = MLPClassifier(activation = 'identity', alpha =  0.0001, hidden_layer_sizes =  (100,), learning_rate = 'invscaling', max_iter = 500, solver =  'adam')\n",
    "\n",
    "models = {\"NeuralNet\" : nn\n",
    "         }\n",
    "for model in models:\n",
    "    models[model].fit(X_train, y_train.values.ravel())\n",
    "performances = {}\n",
    "for model in models:\n",
    "    train_pred          = models[model].predict(X_train)\n",
    "    validation_pred     = models[model].predict(X_validation)\n",
    "    train_prob          = pd.DataFrame(models[model].predict_proba(X_train))[1]\n",
    "    validation_prob     = pd.DataFrame(models[model].predict_proba(X_validation))[1]\n",
    "    train_accuracy      = accuracy_score(y_train, train_pred)\n",
    "    validation_accuracy = accuracy_score(y_validation, validation_pred)\n",
    "    train_auc           = roc_auc_score(np.array(y_train),np.array(train_prob))\n",
    "    validation_auc      = roc_auc_score(np.array(y_validation),np.array(validation_prob))\n",
    "    train_f1            = f1_score(y_train, train_pred)\n",
    "    validation_f1       = f1_score(y_validation, validation_pred)\n",
    "    performances[model] = {\"Validation Accuracy\": validation_accuracy, \"Train Accuracy\": train_accuracy, \"Validation AUC\": validation_auc, \"Train AUC\": train_auc, \"Validation F1\": validation_f1, \"Train F1\": train_f1}\n",
    "pd.DataFrame(performances).T"
   ]
  },
  {
   "cell_type": "markdown",
   "metadata": {},
   "source": [
    "Grid search 6"
   ]
  },
  {
   "cell_type": "code",
   "execution_count": 495,
   "metadata": {},
   "outputs": [
    {
     "name": "stdout",
     "output_type": "stream",
     "text": [
      "Fitting 5 folds for each of 36 candidates, totalling 180 fits\n",
      "GradientBoostingClassifier(max_depth=4, min_samples_split=1000,\n",
      "                           n_estimators=250)\n",
      "Wall time: 6min 27s\n"
     ]
    }
   ],
   "source": [
    "%%time\n",
    "#Grid search over Boosted Tree with 5 CV folds\n",
    "cv = KFold(n_splits=5, random_state=1, shuffle=True)\n",
    "\n",
    "model = GradientBoostingClassifier()\n",
    "\n",
    "parameters = {'min_samples_split':[1000, 10000], 'max_depth':[4,5,6], 'learning_rate':[0.009,0.1,0.5], 'n_estimators': [250, 500]}\n",
    "gs_gbc = GridSearchCV(model, parameters, scoring=\"roc_auc\", n_jobs=-1, cv=cv, verbose=3)\n",
    "gs_gbc.fit(X_train, y_train.values.ravel())\n",
    "print(gs_gbc.best_params_)"
   ]
  },
  {
   "cell_type": "code",
   "execution_count": 499,
   "metadata": {},
   "outputs": [
    {
     "data": {
      "text/html": [
       "<div>\n",
       "<style scoped>\n",
       "    .dataframe tbody tr th:only-of-type {\n",
       "        vertical-align: middle;\n",
       "    }\n",
       "\n",
       "    .dataframe tbody tr th {\n",
       "        vertical-align: top;\n",
       "    }\n",
       "\n",
       "    .dataframe thead th {\n",
       "        text-align: right;\n",
       "    }\n",
       "</style>\n",
       "<table border=\"1\" class=\"dataframe\">\n",
       "  <thead>\n",
       "    <tr style=\"text-align: right;\">\n",
       "      <th></th>\n",
       "      <th>Train AUC</th>\n",
       "      <th>Train Accuracy</th>\n",
       "      <th>Train F1</th>\n",
       "      <th>Validation AUC</th>\n",
       "      <th>Validation Accuracy</th>\n",
       "      <th>Validation F1</th>\n",
       "    </tr>\n",
       "  </thead>\n",
       "  <tbody>\n",
       "    <tr>\n",
       "      <th>GradientBoosting</th>\n",
       "      <td>0.818696</td>\n",
       "      <td>0.908813</td>\n",
       "      <td>0.434277</td>\n",
       "      <td>0.795728</td>\n",
       "      <td>0.896</td>\n",
       "      <td>0.36</td>\n",
       "    </tr>\n",
       "  </tbody>\n",
       "</table>\n",
       "</div>"
      ],
      "text/plain": [
       "                  Train AUC  Train Accuracy  Train F1  Validation AUC  \\\n",
       "GradientBoosting   0.818696        0.908813  0.434277        0.795728   \n",
       "\n",
       "                  Validation Accuracy  Validation F1  \n",
       "GradientBoosting                0.896           0.36  "
      ]
     },
     "execution_count": 499,
     "metadata": {},
     "output_type": "execute_result"
    }
   ],
   "source": [
    "boosting = GradientBoostingClassifier(max_depth=4, n_estimators = 250, learning_rate = 0.1, min_samples_split=1000)\n",
    "\n",
    "models = {\"GradientBoosting\" :boosting\n",
    "         }\n",
    "\n",
    "for model in models:\n",
    "    models[model].fit(X_train, y_train.values.ravel())\n",
    "performances = {}\n",
    "for model in models:\n",
    "    train_pred          = models[model].predict(X_train)\n",
    "    validation_pred     = models[model].predict(X_validation)\n",
    "    train_prob          = pd.DataFrame(models[model].predict_proba(X_train))[1]\n",
    "    validation_prob     = pd.DataFrame(models[model].predict_proba(X_validation))[1]\n",
    "    train_accuracy      = accuracy_score(y_train, train_pred)\n",
    "    validation_accuracy = accuracy_score(y_validation, validation_pred)\n",
    "    train_auc           = roc_auc_score(np.array(y_train),np.array(train_prob))\n",
    "    validation_auc      = roc_auc_score(np.array(y_validation),np.array(validation_prob))\n",
    "    train_f1            = f1_score(y_train, train_pred)\n",
    "    validation_f1       = f1_score(y_validation, validation_pred)\n",
    "    performances[model] = {\"Validation Accuracy\": validation_accuracy, \"Train Accuracy\": train_accuracy, \"Validation AUC\": validation_auc, \"Train AUC\": train_auc, \"Validation F1\": validation_f1, \"Train F1\": train_f1}\n",
    "pd.DataFrame(performances).T"
   ]
  },
  {
   "cell_type": "markdown",
   "metadata": {},
   "source": [
    "Grid Search 7"
   ]
  },
  {
   "cell_type": "code",
   "execution_count": 507,
   "metadata": {},
   "outputs": [
    {
     "name": "stdout",
     "output_type": "stream",
     "text": [
      "Fitting 5 folds for each of 432 candidates, totalling 2160 fits\n",
      "{'learning_rate': 0.2, 'max_depth': 2, 'min_samples_leaf': 50, 'min_samples_split': 500, 'n_estimators': 300}\n",
      "Wall time: 1h 15min 20s\n"
     ]
    }
   ],
   "source": [
    "%%time\n",
    "#Grid search over Boosted Tree with 5 CV folds\n",
    "cv = KFold(n_splits=5, random_state=1, shuffle=True)\n",
    "\n",
    "model = GradientBoostingClassifier()\n",
    "\n",
    "parameters = {'min_samples_split':[250, 500, 1000], 'max_depth':[2, 3,4,15], 'learning_rate':[0.1, 0.2, 0.5, 0.8], 'n_estimators': [200, 250, 300], 'min_samples_leaf' : [1, 5, 50]}\n",
    "gs_gbc = GridSearchCV(model, parameters, scoring=\"roc_auc\", n_jobs=-1, cv=cv, verbose=3)\n",
    "gs_gbc.fit(X_train, y_train.values.ravel())\n",
    "print(gs_gbc.best_params_)"
   ]
  },
  {
   "cell_type": "code",
   "execution_count": 508,
   "metadata": {},
   "outputs": [
    {
     "data": {
      "text/html": [
       "<div>\n",
       "<style scoped>\n",
       "    .dataframe tbody tr th:only-of-type {\n",
       "        vertical-align: middle;\n",
       "    }\n",
       "\n",
       "    .dataframe tbody tr th {\n",
       "        vertical-align: top;\n",
       "    }\n",
       "\n",
       "    .dataframe thead th {\n",
       "        text-align: right;\n",
       "    }\n",
       "</style>\n",
       "<table border=\"1\" class=\"dataframe\">\n",
       "  <thead>\n",
       "    <tr style=\"text-align: right;\">\n",
       "      <th></th>\n",
       "      <th>GradientBoosting</th>\n",
       "    </tr>\n",
       "  </thead>\n",
       "  <tbody>\n",
       "    <tr>\n",
       "      <th>Train AUC</th>\n",
       "      <td>0.814093</td>\n",
       "    </tr>\n",
       "    <tr>\n",
       "      <th>Train Accuracy</th>\n",
       "      <td>0.906188</td>\n",
       "    </tr>\n",
       "    <tr>\n",
       "      <th>Train F1</th>\n",
       "      <td>0.408822</td>\n",
       "    </tr>\n",
       "    <tr>\n",
       "      <th>Validation AUC</th>\n",
       "      <td>0.795015</td>\n",
       "    </tr>\n",
       "    <tr>\n",
       "      <th>Validation Accuracy</th>\n",
       "      <td>0.896750</td>\n",
       "    </tr>\n",
       "    <tr>\n",
       "      <th>Validation F1</th>\n",
       "      <td>0.351648</td>\n",
       "    </tr>\n",
       "  </tbody>\n",
       "</table>\n",
       "</div>"
      ],
      "text/plain": [
       "                     GradientBoosting\n",
       "Train AUC                    0.814093\n",
       "Train Accuracy               0.906188\n",
       "Train F1                     0.408822\n",
       "Validation AUC               0.795015\n",
       "Validation Accuracy          0.896750\n",
       "Validation F1                0.351648"
      ]
     },
     "execution_count": 508,
     "metadata": {},
     "output_type": "execute_result"
    }
   ],
   "source": [
    "boosting = GradientBoostingClassifier(max_depth=2, min_samples_leaf = 50, n_estimators = 300, learning_rate = 0.2, min_samples_split=500)\n",
    "\n",
    "models = {\"GradientBoosting\" :boosting\n",
    "         }\n",
    "\n",
    "for model in models:\n",
    "    models[model].fit(X_train, y_train.values.ravel())\n",
    "performances = {}\n",
    "for model in models:\n",
    "    train_pred          = models[model].predict(X_train)\n",
    "    validation_pred     = models[model].predict(X_validation)\n",
    "    train_prob          = pd.DataFrame(models[model].predict_proba(X_train))[1]\n",
    "    validation_prob     = pd.DataFrame(models[model].predict_proba(X_validation))[1]\n",
    "    train_accuracy      = accuracy_score(y_train, train_pred)\n",
    "    validation_accuracy = accuracy_score(y_validation, validation_pred)\n",
    "    train_auc           = roc_auc_score(np.array(y_train),np.array(train_prob))\n",
    "    validation_auc      = roc_auc_score(np.array(y_validation),np.array(validation_prob))\n",
    "    train_f1            = f1_score(y_train, train_pred)\n",
    "    validation_f1       = f1_score(y_validation, validation_pred)\n",
    "    performances[model] = {\"Validation Accuracy\": validation_accuracy, \"Train Accuracy\": train_accuracy, \"Validation AUC\": validation_auc, \"Train AUC\": train_auc, \"Validation F1\": validation_f1, \"Train F1\": train_f1}\n",
    "pd.DataFrame(performances)"
   ]
  },
  {
   "cell_type": "markdown",
   "metadata": {},
   "source": [
    "Grid Search 8 (best performing)"
   ]
  },
  {
   "cell_type": "code",
   "execution_count": 509,
   "metadata": {},
   "outputs": [
    {
     "name": "stdout",
     "output_type": "stream",
     "text": [
      "Fitting 5 folds for each of 576 candidates, totalling 2880 fits\n",
      "{'learning_rate': 0.09, 'max_depth': 7, 'min_samples_leaf': 100, 'min_samples_split': 750, 'n_estimators': 250}\n",
      "Wall time: 2h 8min 49s\n"
     ]
    }
   ],
   "source": [
    "%%time\n",
    "#Grid search over Boosted Tree with 5 CV folds\n",
    "cv = KFold(n_splits=5, random_state=1, shuffle=True)\n",
    "\n",
    "model = GradientBoostingClassifier()\n",
    "\n",
    "parameters = {'min_samples_split':[500, 600, 750], 'max_depth':[2, 3, 4, 7], 'learning_rate':[0.09, 0.1, 0.2, 0.3], 'n_estimators': [250, 300, 350], 'min_samples_leaf' : [1, 5, 50, 100]}\n",
    "gs_gbc = GridSearchCV(model, parameters, scoring=\"roc_auc\", n_jobs=-1, cv=cv, verbose=3)\n",
    "gs_gbc.fit(X_train, y_train.values.ravel())\n",
    "print(gs_gbc.best_params_)"
   ]
  },
  {
   "cell_type": "code",
   "execution_count": 510,
   "metadata": {},
   "outputs": [
    {
     "data": {
      "text/html": [
       "<div>\n",
       "<style scoped>\n",
       "    .dataframe tbody tr th:only-of-type {\n",
       "        vertical-align: middle;\n",
       "    }\n",
       "\n",
       "    .dataframe tbody tr th {\n",
       "        vertical-align: top;\n",
       "    }\n",
       "\n",
       "    .dataframe thead th {\n",
       "        text-align: right;\n",
       "    }\n",
       "</style>\n",
       "<table border=\"1\" class=\"dataframe\">\n",
       "  <thead>\n",
       "    <tr style=\"text-align: right;\">\n",
       "      <th></th>\n",
       "      <th>GradientBoosting</th>\n",
       "    </tr>\n",
       "  </thead>\n",
       "  <tbody>\n",
       "    <tr>\n",
       "      <th>Train AUC</th>\n",
       "      <td>0.821564</td>\n",
       "    </tr>\n",
       "    <tr>\n",
       "      <th>Train Accuracy</th>\n",
       "      <td>0.906687</td>\n",
       "    </tr>\n",
       "    <tr>\n",
       "      <th>Train F1</th>\n",
       "      <td>0.411510</td>\n",
       "    </tr>\n",
       "    <tr>\n",
       "      <th>Validation AUC</th>\n",
       "      <td>0.796663</td>\n",
       "    </tr>\n",
       "    <tr>\n",
       "      <th>Validation Accuracy</th>\n",
       "      <td>0.899500</td>\n",
       "    </tr>\n",
       "    <tr>\n",
       "      <th>Validation F1</th>\n",
       "      <td>0.371875</td>\n",
       "    </tr>\n",
       "  </tbody>\n",
       "</table>\n",
       "</div>"
      ],
      "text/plain": [
       "                     GradientBoosting\n",
       "Train AUC                    0.821564\n",
       "Train Accuracy               0.906687\n",
       "Train F1                     0.411510\n",
       "Validation AUC               0.796663\n",
       "Validation Accuracy          0.899500\n",
       "Validation F1                0.371875"
      ]
     },
     "execution_count": 510,
     "metadata": {},
     "output_type": "execute_result"
    }
   ],
   "source": [
    "boosting = GradientBoostingClassifier(max_depth=7, min_samples_leaf = 100, n_estimators = 250, learning_rate = 0.09, min_samples_split=750)\n",
    "\n",
    "models = {\"GradientBoosting\" :boosting\n",
    "         }\n",
    "\n",
    "for model in models:\n",
    "    models[model].fit(X_train, y_train.values.ravel())\n",
    "performances = {}\n",
    "for model in models:\n",
    "    train_pred          = models[model].predict(X_train)\n",
    "    validation_pred     = models[model].predict(X_validation)\n",
    "    train_prob          = pd.DataFrame(models[model].predict_proba(X_train))[1]\n",
    "    validation_prob     = pd.DataFrame(models[model].predict_proba(X_validation))[1]\n",
    "    train_accuracy      = accuracy_score(y_train, train_pred)\n",
    "    validation_accuracy = accuracy_score(y_validation, validation_pred)\n",
    "    train_auc           = roc_auc_score(np.array(y_train),np.array(train_prob))\n",
    "    validation_auc      = roc_auc_score(np.array(y_validation),np.array(validation_prob))\n",
    "    train_f1            = f1_score(y_train, train_pred)\n",
    "    validation_f1       = f1_score(y_validation, validation_pred)\n",
    "    performances[model] = {\"Validation Accuracy\": validation_accuracy, \"Train Accuracy\": train_accuracy, \"Validation AUC\": validation_auc, \"Train AUC\": train_auc, \"Validation F1\": validation_f1, \"Train F1\": train_f1}\n",
    "pd.DataFrame(performances)"
   ]
  },
  {
   "cell_type": "markdown",
   "metadata": {},
   "source": [
    "Grid Search 9"
   ]
  },
  {
   "cell_type": "code",
   "execution_count": 516,
   "metadata": {},
   "outputs": [
    {
     "name": "stdout",
     "output_type": "stream",
     "text": [
      "Fitting 5 folds for each of 576 candidates, totalling 2880 fits\n",
      "{'learning_rate': 0.09, 'max_depth': 7, 'min_samples_leaf': 50, 'min_samples_split': 750, 'n_estimators': 200}\n",
      "Wall time: 1h 46min 36s\n"
     ]
    }
   ],
   "source": [
    "%%time\n",
    "#Grid search over Boosted Tree with 5 CV folds\n",
    "cv = KFold(n_splits=5, random_state=1, shuffle=True)\n",
    "\n",
    "model = GradientBoostingClassifier()\n",
    "\n",
    "parameters = {'min_samples_split':[600, 750, 1000, 1200], 'max_depth':[2, 7, 9, 10], 'learning_rate':[0.08, 0.09, 0.1, 0.2], 'n_estimators': [200, 250, 1000], 'min_samples_leaf' : [50, 100, 200]}\n",
    "gs_gbc = GridSearchCV(model, parameters, scoring=\"roc_auc\", n_jobs=-1, cv=cv, verbose=3)\n",
    "gs_gbc.fit(X_train, y_train.values.ravel())\n",
    "print(gs_gbc.best_params_)"
   ]
  },
  {
   "cell_type": "code",
   "execution_count": 586,
   "metadata": {},
   "outputs": [
    {
     "data": {
      "text/html": [
       "<div>\n",
       "<style scoped>\n",
       "    .dataframe tbody tr th:only-of-type {\n",
       "        vertical-align: middle;\n",
       "    }\n",
       "\n",
       "    .dataframe tbody tr th {\n",
       "        vertical-align: top;\n",
       "    }\n",
       "\n",
       "    .dataframe thead th {\n",
       "        text-align: right;\n",
       "    }\n",
       "</style>\n",
       "<table border=\"1\" class=\"dataframe\">\n",
       "  <thead>\n",
       "    <tr style=\"text-align: right;\">\n",
       "      <th></th>\n",
       "      <th>GradientBoosting</th>\n",
       "    </tr>\n",
       "  </thead>\n",
       "  <tbody>\n",
       "    <tr>\n",
       "      <th>Train AUC</th>\n",
       "      <td>0.796507</td>\n",
       "    </tr>\n",
       "    <tr>\n",
       "      <th>Train Accuracy</th>\n",
       "      <td>0.903250</td>\n",
       "    </tr>\n",
       "    <tr>\n",
       "      <th>Train F1</th>\n",
       "      <td>0.367647</td>\n",
       "    </tr>\n",
       "    <tr>\n",
       "      <th>Validation AUC</th>\n",
       "      <td>0.796851</td>\n",
       "    </tr>\n",
       "    <tr>\n",
       "      <th>Validation Accuracy</th>\n",
       "      <td>0.896750</td>\n",
       "    </tr>\n",
       "    <tr>\n",
       "      <th>Validation F1</th>\n",
       "      <td>0.328455</td>\n",
       "    </tr>\n",
       "  </tbody>\n",
       "</table>\n",
       "</div>"
      ],
      "text/plain": [
       "                     GradientBoosting\n",
       "Train AUC                    0.796507\n",
       "Train Accuracy               0.903250\n",
       "Train F1                     0.367647\n",
       "Validation AUC               0.796851\n",
       "Validation Accuracy          0.896750\n",
       "Validation F1                0.328455"
      ]
     },
     "execution_count": 586,
     "metadata": {},
     "output_type": "execute_result"
    }
   ],
   "source": [
    "boosting = GradientBoostingClassifier(max_depth=3, min_samples_leaf = 2, n_estimators = 1000, learning_rate = 0.02, min_samples_split=8200, max_features = 'sqrt', subsample = 1, random_state = 1)\n",
    "\n",
    "#e 1000, lr 0.02, md 3, msl 2, mss 8200,   =  0.798324\n",
    "models = {\"GradientBoosting\" :boosting\n",
    "         }\n",
    "\n",
    "for model in models:\n",
    "    models[model].fit(X_train, y_train.values.ravel())\n",
    "performances = {}\n",
    "for model in models:\n",
    "    train_pred          = models[model].predict(X_train)\n",
    "    validation_pred     = models[model].predict(X_validation)\n",
    "    train_prob          = pd.DataFrame(models[model].predict_proba(X_train))[1]\n",
    "    validation_prob     = pd.DataFrame(models[model].predict_proba(X_validation))[1]\n",
    "    train_accuracy      = accuracy_score(y_train, train_pred)\n",
    "    validation_accuracy = accuracy_score(y_validation, validation_pred)\n",
    "    train_auc           = roc_auc_score(np.array(y_train),np.array(train_prob))\n",
    "    validation_auc      = roc_auc_score(np.array(y_validation),np.array(validation_prob))\n",
    "    train_f1            = f1_score(y_train, train_pred)\n",
    "    validation_f1       = f1_score(y_validation, validation_pred)\n",
    "    performances[model] = {\"Validation Accuracy\": validation_accuracy, \"Train Accuracy\": train_accuracy, \"Validation AUC\": validation_auc, \"Train AUC\": train_auc, \"Validation F1\": validation_f1, \"Train F1\": train_f1}\n",
    "pd.DataFrame(performances)"
   ]
  },
  {
   "cell_type": "markdown",
   "metadata": {},
   "source": [
    "Grid Search 10"
   ]
  },
  {
   "cell_type": "code",
   "execution_count": 602,
   "metadata": {},
   "outputs": [
    {
     "name": "stdout",
     "output_type": "stream",
     "text": [
      "Fitting 5 folds for each of 210 candidates, totalling 1050 fits\n",
      "{'learning_rate': 0.1, 'max_depth': 3, 'n_estimators': 300}\n",
      "Wall time: 1h 23min 56s\n"
     ]
    }
   ],
   "source": [
    "%%time\n",
    "#Grid search over Boosted Tree with 5 CV folds\n",
    "cv = KFold(n_splits=5, random_state=1, shuffle=True)\n",
    "\n",
    "model = GradientBoostingClassifier()\n",
    "\n",
    "parameters = {'max_depth':[2,3,4,5,6],'learning_rate':[0.01, 0.02, 0.03,  0.09, 0.1, 0.2, 0.5], 'n_estimators': [250, 300, 500, 750, 900, 1000]}\n",
    "gs_gbc = GridSearchCV(model, parameters, scoring=\"roc_auc\", n_jobs=-1, cv=cv, verbose=1)\n",
    "gs_gbc.fit(X_full, y_full.values.ravel())\n",
    "print(gs_gbc.best_params_)"
   ]
  },
  {
   "cell_type": "code",
   "execution_count": 605,
   "metadata": {},
   "outputs": [
    {
     "name": "stdout",
     "output_type": "stream",
     "text": [
      "0.7980492969771998\n"
     ]
    }
   ],
   "source": [
    "print(gs_gbc.best_score_)"
   ]
  },
  {
   "cell_type": "code",
   "execution_count": 606,
   "metadata": {},
   "outputs": [],
   "source": [
    "boosting = GradientBoostingClassifier(max_depth=3, n_estimators = 300, learning_rate = 0.1, random_state = 1).fit(X_full, y_full.values.ravel())"
   ]
  },
  {
   "cell_type": "code",
   "execution_count": 607,
   "metadata": {},
   "outputs": [
    {
     "data": {
      "text/plain": [
       "0.818903661836298"
      ]
     },
     "execution_count": 607,
     "metadata": {},
     "output_type": "execute_result"
    }
   ],
   "source": [
    "pred_prob = pd.DataFrame(boosting.predict_proba(X_full))[1]\n",
    "roc_auc_score(np.array(y_full),np.array(pred_prob))"
   ]
  },
  {
   "cell_type": "markdown",
   "metadata": {},
   "source": [
    "Grid Search 11"
   ]
  },
  {
   "cell_type": "code",
   "execution_count": 613,
   "metadata": {},
   "outputs": [
    {
     "name": "stdout",
     "output_type": "stream",
     "text": [
      "Fitting 5 folds for each of 72 candidates, totalling 360 fits\n",
      "{'learning_rate': 0.2, 'max_depth': 4, 'min_samples_leaf': 50, 'min_samples_split': 800, 'n_estimators': 250}\n",
      "Wall time: 15min 17s\n"
     ]
    }
   ],
   "source": [
    "%%time\n",
    "#Grid search over Boosted Tree with 5 CV folds\n",
    "cv = KFold(n_splits=5, random_state=1, shuffle=True)\n",
    "\n",
    "model = GradientBoostingClassifier()\n",
    "\n",
    "\n",
    "parameters = {'min_samples_split':[600, 750, 800], 'max_depth':[ 4, 7], 'learning_rate':[0.09, 0.1, 0.2], 'n_estimators': [250, 300], 'min_samples_leaf' : [50, 100]}\n",
    "gs_gbc = GridSearchCV(model, parameters, scoring=\"roc_auc\", n_jobs=-1, cv=cv, verbose=3)\n",
    "gs_gbc.fit(X_full, y_full.values.ravel())\n",
    "print(gs_gbc.best_params_)"
   ]
  },
  {
   "cell_type": "code",
   "execution_count": 614,
   "metadata": {},
   "outputs": [
    {
     "name": "stdout",
     "output_type": "stream",
     "text": [
      "0.7977706116368994\n"
     ]
    }
   ],
   "source": [
    "print(gs_gbc.best_score_)"
   ]
  },
  {
   "cell_type": "code",
   "execution_count": 615,
   "metadata": {},
   "outputs": [],
   "source": [
    "boosting = GradientBoostingClassifier(max_depth=4, min_samples_leaf =  50, n_estimators = 250, learning_rate = 0.2, min_samples_split =  800, random_state = 1).fit(X_full, y_full.values.ravel())"
   ]
  },
  {
   "cell_type": "code",
   "execution_count": 616,
   "metadata": {},
   "outputs": [
    {
     "data": {
      "text/plain": [
       "0.8175038625835978"
      ]
     },
     "execution_count": 616,
     "metadata": {},
     "output_type": "execute_result"
    }
   ],
   "source": [
    "pred_prob = pd.DataFrame(boosting.predict_proba(X_full))[1]\n",
    "roc_auc_score(np.array(y_full),np.array(pred_prob))"
   ]
  },
  {
   "cell_type": "markdown",
   "metadata": {},
   "source": [
    "Run model with best parameters on full set"
   ]
  },
  {
   "cell_type": "code",
   "execution_count": 695,
   "metadata": {},
   "outputs": [],
   "source": [
    "boosting = GradientBoostingClassifier(max_depth=7, min_samples_leaf = 100, n_estimators = 250, learning_rate = 0.09, min_samples_split=750).fit(X_full, y_full.values.ravel())"
   ]
  },
  {
   "cell_type": "code",
   "execution_count": 696,
   "metadata": {},
   "outputs": [
    {
     "data": {
      "text/plain": [
       "0.818709883790546"
      ]
     },
     "execution_count": 696,
     "metadata": {},
     "output_type": "execute_result"
    }
   ],
   "source": [
    "pred_prob = pd.DataFrame(boosting.predict_proba(X_full))[1]\n",
    "roc_auc_score(np.array(y_full),np.array(pred_prob))"
   ]
  },
  {
   "cell_type": "markdown",
   "metadata": {},
   "source": [
    "### 3.3. Interpreting Final model\n",
    "\n"
   ]
  },
  {
   "cell_type": "markdown",
   "metadata": {},
   "source": [
    "#### Learning Curve"
   ]
  },
  {
   "cell_type": "code",
   "execution_count": 699,
   "metadata": {},
   "outputs": [
    {
     "data": {
      "image/png": "[encoded data removed]",
      "text/plain": [
       "<Figure size 432x288 with 1 Axes>"
      ]
     },
     "metadata": {
      "needs_background": "light"
     },
     "output_type": "display_data"
    }
   ],
   "source": [
    "#Reference : https://ebookreading.net/view/book/EB9781787128576_44.html\n",
    "\n",
    "from sklearn.model_selection import learning_curve\n",
    "from sklearn.pipeline import Pipeline\n",
    "from sklearn.preprocessing import StandardScaler\n",
    "\n",
    "\n",
    "pipe_lr = Pipeline([('scl', StandardScaler()),('clf', boosting)])\n",
    "\n",
    "\n",
    "\n",
    "train_sizes, train_scores, test_scores = learning_curve(estimator=pipe_lr,\n",
    "X=X_full, y=y_full.values.ravel(), cv=10, scoring = \"roc_auc\")\n",
    "\n",
    "\n",
    "train_mean = np.mean(train_scores, axis=1)\n",
    "train_std = np.std(train_scores, axis=1)\n",
    "test_mean = np.mean(test_scores, axis=1)\n",
    "test_std = np.std(test_scores, axis=1)\n",
    "\n",
    "\n",
    "plt.plot(train_sizes, train_mean, color='blue', marker='o', markersize=5, label='training AUC')\n",
    "\n",
    "\n",
    "plt.fill_between(train_sizes, train_mean + train_std, train_mean - train_std, alpha=0.15, color='blue')\n",
    "\n",
    "plt.plot(train_sizes, test_mean, color='green', linestyle='--', marker='s', markersize=5, label='validation AUC')\n",
    "\n",
    "plt.fill_between(train_sizes, test_mean + test_std, test_mean - test_std, alpha=0.15, color='green')\n",
    "plt.grid()\n",
    "plt.xlabel('Number of training samples')\n",
    "plt.ylabel('AUC')\n",
    "plt.legend(loc='lower right')\n",
    "plt.ylim([0.65, 0.95])\n",
    "plt.show()"
   ]
  },
  {
   "cell_type": "markdown",
   "metadata": {},
   "source": [
    "#### Feature Importance"
   ]
  },
  {
   "cell_type": "code",
   "execution_count": 701,
   "metadata": {},
   "outputs": [
    {
     "name": "stdout",
     "output_type": "stream",
     "text": [
      "Wall time: 31 ms\n"
     ]
    },
    {
     "data": {
      "text/plain": [
       "Text(0.5, 1.0, 'Feature Importance')"
      ]
     },
     "execution_count": 701,
     "metadata": {},
     "output_type": "execute_result"
    },
    {
     "data": {
      "image/png": "[encoded data removed]",
      "text/plain": [
       "<Figure size 432x288 with 1 Axes>"
      ]
     },
     "metadata": {
      "needs_background": "light"
     },
     "output_type": "display_data"
    }
   ],
   "source": [
    "%%time\n",
    "\n",
    "\n",
    "from sklearn.inspection import permutation_importance\n",
    "\n",
    "# Reference: https://towardsdatascience.com/understanding-feature-importance-and-how-to-implement-it-in-python-ff0287b20285\n",
    "\n",
    "#GB_fit = GB_best.fit(X_train, y_train)\n",
    "\n",
    "sort = boosting.feature_importances_.argsort()\n",
    "plt.barh(top_fs_vars[sort[::-1][:10][::-1]], boosting.feature_importances_[sort[::-1][:10][::-1]])\n",
    "plt.title(\"Feature Importance\")"
   ]
  },
  {
   "cell_type": "markdown",
   "metadata": {},
   "source": [
    "## 4. Make prediction\n",
    "\n",
    "Use the best model to make prediction on test set. Submit the result to Kaggle."
   ]
  },
  {
   "cell_type": "code",
   "execution_count": 625,
   "metadata": {},
   "outputs": [],
   "source": [
    "test_prob = pd.DataFrame(boosting.predict_proba(X_test))"
   ]
  },
  {
   "cell_type": "code",
   "execution_count": 626,
   "metadata": {},
   "outputs": [],
   "source": [
    "test_prob['client_id'] = test_id\n",
    "test_prob.rename(columns = {1:'subscribe'}, inplace = True)"
   ]
  },
  {
   "cell_type": "code",
   "execution_count": 627,
   "metadata": {},
   "outputs": [],
   "source": [
    "kaggle_submission = test_prob[['client_id', 'subscribe']]"
   ]
  },
  {
   "cell_type": "code",
   "execution_count": 628,
   "metadata": {},
   "outputs": [
    {
     "data": {
      "text/html": [
       "<div>\n",
       "<style scoped>\n",
       "    .dataframe tbody tr th:only-of-type {\n",
       "        vertical-align: middle;\n",
       "    }\n",
       "\n",
       "    .dataframe tbody tr th {\n",
       "        vertical-align: top;\n",
       "    }\n",
       "\n",
       "    .dataframe thead th {\n",
       "        text-align: right;\n",
       "    }\n",
       "</style>\n",
       "<table border=\"1\" class=\"dataframe\">\n",
       "  <thead>\n",
       "    <tr style=\"text-align: right;\">\n",
       "      <th></th>\n",
       "      <th>client_id</th>\n",
       "      <th>subscribe</th>\n",
       "    </tr>\n",
       "  </thead>\n",
       "  <tbody>\n",
       "    <tr>\n",
       "      <th>0</th>\n",
       "      <td>2986</td>\n",
       "      <td>0.059781</td>\n",
       "    </tr>\n",
       "    <tr>\n",
       "      <th>1</th>\n",
       "      <td>29710</td>\n",
       "      <td>0.045494</td>\n",
       "    </tr>\n",
       "    <tr>\n",
       "      <th>2</th>\n",
       "      <td>38938</td>\n",
       "      <td>0.324450</td>\n",
       "    </tr>\n",
       "    <tr>\n",
       "      <th>3</th>\n",
       "      <td>31313</td>\n",
       "      <td>0.100829</td>\n",
       "    </tr>\n",
       "    <tr>\n",
       "      <th>4</th>\n",
       "      <td>24173</td>\n",
       "      <td>0.083929</td>\n",
       "    </tr>\n",
       "    <tr>\n",
       "      <th>...</th>\n",
       "      <td>...</td>\n",
       "      <td>...</td>\n",
       "    </tr>\n",
       "    <tr>\n",
       "      <th>9995</th>\n",
       "      <td>880</td>\n",
       "      <td>0.264805</td>\n",
       "    </tr>\n",
       "    <tr>\n",
       "      <th>9996</th>\n",
       "      <td>28072</td>\n",
       "      <td>0.144784</td>\n",
       "    </tr>\n",
       "    <tr>\n",
       "      <th>9997</th>\n",
       "      <td>40491</td>\n",
       "      <td>0.050267</td>\n",
       "    </tr>\n",
       "    <tr>\n",
       "      <th>9998</th>\n",
       "      <td>5310</td>\n",
       "      <td>0.062245</td>\n",
       "    </tr>\n",
       "    <tr>\n",
       "      <th>9999</th>\n",
       "      <td>6154</td>\n",
       "      <td>0.059781</td>\n",
       "    </tr>\n",
       "  </tbody>\n",
       "</table>\n",
       "<p>10000 rows × 2 columns</p>\n",
       "</div>"
      ],
      "text/plain": [
       "      client_id  subscribe\n",
       "0          2986   0.059781\n",
       "1         29710   0.045494\n",
       "2         38938   0.324450\n",
       "3         31313   0.100829\n",
       "4         24173   0.083929\n",
       "...         ...        ...\n",
       "9995        880   0.264805\n",
       "9996      28072   0.144784\n",
       "9997      40491   0.050267\n",
       "9998       5310   0.062245\n",
       "9999       6154   0.059781\n",
       "\n",
       "[10000 rows x 2 columns]"
      ]
     },
     "execution_count": 628,
     "metadata": {},
     "output_type": "execute_result"
    }
   ],
   "source": [
    "kaggle_submission"
   ]
  },
  {
   "cell_type": "code",
   "execution_count": 629,
   "metadata": {},
   "outputs": [],
   "source": [
    "kaggle_submission.to_csv(\"C:/Users/hhussain1/Desktop/SML/Group Project/Kaggle Uploads/submission.csv\", index = False)"
   ]
  }
 ],
 "metadata": {
  "kernelspec": {
   "display_name": "Python 3",
   "language": "python",
   "name": "python3"
  },
  "language_info": {
   "codemirror_mode": {
    "name": "ipython",
    "version": 3
   },
   "file_extension": ".py",
   "mimetype": "text/x-python",
   "name": "python",
   "nbconvert_exporter": "python",
   "pygments_lexer": "ipython3",
   "version": "3.9.4"
  }
 },
 "nbformat": 4,
 "nbformat_minor": 4
}
