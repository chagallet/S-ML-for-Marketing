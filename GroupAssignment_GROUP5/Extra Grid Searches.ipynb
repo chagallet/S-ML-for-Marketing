{
 "cells": [
  {
   "cell_type": "markdown",
   "id": "7ae0a333",
   "metadata": {},
   "source": [
    "Gradient Boosting Gridsearch "
   ]
  },
  {
   "cell_type": "code",
   "execution_count": 60,
   "id": "bb130b41",
   "metadata": {},
   "outputs": [
    {
     "name": "stdout",
     "output_type": "stream",
     "text": [
      "Wall time: 1 ms\n"
     ]
    }
   ],
   "source": [
    "%%time\n",
    "# Data exploration\n",
    "import matplotlib.pyplot as plt\n",
    "\n",
    "# Data processing\n",
    "import pickle\n",
    "import numpy as np\n",
    "import pandas as pd\n",
    "from sklearn.impute import SimpleImputer\n",
    "from sklearn.preprocessing import OrdinalEncoder, OneHotEncoder, KBinsDiscretizer\n",
    "from sklearn.preprocessing import PolynomialFeatures\n",
    "from sklearn.preprocessing import MinMaxScaler\n",
    "from sklearn.feature_selection import mutual_info_classif, VarianceThreshold\n",
    "from sklearn.feature_selection import SelectFromModel\n",
    "from sklearn.decomposition import PCA\n",
    "\n",
    "# Modeling\n",
    "from sklearn.linear_model import LogisticRegression\n",
    "from sklearn.discriminant_analysis import LinearDiscriminantAnalysis\n",
    "from sklearn.tree import DecisionTreeClassifier\n",
    "from sklearn.ensemble import RandomForestClassifier\n",
    "from sklearn.ensemble import GradientBoostingClassifier, AdaBoostClassifier\n",
    "from sklearn.neighbors import KNeighborsClassifier\n",
    "from sklearn.svm import SVC\n",
    "from sklearn.neighbors import KNeighborsClassifier\n",
    "#from sklearn.neural_network import MLPClassifier\n",
    "#from lightgbm import LGBMClassifier\n",
    "from sklearn.neural_network import MLPClassifier\n",
    "\n",
    "# Experimental setup\n",
    "from sklearn.model_selection import KFold, StratifiedKFold, cross_validate, GridSearchCV\n",
    "#from imblearn.over_sampling import SMOTE, RandomOverSampler\n",
    "#from imblearn.pipeline import Pipeline\n",
    "from sklearn.metrics import roc_auc_score\n",
    "from sklearn.metrics import f1_score\n",
    "from sklearn.metrics import accuracy_score\n",
    "from sklearn.model_selection import learning_curve\n",
    "from sklearn.model_selection import GridSearchCV, train_test_split"
   ]
  },
  {
   "cell_type": "markdown",
   "id": "699fd884",
   "metadata": {},
   "source": [
    "### 2.6. Variable selection\n",
    "\n",
    "<u>Reference:</u>  \n",
    "\n",
    "- Verbeke, W., Dejaeger, K., Martens, D., Hur, J., & Baesens, B. (2012). New insights into churn prediction in the telecommunication sector: A profit driven data mining approach. European Journal of Operational Research, 218(1), 211-229."
   ]
  },
  {
   "cell_type": "code",
   "execution_count": 61,
   "id": "9da51d40",
   "metadata": {},
   "outputs": [
    {
     "name": "stdout",
     "output_type": "stream",
     "text": [
      "Wall time: 44.6 ms\n"
     ]
    }
   ],
   "source": [
    "%%time\n",
    "# Read back the processed data\n",
    "train = pd.read_pickle(\"C:/Users/cgallet/OneDrive - IESEG/MBD/Statistical_ML for Marketing/Group Assignment/Processed Data/train_processed.pkl\")\n",
    "validation = pd.read_pickle(\"C:/Users/cgallet/OneDrive - IESEG/MBD/Statistical_ML for Marketing/Group Assignment/Processed Data/validation_processed.pkl\")\n",
    "test = pd.read_pickle(\"C:/Users/cgallet/OneDrive - IESEG/MBD/Statistical_ML for Marketing/Group Assignment/Processed Data/test_processed.pkl\")"
   ]
  },
  {
   "cell_type": "code",
   "execution_count": 62,
   "id": "05e37c88",
   "metadata": {},
   "outputs": [
    {
     "name": "stdout",
     "output_type": "stream",
     "text": [
      "Wall time: 0 ns\n"
     ]
    }
   ],
   "source": [
    "%%time\n",
    "# Create several lists to handle variables\n",
    "id_var = ['client_id']\n",
    "target_var = ['subscribe']\n",
    "predictors = [v for v in train.columns if v not in id_var + target_var]"
   ]
  },
  {
   "cell_type": "markdown",
   "id": "ad80e0b1",
   "metadata": {},
   "source": [
    "####  (a) Variable selection: Fisher Score"
   ]
  },
  {
   "cell_type": "code",
   "execution_count": 63,
   "id": "7f7eb0a3",
   "metadata": {},
   "outputs": [
    {
     "name": "stdout",
     "output_type": "stream",
     "text": [
      "Wall time: 0 ns\n"
     ]
    }
   ],
   "source": [
    "%%time\n",
    "def FisherScore(bt, target_var, predictors):\n",
    "    \"\"\"\n",
    "    This function calculate the Fisher score of a variable.\n",
    "\n",
    "    Ref:\n",
    "    ---\n",
    "    Verbeke, W., Dejaeger, K., Martens, D., Hur, J., & Baesens, B. (2012). New insights\n",
    "    into churn prediction in the telecommunication sector: A profit driven data mining\n",
    "    approach. European Journal of Operational Research, 218(1), 211-229.\n",
    "    \"\"\"\n",
    "    \n",
    "    # Get the unique values of dependent variable\n",
    "    target_var_val = bt[target_var].unique()\n",
    "    # Calculate FisherScore for each predictor\n",
    "    predictor_FisherScore = []\n",
    "    for v in predictors:\n",
    "        fs = np.abs(np.mean(bt.loc[bt[target_var]==target_var_val[0], v]) - np.mean(bt.loc[bt[target_var]==target_var_val[1], v])) / \\\n",
    "             np.sqrt(np.var(bt.loc[bt[target_var]==target_var_val[0], v]) + np.var(bt.loc[bt[target_var]==target_var_val[1], v]))\n",
    "        predictor_FisherScore.append(fs)\n",
    "    return predictor_FisherScore"
   ]
  },
  {
   "cell_type": "code",
   "execution_count": 64,
   "id": "375e3db8",
   "metadata": {},
   "outputs": [
    {
     "name": "stdout",
     "output_type": "stream",
     "text": [
      "Wall time: 815 ms\n"
     ]
    },
    {
     "data": {
      "text/html": [
       "<div>\n",
       "<style scoped>\n",
       "    .dataframe tbody tr th:only-of-type {\n",
       "        vertical-align: middle;\n",
       "    }\n",
       "\n",
       "    .dataframe tbody tr th {\n",
       "        vertical-align: top;\n",
       "    }\n",
       "\n",
       "    .dataframe thead th {\n",
       "        text-align: right;\n",
       "    }\n",
       "</style>\n",
       "<table border=\"1\" class=\"dataframe\">\n",
       "  <thead>\n",
       "    <tr style=\"text-align: right;\">\n",
       "      <th></th>\n",
       "      <th>predictor</th>\n",
       "      <th>fisherscore</th>\n",
       "    </tr>\n",
       "  </thead>\n",
       "  <tbody>\n",
       "    <tr>\n",
       "      <th>8</th>\n",
       "      <td>nr.employed</td>\n",
       "      <td>0.747921</td>\n",
       "    </tr>\n",
       "    <tr>\n",
       "      <th>7</th>\n",
       "      <td>euribor3m</td>\n",
       "      <td>0.706608</td>\n",
       "    </tr>\n",
       "    <tr>\n",
       "      <th>4</th>\n",
       "      <td>emp.var.rate</td>\n",
       "      <td>0.670617</td>\n",
       "    </tr>\n",
       "    <tr>\n",
       "      <th>2</th>\n",
       "      <td>pdays</td>\n",
       "      <td>0.468189</td>\n",
       "    </tr>\n",
       "    <tr>\n",
       "      <th>116</th>\n",
       "      <td>pdays_bin_4</td>\n",
       "      <td>0.467943</td>\n",
       "    </tr>\n",
       "  </tbody>\n",
       "</table>\n",
       "</div>"
      ],
      "text/plain": [
       "        predictor  fisherscore\n",
       "8     nr.employed     0.747921\n",
       "7       euribor3m     0.706608\n",
       "4    emp.var.rate     0.670617\n",
       "2           pdays     0.468189\n",
       "116   pdays_bin_4     0.467943"
      ]
     },
     "execution_count": 64,
     "metadata": {},
     "output_type": "execute_result"
    }
   ],
   "source": [
    "%%time\n",
    "# Calculate Fisher Score for all variable\n",
    "fs = FisherScore(train, target_var[0], predictors)\n",
    "fs_df = pd.DataFrame({\"predictor\":predictors, \"fisherscore\":fs})\n",
    "fs_df = fs_df.sort_values('fisherscore', ascending=False)\n",
    "fs_df.head()"
   ]
  },
  {
   "cell_type": "code",
   "execution_count": 65,
   "id": "51775a77",
   "metadata": {},
   "outputs": [
    {
     "data": {
      "image/png": "[encoded data removed]",
      "text/plain": [
       "<Figure size 432x288 with 1 Axes>"
      ]
     },
     "metadata": {
      "needs_background": "light"
     },
     "output_type": "display_data"
    },
    {
     "name": "stdout",
     "output_type": "stream",
     "text": [
      "Wall time: 708 ms\n"
     ]
    }
   ],
   "source": [
    "%%time\n",
    "# Visualize the Fisher Score\n",
    "plt.plot(fs_df['fisherscore'].values.squeeze())\n",
    "plt.axvline(x=20, linestyle='dashed', color='red')\n",
    "plt.xticks(rotation=45)\n",
    "plt.xlabel(str(fs_df.shape[0]) + ' predictors')\n",
    "plt.ylabel('Fisher Score')\n",
    "plt.legend(['Fisher Score', 'Top20'])\n",
    "plt.show()"
   ]
  },
  {
   "cell_type": "code",
   "execution_count": 66,
   "id": "c4ee151d",
   "metadata": {},
   "outputs": [
    {
     "data": {
      "image/png": "[encoded data removed]",
      "text/plain": [
       "<Figure size 432x288 with 1 Axes>"
      ]
     },
     "metadata": {
      "needs_background": "light"
     },
     "output_type": "display_data"
    },
    {
     "name": "stdout",
     "output_type": "stream",
     "text": [
      "Wall time: 29.5 s\n"
     ]
    }
   ],
   "source": [
    "%%time\n",
    "# Check how AUC change when add more variables: Top n vars\n",
    "fs_scores = []\n",
    "top_n_vars = 50\n",
    "for i in range(1, top_n_vars+1):\n",
    "    if i % 100 == 0: print('Added # top vars :', i)\n",
    "    top_n_predictors = fs_df['predictor'][:i]\n",
    "    clf = LogisticRegression()\n",
    "    fs_scores.append(cross_validate(clf, train[top_n_predictors], train[target_var].values.squeeze(),\n",
    "                                    scoring='roc_auc', cv=5, verbose=0, n_jobs=-1, return_train_score=True))\n",
    "\n",
    "# How the AUC curve looks like when adding top vars\n",
    "plt.plot([s['train_score'].mean() for s in fs_scores], color='blue')\n",
    "plt.plot([s['test_score'].mean() for s in fs_scores], color='red')\n",
    "plt.xlabel('# vars')\n",
    "plt.ylabel('AUC')\n",
    "plt.legend(['train', 'test'])\n",
    "plt.show()"
   ]
  },
  {
   "cell_type": "code",
   "execution_count": 67,
   "id": "45e15925",
   "metadata": {},
   "outputs": [
    {
     "name": "stdout",
     "output_type": "stream",
     "text": [
      "Selected # vars : 50\n",
      "Wall time: 0 ns\n"
     ]
    },
    {
     "data": {
      "text/plain": [
       "array(['nr.employed', 'euribor3m', 'emp.var.rate', 'pdays', 'pdays_bin_4',\n",
       "       'poutcome_3.0', 'previous', 'poutcome_2.0', 'emp.var.rate_bin_14',\n",
       "       'nr.employed_bin_16', 'pdays_bin_3', 'cons.price.idx_bin_21',\n",
       "       'contact_2.0', 'nr.employed_bin_13', 'emp.var.rate_bin_13',\n",
       "       'cons.conf.idx_bin_20', 'contact_1.0', 'previous_bin_6',\n",
       "       'nr.employed_bin_8', 'cons.price.idx', 'cons.conf.idx_bin_23',\n",
       "       'nr.employed_bin_9', 'emp.var.rate_bin_5', 'month_7.0',\n",
       "       'default_remap_4', 'default_2.0', 'emp.var.rate_bin_8',\n",
       "       'nr.employed_bin_6', 'nr.employed_bin_7', 'cons.price.idx_bin_25',\n",
       "       'cons.conf.idx_bin_18', 'cons.price.idx_bin_5', 'default_1.0',\n",
       "       'cons.conf.idx_bin_17', 'emp.var.rate_bin_9', 'previous_bin_5',\n",
       "       'month_9.0', 'cons.price.idx_bin_4', 'euribor3m_bin_60',\n",
       "       'cons.conf.idx_bin_27', 'month_10.0', 'month_6.0',\n",
       "       'euribor3m_bin_7', 'cons.price.idx_bin_17', 'age_bin_76',\n",
       "       'euribor3m_bin_4', 'cons.conf.idx_bin_21', 'euribor3m_bin_14',\n",
       "       'cons.conf.idx_bin_11', 'cons.conf.idx_bin_13'], dtype=object)"
      ]
     },
     "execution_count": 67,
     "metadata": {},
     "output_type": "execute_result"
    }
   ],
   "source": [
    "%%time\n",
    "# Select the top variables based on Fisher Score\n",
    "n_top_fs_vars = 50  # Top FS vars\n",
    "top_fs_vars = fs_df['predictor'].values[:n_top_fs_vars]\n",
    "print(\"Selected # vars :\", len(top_fs_vars))\n",
    "top_fs_vars"
   ]
  },
  {
   "cell_type": "code",
   "execution_count": 68,
   "id": "578494f1",
   "metadata": {},
   "outputs": [
    {
     "name": "stdout",
     "output_type": "stream",
     "text": [
      "(16000, 218)\n",
      "(4000, 218)\n",
      "(10000, 217)\n"
     ]
    }
   ],
   "source": [
    "print(train.shape)\n",
    "print(validation.shape)\n",
    "print(test.shape)"
   ]
  },
  {
   "cell_type": "markdown",
   "id": "9811a336",
   "metadata": {},
   "source": [
    "## 3. Modeling"
   ]
  },
  {
   "cell_type": "code",
   "execution_count": 69,
   "id": "321e8514",
   "metadata": {},
   "outputs": [
    {
     "name": "stdout",
     "output_type": "stream",
     "text": [
      "Wall time: 14.3 ms\n"
     ]
    }
   ],
   "source": [
    "%%time\n",
    "\n",
    "#Subset the train, validation, and test sets to keep only the features selected through the fisher score\n",
    "\n",
    "X_train = train[top_fs_vars]\n",
    "X_validation = validation[top_fs_vars]\n",
    "X_test = test[top_fs_vars]\n",
    "\n",
    "test_id = test[id_var]\n",
    "\n",
    "\n",
    "y_train = train[target_var]\n",
    "y_validation = validation[target_var]\n"
   ]
  },
  {
   "cell_type": "markdown",
   "id": "f2a74c16",
   "metadata": {},
   "source": [
    "### 3.1. Modeling"
   ]
  },
  {
   "cell_type": "code",
   "execution_count": 70,
   "id": "f14466fa",
   "metadata": {},
   "outputs": [],
   "source": [
    "# Instanciate the models\n",
    "\n",
    "tree         = DecisionTreeClassifier()\n",
    "logistic     = LogisticRegression(solver = \"lbfgs\", max_iter = 500)\n",
    "randomForest = RandomForestClassifier(n_estimators = 100)\n",
    "boostedTree  = GradientBoostingClassifier()\n",
    "svm          = SVC(gamma = \"scale\", probability = True)\n",
    "neuralNet    = MLPClassifier()\n",
    "neighbors    = KNeighborsClassifier()"
   ]
  },
  {
   "cell_type": "code",
   "execution_count": 71,
   "id": "75d83a08",
   "metadata": {},
   "outputs": [],
   "source": [
    "models = {\"Decision Tree\"         :tree,\n",
    "          \"Logistic Regression\"     :logistic,\n",
    "          \"Random Forest\" :randomForest,\n",
    "          \"Boosted Tree\"  :boostedTree,\n",
    "          \"SVM\"          :svm,\n",
    "          \"NeuralNet\"    :neuralNet,\n",
    "          \"KNN\"    :neighbors\n",
    "         }"
   ]
  },
  {
   "cell_type": "code",
   "execution_count": 17,
   "id": "4001d1d4",
   "metadata": {},
   "outputs": [
    {
     "name": "stderr",
     "output_type": "stream",
     "text": [
      "C:\\tools\\Anaconda3\\envs\\py\\lib\\site-packages\\sklearn\\utils\\validation.py:985: DataConversionWarning: A column-vector y was passed when a 1d array was expected. Please change the shape of y to (n_samples, ), for example using ravel().\n",
      "  y = column_or_1d(y, warn=True)\n",
      "<ipython-input-17-f2401b60a26d>:4: DataConversionWarning: A column-vector y was passed when a 1d array was expected. Please change the shape of y to (n_samples,), for example using ravel().\n",
      "  models[model].fit(X_train, y_train)\n",
      "C:\\tools\\Anaconda3\\envs\\py\\lib\\site-packages\\sklearn\\ensemble\\_gb.py:494: DataConversionWarning: A column-vector y was passed when a 1d array was expected. Please change the shape of y to (n_samples, ), for example using ravel().\n",
      "  y = column_or_1d(y, warn=True)\n",
      "C:\\tools\\Anaconda3\\envs\\py\\lib\\site-packages\\sklearn\\utils\\validation.py:985: DataConversionWarning: A column-vector y was passed when a 1d array was expected. Please change the shape of y to (n_samples, ), for example using ravel().\n",
      "  y = column_or_1d(y, warn=True)\n",
      "C:\\tools\\Anaconda3\\envs\\py\\lib\\site-packages\\sklearn\\neural_network\\_multilayer_perceptron.py:1109: DataConversionWarning: A column-vector y was passed when a 1d array was expected. Please change the shape of y to (n_samples, ), for example using ravel().\n",
      "  y = column_or_1d(y, warn=True)\n",
      "C:\\tools\\Anaconda3\\envs\\py\\lib\\site-packages\\sklearn\\neighbors\\_classification.py:198: DataConversionWarning: A column-vector y was passed when a 1d array was expected. Please change the shape of y to (n_samples,), for example using ravel().\n",
      "  return self._fit(X, y)\n"
     ]
    }
   ],
   "source": [
    "#Train the models on the train set\n",
    "\n",
    "for model in models:\n",
    "    models[model].fit(X_train, y_train)\n",
    "    \n"
   ]
  },
  {
   "cell_type": "code",
   "execution_count": 18,
   "id": "98a90c41",
   "metadata": {},
   "outputs": [],
   "source": [
    "#Predict on the train and validation to evaluate and compare\n",
    "\n",
    "performances = {}\n",
    "\n",
    "for model in models:\n",
    "    train_pred          = models[model].predict(X_train)\n",
    "    validation_pred     = models[model].predict(X_validation)\n",
    "    train_prob          = pd.DataFrame(models[model].predict_proba(X_train))[1]\n",
    "    validation_prob     = pd.DataFrame(models[model].predict_proba(X_validation))[1]\n",
    "    train_accuracy      = accuracy_score(y_train, train_pred)\n",
    "    validation_accuracy = accuracy_score(y_validation, validation_pred)\n",
    "    train_auc           = roc_auc_score(np.array(y_train),np.array(train_prob))\n",
    "    validation_auc      = roc_auc_score(np.array(y_validation),np.array(validation_prob))\n",
    "    train_f1            = f1_score(y_train, train_pred)\n",
    "    validation_f1       = f1_score(y_validation, validation_pred)\n",
    "    \n",
    "    performances[model] = {\"Validation Accuracy\": validation_accuracy, \"Train Accuracy\": train_accuracy, \"Validation AUC\": validation_auc, \"Train AUC\": train_auc, \"Validation F1\": validation_f1, \"Train F1\": train_f1}"
   ]
  },
  {
   "cell_type": "code",
   "execution_count": 19,
   "id": "cf65c19e",
   "metadata": {},
   "outputs": [
    {
     "data": {
      "text/html": [
       "<div>\n",
       "<style scoped>\n",
       "    .dataframe tbody tr th:only-of-type {\n",
       "        vertical-align: middle;\n",
       "    }\n",
       "\n",
       "    .dataframe tbody tr th {\n",
       "        vertical-align: top;\n",
       "    }\n",
       "\n",
       "    .dataframe thead th {\n",
       "        text-align: right;\n",
       "    }\n",
       "</style>\n",
       "<table border=\"1\" class=\"dataframe\">\n",
       "  <thead>\n",
       "    <tr style=\"text-align: right;\">\n",
       "      <th></th>\n",
       "      <th>Validation Accuracy</th>\n",
       "      <th>Train Accuracy</th>\n",
       "      <th>Validation AUC</th>\n",
       "      <th>Train AUC</th>\n",
       "      <th>Validation F1</th>\n",
       "      <th>Train F1</th>\n",
       "    </tr>\n",
       "  </thead>\n",
       "  <tbody>\n",
       "    <tr>\n",
       "      <th>Decision Tree</th>\n",
       "      <td>0.89125</td>\n",
       "      <td>0.929312</td>\n",
       "      <td>0.691243</td>\n",
       "      <td>0.887035</td>\n",
       "      <td>0.345865</td>\n",
       "      <td>0.565501</td>\n",
       "    </tr>\n",
       "    <tr>\n",
       "      <th>Logistic Regression</th>\n",
       "      <td>0.89625</td>\n",
       "      <td>0.901687</td>\n",
       "      <td>0.788269</td>\n",
       "      <td>0.789066</td>\n",
       "      <td>0.323002</td>\n",
       "      <td>0.353473</td>\n",
       "    </tr>\n",
       "    <tr>\n",
       "      <th>Random Forest</th>\n",
       "      <td>0.88900</td>\n",
       "      <td>0.929312</td>\n",
       "      <td>0.768986</td>\n",
       "      <td>0.875958</td>\n",
       "      <td>0.358382</td>\n",
       "      <td>0.582194</td>\n",
       "    </tr>\n",
       "    <tr>\n",
       "      <th>Boosted Tree</th>\n",
       "      <td>0.89525</td>\n",
       "      <td>0.905563</td>\n",
       "      <td>0.795659</td>\n",
       "      <td>0.806551</td>\n",
       "      <td>0.325282</td>\n",
       "      <td>0.394389</td>\n",
       "    </tr>\n",
       "    <tr>\n",
       "      <th>SVM</th>\n",
       "      <td>0.89600</td>\n",
       "      <td>0.897938</td>\n",
       "      <td>0.721191</td>\n",
       "      <td>0.721484</td>\n",
       "      <td>0.315789</td>\n",
       "      <td>0.323249</td>\n",
       "    </tr>\n",
       "    <tr>\n",
       "      <th>NeuralNet</th>\n",
       "      <td>0.89400</td>\n",
       "      <td>0.896000</td>\n",
       "      <td>0.788853</td>\n",
       "      <td>0.789762</td>\n",
       "      <td>0.178295</td>\n",
       "      <td>0.204589</td>\n",
       "    </tr>\n",
       "    <tr>\n",
       "      <th>KNN</th>\n",
       "      <td>0.89275</td>\n",
       "      <td>0.910250</td>\n",
       "      <td>0.728337</td>\n",
       "      <td>0.791452</td>\n",
       "      <td>0.384505</td>\n",
       "      <td>0.473993</td>\n",
       "    </tr>\n",
       "  </tbody>\n",
       "</table>\n",
       "</div>"
      ],
      "text/plain": [
       "                     Validation Accuracy  Train Accuracy  Validation AUC  \\\n",
       "Decision Tree                    0.89125        0.929312        0.691243   \n",
       "Logistic Regression              0.89625        0.901687        0.788269   \n",
       "Random Forest                    0.88900        0.929312        0.768986   \n",
       "Boosted Tree                     0.89525        0.905563        0.795659   \n",
       "SVM                              0.89600        0.897938        0.721191   \n",
       "NeuralNet                        0.89400        0.896000        0.788853   \n",
       "KNN                              0.89275        0.910250        0.728337   \n",
       "\n",
       "                     Train AUC  Validation F1  Train F1  \n",
       "Decision Tree         0.887035       0.345865  0.565501  \n",
       "Logistic Regression   0.789066       0.323002  0.353473  \n",
       "Random Forest         0.875958       0.358382  0.582194  \n",
       "Boosted Tree          0.806551       0.325282  0.394389  \n",
       "SVM                   0.721484       0.315789  0.323249  \n",
       "NeuralNet             0.789762       0.178295  0.204589  \n",
       "KNN                   0.791452       0.384505  0.473993  "
      ]
     },
     "execution_count": 19,
     "metadata": {},
     "output_type": "execute_result"
    }
   ],
   "source": [
    "pd.DataFrame(performances).T"
   ]
  },
  {
   "cell_type": "markdown",
   "id": "9bec1121",
   "metadata": {},
   "source": [
    "####  (a) Hyper-parameter tuning: Gridsearch over highest performaning models "
   ]
  },
  {
   "cell_type": "code",
   "execution_count": 20,
   "id": "801373fc",
   "metadata": {},
   "outputs": [
    {
     "name": "stdout",
     "output_type": "stream",
     "text": [
      "Fitting 5 folds for each of 300 candidates, totalling 1500 fits\n"
     ]
    },
    {
     "name": "stderr",
     "output_type": "stream",
     "text": [
      "C:\\tools\\Anaconda3\\envs\\py\\lib\\site-packages\\sklearn\\ensemble\\_gb.py:494: DataConversionWarning: A column-vector y was passed when a 1d array was expected. Please change the shape of y to (n_samples, ), for example using ravel().\n",
      "  y = column_or_1d(y, warn=True)\n"
     ]
    },
    {
     "name": "stdout",
     "output_type": "stream",
     "text": [
      "GradientBoostingClassifier(learning_rate=0.5, max_depth=4, min_samples_leaf=160,\n",
      "                           min_samples_split=600)\n",
      "Wall time: 11min 29s\n"
     ]
    }
   ],
   "source": [
    "%%time\n",
    "#Grid search over Boosted Tree with 5 CV folds\n",
    "cv = KFold(n_splits=5, random_state=1, shuffle=True)\n",
    "model = GradientBoostingClassifier()\n",
    "parameters = {'min_samples_leaf':(X_train.shape[0]*np.array([0.01, 0.05, 0.1, 0.25, 0.5])).astype(int), 'min_samples_split':[400,500,600,750], 'max_depth':[4,5,6,7,8], 'learning_rate':[0.1,0.5,1]}\n",
    "gs_gbc = GridSearchCV(model, parameters, scoring=\"roc_auc\", n_jobs=-2, cv=cv, verbose=3)\n",
    "gs_gbc.fit(X_train, y_train)\n",
    "\n",
    "print(gs_gbc.best_estimator_)"
   ]
  },
  {
   "cell_type": "code",
   "execution_count": 22,
   "id": "90ae2f17",
   "metadata": {},
   "outputs": [
    {
     "name": "stderr",
     "output_type": "stream",
     "text": [
      "C:\\tools\\Anaconda3\\envs\\py\\lib\\site-packages\\sklearn\\ensemble\\_gb.py:494: DataConversionWarning: A column-vector y was passed when a 1d array was expected. Please change the shape of y to (n_samples, ), for example using ravel().\n",
      "  y = column_or_1d(y, warn=True)\n"
     ]
    },
    {
     "data": {
      "text/html": [
       "<div>\n",
       "<style scoped>\n",
       "    .dataframe tbody tr th:only-of-type {\n",
       "        vertical-align: middle;\n",
       "    }\n",
       "\n",
       "    .dataframe tbody tr th {\n",
       "        vertical-align: top;\n",
       "    }\n",
       "\n",
       "    .dataframe thead th {\n",
       "        text-align: right;\n",
       "    }\n",
       "</style>\n",
       "<table border=\"1\" class=\"dataframe\">\n",
       "  <thead>\n",
       "    <tr style=\"text-align: right;\">\n",
       "      <th></th>\n",
       "      <th>Train AUC</th>\n",
       "      <th>Train Accuracy</th>\n",
       "      <th>Train F1</th>\n",
       "      <th>Validation AUC</th>\n",
       "      <th>Validation Accuracy</th>\n",
       "      <th>Validation F1</th>\n",
       "    </tr>\n",
       "  </thead>\n",
       "  <tbody>\n",
       "    <tr>\n",
       "      <th>GradientBoosting</th>\n",
       "      <td>0.817714</td>\n",
       "      <td>0.906563</td>\n",
       "      <td>0.406511</td>\n",
       "      <td>0.793244</td>\n",
       "      <td>0.8985</td>\n",
       "      <td>0.353503</td>\n",
       "    </tr>\n",
       "  </tbody>\n",
       "</table>\n",
       "</div>"
      ],
      "text/plain": [
       "                  Train AUC  Train Accuracy  Train F1  Validation AUC  \\\n",
       "GradientBoosting   0.817714        0.906563  0.406511        0.793244   \n",
       "\n",
       "                  Validation Accuracy  Validation F1  \n",
       "GradientBoosting               0.8985       0.353503  "
      ]
     },
     "execution_count": 22,
     "metadata": {},
     "output_type": "execute_result"
    }
   ],
   "source": [
    "boosting = GradientBoostingClassifier(learning_rate=0.5, max_depth=4, min_samples_leaf=160, min_samples_split=600)\n",
    "\n",
    "models = {\"GradientBoosting\" :boosting\n",
    "         }\n",
    "\n",
    "for model in models:\n",
    "    models[model].fit(X_train, y_train)\n",
    "\n",
    "performances = {}\n",
    "\n",
    "for model in models:\n",
    "    train_pred          = models[model].predict(X_train)\n",
    "    validation_pred     = models[model].predict(X_validation)\n",
    "    train_prob          = pd.DataFrame(models[model].predict_proba(X_train))[1]\n",
    "    validation_prob     = pd.DataFrame(models[model].predict_proba(X_validation))[1]\n",
    "    train_accuracy      = accuracy_score(y_train, train_pred)\n",
    "    validation_accuracy = accuracy_score(y_validation, validation_pred)\n",
    "    train_auc           = roc_auc_score(np.array(y_train),np.array(train_prob))\n",
    "    validation_auc      = roc_auc_score(np.array(y_validation),np.array(validation_prob))\n",
    "    train_f1            = f1_score(y_train, train_pred)\n",
    "    validation_f1       = f1_score(y_validation, validation_pred)\n",
    "    \n",
    "    performances[model] = {\"Validation Accuracy\": validation_accuracy, \"Train Accuracy\": train_accuracy, \"Validation AUC\": validation_auc, \"Train AUC\": train_auc, \"Validation F1\": validation_f1, \"Train F1\": train_f1}\n",
    "    \n",
    "pd.DataFrame(performances).T"
   ]
  },
  {
   "cell_type": "code",
   "execution_count": 23,
   "id": "01ccdfa3",
   "metadata": {},
   "outputs": [
    {
     "name": "stdout",
     "output_type": "stream",
     "text": [
      "Fitting 10 folds for each of 240 candidates, totalling 2400 fits\n"
     ]
    },
    {
     "name": "stderr",
     "output_type": "stream",
     "text": [
      "C:\\tools\\Anaconda3\\envs\\py\\lib\\site-packages\\sklearn\\ensemble\\_gb.py:494: DataConversionWarning: A column-vector y was passed when a 1d array was expected. Please change the shape of y to (n_samples, ), for example using ravel().\n",
      "  y = column_or_1d(y, warn=True)\n"
     ]
    },
    {
     "name": "stdout",
     "output_type": "stream",
     "text": [
      "GradientBoostingClassifier(learning_rate=0.5, max_depth=5, min_samples_leaf=160,\n",
      "                           min_samples_split=600)\n",
      "Wall time: 31min 54s\n"
     ]
    }
   ],
   "source": [
    "%%time\n",
    "#Grid search over Boosted Tree with 10 CV folds\n",
    "cv = KFold(n_splits=10, random_state=1, shuffle=True)\n",
    "model = GradientBoostingClassifier()\n",
    "parameters = {'min_samples_leaf':(X_train.shape[0]*np.array([0.01, 0.05, 0.1, 0.25, 0.5])).astype(int), 'min_samples_split':[400,500,600,750], 'max_depth':[5,6,7,8], 'learning_rate':[0.1,0.5,1]}\n",
    "gs_gbc = GridSearchCV(model, parameters, scoring=\"roc_auc\", n_jobs=-2, cv=cv, verbose=3)\n",
    "gs_gbc.fit(X_train, y_train)\n",
    "\n",
    "print(gs_gbc.best_estimator_)"
   ]
  },
  {
   "cell_type": "code",
   "execution_count": 24,
   "id": "4060aeec",
   "metadata": {},
   "outputs": [
    {
     "name": "stderr",
     "output_type": "stream",
     "text": [
      "C:\\tools\\Anaconda3\\envs\\py\\lib\\site-packages\\sklearn\\ensemble\\_gb.py:494: DataConversionWarning: A column-vector y was passed when a 1d array was expected. Please change the shape of y to (n_samples, ), for example using ravel().\n",
      "  y = column_or_1d(y, warn=True)\n"
     ]
    },
    {
     "data": {
      "text/html": [
       "<div>\n",
       "<style scoped>\n",
       "    .dataframe tbody tr th:only-of-type {\n",
       "        vertical-align: middle;\n",
       "    }\n",
       "\n",
       "    .dataframe tbody tr th {\n",
       "        vertical-align: top;\n",
       "    }\n",
       "\n",
       "    .dataframe thead th {\n",
       "        text-align: right;\n",
       "    }\n",
       "</style>\n",
       "<table border=\"1\" class=\"dataframe\">\n",
       "  <thead>\n",
       "    <tr style=\"text-align: right;\">\n",
       "      <th></th>\n",
       "      <th>Train AUC</th>\n",
       "      <th>Train Accuracy</th>\n",
       "      <th>Train F1</th>\n",
       "      <th>Validation AUC</th>\n",
       "      <th>Validation Accuracy</th>\n",
       "      <th>Validation F1</th>\n",
       "    </tr>\n",
       "  </thead>\n",
       "  <tbody>\n",
       "    <tr>\n",
       "      <th>GradientBoosting</th>\n",
       "      <td>0.820122</td>\n",
       "      <td>0.907312</td>\n",
       "      <td>0.417289</td>\n",
       "      <td>0.790054</td>\n",
       "      <td>0.898</td>\n",
       "      <td>0.364486</td>\n",
       "    </tr>\n",
       "  </tbody>\n",
       "</table>\n",
       "</div>"
      ],
      "text/plain": [
       "                  Train AUC  Train Accuracy  Train F1  Validation AUC  \\\n",
       "GradientBoosting   0.820122        0.907312  0.417289        0.790054   \n",
       "\n",
       "                  Validation Accuracy  Validation F1  \n",
       "GradientBoosting                0.898       0.364486  "
      ]
     },
     "execution_count": 24,
     "metadata": {},
     "output_type": "execute_result"
    }
   ],
   "source": [
    "boosting = GradientBoostingClassifier(learning_rate=0.5, max_depth=5, min_samples_leaf=160, min_samples_split=600)\n",
    "\n",
    "models = {\"GradientBoosting\" :boosting\n",
    "         }\n",
    "\n",
    "for model in models:\n",
    "    models[model].fit(X_train, y_train)\n",
    "\n",
    "performances = {}\n",
    "\n",
    "for model in models:\n",
    "    train_pred          = models[model].predict(X_train)\n",
    "    validation_pred     = models[model].predict(X_validation)\n",
    "    train_prob          = pd.DataFrame(models[model].predict_proba(X_train))[1]\n",
    "    validation_prob     = pd.DataFrame(models[model].predict_proba(X_validation))[1]\n",
    "    train_accuracy      = accuracy_score(y_train, train_pred)\n",
    "    validation_accuracy = accuracy_score(y_validation, validation_pred)\n",
    "    train_auc           = roc_auc_score(np.array(y_train),np.array(train_prob))\n",
    "    validation_auc      = roc_auc_score(np.array(y_validation),np.array(validation_prob))\n",
    "    train_f1            = f1_score(y_train, train_pred)\n",
    "    validation_f1       = f1_score(y_validation, validation_pred)\n",
    "    \n",
    "    performances[model] = {\"Validation Accuracy\": validation_accuracy, \"Train Accuracy\": train_accuracy, \"Validation AUC\": validation_auc, \"Train AUC\": train_auc, \"Validation F1\": validation_f1, \"Train F1\": train_f1}\n",
    "    \n",
    "pd.DataFrame(performances).T"
   ]
  },
  {
   "cell_type": "code",
   "execution_count": 25,
   "id": "7c37d09b",
   "metadata": {},
   "outputs": [
    {
     "name": "stdout",
     "output_type": "stream",
     "text": [
      "Fitting 10 folds for each of 2250 candidates, totalling 22500 fits\n"
     ]
    },
    {
     "name": "stderr",
     "output_type": "stream",
     "text": [
      "C:\\tools\\Anaconda3\\envs\\py\\lib\\site-packages\\sklearn\\ensemble\\_gb.py:494: DataConversionWarning: A column-vector y was passed when a 1d array was expected. Please change the shape of y to (n_samples, ), for example using ravel().\n",
      "  y = column_or_1d(y, warn=True)\n"
     ]
    },
    {
     "name": "stdout",
     "output_type": "stream",
     "text": [
      "GradientBoostingClassifier(learning_rate=0.5, max_depth=5, min_samples_leaf=160,\n",
      "                           min_samples_split=600)\n",
      "Wall time: 10h 29min 48s\n"
     ]
    }
   ],
   "source": [
    "%%time\n",
    "#Grid search over Boosted Tree with 10 CV folds\n",
    "cv = KFold(n_splits=10, random_state=1, shuffle=True)\n",
    "model = GradientBoostingClassifier()\n",
    "parameters = {'min_samples_leaf':(X_train.shape[0]*np.array([0.01, 0.05, 0.1, 0.25, 0.5])).astype(int), 'min_samples_split':[500,550,600,650,750], 'max_depth':[4,5,6,7,8], 'learning_rate':[0.1,0.5,1], 'n_estimators':[10, 50, 100, 250, 500, 1000]}\n",
    "gs_gbc = GridSearchCV(model, parameters, scoring=\"roc_auc\", n_jobs=-2, cv=cv, verbose=3)\n",
    "gs_gbc.fit(X_train, y_train)\n",
    "\n",
    "print(gs_gbc.best_estimator_)"
   ]
  },
  {
   "cell_type": "code",
   "execution_count": 26,
   "id": "50022a21",
   "metadata": {},
   "outputs": [
    {
     "name": "stderr",
     "output_type": "stream",
     "text": [
      "C:\\tools\\Anaconda3\\envs\\py\\lib\\site-packages\\sklearn\\ensemble\\_gb.py:494: DataConversionWarning: A column-vector y was passed when a 1d array was expected. Please change the shape of y to (n_samples, ), for example using ravel().\n",
      "  y = column_or_1d(y, warn=True)\n"
     ]
    },
    {
     "data": {
      "text/html": [
       "<div>\n",
       "<style scoped>\n",
       "    .dataframe tbody tr th:only-of-type {\n",
       "        vertical-align: middle;\n",
       "    }\n",
       "\n",
       "    .dataframe tbody tr th {\n",
       "        vertical-align: top;\n",
       "    }\n",
       "\n",
       "    .dataframe thead th {\n",
       "        text-align: right;\n",
       "    }\n",
       "</style>\n",
       "<table border=\"1\" class=\"dataframe\">\n",
       "  <thead>\n",
       "    <tr style=\"text-align: right;\">\n",
       "      <th></th>\n",
       "      <th>Train AUC</th>\n",
       "      <th>Train Accuracy</th>\n",
       "      <th>Train F1</th>\n",
       "      <th>Validation AUC</th>\n",
       "      <th>Validation Accuracy</th>\n",
       "      <th>Validation F1</th>\n",
       "    </tr>\n",
       "  </thead>\n",
       "  <tbody>\n",
       "    <tr>\n",
       "      <th>GradientBoosting</th>\n",
       "      <td>0.820122</td>\n",
       "      <td>0.907312</td>\n",
       "      <td>0.417289</td>\n",
       "      <td>0.790054</td>\n",
       "      <td>0.898</td>\n",
       "      <td>0.364486</td>\n",
       "    </tr>\n",
       "  </tbody>\n",
       "</table>\n",
       "</div>"
      ],
      "text/plain": [
       "                  Train AUC  Train Accuracy  Train F1  Validation AUC  \\\n",
       "GradientBoosting   0.820122        0.907312  0.417289        0.790054   \n",
       "\n",
       "                  Validation Accuracy  Validation F1  \n",
       "GradientBoosting                0.898       0.364486  "
      ]
     },
     "execution_count": 26,
     "metadata": {},
     "output_type": "execute_result"
    }
   ],
   "source": [
    "boosting = GradientBoostingClassifier(learning_rate=0.5, max_depth=5, min_samples_leaf=160, min_samples_split=600)\n",
    "\n",
    "models = {\"GradientBoosting\" :boosting\n",
    "         }\n",
    "\n",
    "for model in models:\n",
    "    models[model].fit(X_train, y_train)\n",
    "\n",
    "performances = {}\n",
    "\n",
    "for model in models:\n",
    "    train_pred          = models[model].predict(X_train)\n",
    "    validation_pred     = models[model].predict(X_validation)\n",
    "    train_prob          = pd.DataFrame(models[model].predict_proba(X_train))[1]\n",
    "    validation_prob     = pd.DataFrame(models[model].predict_proba(X_validation))[1]\n",
    "    train_accuracy      = accuracy_score(y_train, train_pred)\n",
    "    validation_accuracy = accuracy_score(y_validation, validation_pred)\n",
    "    train_auc           = roc_auc_score(np.array(y_train),np.array(train_prob))\n",
    "    validation_auc      = roc_auc_score(np.array(y_validation),np.array(validation_prob))\n",
    "    train_f1            = f1_score(y_train, train_pred)\n",
    "    validation_f1       = f1_score(y_validation, validation_pred)\n",
    "    \n",
    "    performances[model] = {\"Validation Accuracy\": validation_accuracy, \"Train Accuracy\": train_accuracy, \"Validation AUC\": validation_auc, \"Train AUC\": train_auc, \"Validation F1\": validation_f1, \"Train F1\": train_f1}\n",
    "    \n",
    "pd.DataFrame(performances).T"
   ]
  },
  {
   "cell_type": "code",
   "execution_count": 32,
   "id": "6adfbd66",
   "metadata": {},
   "outputs": [
    {
     "name": "stdout",
     "output_type": "stream",
     "text": [
      "Fitting 10 folds for each of 300 candidates, totalling 3000 fits\n"
     ]
    },
    {
     "name": "stderr",
     "output_type": "stream",
     "text": [
      "C:\\tools\\Anaconda3\\envs\\py\\lib\\site-packages\\sklearn\\ensemble\\_gb.py:494: DataConversionWarning: A column-vector y was passed when a 1d array was expected. Please change the shape of y to (n_samples, ), for example using ravel().\n",
      "  y = column_or_1d(y, warn=True)\n"
     ]
    },
    {
     "name": "stdout",
     "output_type": "stream",
     "text": [
      "GradientBoostingClassifier(max_depth=5, min_samples_leaf=160,\n",
      "                           min_samples_split=550, n_estimators=500)\n",
      "Wall time: 2h 17min 53s\n"
     ]
    }
   ],
   "source": [
    "%%time\n",
    "#Grid search over Boosted Tree with 10 CV folds\n",
    "cv = KFold(n_splits=10, random_state=1, shuffle=True)\n",
    "model = GradientBoostingClassifier()\n",
    "parameters = {'min_samples_leaf':(X_train.shape[0]*np.array([0.01, 0.05, 0.1, 0.25, 0.5])).astype(int), 'min_samples_split':[550,575,600,625], 'max_depth':[5,6,7], 'learning_rate':[0.001,0.01,0.1,0.5,1], 'n_estimators':[500]}\n",
    "gs_gbc = GridSearchCV(model, parameters, scoring=\"roc_auc\", n_jobs=-2, cv=cv, verbose=3)\n",
    "gs_gbc.fit(X_train, y_train)\n",
    "\n",
    "print(gs_gbc.best_estimator_)"
   ]
  },
  {
   "cell_type": "code",
   "execution_count": 34,
   "id": "b72a5fd9",
   "metadata": {},
   "outputs": [
    {
     "name": "stderr",
     "output_type": "stream",
     "text": [
      "C:\\tools\\Anaconda3\\envs\\py\\lib\\site-packages\\sklearn\\ensemble\\_gb.py:494: DataConversionWarning: A column-vector y was passed when a 1d array was expected. Please change the shape of y to (n_samples, ), for example using ravel().\n",
      "  y = column_or_1d(y, warn=True)\n"
     ]
    },
    {
     "data": {
      "text/html": [
       "<div>\n",
       "<style scoped>\n",
       "    .dataframe tbody tr th:only-of-type {\n",
       "        vertical-align: middle;\n",
       "    }\n",
       "\n",
       "    .dataframe tbody tr th {\n",
       "        vertical-align: top;\n",
       "    }\n",
       "\n",
       "    .dataframe thead th {\n",
       "        text-align: right;\n",
       "    }\n",
       "</style>\n",
       "<table border=\"1\" class=\"dataframe\">\n",
       "  <thead>\n",
       "    <tr style=\"text-align: right;\">\n",
       "      <th></th>\n",
       "      <th>Train AUC</th>\n",
       "      <th>Train Accuracy</th>\n",
       "      <th>Train F1</th>\n",
       "      <th>Validation AUC</th>\n",
       "      <th>Validation Accuracy</th>\n",
       "      <th>Validation F1</th>\n",
       "    </tr>\n",
       "  </thead>\n",
       "  <tbody>\n",
       "    <tr>\n",
       "      <th>GradientBoosting</th>\n",
       "      <td>0.819986</td>\n",
       "      <td>0.907</td>\n",
       "      <td>0.41046</td>\n",
       "      <td>0.792701</td>\n",
       "      <td>0.899</td>\n",
       "      <td>0.362776</td>\n",
       "    </tr>\n",
       "  </tbody>\n",
       "</table>\n",
       "</div>"
      ],
      "text/plain": [
       "                  Train AUC  Train Accuracy  Train F1  Validation AUC  \\\n",
       "GradientBoosting   0.819986           0.907   0.41046        0.792701   \n",
       "\n",
       "                  Validation Accuracy  Validation F1  \n",
       "GradientBoosting                0.899       0.362776  "
      ]
     },
     "execution_count": 34,
     "metadata": {},
     "output_type": "execute_result"
    }
   ],
   "source": [
    "boosting = GradientBoostingClassifier(max_depth=5,min_samples_leaf=160,min_samples_split=550, n_estimators=500)\n",
    "\n",
    "models = {\"GradientBoosting\" :boosting\n",
    "         }\n",
    "\n",
    "for model in models:\n",
    "    models[model].fit(X_train, y_train)\n",
    "\n",
    "performances = {}\n",
    "\n",
    "for model in models:\n",
    "    train_pred          = models[model].predict(X_train)\n",
    "    validation_pred     = models[model].predict(X_validation)\n",
    "    train_prob          = pd.DataFrame(models[model].predict_proba(X_train))[1]\n",
    "    validation_prob     = pd.DataFrame(models[model].predict_proba(X_validation))[1]\n",
    "    train_accuracy      = accuracy_score(y_train, train_pred)\n",
    "    validation_accuracy = accuracy_score(y_validation, validation_pred)\n",
    "    train_auc           = roc_auc_score(np.array(y_train),np.array(train_prob))\n",
    "    validation_auc      = roc_auc_score(np.array(y_validation),np.array(validation_prob))\n",
    "    train_f1            = f1_score(y_train, train_pred)\n",
    "    validation_f1       = f1_score(y_validation, validation_pred)\n",
    "    \n",
    "    performances[model] = {\"Validation Accuracy\": validation_accuracy, \"Train Accuracy\": train_accuracy, \"Validation AUC\": validation_auc, \"Train AUC\": train_auc, \"Validation F1\": validation_f1, \"Train F1\": train_f1}\n",
    "    \n",
    "pd.DataFrame(performances).T"
   ]
  },
  {
   "cell_type": "code",
   "execution_count": 47,
   "id": "cf66253c",
   "metadata": {},
   "outputs": [
    {
     "name": "stdout",
     "output_type": "stream",
     "text": [
      "Fitting 10 folds for each of 648 candidates, totalling 6480 fits\n"
     ]
    },
    {
     "name": "stderr",
     "output_type": "stream",
     "text": [
      "C:\\tools\\Anaconda3\\envs\\py\\lib\\site-packages\\sklearn\\ensemble\\_gb.py:494: DataConversionWarning: A column-vector y was passed when a 1d array was expected. Please change the shape of y to (n_samples, ), for example using ravel().\n",
      "  y = column_or_1d(y, warn=True)\n"
     ]
    },
    {
     "name": "stdout",
     "output_type": "stream",
     "text": [
      "{'learning_rate': 0.5, 'loss': 'deviance', 'max_depth': 5, 'min_samples_leaf': 160, 'min_samples_split': 580, 'n_estimators': 100}\n",
      "Wall time: 53min 36s\n"
     ]
    }
   ],
   "source": [
    "%%time\n",
    "#Grid search over Boosted Tree with 10 CV folds\n",
    "cv = KFold(n_splits=10, random_state=1, shuffle=True)\n",
    "model = GradientBoostingClassifier()\n",
    "parameters = {'min_samples_leaf':[150,160,170], 'loss':['deviance', 'exponential'], 'min_samples_split':[550,560,580,600], 'max_depth':[5,6,7], 'learning_rate':[0.25,0.5,0.75], 'n_estimators':[10, 50, 100]}\n",
    "gs_gbc = GridSearchCV(model, parameters, scoring=\"roc_auc\", n_jobs=-2, cv=cv, verbose=3)\n",
    "gs_gbc.fit(X_train, y_train)\n",
    "\n",
    "print(gs_gbc.best_params_)"
   ]
  },
  {
   "cell_type": "code",
   "execution_count": 48,
   "id": "d95aa924",
   "metadata": {},
   "outputs": [
    {
     "name": "stderr",
     "output_type": "stream",
     "text": [
      "C:\\tools\\Anaconda3\\envs\\py\\lib\\site-packages\\sklearn\\ensemble\\_gb.py:494: DataConversionWarning: A column-vector y was passed when a 1d array was expected. Please change the shape of y to (n_samples, ), for example using ravel().\n",
      "  y = column_or_1d(y, warn=True)\n"
     ]
    },
    {
     "data": {
      "text/html": [
       "<div>\n",
       "<style scoped>\n",
       "    .dataframe tbody tr th:only-of-type {\n",
       "        vertical-align: middle;\n",
       "    }\n",
       "\n",
       "    .dataframe tbody tr th {\n",
       "        vertical-align: top;\n",
       "    }\n",
       "\n",
       "    .dataframe thead th {\n",
       "        text-align: right;\n",
       "    }\n",
       "</style>\n",
       "<table border=\"1\" class=\"dataframe\">\n",
       "  <thead>\n",
       "    <tr style=\"text-align: right;\">\n",
       "      <th></th>\n",
       "      <th>Train AUC</th>\n",
       "      <th>Train Accuracy</th>\n",
       "      <th>Train F1</th>\n",
       "      <th>Validation AUC</th>\n",
       "      <th>Validation Accuracy</th>\n",
       "      <th>Validation F1</th>\n",
       "    </tr>\n",
       "  </thead>\n",
       "  <tbody>\n",
       "    <tr>\n",
       "      <th>GradientBoosting</th>\n",
       "      <td>0.822882</td>\n",
       "      <td>0.907438</td>\n",
       "      <td>0.42171</td>\n",
       "      <td>0.789943</td>\n",
       "      <td>0.8975</td>\n",
       "      <td>0.359375</td>\n",
       "    </tr>\n",
       "  </tbody>\n",
       "</table>\n",
       "</div>"
      ],
      "text/plain": [
       "                  Train AUC  Train Accuracy  Train F1  Validation AUC  \\\n",
       "GradientBoosting   0.822882        0.907438   0.42171        0.789943   \n",
       "\n",
       "                  Validation Accuracy  Validation F1  \n",
       "GradientBoosting               0.8975       0.359375  "
      ]
     },
     "execution_count": 48,
     "metadata": {},
     "output_type": "execute_result"
    }
   ],
   "source": [
    "    boosting = GradientBoostingClassifier(learning_rate=0.5, loss='deviance',max_depth=5,min_samples_leaf=160,min_samples_split=580, n_estimators=100)\n",
    "\n",
    "models = {\"GradientBoosting\" :boosting\n",
    "         }\n",
    "\n",
    "for model in models:\n",
    "    models[model].fit(X_train, y_train)\n",
    "\n",
    "performances = {}\n",
    "\n",
    "for model in models:\n",
    "    train_pred          = models[model].predict(X_train)\n",
    "    validation_pred     = models[model].predict(X_validation)\n",
    "    train_prob          = pd.DataFrame(models[model].predict_proba(X_train))[1]\n",
    "    validation_prob     = pd.DataFrame(models[model].predict_proba(X_validation))[1]\n",
    "    train_accuracy      = accuracy_score(y_train, train_pred)\n",
    "    validation_accuracy = accuracy_score(y_validation, validation_pred)\n",
    "    train_auc           = roc_auc_score(np.array(y_train),np.array(train_prob))\n",
    "    validation_auc      = roc_auc_score(np.array(y_validation),np.array(validation_prob))\n",
    "    train_f1            = f1_score(y_train, train_pred)\n",
    "    validation_f1       = f1_score(y_validation, validation_pred)\n",
    "    \n",
    "    performances[model] = {\"Validation Accuracy\": validation_accuracy, \"Train Accuracy\": train_accuracy, \"Validation AUC\": validation_auc, \"Train AUC\": train_auc, \"Validation F1\": validation_f1, \"Train F1\": train_f1}\n",
    "    \n",
    "pd.DataFrame(performances).T"
   ]
  },
  {
   "cell_type": "code",
   "execution_count": 49,
   "id": "200c2efe",
   "metadata": {},
   "outputs": [
    {
     "name": "stdout",
     "output_type": "stream",
     "text": [
      "Fitting 10 folds for each of 486 candidates, totalling 4860 fits\n"
     ]
    },
    {
     "name": "stderr",
     "output_type": "stream",
     "text": [
      "C:\\tools\\Anaconda3\\envs\\py\\lib\\site-packages\\sklearn\\ensemble\\_gb.py:494: DataConversionWarning: A column-vector y was passed when a 1d array was expected. Please change the shape of y to (n_samples, ), for example using ravel().\n",
      "  y = column_or_1d(y, warn=True)\n"
     ]
    },
    {
     "name": "stdout",
     "output_type": "stream",
     "text": [
      "{'learning_rate': 0.25, 'loss': 'deviance', 'max_depth': 6, 'min_samples_leaf': 165, 'min_samples_split': 700, 'n_estimators': 150}\n",
      "Wall time: 3h 1min 38s\n"
     ]
    }
   ],
   "source": [
    "%%time\n",
    "#Grid search over Boosted Tree with 10 CV folds\n",
    "cv = KFold(n_splits=10, random_state=1, shuffle=True)\n",
    "model = GradientBoostingClassifier()\n",
    "parameters = {'min_samples_leaf':[155,160,165], 'loss':['deviance', 'exponential'], 'min_samples_split':[500,600,700], 'max_depth':[6,7,8], 'learning_rate':[0.25,0.5,1], 'n_estimators':[150,200,250]}\n",
    "gs_gbc = GridSearchCV(model, parameters, scoring=\"roc_auc\", n_jobs=-1, cv=cv, verbose=3)\n",
    "gs_gbc.fit(X_train, y_train)\n",
    "\n",
    "print(gs_gbc.best_params_)"
   ]
  },
  {
   "cell_type": "code",
   "execution_count": 50,
   "id": "ea2d81ca",
   "metadata": {},
   "outputs": [
    {
     "name": "stderr",
     "output_type": "stream",
     "text": [
      "C:\\tools\\Anaconda3\\envs\\py\\lib\\site-packages\\sklearn\\ensemble\\_gb.py:494: DataConversionWarning: A column-vector y was passed when a 1d array was expected. Please change the shape of y to (n_samples, ), for example using ravel().\n",
      "  y = column_or_1d(y, warn=True)\n"
     ]
    },
    {
     "data": {
      "text/html": [
       "<div>\n",
       "<style scoped>\n",
       "    .dataframe tbody tr th:only-of-type {\n",
       "        vertical-align: middle;\n",
       "    }\n",
       "\n",
       "    .dataframe tbody tr th {\n",
       "        vertical-align: top;\n",
       "    }\n",
       "\n",
       "    .dataframe thead th {\n",
       "        text-align: right;\n",
       "    }\n",
       "</style>\n",
       "<table border=\"1\" class=\"dataframe\">\n",
       "  <thead>\n",
       "    <tr style=\"text-align: right;\">\n",
       "      <th></th>\n",
       "      <th>Train AUC</th>\n",
       "      <th>Train Accuracy</th>\n",
       "      <th>Train F1</th>\n",
       "      <th>Validation AUC</th>\n",
       "      <th>Validation Accuracy</th>\n",
       "      <th>Validation F1</th>\n",
       "    </tr>\n",
       "  </thead>\n",
       "  <tbody>\n",
       "    <tr>\n",
       "      <th>GradientBoosting</th>\n",
       "      <td>0.820829</td>\n",
       "      <td>0.907062</td>\n",
       "      <td>0.414336</td>\n",
       "      <td>0.792592</td>\n",
       "      <td>0.89875</td>\n",
       "      <td>0.364207</td>\n",
       "    </tr>\n",
       "  </tbody>\n",
       "</table>\n",
       "</div>"
      ],
      "text/plain": [
       "                  Train AUC  Train Accuracy  Train F1  Validation AUC  \\\n",
       "GradientBoosting   0.820829        0.907062  0.414336        0.792592   \n",
       "\n",
       "                  Validation Accuracy  Validation F1  \n",
       "GradientBoosting              0.89875       0.364207  "
      ]
     },
     "execution_count": 50,
     "metadata": {},
     "output_type": "execute_result"
    }
   ],
   "source": [
    "boosting = GradientBoostingClassifier(learning_rate=0.25, loss='deviance',max_depth=6,min_samples_leaf=165,min_samples_split=700, n_estimators=150)\n",
    "\n",
    "models = {\"GradientBoosting\" :boosting\n",
    "         }\n",
    "\n",
    "for model in models:\n",
    "    models[model].fit(X_train, y_train)\n",
    "\n",
    "performances = {}\n",
    "\n",
    "for model in models:\n",
    "    train_pred          = models[model].predict(X_train)\n",
    "    validation_pred     = models[model].predict(X_validation)\n",
    "    train_prob          = pd.DataFrame(models[model].predict_proba(X_train))[1]\n",
    "    validation_prob     = pd.DataFrame(models[model].predict_proba(X_validation))[1]\n",
    "    train_accuracy      = accuracy_score(y_train, train_pred)\n",
    "    validation_accuracy = accuracy_score(y_validation, validation_pred)\n",
    "    train_auc           = roc_auc_score(np.array(y_train),np.array(train_prob))\n",
    "    validation_auc      = roc_auc_score(np.array(y_validation),np.array(validation_prob))\n",
    "    train_f1            = f1_score(y_train, train_pred)\n",
    "    validation_f1       = f1_score(y_validation, validation_pred)\n",
    "    \n",
    "    performances[model] = {\"Validation Accuracy\": validation_accuracy, \"Train Accuracy\": train_accuracy, \"Validation AUC\": validation_auc, \"Train AUC\": train_auc, \"Validation F1\": validation_f1, \"Train F1\": train_f1}\n",
    "    \n",
    "pd.DataFrame(performances).T"
   ]
  },
  {
   "cell_type": "markdown",
   "id": "1d3f6918",
   "metadata": {},
   "source": [
    "## 4. Make prediction\n",
    "\n",
    "Use the best model to make prediction on test set. Submit the result to Kaggle."
   ]
  },
  {
   "cell_type": "code",
   "execution_count": 51,
   "id": "306f8ae6",
   "metadata": {},
   "outputs": [],
   "source": [
    "test_prob = pd.DataFrame(boosting.predict_proba(X_test))"
   ]
  },
  {
   "cell_type": "code",
   "execution_count": 52,
   "id": "a499b91e",
   "metadata": {},
   "outputs": [],
   "source": [
    "test_prob['client_id'] = test_id\n",
    "test_prob.rename(columns = {1:'subscribe'}, inplace = True)"
   ]
  },
  {
   "cell_type": "code",
   "execution_count": 53,
   "id": "f7469233",
   "metadata": {},
   "outputs": [],
   "source": [
    "kaggle_submission = test_prob[['client_id', 'subscribe']]"
   ]
  },
  {
   "cell_type": "code",
   "execution_count": 54,
   "id": "698dee8c",
   "metadata": {},
   "outputs": [
    {
     "data": {
      "text/html": [
       "<div>\n",
       "<style scoped>\n",
       "    .dataframe tbody tr th:only-of-type {\n",
       "        vertical-align: middle;\n",
       "    }\n",
       "\n",
       "    .dataframe tbody tr th {\n",
       "        vertical-align: top;\n",
       "    }\n",
       "\n",
       "    .dataframe thead th {\n",
       "        text-align: right;\n",
       "    }\n",
       "</style>\n",
       "<table border=\"1\" class=\"dataframe\">\n",
       "  <thead>\n",
       "    <tr style=\"text-align: right;\">\n",
       "      <th></th>\n",
       "      <th>client_id</th>\n",
       "      <th>subscribe</th>\n",
       "    </tr>\n",
       "  </thead>\n",
       "  <tbody>\n",
       "    <tr>\n",
       "      <th>0</th>\n",
       "      <td>2986</td>\n",
       "      <td>0.065005</td>\n",
       "    </tr>\n",
       "    <tr>\n",
       "      <th>1</th>\n",
       "      <td>29710</td>\n",
       "      <td>0.048007</td>\n",
       "    </tr>\n",
       "    <tr>\n",
       "      <th>2</th>\n",
       "      <td>38938</td>\n",
       "      <td>0.340640</td>\n",
       "    </tr>\n",
       "    <tr>\n",
       "      <th>3</th>\n",
       "      <td>31313</td>\n",
       "      <td>0.064330</td>\n",
       "    </tr>\n",
       "    <tr>\n",
       "      <th>4</th>\n",
       "      <td>24173</td>\n",
       "      <td>0.090250</td>\n",
       "    </tr>\n",
       "    <tr>\n",
       "      <th>...</th>\n",
       "      <td>...</td>\n",
       "      <td>...</td>\n",
       "    </tr>\n",
       "    <tr>\n",
       "      <th>9995</th>\n",
       "      <td>880</td>\n",
       "      <td>0.329882</td>\n",
       "    </tr>\n",
       "    <tr>\n",
       "      <th>9996</th>\n",
       "      <td>28072</td>\n",
       "      <td>0.163030</td>\n",
       "    </tr>\n",
       "    <tr>\n",
       "      <th>9997</th>\n",
       "      <td>40491</td>\n",
       "      <td>0.044052</td>\n",
       "    </tr>\n",
       "    <tr>\n",
       "      <th>9998</th>\n",
       "      <td>5310</td>\n",
       "      <td>0.058849</td>\n",
       "    </tr>\n",
       "    <tr>\n",
       "      <th>9999</th>\n",
       "      <td>6154</td>\n",
       "      <td>0.063948</td>\n",
       "    </tr>\n",
       "  </tbody>\n",
       "</table>\n",
       "<p>10000 rows × 2 columns</p>\n",
       "</div>"
      ],
      "text/plain": [
       "      client_id  subscribe\n",
       "0          2986   0.065005\n",
       "1         29710   0.048007\n",
       "2         38938   0.340640\n",
       "3         31313   0.064330\n",
       "4         24173   0.090250\n",
       "...         ...        ...\n",
       "9995        880   0.329882\n",
       "9996      28072   0.163030\n",
       "9997      40491   0.044052\n",
       "9998       5310   0.058849\n",
       "9999       6154   0.063948\n",
       "\n",
       "[10000 rows x 2 columns]"
      ]
     },
     "execution_count": 54,
     "metadata": {},
     "output_type": "execute_result"
    }
   ],
   "source": [
    "kaggle_submission"
   ]
  },
  {
   "cell_type": "code",
   "execution_count": 55,
   "id": "7e417455",
   "metadata": {},
   "outputs": [],
   "source": [
    "kaggle_submission.to_csv(\"C:/Users/cgallet/OneDrive - IESEG/MBD/Statistical_ML for Marketing/Group Assignment/Submissions/submission.csv\", index = False)"
   ]
  },
  {
   "cell_type": "code",
   "execution_count": null,
   "id": "4384bdf5",
   "metadata": {},
   "outputs": [],
   "source": []
  }
 ],
 "metadata": {
  "kernelspec": {
   "display_name": "Python 3",
   "language": "python",
   "name": "python3"
  },
  "language_info": {
   "codemirror_mode": {
    "name": "ipython",
    "version": 3
   },
   "file_extension": ".py",
   "mimetype": "text/x-python",
   "name": "python",
   "nbconvert_exporter": "python",
   "pygments_lexer": "ipython3",
   "version": "3.9.4"
  }
 },
 "nbformat": 4,
 "nbformat_minor": 5
}
