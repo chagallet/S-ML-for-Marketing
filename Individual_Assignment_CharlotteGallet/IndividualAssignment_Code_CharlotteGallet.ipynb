{
 "cells": [
  {
   "cell_type": "markdown",
   "id": "36f890de",
   "metadata": {},
   "source": [
    "# Statistical and Machine Learning"
   ]
  },
  {
   "cell_type": "markdown",
   "id": "dfa8e3d8",
   "metadata": {},
   "source": [
    "## Individual Assignment - Charlotte Gallet - 31/03/2022 "
   ]
  },
  {
   "cell_type": "markdown",
   "id": "a49e3d91",
   "metadata": {},
   "source": [
    "## Benchmark Experiment "
   ]
  },
  {
   "cell_type": "markdown",
   "id": "1d90cb03",
   "metadata": {},
   "source": [
    "### Importing the necessary libraries "
   ]
  },
  {
   "cell_type": "code",
   "execution_count": 84,
   "id": "11576142",
   "metadata": {},
   "outputs": [
    {
     "name": "stderr",
     "output_type": "stream",
     "text": [
      "Warning message:\n",
      "\"package 'klaR' is in use and will not be installed\"\n"
     ]
    },
    {
     "name": "stdout",
     "output_type": "stream",
     "text": [
      "package 'remotes' successfully unpacked and MD5 sums checked\n",
      "\n",
      "The downloaded binary packages are in\n",
      "\tC:\\Users\\cgallet\\AppData\\Local\\Temp\\RtmpcBtl0H\\downloaded_packages\n"
     ]
    },
    {
     "name": "stderr",
     "output_type": "stream",
     "text": [
      "also installing the dependencies 'dplyr', 'glue', 'magrittr', 'rlang'\n",
      "\n",
      "\n"
     ]
    },
    {
     "name": "stdout",
     "output_type": "stream",
     "text": [
      "\n",
      "  There is a binary version available but the source version is later:\n",
      "         binary source needs_compilation\n",
      "magrittr  2.0.2  2.0.3              TRUE\n",
      "\n",
      "  Binaries will be installed\n",
      "package 'dplyr' successfully unpacked and MD5 sums checked\n"
     ]
    },
    {
     "name": "stderr",
     "output_type": "stream",
     "text": [
      "Warning message:\n",
      "\"cannot remove prior installation of package 'dplyr'\"\n",
      "Warning message in file.copy(savedcopy, lib, recursive = TRUE):\n",
      "\"problem copying C:\\tools\\Anaconda3\\envs\\r405\\Lib\\R\\library\\00LOCK\\dplyr\\libs\\x64\\dplyr.dll to C:\\tools\\Anaconda3\\envs\\r405\\Lib\\R\\library\\dplyr\\libs\\x64\\dplyr.dll: Permission denied\"\n",
      "Warning message:\n",
      "\"restored 'dplyr'\"\n"
     ]
    },
    {
     "name": "stdout",
     "output_type": "stream",
     "text": [
      "package 'glue' successfully unpacked and MD5 sums checked\n"
     ]
    },
    {
     "name": "stderr",
     "output_type": "stream",
     "text": [
      "Warning message:\n",
      "\"cannot remove prior installation of package 'glue'\"\n",
      "Warning message in file.copy(savedcopy, lib, recursive = TRUE):\n",
      "\"problem copying C:\\tools\\Anaconda3\\envs\\r405\\Lib\\R\\library\\00LOCK\\glue\\libs\\x64\\glue.dll to C:\\tools\\Anaconda3\\envs\\r405\\Lib\\R\\library\\glue\\libs\\x64\\glue.dll: Permission denied\"\n",
      "Warning message:\n",
      "\"restored 'glue'\"\n"
     ]
    },
    {
     "name": "stdout",
     "output_type": "stream",
     "text": [
      "package 'magrittr' successfully unpacked and MD5 sums checked\n"
     ]
    },
    {
     "name": "stderr",
     "output_type": "stream",
     "text": [
      "Warning message:\n",
      "\"cannot remove prior installation of package 'magrittr'\"\n",
      "Warning message in file.copy(savedcopy, lib, recursive = TRUE):\n",
      "\"problem copying C:\\tools\\Anaconda3\\envs\\r405\\Lib\\R\\library\\00LOCK\\magrittr\\libs\\x64\\magrittr.dll to C:\\tools\\Anaconda3\\envs\\r405\\Lib\\R\\library\\magrittr\\libs\\x64\\magrittr.dll: Permission denied\"\n",
      "Warning message:\n",
      "\"restored 'magrittr'\"\n"
     ]
    },
    {
     "name": "stdout",
     "output_type": "stream",
     "text": [
      "package 'rlang' successfully unpacked and MD5 sums checked\n"
     ]
    },
    {
     "name": "stderr",
     "output_type": "stream",
     "text": [
      "Warning message:\n",
      "\"cannot remove prior installation of package 'rlang'\"\n",
      "Warning message in file.copy(savedcopy, lib, recursive = TRUE):\n",
      "\"problem copying C:\\tools\\Anaconda3\\envs\\r405\\Lib\\R\\library\\00LOCK\\rlang\\libs\\x64\\rlang.dll to C:\\tools\\Anaconda3\\envs\\r405\\Lib\\R\\library\\rlang\\libs\\x64\\rlang.dll: Permission denied\"\n",
      "Warning message:\n",
      "\"restored 'rlang'\"\n"
     ]
    },
    {
     "name": "stdout",
     "output_type": "stream",
     "text": [
      "package 'gt' successfully unpacked and MD5 sums checked\n",
      "\n",
      "The downloaded binary packages are in\n",
      "\tC:\\Users\\cgallet\\AppData\\Local\\Temp\\RtmpcBtl0H\\downloaded_packages\n"
     ]
    },
    {
     "name": "stderr",
     "output_type": "stream",
     "text": [
      "Downloading GitHub repo jthomasmock/gtExtras@HEAD\n",
      "\n"
     ]
    },
    {
     "name": "stdout",
     "output_type": "stream",
     "text": [
      "cli        (3.1.0  -> 3.2.0) [CRAN]\n",
      "glue       (1.6.0  -> 1.6.2) [CRAN]\n",
      "vctrs      (0.3.8  -> 0.4.0) [CRAN]\n",
      "rlang      (0.4.12 -> 1.0.2) [CRAN]\n",
      "magrittr   (2.0.1  -> 2.0.3) [CRAN]\n",
      "fansi      (1.0.2  -> 1.0.3) [CRAN]\n",
      "colorspace (2.0-2  -> 2.0-3) [CRAN]\n",
      "jsonlite   (1.7.2  -> 1.8.0) [CRAN]\n",
      "sass       (0.4.0  -> 0.4.1) [CRAN]\n",
      "dplyr      (1.0.7  -> 1.0.8) [CRAN]\n"
     ]
    },
    {
     "name": "stderr",
     "output_type": "stream",
     "text": [
      "Installing 10 packages: cli, glue, vctrs, rlang, magrittr, fansi, colorspace, jsonlite, sass, dplyr\n",
      "\n",
      "Warning message:\n",
      "\"package 'dplyr' is in use and will not be installed\"\n"
     ]
    },
    {
     "name": "stdout",
     "output_type": "stream",
     "text": [
      "\n",
      "  There are binary versions available but the source versions are later:\n",
      "         binary source needs_compilation\n",
      "vctrs     0.3.8  0.4.0              TRUE\n",
      "magrittr  2.0.2  2.0.3              TRUE\n",
      "\n",
      "  Binaries will be installed\n",
      "package 'cli' successfully unpacked and MD5 sums checked\n"
     ]
    },
    {
     "name": "stderr",
     "output_type": "stream",
     "text": [
      "Warning message:\n",
      "\"cannot remove prior installation of package 'cli'\"\n",
      "Warning message in file.copy(savedcopy, lib, recursive = TRUE):\n",
      "\"problem copying C:\\tools\\Anaconda3\\envs\\r405\\Lib\\R\\library\\00LOCK\\cli\\libs\\x64\\cli.dll to C:\\tools\\Anaconda3\\envs\\r405\\Lib\\R\\library\\cli\\libs\\x64\\cli.dll: Permission denied\"\n",
      "Warning message:\n",
      "\"restored 'cli'\"\n"
     ]
    },
    {
     "name": "stdout",
     "output_type": "stream",
     "text": [
      "package 'glue' successfully unpacked and MD5 sums checked\n"
     ]
    },
    {
     "name": "stderr",
     "output_type": "stream",
     "text": [
      "Warning message:\n",
      "\"cannot remove prior installation of package 'glue'\"\n",
      "Warning message in file.copy(savedcopy, lib, recursive = TRUE):\n",
      "\"problem copying C:\\tools\\Anaconda3\\envs\\r405\\Lib\\R\\library\\00LOCK\\glue\\libs\\x64\\glue.dll to C:\\tools\\Anaconda3\\envs\\r405\\Lib\\R\\library\\glue\\libs\\x64\\glue.dll: Permission denied\"\n",
      "Warning message:\n",
      "\"restored 'glue'\"\n"
     ]
    },
    {
     "name": "stdout",
     "output_type": "stream",
     "text": [
      "package 'vctrs' successfully unpacked and MD5 sums checked\n"
     ]
    },
    {
     "name": "stderr",
     "output_type": "stream",
     "text": [
      "Warning message:\n",
      "\"cannot remove prior installation of package 'vctrs'\"\n",
      "Warning message in file.copy(savedcopy, lib, recursive = TRUE):\n",
      "\"problem copying C:\\tools\\Anaconda3\\envs\\r405\\Lib\\R\\library\\00LOCK\\vctrs\\libs\\x64\\vctrs.dll to C:\\tools\\Anaconda3\\envs\\r405\\Lib\\R\\library\\vctrs\\libs\\x64\\vctrs.dll: Permission denied\"\n",
      "Warning message:\n",
      "\"restored 'vctrs'\"\n"
     ]
    },
    {
     "name": "stdout",
     "output_type": "stream",
     "text": [
      "package 'rlang' successfully unpacked and MD5 sums checked\n"
     ]
    },
    {
     "name": "stderr",
     "output_type": "stream",
     "text": [
      "Warning message:\n",
      "\"cannot remove prior installation of package 'rlang'\"\n",
      "Warning message in file.copy(savedcopy, lib, recursive = TRUE):\n",
      "\"problem copying C:\\tools\\Anaconda3\\envs\\r405\\Lib\\R\\library\\00LOCK\\rlang\\libs\\x64\\rlang.dll to C:\\tools\\Anaconda3\\envs\\r405\\Lib\\R\\library\\rlang\\libs\\x64\\rlang.dll: Permission denied\"\n",
      "Warning message:\n",
      "\"restored 'rlang'\"\n"
     ]
    },
    {
     "name": "stdout",
     "output_type": "stream",
     "text": [
      "package 'magrittr' successfully unpacked and MD5 sums checked\n"
     ]
    },
    {
     "name": "stderr",
     "output_type": "stream",
     "text": [
      "Warning message:\n",
      "\"cannot remove prior installation of package 'magrittr'\"\n",
      "Warning message in file.copy(savedcopy, lib, recursive = TRUE):\n",
      "\"problem copying C:\\tools\\Anaconda3\\envs\\r405\\Lib\\R\\library\\00LOCK\\magrittr\\libs\\x64\\magrittr.dll to C:\\tools\\Anaconda3\\envs\\r405\\Lib\\R\\library\\magrittr\\libs\\x64\\magrittr.dll: Permission denied\"\n",
      "Warning message:\n",
      "\"restored 'magrittr'\"\n"
     ]
    },
    {
     "name": "stdout",
     "output_type": "stream",
     "text": [
      "package 'fansi' successfully unpacked and MD5 sums checked\n"
     ]
    },
    {
     "name": "stderr",
     "output_type": "stream",
     "text": [
      "Warning message:\n",
      "\"cannot remove prior installation of package 'fansi'\"\n",
      "Warning message in file.copy(savedcopy, lib, recursive = TRUE):\n",
      "\"problem copying C:\\tools\\Anaconda3\\envs\\r405\\Lib\\R\\library\\00LOCK\\fansi\\libs\\x64\\fansi.dll to C:\\tools\\Anaconda3\\envs\\r405\\Lib\\R\\library\\fansi\\libs\\x64\\fansi.dll: Permission denied\"\n",
      "Warning message:\n",
      "\"restored 'fansi'\"\n"
     ]
    },
    {
     "name": "stdout",
     "output_type": "stream",
     "text": [
      "package 'colorspace' successfully unpacked and MD5 sums checked\n"
     ]
    },
    {
     "name": "stderr",
     "output_type": "stream",
     "text": [
      "Warning message:\n",
      "\"cannot remove prior installation of package 'colorspace'\"\n",
      "Warning message in file.copy(savedcopy, lib, recursive = TRUE):\n",
      "\"problem copying C:\\tools\\Anaconda3\\envs\\r405\\Lib\\R\\library\\00LOCK\\colorspace\\libs\\x64\\colorspace.dll to C:\\tools\\Anaconda3\\envs\\r405\\Lib\\R\\library\\colorspace\\libs\\x64\\colorspace.dll: Permission denied\"\n",
      "Warning message:\n",
      "\"restored 'colorspace'\"\n"
     ]
    },
    {
     "name": "stdout",
     "output_type": "stream",
     "text": [
      "package 'jsonlite' successfully unpacked and MD5 sums checked\n"
     ]
    },
    {
     "name": "stderr",
     "output_type": "stream",
     "text": [
      "Warning message:\n",
      "\"cannot remove prior installation of package 'jsonlite'\"\n",
      "Warning message in file.copy(savedcopy, lib, recursive = TRUE):\n",
      "\"problem copying C:\\tools\\Anaconda3\\envs\\r405\\Lib\\R\\library\\00LOCK\\jsonlite\\libs\\x64\\jsonlite.dll to C:\\tools\\Anaconda3\\envs\\r405\\Lib\\R\\library\\jsonlite\\libs\\x64\\jsonlite.dll: Permission denied\"\n",
      "Warning message:\n",
      "\"restored 'jsonlite'\"\n"
     ]
    },
    {
     "name": "stdout",
     "output_type": "stream",
     "text": [
      "package 'sass' successfully unpacked and MD5 sums checked\n"
     ]
    },
    {
     "name": "stderr",
     "output_type": "stream",
     "text": [
      "Warning message:\n",
      "\"cannot remove prior installation of package 'sass'\"\n",
      "Warning message in file.copy(savedcopy, lib, recursive = TRUE):\n",
      "\"problem copying C:\\tools\\Anaconda3\\envs\\r405\\Lib\\R\\library\\00LOCK\\sass\\libs\\x64\\sass.dll to C:\\tools\\Anaconda3\\envs\\r405\\Lib\\R\\library\\sass\\libs\\x64\\sass.dll: Permission denied\"\n",
      "Warning message:\n",
      "\"restored 'sass'\"\n"
     ]
    },
    {
     "name": "stdout",
     "output_type": "stream",
     "text": [
      "\n",
      "The downloaded binary packages are in\n",
      "\tC:\\Users\\cgallet\\AppData\\Local\\Temp\\RtmpcBtl0H\\downloaded_packages\n"
     ]
    },
    {
     "name": "stderr",
     "output_type": "stream",
     "text": [
      "Running `R CMD build`...\n",
      "\n"
     ]
    },
    {
     "name": "stdout",
     "output_type": "stream",
     "text": [
      "* checking for file 'C:\\Users\\cgallet\\AppData\\Local\\Temp\\RtmpcBtl0H\\remotes226067275bab\\jthomasmock-gtExtras-af1adbf/DESCRIPTION' ... OK\n",
      "* preparing 'gtExtras':\n",
      "* checking DESCRIPTION meta-information ... OK\n",
      "* checking for LF line-endings in source and make files and shell scripts\n",
      "* checking for empty or unneeded directories\n",
      "* building 'gtExtras_0.2.5.tar.gz'\n"
     ]
    },
    {
     "name": "stderr",
     "output_type": "stream",
     "text": [
      "Warning message in i.p(...):\n",
      "\"installation of package 'C:/Users/cgallet/AppData/Local/Temp/RtmpcBtl0H/file22604335248d/gtExtras_0.2.5.tar.gz' had non-zero exit status\"\n"
     ]
    },
    {
     "ename": "ERROR",
     "evalue": "Error: package or namespace load failed for 'gt' in loadNamespace(i, c(lib.loc, .libPaths()), versionCheck = vI[[i]]):\n namespace 'rlang' 0.4.12 is already loaded, but >= 1.0.1 is required\n",
     "output_type": "error",
     "traceback": [
      "Error: package or namespace load failed for 'gt' in loadNamespace(i, c(lib.loc, .libPaths()), versionCheck = vI[[i]]):\n namespace 'rlang' 0.4.12 is already loaded, but >= 1.0.1 is required\nTraceback:\n",
      "1. library(gt)",
      "2. tryCatch({\n .     attr(package, \"LibPath\") <- which.lib.loc\n .     ns <- loadNamespace(package, lib.loc)\n .     env <- attachNamespace(ns, pos = pos, deps, exclude, include.only)\n . }, error = function(e) {\n .     P <- if (!is.null(cc <- conditionCall(e))) \n .         paste(\" in\", deparse(cc)[1L])\n .     else \"\"\n .     msg <- gettextf(\"package or namespace load failed for %s%s:\\n %s\", \n .         sQuote(package), P, conditionMessage(e))\n .     if (logical.return) \n .         message(paste(\"Error:\", msg), domain = NA)\n .     else stop(msg, call. = FALSE, domain = NA)\n . })",
      "3. tryCatchList(expr, classes, parentenv, handlers)",
      "4. tryCatchOne(expr, names, parentenv, handlers[[1L]])",
      "5. value[[3L]](cond)",
      "6. stop(msg, call. = FALSE, domain = NA)"
     ]
    }
   ],
   "source": [
    "# Install needed packages \n",
    "install.packages(\"klaR\")\n",
    "install.packages(\"remotes\")\n",
    "install.packages(\"gt\")\n",
    "\n",
    "# Import libraries\n",
    "library(data.table)  \n",
    "library(mlr)         \n",
    "library(caret)       \n",
    "library(ggplot2)     \n",
    "library(pROC)        \n",
    "library(e1071)       \n",
    "library(gridExtra)   \n",
    "library(kknn)        \n",
    "library(nnet)        \n",
    "library(dummies) \n",
    "library(tidyverse)\n",
    "library(class)\n",
    "library(MASS)\n",
    "library(gam)\n",
    "library(klaR)\n",
    "library(tree)\n",
    "remotes::install_github(\"jthomasmock/gtExtras\")\n",
    "library(gt)"
   ]
  },
  {
   "cell_type": "markdown",
   "id": "07243060",
   "metadata": {},
   "source": [
    "### Data visualization "
   ]
  },
  {
   "cell_type": "code",
   "execution_count": 2,
   "id": "d6eb0832",
   "metadata": {},
   "outputs": [],
   "source": [
    "data = read.csv(\"./Dataset 2_Credit Card Default/credit_default_train.csv\")"
   ]
  },
  {
   "cell_type": "code",
   "execution_count": 3,
   "id": "180dba0b",
   "metadata": {},
   "outputs": [
    {
     "data": {
      "text/html": [
       "<table class=\"dataframe\">\n",
       "<caption>A data.frame: 6 × 25</caption>\n",
       "<thead>\n",
       "\t<tr><th></th><th scope=col>cust_id</th><th scope=col>LIMIT_BAL</th><th scope=col>SEX</th><th scope=col>EDUCATION</th><th scope=col>MARRIAGE</th><th scope=col>AGE</th><th scope=col>PAY_0</th><th scope=col>PAY_2</th><th scope=col>PAY_3</th><th scope=col>PAY_4</th><th scope=col>⋯</th><th scope=col>BILL_AMT4</th><th scope=col>BILL_AMT5</th><th scope=col>BILL_AMT6</th><th scope=col>PAY_AMT1</th><th scope=col>PAY_AMT2</th><th scope=col>PAY_AMT3</th><th scope=col>PAY_AMT4</th><th scope=col>PAY_AMT5</th><th scope=col>PAY_AMT6</th><th scope=col>default.payment.next.month</th></tr>\n",
       "\t<tr><th></th><th scope=col>&lt;int&gt;</th><th scope=col>&lt;int&gt;</th><th scope=col>&lt;int&gt;</th><th scope=col>&lt;int&gt;</th><th scope=col>&lt;int&gt;</th><th scope=col>&lt;int&gt;</th><th scope=col>&lt;int&gt;</th><th scope=col>&lt;int&gt;</th><th scope=col>&lt;int&gt;</th><th scope=col>&lt;int&gt;</th><th scope=col>⋯</th><th scope=col>&lt;int&gt;</th><th scope=col>&lt;int&gt;</th><th scope=col>&lt;int&gt;</th><th scope=col>&lt;int&gt;</th><th scope=col>&lt;int&gt;</th><th scope=col>&lt;int&gt;</th><th scope=col>&lt;int&gt;</th><th scope=col>&lt;int&gt;</th><th scope=col>&lt;int&gt;</th><th scope=col>&lt;int&gt;</th></tr>\n",
       "</thead>\n",
       "<tbody>\n",
       "\t<tr><th scope=row>1</th><td>18895</td><td> 70000</td><td>1</td><td>3</td><td>2</td><td>34</td><td>0</td><td>0</td><td>0</td><td>0</td><td>⋯</td><td> 25559</td><td> 26134</td><td> 26715</td><td>1700</td><td>1500</td><td>2000</td><td>1000</td><td>1000</td><td>2000</td><td>0</td></tr>\n",
       "\t<tr><th scope=row>2</th><td>25102</td><td>390000</td><td>2</td><td>2</td><td>2</td><td>26</td><td>2</td><td>2</td><td>2</td><td>0</td><td>⋯</td><td>140387</td><td>128112</td><td>115514</td><td>5000</td><td>3000</td><td>5000</td><td>4548</td><td>4100</td><td>3300</td><td>0</td></tr>\n",
       "\t<tr><th scope=row>3</th><td>28867</td><td> 60000</td><td>1</td><td>1</td><td>2</td><td>27</td><td>0</td><td>0</td><td>0</td><td>0</td><td>⋯</td><td> 26038</td><td> 28607</td><td> 27997</td><td>1378</td><td>1406</td><td>3000</td><td>3000</td><td>   0</td><td> 923</td><td>1</td></tr>\n",
       "\t<tr><th scope=row>4</th><td> 1842</td><td>140000</td><td>2</td><td>2</td><td>1</td><td>55</td><td>0</td><td>0</td><td>0</td><td>0</td><td>⋯</td><td> 72391</td><td> 61298</td><td> 62193</td><td>4200</td><td>2822</td><td>2336</td><td>2588</td><td>2250</td><td>2491</td><td>0</td></tr>\n",
       "\t<tr><th scope=row>5</th><td> 3371</td><td> 50000</td><td>1</td><td>1</td><td>2</td><td>29</td><td>2</td><td>2</td><td>2</td><td>0</td><td>⋯</td><td>  1047</td><td>     0</td><td>     0</td><td>3000</td><td>   0</td><td>1000</td><td>   0</td><td>   0</td><td>   0</td><td>1</td></tr>\n",
       "\t<tr><th scope=row>6</th><td>29925</td><td> 20000</td><td>1</td><td>2</td><td>2</td><td>37</td><td>0</td><td>0</td><td>0</td><td>0</td><td>⋯</td><td> 19105</td><td> 19609</td><td> 19283</td><td>1700</td><td>1600</td><td>1200</td><td>1000</td><td> 900</td><td>1000</td><td>0</td></tr>\n",
       "</tbody>\n",
       "</table>\n"
      ],
      "text/latex": [
       "A data.frame: 6 × 25\n",
       "\\begin{tabular}{r|lllllllllllllllllllll}\n",
       "  & cust\\_id & LIMIT\\_BAL & SEX & EDUCATION & MARRIAGE & AGE & PAY\\_0 & PAY\\_2 & PAY\\_3 & PAY\\_4 & ⋯ & BILL\\_AMT4 & BILL\\_AMT5 & BILL\\_AMT6 & PAY\\_AMT1 & PAY\\_AMT2 & PAY\\_AMT3 & PAY\\_AMT4 & PAY\\_AMT5 & PAY\\_AMT6 & default.payment.next.month\\\\\n",
       "  & <int> & <int> & <int> & <int> & <int> & <int> & <int> & <int> & <int> & <int> & ⋯ & <int> & <int> & <int> & <int> & <int> & <int> & <int> & <int> & <int> & <int>\\\\\n",
       "\\hline\n",
       "\t1 & 18895 &  70000 & 1 & 3 & 2 & 34 & 0 & 0 & 0 & 0 & ⋯ &  25559 &  26134 &  26715 & 1700 & 1500 & 2000 & 1000 & 1000 & 2000 & 0\\\\\n",
       "\t2 & 25102 & 390000 & 2 & 2 & 2 & 26 & 2 & 2 & 2 & 0 & ⋯ & 140387 & 128112 & 115514 & 5000 & 3000 & 5000 & 4548 & 4100 & 3300 & 0\\\\\n",
       "\t3 & 28867 &  60000 & 1 & 1 & 2 & 27 & 0 & 0 & 0 & 0 & ⋯ &  26038 &  28607 &  27997 & 1378 & 1406 & 3000 & 3000 &    0 &  923 & 1\\\\\n",
       "\t4 &  1842 & 140000 & 2 & 2 & 1 & 55 & 0 & 0 & 0 & 0 & ⋯ &  72391 &  61298 &  62193 & 4200 & 2822 & 2336 & 2588 & 2250 & 2491 & 0\\\\\n",
       "\t5 &  3371 &  50000 & 1 & 1 & 2 & 29 & 2 & 2 & 2 & 0 & ⋯ &   1047 &      0 &      0 & 3000 &    0 & 1000 &    0 &    0 &    0 & 1\\\\\n",
       "\t6 & 29925 &  20000 & 1 & 2 & 2 & 37 & 0 & 0 & 0 & 0 & ⋯ &  19105 &  19609 &  19283 & 1700 & 1600 & 1200 & 1000 &  900 & 1000 & 0\\\\\n",
       "\\end{tabular}\n"
      ],
      "text/markdown": [
       "\n",
       "A data.frame: 6 × 25\n",
       "\n",
       "| <!--/--> | cust_id &lt;int&gt; | LIMIT_BAL &lt;int&gt; | SEX &lt;int&gt; | EDUCATION &lt;int&gt; | MARRIAGE &lt;int&gt; | AGE &lt;int&gt; | PAY_0 &lt;int&gt; | PAY_2 &lt;int&gt; | PAY_3 &lt;int&gt; | PAY_4 &lt;int&gt; | ⋯ ⋯ | BILL_AMT4 &lt;int&gt; | BILL_AMT5 &lt;int&gt; | BILL_AMT6 &lt;int&gt; | PAY_AMT1 &lt;int&gt; | PAY_AMT2 &lt;int&gt; | PAY_AMT3 &lt;int&gt; | PAY_AMT4 &lt;int&gt; | PAY_AMT5 &lt;int&gt; | PAY_AMT6 &lt;int&gt; | default.payment.next.month &lt;int&gt; |\n",
       "|---|---|---|---|---|---|---|---|---|---|---|---|---|---|---|---|---|---|---|---|---|---|\n",
       "| 1 | 18895 |  70000 | 1 | 3 | 2 | 34 | 0 | 0 | 0 | 0 | ⋯ |  25559 |  26134 |  26715 | 1700 | 1500 | 2000 | 1000 | 1000 | 2000 | 0 |\n",
       "| 2 | 25102 | 390000 | 2 | 2 | 2 | 26 | 2 | 2 | 2 | 0 | ⋯ | 140387 | 128112 | 115514 | 5000 | 3000 | 5000 | 4548 | 4100 | 3300 | 0 |\n",
       "| 3 | 28867 |  60000 | 1 | 1 | 2 | 27 | 0 | 0 | 0 | 0 | ⋯ |  26038 |  28607 |  27997 | 1378 | 1406 | 3000 | 3000 |    0 |  923 | 1 |\n",
       "| 4 |  1842 | 140000 | 2 | 2 | 1 | 55 | 0 | 0 | 0 | 0 | ⋯ |  72391 |  61298 |  62193 | 4200 | 2822 | 2336 | 2588 | 2250 | 2491 | 0 |\n",
       "| 5 |  3371 |  50000 | 1 | 1 | 2 | 29 | 2 | 2 | 2 | 0 | ⋯ |   1047 |      0 |      0 | 3000 |    0 | 1000 |    0 |    0 |    0 | 1 |\n",
       "| 6 | 29925 |  20000 | 1 | 2 | 2 | 37 | 0 | 0 | 0 | 0 | ⋯ |  19105 |  19609 |  19283 | 1700 | 1600 | 1200 | 1000 |  900 | 1000 | 0 |\n",
       "\n"
      ],
      "text/plain": [
       "  cust_id LIMIT_BAL SEX EDUCATION MARRIAGE AGE PAY_0 PAY_2 PAY_3 PAY_4 <U+22EF>       \n",
       "1 18895    70000    1   3         2        34  0     0     0     0     <U+22EF>\n",
       "2 25102   390000    2   2         2        26  2     2     2     0     <U+22EF>\n",
       "3 28867    60000    1   1         2        27  0     0     0     0     <U+22EF>\n",
       "4  1842   140000    2   2         1        55  0     0     0     0     <U+22EF>\n",
       "5  3371    50000    1   1         2        29  2     2     2     0     <U+22EF>\n",
       "6 29925    20000    1   2         2        37  0     0     0     0     <U+22EF>\n",
       "  BILL_AMT4 BILL_AMT5 BILL_AMT6 PAY_AMT1 PAY_AMT2 PAY_AMT3 PAY_AMT4 PAY_AMT5\n",
       "1  25559     26134     26715    1700     1500     2000     1000     1000    \n",
       "2 140387    128112    115514    5000     3000     5000     4548     4100    \n",
       "3  26038     28607     27997    1378     1406     3000     3000        0    \n",
       "4  72391     61298     62193    4200     2822     2336     2588     2250    \n",
       "5   1047         0         0    3000        0     1000        0        0    \n",
       "6  19105     19609     19283    1700     1600     1200     1000      900    \n",
       "  PAY_AMT6 default.payment.next.month\n",
       "1 2000     0                         \n",
       "2 3300     0                         \n",
       "3  923     1                         \n",
       "4 2491     0                         \n",
       "5    0     1                         \n",
       "6 1000     0                         "
      ]
     },
     "metadata": {},
     "output_type": "display_data"
    }
   ],
   "source": [
    "head(data)"
   ]
  },
  {
   "cell_type": "code",
   "execution_count": 4,
   "id": "8ad874f3",
   "metadata": {
    "scrolled": true
   },
   "outputs": [
    {
     "name": "stdout",
     "output_type": "stream",
     "text": [
      "'data.frame':\t20000 obs. of  25 variables:\n",
      " $ cust_id                   : int  18895 25102 28867 1842 3371 29925 29940 11638 4761 6746 ...\n",
      " $ LIMIT_BAL                 : int  70000 390000 60000 140000 50000 20000 50000 250000 320000 300000 ...\n",
      " $ SEX                       : int  1 2 1 2 1 1 1 1 2 1 ...\n",
      " $ EDUCATION                 : int  3 2 1 2 1 2 3 2 2 1 ...\n",
      " $ MARRIAGE                  : int  2 2 2 1 2 2 2 2 2 1 ...\n",
      " $ AGE                       : int  34 26 27 55 29 37 44 30 36 35 ...\n",
      " $ PAY_0                     : int  0 2 0 0 2 0 0 0 -2 0 ...\n",
      " $ PAY_2                     : int  0 2 0 0 2 0 0 0 -2 0 ...\n",
      " $ PAY_3                     : int  0 2 0 0 2 0 0 0 -2 0 ...\n",
      " $ PAY_4                     : int  0 0 0 0 0 0 2 -1 -2 0 ...\n",
      " $ PAY_5                     : int  0 0 0 0 0 0 0 2 -2 0 ...\n",
      " $ PAY_6                     : int  0 0 2 0 -2 0 0 -1 -2 0 ...\n",
      " $ BILL_AMT1                 : int  53972 185111 21387 108038 7881 20009 NA 5724 29862 91282 ...\n",
      " $ BILL_AMT2                 : int  23149 172865 22416 110216 10415 20602 50525 6729 33785 45885 ...\n",
      " $ BILL_AMT3                 : int  23968 153795 23444 84516 3997 21255 51463 4973 4900 35329 ...\n",
      " $ BILL_AMT4                 : int  25559 140387 26038 72391 1047 19105 49952 9693 15813 29368 ...\n",
      " $ BILL_AMT5                 : int  26134 128112 28607 61298 0 19609 19584 799 0 18833 ...\n",
      " $ BILL_AMT6                 : int  26715 115514 27997 62193 0 19283 19080 4295 0 93329 ...\n",
      " $ PAY_AMT1                  : int  1700 5000 1378 4200 3000 1700 1762 2000 5000 3260 ...\n",
      " $ PAY_AMT2                  : int  1500 3000 1406 2822 0 1600 4800 2305 4905 2240 ...\n",
      " $ PAY_AMT3                  : int  2000 5000 3000 2336 1000 1200 0 4720 15873 1505 ...\n",
      " $ PAY_AMT4                  : int  1000 4548 3000 2588 0 1000 837 0 0 1250 ...\n",
      " $ PAY_AMT5                  : int  1000 4100 0 2250 0 900 700 4305 0 80934 ...\n",
      " $ PAY_AMT6                  : int  2000 3300 923 2491 0 1000 1000 0 21657 2700 ...\n",
      " $ default.payment.next.month: int  0 0 1 0 1 0 0 0 1 0 ...\n"
     ]
    }
   ],
   "source": [
    "str(data)"
   ]
  },
  {
   "cell_type": "code",
   "execution_count": 5,
   "id": "93286d46",
   "metadata": {},
   "outputs": [
    {
     "data": {
      "text/plain": [
       "    cust_id        LIMIT_BAL            SEX          EDUCATION    \n",
       " Min.   :    2   Min.   :  10000   Min.   :1.000   Min.   :0.000  \n",
       " 1st Qu.: 7471   1st Qu.:  50000   1st Qu.:1.000   1st Qu.:1.000  \n",
       " Median :15003   Median : 140000   Median :2.000   Median :2.000  \n",
       " Mean   :15008   Mean   : 166702   Mean   :1.604   Mean   :1.852  \n",
       " 3rd Qu.:22533   3rd Qu.: 240000   3rd Qu.:2.000   3rd Qu.:2.000  \n",
       " Max.   :30000   Max.   :1000000   Max.   :2.000   Max.   :6.000  \n",
       "                 NA's   :202       NA's   :161     NA's   :199    \n",
       "    MARRIAGE          AGE            PAY_0             PAY_2        \n",
       " Min.   :0.000   Min.   :21.00   Min.   :-2.0000   Min.   :-2.0000  \n",
       " 1st Qu.:1.000   1st Qu.:28.00   1st Qu.:-1.0000   1st Qu.:-1.0000  \n",
       " Median :2.000   Median :34.00   Median : 0.0000   Median : 0.0000  \n",
       " Mean   :1.555   Mean   :35.48   Mean   :-0.0201   Mean   :-0.1307  \n",
       " 3rd Qu.:2.000   3rd Qu.:41.00   3rd Qu.: 0.0000   3rd Qu.: 0.0000  \n",
       " Max.   :3.000   Max.   :75.00   Max.   : 8.0000   Max.   : 8.0000  \n",
       " NA's   :170     NA's   :214     NA's   :195       NA's   :219      \n",
       "     PAY_3             PAY_4             PAY_5             PAY_6       \n",
       " Min.   :-2.0000   Min.   :-2.0000   Min.   :-2.0000   Min.   :-2.000  \n",
       " 1st Qu.:-1.0000   1st Qu.:-1.0000   1st Qu.:-1.0000   1st Qu.:-1.000  \n",
       " Median : 0.0000   Median : 0.0000   Median : 0.0000   Median : 0.000  \n",
       " Mean   :-0.1661   Mean   :-0.2227   Mean   :-0.2685   Mean   :-0.295  \n",
       " 3rd Qu.: 0.0000   3rd Qu.: 0.0000   3rd Qu.: 0.0000   3rd Qu.: 0.000  \n",
       " Max.   : 8.0000   Max.   : 8.0000   Max.   : 8.0000   Max.   : 8.000  \n",
       " NA's   :217       NA's   :199       NA's   :185       NA's   :203     \n",
       "   BILL_AMT1         BILL_AMT2        BILL_AMT3         BILL_AMT4      \n",
       " Min.   :-165580   Min.   :-69777   Min.   : -61506   Min.   :-170000  \n",
       " 1st Qu.:   3490   1st Qu.:  2960   1st Qu.:   2611   1st Qu.:   2256  \n",
       " Median :  22221   Median : 20837   Median :  19933   Median :  18970  \n",
       " Mean   :  51041   Mean   : 48957   Mean   :  46901   Mean   :  43049  \n",
       " 3rd Qu.:  66465   3rd Qu.: 62785   3rd Qu.:  59730   3rd Qu.:  54401  \n",
       " Max.   : 964511   Max.   :983931   Max.   :1664089   Max.   : 891586  \n",
       " NA's   :185       NA's   :209      NA's   :175       NA's   :165      \n",
       "   BILL_AMT5        BILL_AMT6          PAY_AMT1         PAY_AMT2        \n",
       " Min.   :-81334   Min.   :-339603   Min.   :     0   Min.   :      0.0  \n",
       " 1st Qu.:  1716   1st Qu.:   1256   1st Qu.:   990   1st Qu.:    848.8  \n",
       " Median : 18070   Median :  16985   Median :  2087   Median :   2004.0  \n",
       " Mean   : 40210   Mean   :  38799   Mean   :  5496   Mean   :   5809.7  \n",
       " 3rd Qu.: 50121   3rd Qu.:  48888   3rd Qu.:  5002   3rd Qu.:   5000.0  \n",
       " Max.   :927171   Max.   : 961664   Max.   :505000   Max.   :1684259.0  \n",
       " NA's   :181      NA's   :197       NA's   :204      NA's   :184        \n",
       "    PAY_AMT3         PAY_AMT4         PAY_AMT5         PAY_AMT6     \n",
       " Min.   :     0   Min.   :     0   Min.   :     0   Min.   :     0  \n",
       " 1st Qu.:   390   1st Qu.:   291   1st Qu.:   269   1st Qu.:   100  \n",
       " Median :  1800   Median :  1500   Median :  1500   Median :  1500  \n",
       " Mean   :  5208   Mean   :  4796   Mean   :  4828   Mean   :  5236  \n",
       " 3rd Qu.:  4448   3rd Qu.:  4000   3rd Qu.:  4010   3rd Qu.:  4000  \n",
       " Max.   :896040   Max.   :528897   Max.   :388071   Max.   :528666  \n",
       " NA's   :212      NA's   :197      NA's   :179      NA's   :196     \n",
       " default.payment.next.month\n",
       " Min.   :0.0000            \n",
       " 1st Qu.:0.0000            \n",
       " Median :0.0000            \n",
       " Mean   :0.2207            \n",
       " 3rd Qu.:0.0000            \n",
       " Max.   :1.0000            \n",
       "                           "
      ]
     },
     "metadata": {},
     "output_type": "display_data"
    }
   ],
   "source": [
    "summary(data)"
   ]
  },
  {
   "cell_type": "code",
   "execution_count": 6,
   "id": "1a624f20",
   "metadata": {},
   "outputs": [],
   "source": [
    "# Changing the name of the target column\n",
    "# source : https://www.datanovia.com/en/lessons/rename-data-frame-columns-in-r/\n",
    "names(data)[names(data) == \"default.payment.next.month\"] <- \"default\""
   ]
  },
  {
   "cell_type": "code",
   "execution_count": 7,
   "id": "1d0537b3",
   "metadata": {},
   "outputs": [
    {
     "data": {
      "image/png": "[encoded data removed]",
      "text/plain": [
       "plot without title"
      ]
     },
     "metadata": {
      "image/png": {
       "height": 1200,
       "width": 1200
      }
     },
     "output_type": "display_data"
    }
   ],
   "source": [
    "# Some visualization of the data\n",
    "options(repr.plot.width=20, repr.plot.height=20)\n",
    "cols <- rep('blue', nrow(data)) \n",
    "cols[data$default == 'Yes'] <- 'red' \n",
    "pairs(data, col=cols)"
   ]
  },
  {
   "cell_type": "code",
   "execution_count": 8,
   "id": "8e702fa6",
   "metadata": {},
   "outputs": [
    {
     "data": {
      "text/plain": [
       "\n",
       "    0     1 \n",
       "15586  4414 "
      ]
     },
     "metadata": {},
     "output_type": "display_data"
    },
    {
     "data": {
      "text/plain": [
       "\n",
       "     0      1 \n",
       "0.7793 0.2207 "
      ]
     },
     "metadata": {},
     "output_type": "display_data"
    }
   ],
   "source": [
    "# Response ratio\n",
    "table(data$default)\n",
    "table(data$default)/nrow(data)"
   ]
  },
  {
   "cell_type": "markdown",
   "id": "85b0a9c0",
   "metadata": {},
   "source": [
    "### Some Data Pre-Processing"
   ]
  },
  {
   "cell_type": "code",
   "execution_count": 9,
   "id": "55e82cc0",
   "metadata": {},
   "outputs": [],
   "source": [
    "# Splitting the train and test into 70/30\n",
    "set.seed(123)\n",
    "train_idx <-  sample(nrow(data)*0.70)\n",
    "train <- data[train_idx, ]\n",
    "test <- data[-train_idx, ]"
   ]
  },
  {
   "cell_type": "code",
   "execution_count": 10,
   "id": "8948c9cb",
   "metadata": {},
   "outputs": [
    {
     "name": "stdout",
     "output_type": "stream",
     "text": [
      "  cust_id LIMIT_BAL       SEX EDUCATION  MARRIAGE       AGE     PAY_0     PAY_2 \n",
      "        0       134       114       154       117       146       133       149 \n",
      "    PAY_3     PAY_4     PAY_5     PAY_6 BILL_AMT1 BILL_AMT2 BILL_AMT3 BILL_AMT4 \n",
      "      149       141       126       145       126       152       122       116 \n",
      "BILL_AMT5 BILL_AMT6  PAY_AMT1  PAY_AMT2  PAY_AMT3  PAY_AMT4  PAY_AMT5  PAY_AMT6 \n",
      "      121       144       145       122       143       143       131       150 \n",
      "  default \n",
      "        0 \n",
      "  cust_id LIMIT_BAL       SEX EDUCATION  MARRIAGE       AGE     PAY_0     PAY_2 \n",
      "        0        68        47        45        53        68        62        70 \n",
      "    PAY_3     PAY_4     PAY_5     PAY_6 BILL_AMT1 BILL_AMT2 BILL_AMT3 BILL_AMT4 \n",
      "       68        58        59        58        59        57        53        49 \n",
      "BILL_AMT5 BILL_AMT6  PAY_AMT1  PAY_AMT2  PAY_AMT3  PAY_AMT4  PAY_AMT5  PAY_AMT6 \n",
      "       60        53        59        62        69        54        48        46 \n",
      "  default \n",
      "        0 \n"
     ]
    }
   ],
   "source": [
    "# Checking for missing data for train\n",
    "print(sapply(train, function(x) sum(is.na(x))))\n",
    "print(sapply(test, function(x) sum(is.na(x))))"
   ]
  },
  {
   "cell_type": "code",
   "execution_count": 11,
   "id": "b753f8a9",
   "metadata": {},
   "outputs": [],
   "source": [
    "# Transforming missing values into mode for categorical values  \n",
    "# Source for mode function: https://www.codingprof.com/how-to-replace-nas-with-the-mode-most-frequent-value-in-r/#:~:text=a%20character%20column.-,To%20replace%20NA%C2%B4s%20with%20the%20mode%20in%20a,function%20that%20returns%20the%20mode.\n",
    "calc_mode <- function(x){\n",
    "  \n",
    "  # List the distinct / unique values\n",
    "  distinct_values <- unique(x)\n",
    "  \n",
    "  # Count the occurrence of each distinct value\n",
    "  distinct_tabulate <- tabulate(match(x, distinct_values))\n",
    "  \n",
    "  # Return the value with the highest occurrence\n",
    "  distinct_values[which.max(distinct_tabulate)]\n",
    "}\n",
    "\n",
    "for (n in c(\"LIMIT_BAL\",\"SEX\", \"EDUCATION\", \"MARRIAGE\", \"PAY_0\", \"PAY_2\", \"PAY_3\", \"PAY_4\", \"PAY_5\", \"PAY_6\")) {\n",
    "    train[ , n][is.na(train[ , n])] <- calc_mode(train[ , n])\n",
    "}\n",
    "\n",
    "for (n in c(\"LIMIT_BAL\",\"SEX\", \"EDUCATION\", \"MARRIAGE\", \"PAY_0\", \"PAY_2\", \"PAY_3\", \"PAY_4\", \"PAY_5\", \"PAY_6\")) {\n",
    "    test[ , n][is.na(test[ , n])] <- calc_mode(test[ , n])\n",
    "}"
   ]
  },
  {
   "cell_type": "code",
   "execution_count": 12,
   "id": "257a9a22",
   "metadata": {},
   "outputs": [],
   "source": [
    "# Transforming missing values into the mean for numerical values in train set \n",
    "train$AGE <- ifelse(is.na(train$AGE), round(mean(train$AGE, na.rm = TRUE)), train$AGE)\n",
    "train$BILL_AMT1 <- ifelse(is.na(train$BILL_AMT1), round(mean(train$BILL_AMT1, na.rm = TRUE)), train$BILL_AMT1)\n",
    "train$BILL_AMT2 <- ifelse(is.na(train$BILL_AMT2), round(mean(train$BILL_AMT2, na.rm = TRUE)), train$BILL_AMT2)\n",
    "train$BILL_AMT3 <- ifelse(is.na(train$BILL_AMT3), round(mean(train$BILL_AMT3, na.rm = TRUE)), train$BILL_AMT3)\n",
    "train$BILL_AMT4 <- ifelse(is.na(train$BILL_AMT4), round(mean(train$BILL_AMT4, na.rm = TRUE)), train$BILL_AMT4)\n",
    "train$BILL_AMT5 <- ifelse(is.na(train$BILL_AMT5), round(mean(train$BILL_AMT5, na.rm = TRUE)), train$BILL_AMT5)\n",
    "train$BILL_AMT6 <- ifelse(is.na(train$BILL_AMT6), round(mean(train$BILL_AMT6, na.rm = TRUE)), train$BILL_AMT6)\n",
    "train$PAY_AMT1 <- ifelse(is.na(train$PAY_AMT1), round(mean(train$PAY_AMT1, na.rm = TRUE)), train$PAY_AMT1)\n",
    "train$PAY_AMT2 <- ifelse(is.na(train$PAY_AMT2), round(mean(train$PAY_AMT2, na.rm = TRUE)), train$PAY_AMT2)\n",
    "train$PAY_AMT3 <- ifelse(is.na(train$PAY_AMT3), round(mean(train$PAY_AMT3, na.rm = TRUE)), train$PAY_AMT3)\n",
    "train$PAY_AMT4 <- ifelse(is.na(train$PAY_AMT4), round(mean(train$PAY_AMT4, na.rm = TRUE)), train$PAY_AMT4)\n",
    "train$PAY_AMT5 <- ifelse(is.na(train$PAY_AMT5), round(mean(train$PAY_AMT5, na.rm = TRUE)), train$PAY_AMT5)\n",
    "train$PAY_AMT6 <- ifelse(is.na(train$PAY_AMT6), round(mean(train$PAY_AMT6, na.rm = TRUE)), train$PAY_AMT6)"
   ]
  },
  {
   "cell_type": "code",
   "execution_count": 13,
   "id": "5325893c",
   "metadata": {},
   "outputs": [],
   "source": [
    "# Transforming missing values into the mean for numerical values for test set\n",
    "test$AGE <- ifelse(is.na(test$AGE), round(mean(test$AGE, na.rm = TRUE)), test$AGE)\n",
    "test$BILL_AMT1 <- ifelse(is.na(test$BILL_AMT1), round(mean(test$BILL_AMT1, na.rm = TRUE)), test$BILL_AMT1)\n",
    "test$BILL_AMT2 <- ifelse(is.na(test$BILL_AMT2), round(mean(test$BILL_AMT2, na.rm = TRUE)), test$BILL_AMT2)\n",
    "test$BILL_AMT3 <- ifelse(is.na(test$BILL_AMT3), round(mean(test$BILL_AMT3, na.rm = TRUE)), test$BILL_AMT3)\n",
    "test$BILL_AMT4 <- ifelse(is.na(test$BILL_AMT4), round(mean(test$BILL_AMT4, na.rm = TRUE)), test$BILL_AMT4)\n",
    "test$BILL_AMT5 <- ifelse(is.na(test$BILL_AMT5), round(mean(test$BILL_AMT5, na.rm = TRUE)), test$BILL_AMT5)\n",
    "test$BILL_AMT6 <- ifelse(is.na(test$BILL_AMT6), round(mean(test$BILL_AMT6, na.rm = TRUE)), test$BILL_AMT6)\n",
    "test$PAY_AMT1 <- ifelse(is.na(test$PAY_AMT1), round(mean(test$PAY_AMT1, na.rm = TRUE)), test$PAY_AMT1)\n",
    "test$PAY_AMT2 <- ifelse(is.na(test$PAY_AMT2), round(mean(test$PAY_AMT2, na.rm = TRUE)), test$PAY_AMT2)\n",
    "test$PAY_AMT3 <- ifelse(is.na(test$PAY_AMT3), round(mean(test$PAY_AMT3, na.rm = TRUE)), test$PAY_AMT3)\n",
    "test$PAY_AMT4 <- ifelse(is.na(test$PAY_AMT4), round(mean(test$PAY_AMT4, na.rm = TRUE)), test$PAY_AMT4)\n",
    "test$PAY_AMT5 <- ifelse(is.na(test$PAY_AMT5), round(mean(test$PAY_AMT5, na.rm = TRUE)), test$PAY_AMT5)\n",
    "test$PAY_AMT6 <- ifelse(is.na(test$PAY_AMT6), round(mean(test$PAY_AMT6, na.rm = TRUE)), test$PAY_AMT6)"
   ]
  },
  {
   "cell_type": "code",
   "execution_count": 14,
   "id": "f567be1d",
   "metadata": {},
   "outputs": [
    {
     "name": "stdout",
     "output_type": "stream",
     "text": [
      "  cust_id LIMIT_BAL       SEX EDUCATION  MARRIAGE       AGE     PAY_0     PAY_2 \n",
      "        0         0         0         0         0         0         0         0 \n",
      "    PAY_3     PAY_4     PAY_5     PAY_6 BILL_AMT1 BILL_AMT2 BILL_AMT3 BILL_AMT4 \n",
      "        0         0         0         0         0         0         0         0 \n",
      "BILL_AMT5 BILL_AMT6  PAY_AMT1  PAY_AMT2  PAY_AMT3  PAY_AMT4  PAY_AMT5  PAY_AMT6 \n",
      "        0         0         0         0         0         0         0         0 \n",
      "  default \n",
      "        0 \n",
      "  cust_id LIMIT_BAL       SEX EDUCATION  MARRIAGE       AGE     PAY_0     PAY_2 \n",
      "        0         0         0         0         0         0         0         0 \n",
      "    PAY_3     PAY_4     PAY_5     PAY_6 BILL_AMT1 BILL_AMT2 BILL_AMT3 BILL_AMT4 \n",
      "        0         0         0         0         0         0         0         0 \n",
      "BILL_AMT5 BILL_AMT6  PAY_AMT1  PAY_AMT2  PAY_AMT3  PAY_AMT4  PAY_AMT5  PAY_AMT6 \n",
      "        0         0         0         0         0         0         0         0 \n",
      "  default \n",
      "        0 \n"
     ]
    }
   ],
   "source": [
    "# Checking for missing data \n",
    "print(sapply(train, function(x) sum(is.na(x))))\n",
    "print(sapply(test, function(x) sum(is.na(x))))"
   ]
  },
  {
   "cell_type": "code",
   "execution_count": 15,
   "id": "4a0a5b00",
   "metadata": {
    "scrolled": true
   },
   "outputs": [
    {
     "data": {
      "image/png": "[encoded data removed]",
      "text/plain": [
       "Plot with title \"Histogram of train$AGE\""
      ]
     },
     "metadata": {
      "image/png": {
       "height": 300,
       "width": 600
      }
     },
     "output_type": "display_data"
    }
   ],
   "source": [
    "# Distribution of the age for train set \n",
    "options(repr.plot.width=10, repr.plot.height=5)\n",
    "hist(train$AGE)"
   ]
  },
  {
   "cell_type": "code",
   "execution_count": 16,
   "id": "40393383",
   "metadata": {},
   "outputs": [
    {
     "data": {
      "image/png": "[encoded data removed]",
      "text/plain": [
       "plot without title"
      ]
     },
     "metadata": {
      "image/png": {
       "height": 300,
       "width": 600
      }
     },
     "output_type": "display_data"
    }
   ],
   "source": [
    "# Creating categories for the age groups for train set \n",
    "options(repr.plot.width=10, repr.plot.height=5)\n",
    "train[\"AGE_GROUP\"] = cut(train$AGE, c(20, 35, 50, 65, Inf), c(\"20_35\", \"35_50\", \"50_65\", \"Over_65\"), include.lowest=TRUE)\n",
    "barplot(table(train$AGE_GROUP))"
   ]
  },
  {
   "cell_type": "code",
   "execution_count": 17,
   "id": "3899c633",
   "metadata": {},
   "outputs": [
    {
     "data": {
      "image/png": "[encoded data removed]",
      "text/plain": [
       "plot without title"
      ]
     },
     "metadata": {
      "image/png": {
       "height": 300,
       "width": 600
      }
     },
     "output_type": "display_data"
    }
   ],
   "source": [
    "# Creating categories for the age groups for test set \n",
    "options(repr.plot.width=10, repr.plot.height=5)\n",
    "test[\"AGE_GROUP\"] = cut(test$AGE, c(20, 35, 50, 65, Inf), c(\"20_35\", \"35_50\", \"50_65\", \"Over_65\"), include.lowest=TRUE)\n",
    "barplot(table(test$AGE_GROUP))"
   ]
  },
  {
   "cell_type": "code",
   "execution_count": 18,
   "id": "8a774b50",
   "metadata": {},
   "outputs": [],
   "source": [
    "# Removing the age variable \n",
    "train <- train[, -c(1,6)]\n",
    "test <- test[, -c(1,6)]"
   ]
  },
  {
   "cell_type": "code",
   "execution_count": 19,
   "id": "a188b336",
   "metadata": {},
   "outputs": [
    {
     "name": "stderr",
     "output_type": "stream",
     "text": [
      "Warning message in model.matrix.default(~x - 1, model.frame(~x - 1), contrasts = FALSE):\n",
      "\"non-list contrasts argument ignored\"\n",
      "Warning message in model.matrix.default(~x - 1, model.frame(~x - 1), contrasts = FALSE):\n",
      "\"non-list contrasts argument ignored\"\n",
      "Warning message in model.matrix.default(~x - 1, model.frame(~x - 1), contrasts = FALSE):\n",
      "\"non-list contrasts argument ignored\"\n",
      "Warning message in model.matrix.default(~x - 1, model.frame(~x - 1), contrasts = FALSE):\n",
      "\"non-list contrasts argument ignored\"\n"
     ]
    }
   ],
   "source": [
    "# Creating dummy variables for categorical variables for train set \n",
    "\n",
    "var_list <- names(train[, c(\"AGE_GROUP\", \"SEX\", \"EDUCATION\", \"MARRIAGE\")])\n",
    "\n",
    "# Convert categorical variables to dummy variables\n",
    "dummy_list <- list()\n",
    "for (v in var_list) {\n",
    "    # Create dummy variables\n",
    "    tmp <- dummy(v, data=train, sep=\"_\", drop=TRUE)\n",
    "    # Drop the 1st column\n",
    "    tmp <- tmp[, 2:ncol(tmp), drop=FALSE]\n",
    "    # Store the results\n",
    "    dummy_list[[length(dummy_list)+1]] <- tmp\n",
    "}\n",
    "\n",
    "# Combine the dummy variables\n",
    "dummy_df <- do.call(cbind, dummy_list)\n",
    "\n",
    "# Add the dummy variables to the data frame\n",
    "train <- cbind(train, dummy_df)\n",
    "\n",
    "# Drop the original variable\n",
    "train <- train[, !(names(train) %in% var_list)]"
   ]
  },
  {
   "cell_type": "code",
   "execution_count": 20,
   "id": "daa9b83f",
   "metadata": {},
   "outputs": [
    {
     "name": "stderr",
     "output_type": "stream",
     "text": [
      "Warning message in model.matrix.default(~x - 1, model.frame(~x - 1), contrasts = FALSE):\n",
      "\"non-list contrasts argument ignored\"\n",
      "Warning message in model.matrix.default(~x - 1, model.frame(~x - 1), contrasts = FALSE):\n",
      "\"non-list contrasts argument ignored\"\n",
      "Warning message in model.matrix.default(~x - 1, model.frame(~x - 1), contrasts = FALSE):\n",
      "\"non-list contrasts argument ignored\"\n",
      "Warning message in model.matrix.default(~x - 1, model.frame(~x - 1), contrasts = FALSE):\n",
      "\"non-list contrasts argument ignored\"\n"
     ]
    }
   ],
   "source": [
    "# Creating dummy variables for categorical variables for test set\n",
    "\n",
    "var_list <- names(test[, c(\"AGE_GROUP\", \"SEX\", \"EDUCATION\", \"MARRIAGE\")])\n",
    "\n",
    "# Convert categorical variables to dummy variables\n",
    "dummy_list <- list()\n",
    "for (v in var_list) {\n",
    "    # Create dummy variables\n",
    "    tmp <- dummy(v, data=test, sep=\"_\", drop=TRUE)\n",
    "    # Drop the 1st column\n",
    "    tmp <- tmp[, 2:ncol(tmp), drop=FALSE]\n",
    "    # Store the results\n",
    "    dummy_list[[length(dummy_list)+1]] <- tmp\n",
    "}\n",
    "\n",
    "# Combine the dummy variables\n",
    "dummy_df <- do.call(cbind, dummy_list)\n",
    "\n",
    "# Add the dummy variables to the data frame\n",
    "test <- cbind(test, dummy_df)\n",
    "\n",
    "# Drop the original variable\n",
    "test <- test[, !(names(test) %in% var_list)]"
   ]
  },
  {
   "cell_type": "markdown",
   "id": "f2bc1ba8",
   "metadata": {},
   "source": [
    "## Models"
   ]
  },
  {
   "cell_type": "markdown",
   "id": "4553d6e1",
   "metadata": {},
   "source": [
    "### K-Nearest Neighbors "
   ]
  },
  {
   "cell_type": "code",
   "execution_count": 21,
   "id": "2127b3d7",
   "metadata": {},
   "outputs": [
    {
     "data": {
      "text/html": [
       "<style>\n",
       ".dl-inline {width: auto; margin:0; padding: 0}\n",
       ".dl-inline>dt, .dl-inline>dd {float: none; width: auto; display: inline-block}\n",
       ".dl-inline>dt::after {content: \":\\0020\"; padding-right: .5ex}\n",
       ".dl-inline>dt:not(:first-of-type) {padding-left: .5ex}\n",
       "</style><dl class=dl-inline><dt>0</dt><dd>4659</dd><dt>1</dt><dd>1341</dd></dl>\n"
      ],
      "text/latex": [
       "\\begin{description*}\n",
       "\\item[0] 4659\n",
       "\\item[1] 1341\n",
       "\\end{description*}\n"
      ],
      "text/markdown": [
       "0\n",
       ":   46591\n",
       ":   1341\n",
       "\n"
      ],
      "text/plain": [
       "   0    1 \n",
       "4659 1341 "
      ]
     },
     "metadata": {},
     "output_type": "display_data"
    },
    {
     "name": "stdout",
     "output_type": "stream",
     "text": [
      "[1] \"Confusion matrix:\"\n"
     ]
    },
    {
     "data": {
      "text/plain": [
       "     \n",
       "knn_1    0    1\n",
       "    0 3738  921\n",
       "    1  941  400"
      ]
     },
     "metadata": {},
     "output_type": "display_data"
    },
    {
     "name": "stdout",
     "output_type": "stream",
     "text": [
      "[1] \"Accuracy = 0.69 %\"\n"
     ]
    }
   ],
   "source": [
    "# Fitting the model with 2 neighbors\n",
    "set.seed(123)\n",
    "knn_1 <- knn(train=train, test=test, cl=train$default, k=2)\n",
    "summary(knn_1)\n",
    "\n",
    "# Confusion matrix\n",
    "print('Confusion matrix:')\n",
    "table(knn_1, test$default)\n",
    "\n",
    "# Accuracy\n",
    "acc <- mean(knn_1 == test$default)\n",
    "print(paste('Accuracy =', round(acc, 2), '%'))"
   ]
  },
  {
   "cell_type": "code",
   "execution_count": 22,
   "id": "0831fbfc",
   "metadata": {},
   "outputs": [
    {
     "name": "stderr",
     "output_type": "stream",
     "text": [
      "Warning message in train.default(x, y, weights = w, ...):\n",
      "\"You are trying to do regression and your outcome only has two possible values Are you trying to do classification? If so, use a 2 level factor as your outcome column.\"\n"
     ]
    },
    {
     "name": "stdout",
     "output_type": "stream",
     "text": [
      "k-Nearest Neighbors \n",
      "\n",
      "14000 samples\n",
      "   32 predictor\n",
      "\n",
      "Pre-processing: centered (32), scaled (32) \n",
      "Resampling: Cross-Validated (10 fold, repeated 3 times) \n",
      "Summary of sample sizes: 12600, 12600, 12600, 12600, 12600, 12600, ... \n",
      "Resampling results across tuning parameters:\n",
      "\n",
      "  k   RMSE       Rsquared   MAE      \n",
      "   5  0.4064772  0.1073135  0.2769091\n",
      "   7  0.3980881  0.1180039  0.2775795\n",
      "   9  0.3930400  0.1267805  0.2774284\n",
      "  11  0.3901614  0.1319436  0.2776928\n",
      "  13  0.3876085  0.1382302  0.2773869\n",
      "  15  0.3861369  0.1423682  0.2772535\n",
      "  17  0.3850739  0.1453517  0.2771897\n",
      "  19  0.3840804  0.1485855  0.2769671\n",
      "  21  0.3831027  0.1519729  0.2766861\n",
      "  23  0.3824627  0.1541280  0.2765644\n",
      "  25  0.3822426  0.1548235  0.2767545\n",
      "  27  0.3821290  0.1550933  0.2770485\n",
      "  29  0.3821627  0.1549343  0.2773173\n",
      "  31  0.3820564  0.1553608  0.2774592\n",
      "  33  0.3819866  0.1556862  0.2775403\n",
      "  35  0.3818504  0.1563390  0.2775916\n",
      "  37  0.3817803  0.1567696  0.2776518\n",
      "  39  0.3817299  0.1570598  0.2777261\n",
      "  41  0.3815149  0.1581641  0.2776930\n",
      "  43  0.3815252  0.1582942  0.2777449\n",
      "\n",
      "RMSE was used to select the optimal model using the smallest value.\n",
      "The final value used for the model was k = 41.\n"
     ]
    },
    {
     "data": {
      "image/png": "[encoded data removed]",
      "text/plain": [
       "plot without title"
      ]
     },
     "metadata": {
      "image/png": {
       "height": 300,
       "width": 600
      }
     },
     "output_type": "display_data"
    }
   ],
   "source": [
    "# Fitting the data with best number of neighbors \n",
    "# source: https://rpubs.com/njvijay/16444\n",
    "set.seed(123)\n",
    "ctrl <- trainControl(method=\"repeatedcv\", repeats = 3)\n",
    "knnFit <- train(default ~ ., data = train, method = \"knn\", trControl = ctrl, preProcess = c(\"center\",\"scale\"), tuneLength = 20)\n",
    "print(knnFit)\n",
    "plot(knnFit)"
   ]
  },
  {
   "cell_type": "code",
   "execution_count": 23,
   "id": "24636082",
   "metadata": {
    "scrolled": true
   },
   "outputs": [
    {
     "data": {
      "text/html": [
       "<style>\n",
       ".dl-inline {width: auto; margin:0; padding: 0}\n",
       ".dl-inline>dt, .dl-inline>dd {float: none; width: auto; display: inline-block}\n",
       ".dl-inline>dt::after {content: \":\\0020\"; padding-right: .5ex}\n",
       ".dl-inline>dt:not(:first-of-type) {padding-left: .5ex}\n",
       "</style><dl class=dl-inline><dt>0</dt><dd>5779</dd><dt>1</dt><dd>221</dd></dl>\n"
      ],
      "text/latex": [
       "\\begin{description*}\n",
       "\\item[0] 5779\n",
       "\\item[1] 221\n",
       "\\end{description*}\n"
      ],
      "text/markdown": [
       "0\n",
       ":   57791\n",
       ":   221\n",
       "\n"
      ],
      "text/plain": [
       "   0    1 \n",
       "5779  221 "
      ]
     },
     "metadata": {},
     "output_type": "display_data"
    }
   ],
   "source": [
    "# Fitting the model with optimal number of neighbors\n",
    "set.seed(123)\n",
    "knn_2 <- knn(train=train, test=test, cl=train$default, k=41)\n",
    "summary(knn_2)"
   ]
  },
  {
   "cell_type": "code",
   "execution_count": 24,
   "id": "5d6d625d",
   "metadata": {},
   "outputs": [
    {
     "name": "stdout",
     "output_type": "stream",
     "text": [
      "[1] \"Confusion matrix:\"\n"
     ]
    },
    {
     "data": {
      "text/plain": [
       "     \n",
       "knn_2    0    1\n",
       "    0 4556 1223\n",
       "    1  123   98"
      ]
     },
     "metadata": {},
     "output_type": "display_data"
    },
    {
     "name": "stdout",
     "output_type": "stream",
     "text": [
      "[1] \"Accuracy = 0.69 %\"\n"
     ]
    }
   ],
   "source": [
    "# Evaluation for test set \n",
    "# Confusion matrix\n",
    "print('Confusion matrix:')\n",
    "table(knn_2, test$default)\n",
    "\n",
    "# Accuracy\n",
    "acc_test_knn <- mean(knn_2 == test$default)\n",
    "print(paste('Accuracy =', round(acc, 2), '%'))"
   ]
  },
  {
   "cell_type": "code",
   "execution_count": 25,
   "id": "1a69f64b",
   "metadata": {},
   "outputs": [
    {
     "name": "stderr",
     "output_type": "stream",
     "text": [
      "Resampling: cross-validation\n",
      "\n",
      "Measures:             auc       \n",
      "\n",
      "[Resample] iter 1:    0.6045084 \n",
      "\n",
      "[Resample] iter 2:    0.6009534 \n",
      "\n",
      "[Resample] iter 3:    0.6214952 \n",
      "\n",
      "[Resample] iter 4:    0.6137580 \n",
      "\n",
      "[Resample] iter 5:    0.6094379 \n",
      "\n",
      "[Resample] iter 6:    0.6028935 \n",
      "\n",
      "[Resample] iter 7:    0.6164878 \n",
      "\n",
      "[Resample] iter 8:    0.5728444 \n",
      "\n",
      "[Resample] iter 9:    0.6206408 \n",
      "\n",
      "[Resample] iter 10:   0.5871985 \n",
      "\n",
      "\n",
      "\n",
      "\n",
      "Aggregated Result: auc.test.mean=0.6050218\n",
      "\n",
      "\n",
      "\n",
      "\n"
     ]
    },
    {
     "data": {
      "text/plain": [
       "Resample Result\n",
       "Task: train\n",
       "Learner: classif.kknn\n",
       "Aggr perf: auc.test.mean=0.6050218\n",
       "Runtime: 10.5652"
      ]
     },
     "metadata": {},
     "output_type": "display_data"
    }
   ],
   "source": [
    "# Set up cross-validation for train set \n",
    "rdesc = makeResampleDesc(\"CV\", iters=10)\n",
    "\n",
    "# Define the model\n",
    "lnr_knn <- makeLearner(\"classif.kknn\", predict.type=\"prob\", fix.factors.prediction=T, k=1)\n",
    "\n",
    "# Define the task\n",
    "task_logreg <- makeClassifTask(id=\"train\", data=train, target=\"default\")\n",
    "\n",
    "# Run the k-fold CV\n",
    "resample(lnr_knn, task_logreg, rdesc, measures=list(mlr::auc))"
   ]
  },
  {
   "cell_type": "code",
   "execution_count": 26,
   "id": "b65b95f9",
   "metadata": {},
   "outputs": [
    {
     "name": "stderr",
     "output_type": "stream",
     "text": [
      "Resampling: cross-validation\n",
      "\n",
      "Measures:             auc       \n",
      "\n",
      "[Resample] iter 1:    0.6028783 \n",
      "\n",
      "[Resample] iter 2:    0.6164968 \n",
      "\n",
      "[Resample] iter 3:    0.5479167 \n",
      "\n",
      "[Resample] iter 4:    0.5864994 \n",
      "\n",
      "[Resample] iter 5:    0.6056975 \n",
      "\n",
      "[Resample] iter 6:    0.5652330 \n",
      "\n",
      "[Resample] iter 7:    0.5728421 \n",
      "\n",
      "[Resample] iter 8:    0.5979167 \n",
      "\n",
      "[Resample] iter 9:    0.5748344 \n",
      "\n",
      "[Resample] iter 10:   0.6077640 \n",
      "\n",
      "\n",
      "\n",
      "\n",
      "Aggregated Result: auc.test.mean=0.5878079\n",
      "\n",
      "\n",
      "\n",
      "\n"
     ]
    },
    {
     "data": {
      "text/plain": [
       "Resample Result\n",
       "Task: test\n",
       "Learner: classif.kknn\n",
       "Aggr perf: auc.test.mean=0.5878079\n",
       "Runtime: 2.88149"
      ]
     },
     "metadata": {},
     "output_type": "display_data"
    }
   ],
   "source": [
    "# Set up cross-validation for test set \n",
    "rdesc = makeResampleDesc(\"CV\", iters=10)\n",
    "\n",
    "# Define the model\n",
    "lnr_knn <- makeLearner(\"classif.kknn\", predict.type=\"prob\", fix.factors.prediction=T, k=1)\n",
    "\n",
    "# Define the task\n",
    "task_logreg <- makeClassifTask(id=\"test\", data=test, target=\"default\")\n",
    "\n",
    "# Run the k-fold CV\n",
    "resample(lnr_knn, task_logreg, rdesc, measures=list(mlr::auc))"
   ]
  },
  {
   "cell_type": "markdown",
   "id": "8a81e2bc",
   "metadata": {},
   "source": [
    "### Logistic Regression "
   ]
  },
  {
   "cell_type": "code",
   "execution_count": 27,
   "id": "ac2b4c23",
   "metadata": {},
   "outputs": [
    {
     "name": "stderr",
     "output_type": "stream",
     "text": [
      "Warning message:\n",
      "\"glm.fit: fitted probabilities numerically 0 or 1 occurred\"\n"
     ]
    },
    {
     "data": {
      "text/plain": [
       "\n",
       "Call:\n",
       "glm(formula = default ~ ., family = \"binomial\", data = train)\n",
       "\n",
       "Deviance Residuals: \n",
       "    Min       1Q   Median       3Q      Max  \n",
       "-3.1474  -0.7053  -0.5462  -0.2562   3.5049  \n",
       "\n",
       "Coefficients:\n",
       "                    Estimate Std. Error z value Pr(>|z|)    \n",
       "(Intercept)       -1.387e+01  1.205e+02  -0.115  0.90840    \n",
       "LIMIT_BAL         -4.163e-07  2.302e-07  -1.808  0.07059 .  \n",
       "PAY_0              5.844e-01  2.612e-02  22.376  < 2e-16 ***\n",
       "PAY_2              7.031e-02  2.961e-02   2.375  0.01756 *  \n",
       "PAY_3              7.135e-02  3.317e-02   2.151  0.03147 *  \n",
       "PAY_4              3.705e-02  3.597e-02   1.030  0.30295    \n",
       "PAY_5              2.099e-02  3.814e-02   0.550  0.58199    \n",
       "PAY_6              2.175e-02  3.189e-02   0.682  0.49512    \n",
       "BILL_AMT1         -5.761e-06  1.470e-06  -3.919 8.88e-05 ***\n",
       "BILL_AMT2          1.469e-06  1.883e-06   0.780  0.43530    \n",
       "BILL_AMT3          5.490e-06  1.713e-06   3.205  0.00135 ** \n",
       "BILL_AMT4         -1.334e-06  1.709e-06  -0.780  0.43535    \n",
       "BILL_AMT5         -2.540e-06  2.073e-06  -1.225  0.22041    \n",
       "BILL_AMT6          1.886e-06  1.722e-06   1.095  0.27340    \n",
       "PAY_AMT1          -1.513e-05  3.433e-06  -4.406 1.06e-05 ***\n",
       "PAY_AMT2          -2.124e-05  4.112e-06  -5.166 2.40e-07 ***\n",
       "PAY_AMT3           2.763e-07  2.450e-06   0.113  0.91019    \n",
       "PAY_AMT4          -6.162e-06  2.905e-06  -2.121  0.03395 *  \n",
       "PAY_AMT5          -7.729e-06  2.836e-06  -2.726  0.00641 ** \n",
       "PAY_AMT6          -6.799e-07  1.831e-06  -0.371  0.71036    \n",
       "AGE_GROUP_35_50    1.356e-01  5.215e-02   2.600  0.00932 ** \n",
       "AGE_GROUP_50_65    1.471e-01  8.859e-02   1.660  0.09687 .  \n",
       "AGE_GROUP_Over_65  3.664e-01  3.700e-01   0.990  0.32208    \n",
       "SEX_2             -8.126e-02  4.501e-02  -1.805  0.07102 .  \n",
       "EDUCATION_1        1.115e+01  1.205e+02   0.092  0.92630    \n",
       "EDUCATION_2        1.110e+01  1.205e+02   0.092  0.92663    \n",
       "EDUCATION_3        1.105e+01  1.205e+02   0.092  0.92692    \n",
       "EDUCATION_4        9.954e+00  1.205e+02   0.083  0.93418    \n",
       "EDUCATION_5        9.665e+00  1.205e+02   0.080  0.93609    \n",
       "EDUCATION_6        1.135e+01  1.205e+02   0.094  0.92499    \n",
       "MARRIAGE_1         1.807e+00  8.567e-01   2.110  0.03488 *  \n",
       "MARRIAGE_2         1.648e+00  8.568e-01   1.923  0.05445 .  \n",
       "MARRIAGE_3         1.911e+00  8.771e-01   2.179  0.02933 *  \n",
       "---\n",
       "Signif. codes:  0 '***' 0.001 '**' 0.01 '*' 0.05 '.' 0.1 ' ' 1\n",
       "\n",
       "(Dispersion parameter for binomial family taken to be 1)\n",
       "\n",
       "    Null deviance: 14786  on 13999  degrees of freedom\n",
       "Residual deviance: 12951  on 13967  degrees of freedom\n",
       "AIC: 13017\n",
       "\n",
       "Number of Fisher Scoring iterations: 11\n"
      ]
     },
     "metadata": {},
     "output_type": "display_data"
    }
   ],
   "source": [
    "# Fit Logistic Regression model\n",
    "logreg_1 <- glm(default ∼ ., data=train, family=\"binomial\")\n",
    "summary(logreg_1)"
   ]
  },
  {
   "cell_type": "code",
   "execution_count": 28,
   "id": "0223a292",
   "metadata": {},
   "outputs": [
    {
     "name": "stderr",
     "output_type": "stream",
     "text": [
      "Warning message:\n",
      "\"glm.fit: fitted probabilities numerically 0 or 1 occurred\"\n",
      "Warning message:\n",
      "\"glm.fit: fitted probabilities numerically 0 or 1 occurred\"\n",
      "Warning message:\n",
      "\"glm.fit: fitted probabilities numerically 0 or 1 occurred\"\n",
      "Warning message:\n",
      "\"glm.fit: fitted probabilities numerically 0 or 1 occurred\"\n",
      "Warning message:\n",
      "\"glm.fit: fitted probabilities numerically 0 or 1 occurred\"\n",
      "Warning message:\n",
      "\"glm.fit: fitted probabilities numerically 0 or 1 occurred\"\n",
      "Warning message:\n",
      "\"glm.fit: fitted probabilities numerically 0 or 1 occurred\"\n",
      "Warning message:\n",
      "\"glm.fit: fitted probabilities numerically 0 or 1 occurred\"\n",
      "Warning message:\n",
      "\"glm.fit: fitted probabilities numerically 0 or 1 occurred\"\n",
      "Warning message:\n",
      "\"glm.fit: fitted probabilities numerically 0 or 1 occurred\"\n",
      "Warning message:\n",
      "\"glm.fit: fitted probabilities numerically 0 or 1 occurred\"\n",
      "Warning message:\n",
      "\"glm.fit: fitted probabilities numerically 0 or 1 occurred\"\n",
      "Warning message:\n",
      "\"glm.fit: fitted probabilities numerically 0 or 1 occurred\"\n",
      "Warning message:\n",
      "\"glm.fit: fitted probabilities numerically 0 or 1 occurred\"\n",
      "Warning message:\n",
      "\"glm.fit: fitted probabilities numerically 0 or 1 occurred\"\n",
      "Warning message:\n",
      "\"glm.fit: fitted probabilities numerically 0 or 1 occurred\"\n",
      "Warning message:\n",
      "\"glm.fit: fitted probabilities numerically 0 or 1 occurred\"\n",
      "Warning message:\n",
      "\"glm.fit: fitted probabilities numerically 0 or 1 occurred\"\n",
      "Warning message:\n",
      "\"glm.fit: fitted probabilities numerically 0 or 1 occurred\"\n",
      "Warning message:\n",
      "\"glm.fit: fitted probabilities numerically 0 or 1 occurred\"\n",
      "Warning message:\n",
      "\"glm.fit: fitted probabilities numerically 0 or 1 occurred\"\n",
      "Warning message:\n",
      "\"glm.fit: fitted probabilities numerically 0 or 1 occurred\"\n",
      "Warning message:\n",
      "\"glm.fit: fitted probabilities numerically 0 or 1 occurred\"\n",
      "Warning message:\n",
      "\"glm.fit: fitted probabilities numerically 0 or 1 occurred\"\n",
      "Warning message:\n",
      "\"glm.fit: fitted probabilities numerically 0 or 1 occurred\"\n",
      "Warning message:\n",
      "\"glm.fit: fitted probabilities numerically 0 or 1 occurred\"\n",
      "Warning message:\n",
      "\"glm.fit: fitted probabilities numerically 0 or 1 occurred\"\n",
      "Warning message:\n",
      "\"glm.fit: fitted probabilities numerically 0 or 1 occurred\"\n",
      "Warning message:\n",
      "\"glm.fit: fitted probabilities numerically 0 or 1 occurred\"\n",
      "Warning message:\n",
      "\"glm.fit: fitted probabilities numerically 0 or 1 occurred\"\n",
      "Warning message:\n",
      "\"glm.fit: fitted probabilities numerically 0 or 1 occurred\"\n",
      "Warning message:\n",
      "\"glm.fit: fitted probabilities numerically 0 or 1 occurred\"\n",
      "Warning message:\n",
      "\"glm.fit: fitted probabilities numerically 0 or 1 occurred\"\n",
      "Warning message:\n",
      "\"glm.fit: fitted probabilities numerically 0 or 1 occurred\"\n",
      "Warning message:\n",
      "\"glm.fit: fitted probabilities numerically 0 or 1 occurred\"\n",
      "Warning message:\n",
      "\"glm.fit: fitted probabilities numerically 0 or 1 occurred\"\n",
      "Warning message:\n",
      "\"glm.fit: fitted probabilities numerically 0 or 1 occurred\"\n",
      "Warning message:\n",
      "\"glm.fit: fitted probabilities numerically 0 or 1 occurred\"\n",
      "Warning message:\n",
      "\"glm.fit: fitted probabilities numerically 0 or 1 occurred\"\n",
      "Warning message:\n",
      "\"glm.fit: fitted probabilities numerically 0 or 1 occurred\"\n",
      "Warning message:\n",
      "\"glm.fit: fitted probabilities numerically 0 or 1 occurred\"\n",
      "Warning message:\n",
      "\"glm.fit: fitted probabilities numerically 0 or 1 occurred\"\n",
      "Warning message:\n",
      "\"glm.fit: fitted probabilities numerically 0 or 1 occurred\"\n",
      "Warning message:\n",
      "\"glm.fit: fitted probabilities numerically 0 or 1 occurred\"\n",
      "Warning message:\n",
      "\"glm.fit: fitted probabilities numerically 0 or 1 occurred\"\n",
      "Warning message:\n",
      "\"glm.fit: fitted probabilities numerically 0 or 1 occurred\"\n",
      "Warning message:\n",
      "\"glm.fit: fitted probabilities numerically 0 or 1 occurred\"\n",
      "Warning message:\n",
      "\"glm.fit: fitted probabilities numerically 0 or 1 occurred\"\n",
      "Warning message:\n",
      "\"glm.fit: fitted probabilities numerically 0 or 1 occurred\"\n",
      "Warning message:\n",
      "\"glm.fit: fitted probabilities numerically 0 or 1 occurred\"\n",
      "Warning message:\n",
      "\"glm.fit: fitted probabilities numerically 0 or 1 occurred\"\n",
      "Warning message:\n",
      "\"glm.fit: fitted probabilities numerically 0 or 1 occurred\"\n",
      "Warning message:\n",
      "\"glm.fit: fitted probabilities numerically 0 or 1 occurred\"\n",
      "Warning message:\n",
      "\"glm.fit: fitted probabilities numerically 0 or 1 occurred\"\n",
      "Warning message:\n",
      "\"glm.fit: fitted probabilities numerically 0 or 1 occurred\"\n",
      "Warning message:\n",
      "\"glm.fit: fitted probabilities numerically 0 or 1 occurred\"\n",
      "Warning message:\n",
      "\"glm.fit: fitted probabilities numerically 0 or 1 occurred\"\n",
      "Warning message:\n",
      "\"glm.fit: fitted probabilities numerically 0 or 1 occurred\"\n",
      "Warning message:\n",
      "\"glm.fit: fitted probabilities numerically 0 or 1 occurred\"\n",
      "Warning message:\n",
      "\"glm.fit: fitted probabilities numerically 0 or 1 occurred\"\n",
      "Warning message:\n",
      "\"glm.fit: fitted probabilities numerically 0 or 1 occurred\"\n",
      "Warning message:\n",
      "\"glm.fit: fitted probabilities numerically 0 or 1 occurred\"\n",
      "Warning message:\n",
      "\"glm.fit: fitted probabilities numerically 0 or 1 occurred\"\n",
      "Warning message:\n",
      "\"glm.fit: fitted probabilities numerically 0 or 1 occurred\"\n",
      "Warning message:\n",
      "\"glm.fit: fitted probabilities numerically 0 or 1 occurred\"\n",
      "Warning message:\n",
      "\"glm.fit: fitted probabilities numerically 0 or 1 occurred\"\n",
      "Warning message:\n",
      "\"glm.fit: fitted probabilities numerically 0 or 1 occurred\"\n",
      "Warning message:\n",
      "\"glm.fit: fitted probabilities numerically 0 or 1 occurred\"\n",
      "Warning message:\n",
      "\"glm.fit: fitted probabilities numerically 0 or 1 occurred\"\n",
      "Warning message:\n",
      "\"glm.fit: fitted probabilities numerically 0 or 1 occurred\"\n",
      "Warning message:\n",
      "\"glm.fit: fitted probabilities numerically 0 or 1 occurred\"\n",
      "Warning message:\n",
      "\"glm.fit: fitted probabilities numerically 0 or 1 occurred\"\n",
      "Warning message:\n",
      "\"glm.fit: fitted probabilities numerically 0 or 1 occurred\"\n",
      "Warning message:\n",
      "\"glm.fit: fitted probabilities numerically 0 or 1 occurred\"\n",
      "Warning message:\n",
      "\"glm.fit: fitted probabilities numerically 0 or 1 occurred\"\n",
      "Warning message:\n",
      "\"glm.fit: fitted probabilities numerically 0 or 1 occurred\"\n",
      "Warning message:\n",
      "\"glm.fit: fitted probabilities numerically 0 or 1 occurred\"\n",
      "Warning message:\n",
      "\"glm.fit: fitted probabilities numerically 0 or 1 occurred\"\n",
      "Warning message:\n",
      "\"glm.fit: fitted probabilities numerically 0 or 1 occurred\"\n",
      "Warning message:\n",
      "\"glm.fit: fitted probabilities numerically 0 or 1 occurred\"\n",
      "Warning message:\n",
      "\"glm.fit: fitted probabilities numerically 0 or 1 occurred\"\n",
      "Warning message:\n",
      "\"glm.fit: fitted probabilities numerically 0 or 1 occurred\"\n",
      "Warning message:\n",
      "\"glm.fit: fitted probabilities numerically 0 or 1 occurred\"\n",
      "Warning message:\n",
      "\"glm.fit: fitted probabilities numerically 0 or 1 occurred\"\n",
      "Warning message:\n",
      "\"glm.fit: fitted probabilities numerically 0 or 1 occurred\"\n",
      "Warning message:\n",
      "\"glm.fit: fitted probabilities numerically 0 or 1 occurred\"\n",
      "Warning message:\n",
      "\"glm.fit: fitted probabilities numerically 0 or 1 occurred\"\n",
      "Warning message:\n",
      "\"glm.fit: fitted probabilities numerically 0 or 1 occurred\"\n",
      "Warning message:\n",
      "\"glm.fit: fitted probabilities numerically 0 or 1 occurred\"\n",
      "Warning message:\n",
      "\"glm.fit: fitted probabilities numerically 0 or 1 occurred\"\n",
      "Warning message:\n",
      "\"glm.fit: fitted probabilities numerically 0 or 1 occurred\"\n",
      "Warning message:\n",
      "\"glm.fit: fitted probabilities numerically 0 or 1 occurred\"\n",
      "Warning message:\n",
      "\"glm.fit: fitted probabilities numerically 0 or 1 occurred\"\n",
      "Warning message:\n",
      "\"glm.fit: fitted probabilities numerically 0 or 1 occurred\"\n",
      "Warning message:\n",
      "\"glm.fit: fitted probabilities numerically 0 or 1 occurred\"\n",
      "Warning message:\n",
      "\"glm.fit: fitted probabilities numerically 0 or 1 occurred\"\n",
      "Warning message:\n",
      "\"glm.fit: fitted probabilities numerically 0 or 1 occurred\"\n",
      "Warning message:\n",
      "\"glm.fit: fitted probabilities numerically 0 or 1 occurred\"\n",
      "Warning message:\n",
      "\"glm.fit: fitted probabilities numerically 0 or 1 occurred\"\n",
      "Warning message:\n",
      "\"glm.fit: fitted probabilities numerically 0 or 1 occurred\"\n",
      "Warning message:\n",
      "\"glm.fit: fitted probabilities numerically 0 or 1 occurred\"\n",
      "Warning message:\n",
      "\"glm.fit: fitted probabilities numerically 0 or 1 occurred\"\n",
      "Warning message:\n",
      "\"glm.fit: fitted probabilities numerically 0 or 1 occurred\"\n",
      "Warning message:\n",
      "\"glm.fit: fitted probabilities numerically 0 or 1 occurred\"\n",
      "Warning message:\n",
      "\"glm.fit: fitted probabilities numerically 0 or 1 occurred\"\n",
      "Warning message:\n",
      "\"glm.fit: fitted probabilities numerically 0 or 1 occurred\"\n",
      "Warning message:\n",
      "\"glm.fit: fitted probabilities numerically 0 or 1 occurred\"\n"
     ]
    },
    {
     "name": "stderr",
     "output_type": "stream",
     "text": [
      "Warning message:\n",
      "\"glm.fit: fitted probabilities numerically 0 or 1 occurred\"\n",
      "Warning message:\n",
      "\"glm.fit: fitted probabilities numerically 0 or 1 occurred\"\n",
      "Warning message:\n",
      "\"glm.fit: fitted probabilities numerically 0 or 1 occurred\"\n",
      "Warning message:\n",
      "\"glm.fit: fitted probabilities numerically 0 or 1 occurred\"\n",
      "Warning message:\n",
      "\"glm.fit: fitted probabilities numerically 0 or 1 occurred\"\n",
      "Warning message:\n",
      "\"glm.fit: fitted probabilities numerically 0 or 1 occurred\"\n",
      "Warning message:\n",
      "\"glm.fit: fitted probabilities numerically 0 or 1 occurred\"\n",
      "Warning message:\n",
      "\"glm.fit: fitted probabilities numerically 0 or 1 occurred\"\n",
      "Warning message:\n",
      "\"glm.fit: fitted probabilities numerically 0 or 1 occurred\"\n",
      "Warning message:\n",
      "\"glm.fit: fitted probabilities numerically 0 or 1 occurred\"\n",
      "Warning message:\n",
      "\"glm.fit: fitted probabilities numerically 0 or 1 occurred\"\n",
      "Warning message:\n",
      "\"glm.fit: fitted probabilities numerically 0 or 1 occurred\"\n",
      "Warning message:\n",
      "\"glm.fit: fitted probabilities numerically 0 or 1 occurred\"\n",
      "Warning message:\n",
      "\"glm.fit: fitted probabilities numerically 0 or 1 occurred\"\n",
      "Warning message:\n",
      "\"glm.fit: fitted probabilities numerically 0 or 1 occurred\"\n",
      "Warning message:\n",
      "\"glm.fit: fitted probabilities numerically 0 or 1 occurred\"\n",
      "Warning message:\n",
      "\"glm.fit: fitted probabilities numerically 0 or 1 occurred\"\n",
      "Warning message:\n",
      "\"glm.fit: fitted probabilities numerically 0 or 1 occurred\"\n",
      "Warning message:\n",
      "\"glm.fit: fitted probabilities numerically 0 or 1 occurred\"\n",
      "Warning message:\n",
      "\"glm.fit: fitted probabilities numerically 0 or 1 occurred\"\n",
      "Warning message:\n",
      "\"glm.fit: fitted probabilities numerically 0 or 1 occurred\"\n",
      "Warning message:\n",
      "\"glm.fit: fitted probabilities numerically 0 or 1 occurred\"\n",
      "Warning message:\n",
      "\"glm.fit: fitted probabilities numerically 0 or 1 occurred\"\n",
      "Warning message:\n",
      "\"glm.fit: fitted probabilities numerically 0 or 1 occurred\"\n",
      "Warning message:\n",
      "\"glm.fit: fitted probabilities numerically 0 or 1 occurred\"\n",
      "Warning message:\n",
      "\"glm.fit: fitted probabilities numerically 0 or 1 occurred\"\n",
      "Warning message:\n",
      "\"glm.fit: fitted probabilities numerically 0 or 1 occurred\"\n",
      "Warning message:\n",
      "\"glm.fit: fitted probabilities numerically 0 or 1 occurred\"\n",
      "Warning message:\n",
      "\"glm.fit: fitted probabilities numerically 0 or 1 occurred\"\n",
      "Warning message:\n",
      "\"glm.fit: fitted probabilities numerically 0 or 1 occurred\"\n",
      "Warning message:\n",
      "\"glm.fit: fitted probabilities numerically 0 or 1 occurred\"\n",
      "Warning message:\n",
      "\"glm.fit: fitted probabilities numerically 0 or 1 occurred\"\n",
      "Warning message:\n",
      "\"glm.fit: fitted probabilities numerically 0 or 1 occurred\"\n",
      "Warning message:\n",
      "\"glm.fit: fitted probabilities numerically 0 or 1 occurred\"\n",
      "Warning message:\n",
      "\"glm.fit: fitted probabilities numerically 0 or 1 occurred\"\n",
      "Warning message:\n",
      "\"glm.fit: fitted probabilities numerically 0 or 1 occurred\"\n",
      "Warning message:\n",
      "\"glm.fit: fitted probabilities numerically 0 or 1 occurred\"\n",
      "Warning message:\n",
      "\"glm.fit: fitted probabilities numerically 0 or 1 occurred\"\n",
      "Warning message:\n",
      "\"glm.fit: fitted probabilities numerically 0 or 1 occurred\"\n",
      "Warning message:\n",
      "\"glm.fit: fitted probabilities numerically 0 or 1 occurred\"\n",
      "Warning message:\n",
      "\"glm.fit: fitted probabilities numerically 0 or 1 occurred\"\n",
      "Warning message:\n",
      "\"glm.fit: fitted probabilities numerically 0 or 1 occurred\"\n",
      "Warning message:\n",
      "\"glm.fit: fitted probabilities numerically 0 or 1 occurred\"\n",
      "Warning message:\n",
      "\"glm.fit: fitted probabilities numerically 0 or 1 occurred\"\n",
      "Warning message:\n",
      "\"glm.fit: fitted probabilities numerically 0 or 1 occurred\"\n",
      "Warning message:\n",
      "\"glm.fit: fitted probabilities numerically 0 or 1 occurred\"\n",
      "Warning message:\n",
      "\"glm.fit: fitted probabilities numerically 0 or 1 occurred\"\n",
      "Warning message:\n",
      "\"glm.fit: fitted probabilities numerically 0 or 1 occurred\"\n",
      "Warning message:\n",
      "\"glm.fit: fitted probabilities numerically 0 or 1 occurred\"\n",
      "Warning message:\n",
      "\"glm.fit: fitted probabilities numerically 0 or 1 occurred\"\n",
      "Warning message:\n",
      "\"glm.fit: fitted probabilities numerically 0 or 1 occurred\"\n",
      "Warning message:\n",
      "\"glm.fit: fitted probabilities numerically 0 or 1 occurred\"\n",
      "Warning message:\n",
      "\"glm.fit: fitted probabilities numerically 0 or 1 occurred\"\n",
      "Warning message:\n",
      "\"glm.fit: fitted probabilities numerically 0 or 1 occurred\"\n",
      "Warning message:\n",
      "\"glm.fit: fitted probabilities numerically 0 or 1 occurred\"\n",
      "Warning message:\n",
      "\"glm.fit: fitted probabilities numerically 0 or 1 occurred\"\n",
      "Warning message:\n",
      "\"glm.fit: fitted probabilities numerically 0 or 1 occurred\"\n",
      "Warning message:\n",
      "\"glm.fit: fitted probabilities numerically 0 or 1 occurred\"\n",
      "Warning message:\n",
      "\"glm.fit: fitted probabilities numerically 0 or 1 occurred\"\n",
      "Warning message:\n",
      "\"glm.fit: fitted probabilities numerically 0 or 1 occurred\"\n",
      "Warning message:\n",
      "\"glm.fit: fitted probabilities numerically 0 or 1 occurred\"\n",
      "Warning message:\n",
      "\"glm.fit: fitted probabilities numerically 0 or 1 occurred\"\n",
      "Warning message:\n",
      "\"glm.fit: fitted probabilities numerically 0 or 1 occurred\"\n",
      "Warning message:\n",
      "\"glm.fit: fitted probabilities numerically 0 or 1 occurred\"\n",
      "Warning message:\n",
      "\"glm.fit: fitted probabilities numerically 0 or 1 occurred\"\n",
      "Warning message:\n",
      "\"glm.fit: fitted probabilities numerically 0 or 1 occurred\"\n",
      "Warning message:\n",
      "\"glm.fit: fitted probabilities numerically 0 or 1 occurred\"\n",
      "Warning message:\n",
      "\"glm.fit: fitted probabilities numerically 0 or 1 occurred\"\n",
      "Warning message:\n",
      "\"glm.fit: fitted probabilities numerically 0 or 1 occurred\"\n",
      "Warning message:\n",
      "\"glm.fit: fitted probabilities numerically 0 or 1 occurred\"\n",
      "Warning message:\n",
      "\"glm.fit: fitted probabilities numerically 0 or 1 occurred\"\n",
      "Warning message:\n",
      "\"glm.fit: fitted probabilities numerically 0 or 1 occurred\"\n",
      "Warning message:\n",
      "\"glm.fit: fitted probabilities numerically 0 or 1 occurred\"\n",
      "Warning message:\n",
      "\"glm.fit: fitted probabilities numerically 0 or 1 occurred\"\n",
      "Warning message:\n",
      "\"glm.fit: fitted probabilities numerically 0 or 1 occurred\"\n",
      "Warning message:\n",
      "\"glm.fit: fitted probabilities numerically 0 or 1 occurred\"\n",
      "Warning message:\n",
      "\"glm.fit: fitted probabilities numerically 0 or 1 occurred\"\n",
      "Warning message:\n",
      "\"glm.fit: fitted probabilities numerically 0 or 1 occurred\"\n",
      "Warning message:\n",
      "\"glm.fit: fitted probabilities numerically 0 or 1 occurred\"\n",
      "Warning message:\n",
      "\"glm.fit: fitted probabilities numerically 0 or 1 occurred\"\n",
      "Warning message:\n",
      "\"glm.fit: fitted probabilities numerically 0 or 1 occurred\"\n",
      "Warning message:\n",
      "\"glm.fit: fitted probabilities numerically 0 or 1 occurred\"\n",
      "Warning message:\n",
      "\"glm.fit: fitted probabilities numerically 0 or 1 occurred\"\n",
      "Warning message:\n",
      "\"glm.fit: fitted probabilities numerically 0 or 1 occurred\"\n",
      "Warning message:\n",
      "\"glm.fit: fitted probabilities numerically 0 or 1 occurred\"\n",
      "Warning message:\n",
      "\"glm.fit: fitted probabilities numerically 0 or 1 occurred\"\n",
      "Warning message:\n",
      "\"glm.fit: fitted probabilities numerically 0 or 1 occurred\"\n",
      "Warning message:\n",
      "\"glm.fit: fitted probabilities numerically 0 or 1 occurred\"\n",
      "Warning message:\n",
      "\"glm.fit: fitted probabilities numerically 0 or 1 occurred\"\n",
      "Warning message:\n",
      "\"glm.fit: fitted probabilities numerically 0 or 1 occurred\"\n",
      "Warning message:\n",
      "\"glm.fit: fitted probabilities numerically 0 or 1 occurred\"\n",
      "Warning message:\n",
      "\"glm.fit: fitted probabilities numerically 0 or 1 occurred\"\n",
      "Warning message:\n",
      "\"glm.fit: fitted probabilities numerically 0 or 1 occurred\"\n",
      "Warning message:\n",
      "\"glm.fit: fitted probabilities numerically 0 or 1 occurred\"\n",
      "Warning message:\n",
      "\"glm.fit: fitted probabilities numerically 0 or 1 occurred\"\n",
      "Warning message:\n",
      "\"glm.fit: fitted probabilities numerically 0 or 1 occurred\"\n",
      "Warning message:\n",
      "\"glm.fit: fitted probabilities numerically 0 or 1 occurred\"\n",
      "Warning message:\n",
      "\"glm.fit: fitted probabilities numerically 0 or 1 occurred\"\n",
      "Warning message:\n",
      "\"glm.fit: fitted probabilities numerically 0 or 1 occurred\"\n",
      "Warning message:\n",
      "\"glm.fit: fitted probabilities numerically 0 or 1 occurred\"\n",
      "Warning message:\n",
      "\"glm.fit: fitted probabilities numerically 0 or 1 occurred\"\n",
      "Warning message:\n",
      "\"glm.fit: fitted probabilities numerically 0 or 1 occurred\"\n",
      "Warning message:\n",
      "\"glm.fit: fitted probabilities numerically 0 or 1 occurred\"\n",
      "Warning message:\n",
      "\"glm.fit: fitted probabilities numerically 0 or 1 occurred\"\n",
      "Warning message:\n",
      "\"glm.fit: fitted probabilities numerically 0 or 1 occurred\"\n",
      "Warning message:\n",
      "\"glm.fit: fitted probabilities numerically 0 or 1 occurred\"\n",
      "Warning message:\n",
      "\"glm.fit: fitted probabilities numerically 0 or 1 occurred\"\n"
     ]
    },
    {
     "name": "stderr",
     "output_type": "stream",
     "text": [
      "Warning message:\n",
      "\"glm.fit: fitted probabilities numerically 0 or 1 occurred\"\n",
      "Warning message:\n",
      "\"glm.fit: fitted probabilities numerically 0 or 1 occurred\"\n",
      "Warning message:\n",
      "\"glm.fit: fitted probabilities numerically 0 or 1 occurred\"\n",
      "Warning message:\n",
      "\"glm.fit: fitted probabilities numerically 0 or 1 occurred\"\n",
      "Warning message:\n",
      "\"glm.fit: fitted probabilities numerically 0 or 1 occurred\"\n",
      "Warning message:\n",
      "\"glm.fit: fitted probabilities numerically 0 or 1 occurred\"\n",
      "Warning message:\n",
      "\"glm.fit: fitted probabilities numerically 0 or 1 occurred\"\n",
      "Warning message:\n",
      "\"glm.fit: fitted probabilities numerically 0 or 1 occurred\"\n",
      "Warning message:\n",
      "\"glm.fit: fitted probabilities numerically 0 or 1 occurred\"\n",
      "Warning message:\n",
      "\"glm.fit: fitted probabilities numerically 0 or 1 occurred\"\n",
      "Warning message:\n",
      "\"glm.fit: fitted probabilities numerically 0 or 1 occurred\"\n",
      "Warning message:\n",
      "\"glm.fit: fitted probabilities numerically 0 or 1 occurred\"\n",
      "Warning message:\n",
      "\"glm.fit: fitted probabilities numerically 0 or 1 occurred\"\n",
      "Warning message:\n",
      "\"glm.fit: fitted probabilities numerically 0 or 1 occurred\"\n",
      "Warning message:\n",
      "\"glm.fit: fitted probabilities numerically 0 or 1 occurred\"\n",
      "Warning message:\n",
      "\"glm.fit: fitted probabilities numerically 0 or 1 occurred\"\n",
      "Warning message:\n",
      "\"glm.fit: fitted probabilities numerically 0 or 1 occurred\"\n",
      "Warning message:\n",
      "\"glm.fit: fitted probabilities numerically 0 or 1 occurred\"\n",
      "Warning message:\n",
      "\"glm.fit: fitted probabilities numerically 0 or 1 occurred\"\n",
      "Warning message:\n",
      "\"glm.fit: fitted probabilities numerically 0 or 1 occurred\"\n",
      "Warning message:\n",
      "\"glm.fit: fitted probabilities numerically 0 or 1 occurred\"\n",
      "Warning message:\n",
      "\"glm.fit: fitted probabilities numerically 0 or 1 occurred\"\n",
      "Warning message:\n",
      "\"glm.fit: fitted probabilities numerically 0 or 1 occurred\"\n",
      "Warning message:\n",
      "\"glm.fit: fitted probabilities numerically 0 or 1 occurred\"\n",
      "Warning message:\n",
      "\"glm.fit: fitted probabilities numerically 0 or 1 occurred\"\n",
      "Warning message:\n",
      "\"glm.fit: fitted probabilities numerically 0 or 1 occurred\"\n",
      "Warning message:\n",
      "\"glm.fit: fitted probabilities numerically 0 or 1 occurred\"\n",
      "Warning message:\n",
      "\"glm.fit: fitted probabilities numerically 0 or 1 occurred\"\n",
      "Warning message:\n",
      "\"glm.fit: fitted probabilities numerically 0 or 1 occurred\"\n",
      "Warning message:\n",
      "\"glm.fit: fitted probabilities numerically 0 or 1 occurred\"\n",
      "Warning message:\n",
      "\"glm.fit: fitted probabilities numerically 0 or 1 occurred\"\n",
      "Warning message:\n",
      "\"glm.fit: fitted probabilities numerically 0 or 1 occurred\"\n",
      "Warning message:\n",
      "\"glm.fit: fitted probabilities numerically 0 or 1 occurred\"\n",
      "Warning message:\n",
      "\"glm.fit: fitted probabilities numerically 0 or 1 occurred\"\n",
      "Warning message:\n",
      "\"glm.fit: fitted probabilities numerically 0 or 1 occurred\"\n",
      "Warning message:\n",
      "\"glm.fit: fitted probabilities numerically 0 or 1 occurred\"\n",
      "Warning message:\n",
      "\"glm.fit: fitted probabilities numerically 0 or 1 occurred\"\n",
      "Warning message:\n",
      "\"glm.fit: fitted probabilities numerically 0 or 1 occurred\"\n",
      "Warning message:\n",
      "\"glm.fit: fitted probabilities numerically 0 or 1 occurred\"\n",
      "Warning message:\n",
      "\"glm.fit: fitted probabilities numerically 0 or 1 occurred\"\n",
      "Warning message:\n",
      "\"glm.fit: fitted probabilities numerically 0 or 1 occurred\"\n",
      "Warning message:\n",
      "\"glm.fit: fitted probabilities numerically 0 or 1 occurred\"\n",
      "Warning message:\n",
      "\"glm.fit: fitted probabilities numerically 0 or 1 occurred\"\n",
      "Warning message:\n",
      "\"glm.fit: fitted probabilities numerically 0 or 1 occurred\"\n",
      "Warning message:\n",
      "\"glm.fit: fitted probabilities numerically 0 or 1 occurred\"\n",
      "Warning message:\n",
      "\"glm.fit: fitted probabilities numerically 0 or 1 occurred\"\n",
      "Warning message:\n",
      "\"glm.fit: fitted probabilities numerically 0 or 1 occurred\"\n",
      "Warning message:\n",
      "\"glm.fit: fitted probabilities numerically 0 or 1 occurred\"\n",
      "Warning message:\n",
      "\"glm.fit: fitted probabilities numerically 0 or 1 occurred\"\n",
      "Warning message:\n",
      "\"glm.fit: fitted probabilities numerically 0 or 1 occurred\"\n",
      "Warning message:\n",
      "\"glm.fit: fitted probabilities numerically 0 or 1 occurred\"\n",
      "Warning message:\n",
      "\"glm.fit: fitted probabilities numerically 0 or 1 occurred\"\n",
      "Warning message:\n",
      "\"glm.fit: fitted probabilities numerically 0 or 1 occurred\"\n",
      "Warning message:\n",
      "\"glm.fit: fitted probabilities numerically 0 or 1 occurred\"\n",
      "Warning message:\n",
      "\"glm.fit: fitted probabilities numerically 0 or 1 occurred\"\n",
      "Warning message:\n",
      "\"glm.fit: fitted probabilities numerically 0 or 1 occurred\"\n",
      "Warning message:\n",
      "\"glm.fit: fitted probabilities numerically 0 or 1 occurred\"\n",
      "Warning message:\n",
      "\"glm.fit: fitted probabilities numerically 0 or 1 occurred\"\n",
      "Warning message:\n",
      "\"glm.fit: fitted probabilities numerically 0 or 1 occurred\"\n",
      "Warning message:\n",
      "\"glm.fit: fitted probabilities numerically 0 or 1 occurred\"\n",
      "Warning message:\n",
      "\"glm.fit: fitted probabilities numerically 0 or 1 occurred\"\n",
      "Warning message:\n",
      "\"glm.fit: fitted probabilities numerically 0 or 1 occurred\"\n",
      "Warning message:\n",
      "\"glm.fit: fitted probabilities numerically 0 or 1 occurred\"\n",
      "Warning message:\n",
      "\"glm.fit: fitted probabilities numerically 0 or 1 occurred\"\n",
      "Warning message:\n",
      "\"glm.fit: fitted probabilities numerically 0 or 1 occurred\"\n",
      "Warning message:\n",
      "\"glm.fit: fitted probabilities numerically 0 or 1 occurred\"\n",
      "Warning message:\n",
      "\"glm.fit: fitted probabilities numerically 0 or 1 occurred\"\n",
      "Warning message:\n",
      "\"glm.fit: fitted probabilities numerically 0 or 1 occurred\"\n",
      "Warning message:\n",
      "\"glm.fit: fitted probabilities numerically 0 or 1 occurred\"\n",
      "Warning message:\n",
      "\"glm.fit: fitted probabilities numerically 0 or 1 occurred\"\n",
      "Warning message:\n",
      "\"glm.fit: fitted probabilities numerically 0 or 1 occurred\"\n",
      "Warning message:\n",
      "\"glm.fit: fitted probabilities numerically 0 or 1 occurred\"\n",
      "Warning message:\n",
      "\"glm.fit: fitted probabilities numerically 0 or 1 occurred\"\n",
      "Warning message:\n",
      "\"glm.fit: fitted probabilities numerically 0 or 1 occurred\"\n",
      "Warning message:\n",
      "\"glm.fit: fitted probabilities numerically 0 or 1 occurred\"\n",
      "Warning message:\n",
      "\"glm.fit: fitted probabilities numerically 0 or 1 occurred\"\n",
      "Warning message:\n",
      "\"glm.fit: fitted probabilities numerically 0 or 1 occurred\"\n",
      "Warning message:\n",
      "\"glm.fit: fitted probabilities numerically 0 or 1 occurred\"\n",
      "Warning message:\n",
      "\"glm.fit: fitted probabilities numerically 0 or 1 occurred\"\n",
      "Warning message:\n",
      "\"glm.fit: fitted probabilities numerically 0 or 1 occurred\"\n",
      "Warning message:\n",
      "\"glm.fit: fitted probabilities numerically 0 or 1 occurred\"\n",
      "Warning message:\n",
      "\"glm.fit: fitted probabilities numerically 0 or 1 occurred\"\n"
     ]
    },
    {
     "data": {
      "text/plain": [
       "\n",
       "Call:\n",
       "glm(formula = default ~ LIMIT_BAL + PAY_0 + PAY_2 + PAY_3 + PAY_4 + \n",
       "    BILL_AMT1 + BILL_AMT3 + PAY_AMT1 + PAY_AMT2 + PAY_AMT4 + \n",
       "    PAY_AMT5 + AGE_GROUP_35_50 + AGE_GROUP_50_65 + SEX_2 + EDUCATION_1 + \n",
       "    EDUCATION_2 + EDUCATION_3 + EDUCATION_6 + MARRIAGE_1 + MARRIAGE_2 + \n",
       "    MARRIAGE_3, family = \"binomial\", data = train)\n",
       "\n",
       "Deviance Residuals: \n",
       "    Min       1Q   Median       3Q      Max  \n",
       "-3.1517  -0.7039  -0.5476  -0.2586   3.6441  \n",
       "\n",
       "Coefficients:\n",
       "                  Estimate Std. Error z value Pr(>|z|)    \n",
       "(Intercept)     -4.156e+00  9.118e-01  -4.558 5.16e-06 ***\n",
       "LIMIT_BAL       -4.775e-07  2.272e-07  -2.102  0.03556 *  \n",
       "PAY_0            5.861e-01  2.604e-02  22.511  < 2e-16 ***\n",
       "PAY_2            7.255e-02  2.941e-02   2.467  0.01364 *  \n",
       "PAY_3            7.399e-02  3.295e-02   2.246  0.02472 *  \n",
       "PAY_4            5.916e-02  2.911e-02   2.032  0.04215 *  \n",
       "BILL_AMT1       -5.169e-06  1.051e-06  -4.919 8.71e-07 ***\n",
       "BILL_AMT3        4.638e-06  1.150e-06   4.032 5.52e-05 ***\n",
       "PAY_AMT1        -1.439e-05  3.220e-06  -4.468 7.90e-06 ***\n",
       "PAY_AMT2        -2.170e-05  3.997e-06  -5.430 5.62e-08 ***\n",
       "PAY_AMT4        -7.019e-06  2.698e-06  -2.602  0.00927 ** \n",
       "PAY_AMT5        -6.397e-06  2.469e-06  -2.591  0.00957 ** \n",
       "AGE_GROUP_35_50  1.314e-01  5.194e-02   2.531  0.01138 *  \n",
       "AGE_GROUP_50_65  1.438e-01  8.844e-02   1.626  0.10403    \n",
       "SEX_2           -8.439e-02  4.494e-02  -1.878  0.06043 .  \n",
       "EDUCATION_1      1.457e+00  3.202e-01   4.548 5.41e-06 ***\n",
       "EDUCATION_2      1.409e+00  3.192e-01   4.413 1.02e-05 ***\n",
       "EDUCATION_3      1.367e+00  3.222e-01   4.244 2.20e-05 ***\n",
       "EDUCATION_6      1.687e+00  6.291e-01   2.682  0.00732 ** \n",
       "MARRIAGE_1       1.789e+00  8.533e-01   2.096  0.03607 *  \n",
       "MARRIAGE_2       1.625e+00  8.534e-01   1.904  0.05687 .  \n",
       "MARRIAGE_3       1.895e+00  8.738e-01   2.169  0.03012 *  \n",
       "---\n",
       "Signif. codes:  0 '***' 0.001 '**' 0.01 '*' 0.05 '.' 0.1 ' ' 1\n",
       "\n",
       "(Dispersion parameter for binomial family taken to be 1)\n",
       "\n",
       "    Null deviance: 14786  on 13999  degrees of freedom\n",
       "Residual deviance: 12959  on 13978  degrees of freedom\n",
       "AIC: 13003\n",
       "\n",
       "Number of Fisher Scoring iterations: 6\n"
      ]
     },
     "metadata": {},
     "output_type": "display_data"
    }
   ],
   "source": [
    "# Stepwise Selection of the features \n",
    "# http://www.sthda.com/english/articles/36-classification-methods-essentials/150-stepwise-logistic-regression-essentials-in-r/#:~:text=The%20stepwise%20logistic%20regression%20can,ref(stepwise%2Dregression)).\n",
    "step.model <- logreg_1 %>% stepAIC(trace = FALSE)\n",
    "summary(step.model)"
   ]
  },
  {
   "cell_type": "code",
   "execution_count": 29,
   "id": "b5bffe48",
   "metadata": {},
   "outputs": [
    {
     "name": "stderr",
     "output_type": "stream",
     "text": [
      "Warning message:\n",
      "\"glm.fit: fitted probabilities numerically 0 or 1 occurred\"\n"
     ]
    },
    {
     "data": {
      "text/plain": [
       "\n",
       "Call:\n",
       "glm(formula = default ~ LIMIT_BAL + PAY_0 + PAY_2 + PAY_3 + PAY_4 + \n",
       "    BILL_AMT1 + BILL_AMT3 + PAY_AMT1 + PAY_AMT2 + PAY_AMT4 + \n",
       "    PAY_AMT5 + AGE_GROUP_35_50 + AGE_GROUP_50_65 + SEX_2 + EDUCATION_1 + \n",
       "    EDUCATION_2 + EDUCATION_3 + EDUCATION_6 + MARRIAGE_1 + MARRIAGE_2 + \n",
       "    MARRIAGE_3, family = \"binomial\", data = train)\n",
       "\n",
       "Deviance Residuals: \n",
       "    Min       1Q   Median       3Q      Max  \n",
       "-3.1517  -0.7039  -0.5476  -0.2586   3.6441  \n",
       "\n",
       "Coefficients:\n",
       "                  Estimate Std. Error z value Pr(>|z|)    \n",
       "(Intercept)     -4.156e+00  9.118e-01  -4.558 5.16e-06 ***\n",
       "LIMIT_BAL       -4.775e-07  2.272e-07  -2.102  0.03556 *  \n",
       "PAY_0            5.861e-01  2.604e-02  22.511  < 2e-16 ***\n",
       "PAY_2            7.255e-02  2.941e-02   2.467  0.01364 *  \n",
       "PAY_3            7.399e-02  3.295e-02   2.246  0.02472 *  \n",
       "PAY_4            5.916e-02  2.911e-02   2.032  0.04215 *  \n",
       "BILL_AMT1       -5.169e-06  1.051e-06  -4.919 8.71e-07 ***\n",
       "BILL_AMT3        4.638e-06  1.150e-06   4.032 5.52e-05 ***\n",
       "PAY_AMT1        -1.439e-05  3.220e-06  -4.468 7.90e-06 ***\n",
       "PAY_AMT2        -2.170e-05  3.997e-06  -5.430 5.62e-08 ***\n",
       "PAY_AMT4        -7.019e-06  2.698e-06  -2.602  0.00927 ** \n",
       "PAY_AMT5        -6.397e-06  2.469e-06  -2.591  0.00957 ** \n",
       "AGE_GROUP_35_50  1.314e-01  5.194e-02   2.531  0.01138 *  \n",
       "AGE_GROUP_50_65  1.438e-01  8.844e-02   1.626  0.10403    \n",
       "SEX_2           -8.439e-02  4.494e-02  -1.878  0.06043 .  \n",
       "EDUCATION_1      1.457e+00  3.202e-01   4.548 5.41e-06 ***\n",
       "EDUCATION_2      1.409e+00  3.192e-01   4.413 1.02e-05 ***\n",
       "EDUCATION_3      1.367e+00  3.222e-01   4.244 2.20e-05 ***\n",
       "EDUCATION_6      1.687e+00  6.291e-01   2.682  0.00732 ** \n",
       "MARRIAGE_1       1.789e+00  8.533e-01   2.096  0.03607 *  \n",
       "MARRIAGE_2       1.625e+00  8.534e-01   1.904  0.05687 .  \n",
       "MARRIAGE_3       1.895e+00  8.738e-01   2.169  0.03012 *  \n",
       "---\n",
       "Signif. codes:  0 '***' 0.001 '**' 0.01 '*' 0.05 '.' 0.1 ' ' 1\n",
       "\n",
       "(Dispersion parameter for binomial family taken to be 1)\n",
       "\n",
       "    Null deviance: 14786  on 13999  degrees of freedom\n",
       "Residual deviance: 12959  on 13978  degrees of freedom\n",
       "AIC: 13003\n",
       "\n",
       "Number of Fisher Scoring iterations: 6\n"
      ]
     },
     "metadata": {},
     "output_type": "display_data"
    }
   ],
   "source": [
    "# Re-fit Logistic Regression model with best predictors\n",
    "logreg_2 <- glm(default ∼ LIMIT_BAL+PAY_0+PAY_2+PAY_3+PAY_4+BILL_AMT1+BILL_AMT3+PAY_AMT1+PAY_AMT2+PAY_AMT4+PAY_AMT5+AGE_GROUP_35_50+AGE_GROUP_50_65+SEX_2+EDUCATION_1+EDUCATION_2+EDUCATION_3+EDUCATION_6+MARRIAGE_1+MARRIAGE_2+MARRIAGE_3, data=train, family=\"binomial\")\n",
    "summary(logreg_2)"
   ]
  },
  {
   "cell_type": "code",
   "execution_count": 30,
   "id": "821e641b",
   "metadata": {},
   "outputs": [
    {
     "data": {
      "text/html": [
       "<style>\n",
       ".dl-inline {width: auto; margin:0; padding: 0}\n",
       ".dl-inline>dt, .dl-inline>dd {float: none; width: auto; display: inline-block}\n",
       ".dl-inline>dt::after {content: \":\\0020\"; padding-right: .5ex}\n",
       ".dl-inline>dt:not(:first-of-type) {padding-left: .5ex}\n",
       "</style><dl class=dl-inline><dt>2463</dt><dd>0.124639555790829</dd><dt>2511</dt><dd>0.284662439181318</dd><dt>10419</dt><dd>0.111898599402884</dd><dt>8718</dt><dd>0.271122019523759</dd><dt>12483</dt><dd>0.438769653010745</dd><dt>2986</dt><dd>0.106142065615376</dd></dl>\n"
      ],
      "text/latex": [
       "\\begin{description*}\n",
       "\\item[2463] 0.124639555790829\n",
       "\\item[2511] 0.284662439181318\n",
       "\\item[10419] 0.111898599402884\n",
       "\\item[8718] 0.271122019523759\n",
       "\\item[12483] 0.438769653010745\n",
       "\\item[2986] 0.106142065615376\n",
       "\\end{description*}\n"
      ],
      "text/markdown": [
       "2463\n",
       ":   0.1246395557908292511\n",
       ":   0.28466243918131810419\n",
       ":   0.1118985994028848718\n",
       ":   0.27112201952375912483\n",
       ":   0.4387696530107452986\n",
       ":   0.106142065615376\n",
       "\n"
      ],
      "text/plain": [
       "     2463      2511     10419      8718     12483      2986 \n",
       "0.1246396 0.2846624 0.1118986 0.2711220 0.4387697 0.1061421 "
      ]
     },
     "metadata": {},
     "output_type": "display_data"
    },
    {
     "data": {
      "text/html": [
       "<style>\n",
       ".dl-inline {width: auto; margin:0; padding: 0}\n",
       ".dl-inline>dt, .dl-inline>dd {float: none; width: auto; display: inline-block}\n",
       ".dl-inline>dt::after {content: \":\\0020\"; padding-right: .5ex}\n",
       ".dl-inline>dt:not(:first-of-type) {padding-left: .5ex}\n",
       "</style><dl class=dl-inline><dt>14001</dt><dd>0.130087259878584</dd><dt>14002</dt><dd>0.218702339331579</dd><dt>14003</dt><dd>0.265526952530181</dd><dt>14004</dt><dd>0.339869802642219</dd><dt>14005</dt><dd>0.243001413358195</dd><dt>14006</dt><dd>0.156247346798358</dd></dl>\n"
      ],
      "text/latex": [
       "\\begin{description*}\n",
       "\\item[14001] 0.130087259878584\n",
       "\\item[14002] 0.218702339331579\n",
       "\\item[14003] 0.265526952530181\n",
       "\\item[14004] 0.339869802642219\n",
       "\\item[14005] 0.243001413358195\n",
       "\\item[14006] 0.156247346798358\n",
       "\\end{description*}\n"
      ],
      "text/markdown": [
       "14001\n",
       ":   0.13008725987858414002\n",
       ":   0.21870233933157914003\n",
       ":   0.26552695253018114004\n",
       ":   0.33986980264221914005\n",
       ":   0.24300141335819514006\n",
       ":   0.156247346798358\n",
       "\n"
      ],
      "text/plain": [
       "    14001     14002     14003     14004     14005     14006 \n",
       "0.1300873 0.2187023 0.2655270 0.3398698 0.2430014 0.1562473 "
      ]
     },
     "metadata": {},
     "output_type": "display_data"
    }
   ],
   "source": [
    "# Predicting for the test set \n",
    "pred_train_prob <- predict(logreg_2, newdata=train, type='response')\n",
    "head(pred_train_prob)\n",
    "\n",
    "# Predicting for the test set \n",
    "pred_test_prob <- predict(logreg_2, newdata=test, type='response')\n",
    "head(pred_test_prob)"
   ]
  },
  {
   "cell_type": "code",
   "execution_count": 31,
   "id": "c0646091",
   "metadata": {},
   "outputs": [
    {
     "name": "stdout",
     "output_type": "stream",
     "text": [
      "[1] \"Confusion matrix:\"\n"
     ]
    },
    {
     "data": {
      "text/plain": [
       "          \n",
       "pred_train     0     1\n",
       "         0 10600  2345\n",
       "         1   307   748"
      ]
     },
     "metadata": {},
     "output_type": "display_data"
    },
    {
     "name": "stdout",
     "output_type": "stream",
     "text": [
      "[1] \"Accuracy = 0.81 %\"\n",
      "[1] \"Error = 0.31 %\"\n"
     ]
    },
    {
     "name": "stderr",
     "output_type": "stream",
     "text": [
      "Setting levels: control = 0, case = 1\n",
      "\n",
      "Setting direction: controls < cases\n",
      "\n"
     ]
    },
    {
     "name": "stdout",
     "output_type": "stream",
     "text": [
      "[1] \"AUC = 0.726702072849338\"\n"
     ]
    }
   ],
   "source": [
    "# Evaluation model on train\n",
    "threshold <- 0.5  # Decision threshold\n",
    "pred_train <- rep('0', length(pred_train_prob))\n",
    "pred_train[pred_train_prob > threshold] <- '1'\n",
    "\n",
    "# Confusion matrix\n",
    "print('Confusion matrix:')\n",
    "table(pred_train, train$default)\n",
    "\n",
    "# Accuracy and error rate\n",
    "acc_train_logreg <- mean(pred_train == train$default)\n",
    "err_rate <- 1 - acc\n",
    "print(paste('Accuracy =', round(acc_train_logreg, 2), '%'))\n",
    "print(paste('Error =', round(err_rate, 2), '%'))\n",
    "\n",
    "# AUC\n",
    "pred_roc <- pROC::roc(as.numeric(train$default == \"1\"), as.numeric(pred_train_prob))\n",
    "pred_auc_train_logreg <- pROC::auc(pred_roc)\n",
    "print(paste('AUC =', pred_auc_train_logreg))\n"
   ]
  },
  {
   "cell_type": "code",
   "execution_count": 33,
   "id": "a9af678c",
   "metadata": {},
   "outputs": [
    {
     "name": "stdout",
     "output_type": "stream",
     "text": [
      "[1] \"Confusion matrix:\"\n"
     ]
    },
    {
     "data": {
      "text/plain": [
       "         \n",
       "pred_test    0    1\n",
       "        0 4518 1010\n",
       "        1  161  311"
      ]
     },
     "metadata": {},
     "output_type": "display_data"
    },
    {
     "name": "stdout",
     "output_type": "stream",
     "text": [
      "[1] \"Accuracy = 0.69 %\"\n",
      "[1] \"Error = 0.31 %\"\n"
     ]
    },
    {
     "name": "stderr",
     "output_type": "stream",
     "text": [
      "Setting levels: control = 0, case = 1\n",
      "\n",
      "Setting direction: controls < cases\n",
      "\n"
     ]
    },
    {
     "name": "stdout",
     "output_type": "stream",
     "text": [
      "[1] \"AUC = 0.702846597105724\"\n"
     ]
    }
   ],
   "source": [
    "# Evaluation model on test\n",
    "threshold <- 0.5  # Decision threshold\n",
    "pred_test <- rep('0', length(pred_test_prob))\n",
    "pred_test[pred_test_prob > threshold] <- '1'\n",
    "\n",
    "# Confusion matrix\n",
    "print('Confusion matrix:')\n",
    "table(pred_test, test$default)\n",
    "\n",
    "# Accuracy and error rate\n",
    "acc_test_logreg <- mean(pred_test == test$default)\n",
    "err_rate <- 1 - acc\n",
    "print(paste('Accuracy =', round(acc, 2), '%'))\n",
    "print(paste('Error =', round(err_rate, 2), '%'))\n",
    "\n",
    "# AUC\n",
    "pred_roc <- pROC::roc(as.numeric(test$default == \"1\"), as.numeric(pred_test_prob))\n",
    "pred_auc_test_logreg <- pROC::auc(pred_roc)\n",
    "print(paste('AUC =', pred_auc_test_logreg))"
   ]
  },
  {
   "cell_type": "code",
   "execution_count": 34,
   "id": "64d54d89",
   "metadata": {},
   "outputs": [
    {
     "name": "stderr",
     "output_type": "stream",
     "text": [
      "Resampling: cross-validation\n",
      "\n",
      "Measures:             auc       \n",
      "\n",
      "Warning message:\n",
      "\"glm.fit: fitted probabilities numerically 0 or 1 occurred\"\n",
      "[Resample] iter 1:    0.7432117 \n",
      "\n",
      "[Resample] iter 2:    0.7057478 \n",
      "\n",
      "Warning message:\n",
      "\"glm.fit: fitted probabilities numerically 0 or 1 occurred\"\n",
      "[Resample] iter 3:    0.7011063 \n",
      "\n",
      "Warning message:\n",
      "\"glm.fit: fitted probabilities numerically 0 or 1 occurred\"\n",
      "[Resample] iter 4:    0.7309234 \n",
      "\n",
      "[Resample] iter 5:    0.7568692 \n",
      "\n",
      "Warning message:\n",
      "\"glm.fit: fitted probabilities numerically 0 or 1 occurred\"\n",
      "[Resample] iter 6:    0.7256975 \n",
      "\n",
      "Warning message:\n",
      "\"glm.fit: fitted probabilities numerically 0 or 1 occurred\"\n",
      "[Resample] iter 7:    0.7262814 \n",
      "\n",
      "Warning message:\n",
      "\"glm.fit: fitted probabilities numerically 0 or 1 occurred\"\n",
      "[Resample] iter 8:    0.6989662 \n",
      "\n",
      "Warning message:\n",
      "\"glm.fit: fitted probabilities numerically 0 or 1 occurred\"\n",
      "[Resample] iter 9:    0.7078157 \n",
      "\n",
      "Warning message:\n",
      "\"glm.fit: fitted probabilities numerically 0 or 1 occurred\"\n",
      "[Resample] iter 10:   0.7319847 \n",
      "\n",
      "\n",
      "\n",
      "\n",
      "Aggregated Result: auc.test.mean=0.7228604\n",
      "\n",
      "\n",
      "\n",
      "\n"
     ]
    },
    {
     "data": {
      "text/plain": [
       "Resample Result\n",
       "Task: train\n",
       "Learner: classif.logreg\n",
       "Aggr perf: auc.test.mean=0.7228604\n",
       "Runtime: 3.51489"
      ]
     },
     "metadata": {},
     "output_type": "display_data"
    }
   ],
   "source": [
    "# Set up cross-validation for train\n",
    "rdesc = makeResampleDesc(\"CV\", iters=10)\n",
    "\n",
    "# Define the model\n",
    "lnr_logreg <- makeLearner(\"classif.logreg\", predict.type=\"prob\", fix.factors.prediction=T)\n",
    "\n",
    "# Define the model\n",
    "task_logreg <- makeClassifTask(id=\"train\", data=train, target=\"default\")\n",
    "\n",
    "# Run the k-fold CV\n",
    "resample(lnr_logreg, task_logreg, rdesc, measures=list(mlr::auc))"
   ]
  },
  {
   "cell_type": "code",
   "execution_count": 35,
   "id": "d59bebea",
   "metadata": {},
   "outputs": [
    {
     "name": "stderr",
     "output_type": "stream",
     "text": [
      "Resampling: cross-validation\n",
      "\n",
      "Measures:             auc       \n",
      "\n",
      "[Resample] iter 1:    0.6904386 \n",
      "\n",
      "[Resample] iter 2:    0.7358359 \n",
      "\n",
      "Warning message in predict.lm(object, newdata, se.fit, scale = 1, type = if (type == :\n",
      "\"prediction from a rank-deficient fit may be misleading\"\n",
      "[Resample] iter 3:    0.7554358 \n",
      "\n",
      "[Resample] iter 4:    0.7205549 \n",
      "\n",
      "[Resample] iter 5:    0.6725230 \n",
      "\n",
      "[Resample] iter 6:    0.7249903 \n",
      "\n",
      "[Resample] iter 7:    0.6721648 \n",
      "\n",
      "[Resample] iter 8:    0.7052739 \n",
      "\n",
      "[Resample] iter 9:    0.6668632 \n",
      "\n",
      "[Resample] iter 10:   0.6370300 \n",
      "\n",
      "\n",
      "\n",
      "\n",
      "Aggregated Result: auc.test.mean=0.6981110\n",
      "\n",
      "\n",
      "\n",
      "\n"
     ]
    },
    {
     "data": {
      "text/plain": [
       "Resample Result\n",
       "Task: test\n",
       "Learner: classif.logreg\n",
       "Aggr perf: auc.test.mean=0.6981110\n",
       "Runtime: 2.34424"
      ]
     },
     "metadata": {},
     "output_type": "display_data"
    }
   ],
   "source": [
    "# Set up cross-validation for test\n",
    "rdesc = makeResampleDesc(\"CV\", iters=10)\n",
    "\n",
    "# Define the model\n",
    "lnr_logreg <- makeLearner(\"classif.logreg\", predict.type=\"prob\", fix.factors.prediction=T)\n",
    "\n",
    "# Define the model\n",
    "task_logreg <- makeClassifTask(id=\"test\", data=test, target=\"default\")\n",
    "\n",
    "# Run the k-fold CV\n",
    "resample(lnr_logreg, task_logreg, rdesc, measures=list(mlr::auc))"
   ]
  },
  {
   "cell_type": "markdown",
   "id": "8f111288",
   "metadata": {},
   "source": [
    "### Generalized Additive Models "
   ]
  },
  {
   "cell_type": "code",
   "execution_count": 36,
   "id": "6d96898a",
   "metadata": {},
   "outputs": [
    {
     "data": {
      "image/png": "[encoded data removed]",
      "text/plain": [
       "plot without title"
      ]
     },
     "metadata": {
      "image/png": {
       "height": 300,
       "width": 840
      }
     },
     "output_type": "display_data"
    },
    {
     "data": {
      "image/png": "[encoded data removed]",
      "text/plain": [
       "plot without title"
      ]
     },
     "metadata": {
      "image/png": {
       "height": 300,
       "width": 840
      }
     },
     "output_type": "display_data"
    },
    {
     "data": {
      "image/png": "[encoded data removed]",
      "text/plain": [
       "plot without title"
      ]
     },
     "metadata": {
      "image/png": {
       "height": 300,
       "width": 840
      }
     },
     "output_type": "display_data"
    },
    {
     "data": {
      "image/png": "[encoded data removed]",
      "text/plain": [
       "plot without title"
      ]
     },
     "metadata": {
      "image/png": {
       "height": 300,
       "width": 840
      }
     },
     "output_type": "display_data"
    },
    {
     "data": {
      "image/png": "[encoded data removed]",
      "text/plain": [
       "plot without title"
      ]
     },
     "metadata": {
      "image/png": {
       "height": 300,
       "width": 840
      }
     },
     "output_type": "display_data"
    },
    {
     "data": {
      "image/png": "[encoded data removed]",
      "text/plain": [
       "plot without title"
      ]
     },
     "metadata": {
      "image/png": {
       "height": 300,
       "width": 840
      }
     },
     "output_type": "display_data"
    },
    {
     "data": {
      "image/png": "[encoded data removed]",
      "text/plain": [
       "plot without title"
      ]
     },
     "metadata": {
      "image/png": {
       "height": 300,
       "width": 840
      }
     },
     "output_type": "display_data"
    },
    {
     "data": {
      "text/plain": [
       "\n",
       "Call: gam(formula = default ~ ., family = \"binomial\", data = data)\n",
       "Deviance Residuals:\n",
       "    Min      1Q  Median      3Q     Max \n",
       "-3.0971 -0.7055 -0.5522 -0.2857  3.2639 \n",
       "\n",
       "(Dispersion Parameter for binomial family taken to be 1)\n",
       "\n",
       "    Null Deviance: 16904.02 on 15989 degrees of freedom\n",
       "Residual Deviance: 14956.6 on 15965 degrees of freedom\n",
       "AIC: 15006.6 \n",
       "4010 observations deleted due to missingness \n",
       "\n",
       "Number of Local Scoring Iterations: 5 \n",
       "\n",
       "Anova for Parametric Effects\n",
       "             Df  Sum Sq Mean Sq  F value    Pr(>F)    \n",
       "cust_id       1     2.0    2.04   1.7493 0.1859775    \n",
       "LIMIT_BAL     1   235.7  235.74 201.8191 < 2.2e-16 ***\n",
       "SEX           1    12.1   12.09  10.3504 0.0012970 ** \n",
       "EDUCATION     1     0.5    0.50   0.4302 0.5118826    \n",
       "MARRIAGE      1    19.2   19.20  16.4394 5.047e-05 ***\n",
       "AGE           1     2.9    2.94   2.5192 0.1124892    \n",
       "PAY_0         1  1077.0 1077.02 922.0485 < 2.2e-16 ***\n",
       "PAY_2         1    35.1   35.06  30.0182 4.345e-08 ***\n",
       "PAY_3         1    21.2   21.21  18.1565 2.046e-05 ***\n",
       "PAY_4         1     1.7    1.66   1.4176 0.2338157    \n",
       "PAY_5         1     1.3    1.32   1.1271 0.2884209    \n",
       "PAY_6         1     0.2    0.20   0.1741 0.6765368    \n",
       "BILL_AMT1     1    63.8   63.79  54.6097 1.543e-13 ***\n",
       "BILL_AMT2     1     0.4    0.41   0.3521 0.5529240    \n",
       "BILL_AMT3     1     0.2    0.23   0.1933 0.6601998    \n",
       "BILL_AMT4     1     0.5    0.53   0.4507 0.5020228    \n",
       "BILL_AMT5     1     0.2    0.20   0.1674 0.6824504    \n",
       "BILL_AMT6     1     0.0    0.05   0.0419 0.8377539    \n",
       "PAY_AMT1      1    34.3   34.35  29.4066 5.953e-08 ***\n",
       "PAY_AMT2      1    17.4   17.41  14.9090 0.0001133 ***\n",
       "PAY_AMT3      1     0.1    0.09   0.0779 0.7802115    \n",
       "PAY_AMT4      1    15.1   15.13  12.9515 0.0003206 ***\n",
       "PAY_AMT5      1    11.7   11.69  10.0051 0.0015640 ** \n",
       "PAY_AMT6      1     1.5    1.46   1.2476 0.2640308    \n",
       "Residuals 15965 18648.4    1.17                       \n",
       "---\n",
       "Signif. codes:  0 '***' 0.001 '**' 0.01 '*' 0.05 '.' 0.1 ' ' 1\n"
      ]
     },
     "metadata": {},
     "output_type": "display_data"
    },
    {
     "data": {
      "image/png": "[encoded data removed]",
      "text/plain": [
       "plot without title"
      ]
     },
     "metadata": {
      "image/png": {
       "height": 300,
       "width": 840
      }
     },
     "output_type": "display_data"
    }
   ],
   "source": [
    "# Creating a gam model  \n",
    "gam_1 = gam(default ~ ., data=data, family='binomial')\n",
    "\n",
    "# Visualising the model \n",
    "library(repr) # source: https://blog.revolutionanalytics.com/2015/09/resizing-plots-in-the-r-kernel-for-jupyter-notebooks.html\n",
    "options(repr.plot.width=14, repr.plot.height=5)\n",
    "par(mfrow=c(1,3))\n",
    "plot(gam_1, se=TRUE, col = \"blue\")\n",
    "\n",
    "summary(gam_1)"
   ]
  },
  {
   "cell_type": "code",
   "execution_count": 37,
   "id": "0bc4f625",
   "metadata": {},
   "outputs": [
    {
     "name": "stdout",
     "output_type": "stream",
     "text": [
      "Start:  default ~ .; AIC= 15006.6 \n",
      "Step:1 default ~ AGE + cust_id + LIMIT_BAL + s(PAY_0, df = 2) + PAY_2 +      PAY_3 + PAY_4 + PAY_5 + PAY_6 + BILL_AMT1 + BILL_AMT2 + BILL_AMT3 +      BILL_AMT4 + BILL_AMT5 + BILL_AMT6 + PAY_AMT1 + PAY_AMT2 +      PAY_AMT3 + PAY_AMT4 + PAY_AMT5 + PAY_AMT6 ; AIC= 14965.73 \n",
      "Step:2 default ~ AGE + cust_id + LIMIT_BAL + s(PAY_0, df = 3) + PAY_2 +      PAY_3 + PAY_4 + PAY_5 + PAY_6 + BILL_AMT1 + BILL_AMT2 + BILL_AMT3 +      BILL_AMT4 + BILL_AMT5 + BILL_AMT6 + PAY_AMT1 + PAY_AMT2 +      PAY_AMT3 + PAY_AMT4 + PAY_AMT5 + PAY_AMT6 ; AIC= 14784.61 \n",
      "Step:3 default ~ AGE + cust_id + LIMIT_BAL + s(PAY_0, df = 3) + PAY_2 +      PAY_3 + PAY_4 + PAY_5 + s(PAY_6, df = 2) + BILL_AMT1 + BILL_AMT2 +      BILL_AMT3 + BILL_AMT4 + BILL_AMT5 + BILL_AMT6 + PAY_AMT1 +      PAY_AMT2 + PAY_AMT3 + PAY_AMT4 + PAY_AMT5 + PAY_AMT6 ; AIC= 14702.24 \n",
      "Step:4 default ~ AGE + cust_id + LIMIT_BAL + s(PAY_0, df = 3) + PAY_2 +      PAY_3 + PAY_4 + PAY_5 + s(PAY_6, df = 2) + s(BILL_AMT1, df = 2) +      BILL_AMT2 + BILL_AMT3 + BILL_AMT4 + BILL_AMT5 + BILL_AMT6 +      PAY_AMT1 + PAY_AMT2 + PAY_AMT3 + PAY_AMT4 + PAY_AMT5 + PAY_AMT6 ; AIC= 14645.94 \n",
      "Step:5 default ~ AGE + cust_id + LIMIT_BAL + s(PAY_0, df = 3) + PAY_2 +      PAY_3 + PAY_4 + PAY_5 + s(PAY_6, df = 3) + s(BILL_AMT1, df = 2) +      BILL_AMT2 + BILL_AMT3 + BILL_AMT4 + BILL_AMT5 + BILL_AMT6 +      PAY_AMT1 + PAY_AMT2 + PAY_AMT3 + PAY_AMT4 + PAY_AMT5 + PAY_AMT6 ; AIC= 14620.5 \n",
      "Step:6 default ~ AGE + cust_id + LIMIT_BAL + s(PAY_0, df = 3) + PAY_2 +      PAY_3 + PAY_4 + PAY_5 + s(PAY_6, df = 3) + s(BILL_AMT1, df = 3) +      BILL_AMT2 + BILL_AMT3 + BILL_AMT4 + BILL_AMT5 + BILL_AMT6 +      PAY_AMT1 + PAY_AMT2 + PAY_AMT3 + PAY_AMT4 + PAY_AMT5 + PAY_AMT6 ; AIC= 14599.83 \n",
      "Step:7 default ~ AGE + cust_id + LIMIT_BAL + s(PAY_0, df = 3) + PAY_2 +      PAY_3 + PAY_4 + PAY_5 + s(PAY_6, df = 3) + s(BILL_AMT1, df = 3) +      BILL_AMT2 + BILL_AMT3 + BILL_AMT4 + BILL_AMT5 + BILL_AMT6 +      s(PAY_AMT1, df = 2) + PAY_AMT2 + PAY_AMT3 + PAY_AMT4 + PAY_AMT5 +      PAY_AMT6 ; AIC= 14584.47 \n",
      "Step:8 default ~ AGE + cust_id + LIMIT_BAL + s(PAY_0, df = 3) + PAY_2 +      PAY_3 + PAY_4 + PAY_5 + s(PAY_6, df = 3) + s(BILL_AMT1, df = 3) +      BILL_AMT2 + BILL_AMT3 + BILL_AMT4 + BILL_AMT5 + BILL_AMT6 +      s(PAY_AMT1, df = 3) + PAY_AMT2 + PAY_AMT3 + PAY_AMT4 + PAY_AMT5 +      PAY_AMT6 ; AIC= 14571.25 \n",
      "Step:9 default ~ AGE + cust_id + LIMIT_BAL + s(PAY_0, df = 3) + PAY_2 +      PAY_3 + s(PAY_4, df = 2) + PAY_5 + s(PAY_6, df = 3) + s(BILL_AMT1,      df = 3) + BILL_AMT2 + BILL_AMT3 + BILL_AMT4 + BILL_AMT5 +      BILL_AMT6 + s(PAY_AMT1, df = 3) + PAY_AMT2 + PAY_AMT3 + PAY_AMT4 +      PAY_AMT5 + PAY_AMT6 ; AIC= 14559.14 \n",
      "Step:10 default ~ AGE + cust_id + LIMIT_BAL + s(PAY_0, df = 3) + PAY_2 +      PAY_3 + s(PAY_4, df = 3) + PAY_5 + s(PAY_6, df = 3) + s(BILL_AMT1,      df = 3) + BILL_AMT2 + BILL_AMT3 + BILL_AMT4 + BILL_AMT5 +      BILL_AMT6 + s(PAY_AMT1, df = 3) + PAY_AMT2 + PAY_AMT3 + PAY_AMT4 +      PAY_AMT5 + PAY_AMT6 ; AIC= 14544.4 \n",
      "Step:11 default ~ AGE + cust_id + LIMIT_BAL + s(PAY_0, df = 3) + PAY_2 +      PAY_3 + s(PAY_4, df = 3) + PAY_5 + s(PAY_6, df = 3) + s(BILL_AMT1,      df = 3) + BILL_AMT2 + BILL_AMT3 + BILL_AMT4 + BILL_AMT5 +      BILL_AMT6 + s(PAY_AMT1, df = 3) + s(PAY_AMT2, df = 2) + PAY_AMT3 +      PAY_AMT4 + PAY_AMT5 + PAY_AMT6 ; AIC= 14534.15 \n",
      "Step:12 default ~ AGE + cust_id + s(LIMIT_BAL, df = 2) + s(PAY_0, df = 3) +      PAY_2 + PAY_3 + s(PAY_4, df = 3) + PAY_5 + s(PAY_6, df = 3) +      s(BILL_AMT1, df = 3) + BILL_AMT2 + BILL_AMT3 + BILL_AMT4 +      BILL_AMT5 + BILL_AMT6 + s(PAY_AMT1, df = 3) + s(PAY_AMT2,      df = 2) + PAY_AMT3 + PAY_AMT4 + PAY_AMT5 + PAY_AMT6 ; AIC= 14526.66 \n",
      "Step:13 default ~ AGE + cust_id + s(LIMIT_BAL, df = 2) + s(PAY_0, df = 3) +      PAY_2 + PAY_3 + s(PAY_4, df = 3) + PAY_5 + s(PAY_6, df = 3) +      s(BILL_AMT1, df = 3) + BILL_AMT2 + BILL_AMT3 + BILL_AMT4 +      BILL_AMT5 + BILL_AMT6 + s(PAY_AMT1, df = 3) + s(PAY_AMT2,      df = 3) + PAY_AMT3 + PAY_AMT4 + PAY_AMT5 + PAY_AMT6 ; AIC= 14520.35 \n",
      "Step:14 default ~ AGE + cust_id + s(LIMIT_BAL, df = 2) + s(PAY_0, df = 3) +      s(PAY_2, df = 2) + PAY_3 + s(PAY_4, df = 3) + PAY_5 + s(PAY_6,      df = 3) + s(BILL_AMT1, df = 3) + BILL_AMT2 + BILL_AMT3 +      BILL_AMT4 + BILL_AMT5 + BILL_AMT6 + s(PAY_AMT1, df = 3) +      s(PAY_AMT2, df = 3) + PAY_AMT3 + PAY_AMT4 + PAY_AMT5 + PAY_AMT6 ; AIC= 14515.34 \n",
      "Step:15 default ~ AGE + cust_id + s(LIMIT_BAL, df = 2) + s(PAY_0, df = 3) +      s(PAY_2, df = 3) + PAY_3 + s(PAY_4, df = 3) + PAY_5 + s(PAY_6,      df = 3) + s(BILL_AMT1, df = 3) + BILL_AMT2 + BILL_AMT3 +      BILL_AMT4 + BILL_AMT5 + BILL_AMT6 + s(PAY_AMT1, df = 3) +      s(PAY_AMT2, df = 3) + PAY_AMT3 + PAY_AMT4 + PAY_AMT5 + PAY_AMT6 ; AIC= 14507.56 \n",
      "Step:16 default ~ AGE + cust_id + s(LIMIT_BAL, df = 2) + s(PAY_0, df = 3) +      s(PAY_2, df = 3) + PAY_3 + s(PAY_4, df = 3) + PAY_5 + s(PAY_6,      df = 3) + s(BILL_AMT1, df = 3) + BILL_AMT2 + BILL_AMT3 +      BILL_AMT4 + BILL_AMT5 + BILL_AMT6 + s(PAY_AMT1, df = 3) +      s(PAY_AMT2, df = 3) + PAY_AMT3 + PAY_AMT4 + s(PAY_AMT5, df = 2) +      PAY_AMT6 ; AIC= 14503.99 \n",
      "Step:17 default ~ AGE + cust_id + s(LIMIT_BAL, df = 2) + s(PAY_0, df = 3) +      s(PAY_2, df = 3) + PAY_3 + s(PAY_4, df = 3) + PAY_5 + s(PAY_6,      df = 3) + s(BILL_AMT1, df = 3) + BILL_AMT2 + BILL_AMT3 +      BILL_AMT4 + BILL_AMT5 + BILL_AMT6 + s(PAY_AMT1, df = 3) +      s(PAY_AMT2, df = 3) + PAY_AMT3 + PAY_AMT4 + s(PAY_AMT5, df = 3) +      PAY_AMT6 ; AIC= 14500.87 \n",
      "Step:18 default ~ AGE + cust_id + s(LIMIT_BAL, df = 3) + s(PAY_0, df = 3) +      s(PAY_2, df = 3) + PAY_3 + s(PAY_4, df = 3) + PAY_5 + s(PAY_6,      df = 3) + s(BILL_AMT1, df = 3) + BILL_AMT2 + BILL_AMT3 +      BILL_AMT4 + BILL_AMT5 + BILL_AMT6 + s(PAY_AMT1, df = 3) +      s(PAY_AMT2, df = 3) + PAY_AMT3 + PAY_AMT4 + s(PAY_AMT5, df = 3) +      PAY_AMT6 ; AIC= 14498.5 \n",
      "Step:19 default ~ AGE + cust_id + s(LIMIT_BAL, df = 3) + s(PAY_0, df = 3) +      s(PAY_2, df = 3) + PAY_3 + s(PAY_4, df = 3) + PAY_5 + s(PAY_6,      df = 3) + s(BILL_AMT1, df = 3) + BILL_AMT2 + BILL_AMT3 +      BILL_AMT4 + BILL_AMT5 + BILL_AMT6 + s(PAY_AMT1, df = 3) +      s(PAY_AMT2, df = 3) + PAY_AMT3 + PAY_AMT4 + s(PAY_AMT5, df = 3) +      s(PAY_AMT6, df = 2) ; AIC= 14496.23 \n",
      "Step:20 default ~ AGE + cust_id + s(LIMIT_BAL, df = 3) + s(PAY_0, df = 3) +      s(PAY_2, df = 3) + PAY_3 + s(PAY_4, df = 3) + PAY_5 + s(PAY_6,      df = 3) + s(BILL_AMT1, df = 3) + BILL_AMT2 + BILL_AMT3 +      BILL_AMT4 + BILL_AMT5 + BILL_AMT6 + s(PAY_AMT1, df = 3) +      s(PAY_AMT2, df = 3) + s(PAY_AMT3, df = 2) + PAY_AMT4 + s(PAY_AMT5,      df = 3) + s(PAY_AMT6, df = 2) ; AIC= 14494.29 \n",
      "Step:21 default ~ AGE + cust_id + s(LIMIT_BAL, df = 3) + s(PAY_0, df = 3) +      s(PAY_2, df = 3) + PAY_3 + s(PAY_4, df = 3) + PAY_5 + s(PAY_6,      df = 3) + s(BILL_AMT1, df = 3) + BILL_AMT2 + BILL_AMT3 +      BILL_AMT4 + BILL_AMT5 + BILL_AMT6 + s(PAY_AMT1, df = 3) +      s(PAY_AMT2, df = 3) + s(PAY_AMT3, df = 3) + PAY_AMT4 + s(PAY_AMT5,      df = 3) + s(PAY_AMT6, df = 2) ; AIC= 14489.32 \n",
      "Step:22 default ~ AGE + cust_id + s(LIMIT_BAL, df = 3) + s(PAY_0, df = 3) +      s(PAY_2, df = 3) + PAY_3 + s(PAY_4, df = 3) + PAY_5 + s(PAY_6,      df = 3) + s(BILL_AMT1, df = 3) + BILL_AMT2 + BILL_AMT3 +      BILL_AMT4 + BILL_AMT5 + BILL_AMT6 + s(PAY_AMT1, df = 3) +      s(PAY_AMT2, df = 3) + s(PAY_AMT3, df = 3) + s(PAY_AMT4, df = 2) +      s(PAY_AMT5, df = 3) + s(PAY_AMT6, df = 2) ; AIC= 14488.37 \n",
      "Step:23 default ~ AGE + cust_id + s(LIMIT_BAL, df = 3) + s(PAY_0, df = 3) +      s(PAY_2, df = 3) + s(PAY_3, df = 2) + s(PAY_4, df = 3) +      PAY_5 + s(PAY_6, df = 3) + s(BILL_AMT1, df = 3) + BILL_AMT2 +      BILL_AMT3 + BILL_AMT4 + BILL_AMT5 + BILL_AMT6 + s(PAY_AMT1,      df = 3) + s(PAY_AMT2, df = 3) + s(PAY_AMT3, df = 3) + s(PAY_AMT4,      df = 2) + s(PAY_AMT5, df = 3) + s(PAY_AMT6, df = 2) ; AIC= 14488.11 \n",
      "Step:24 default ~ AGE + cust_id + s(LIMIT_BAL, df = 3) + s(PAY_0, df = 3) +      s(PAY_2, df = 3) + s(PAY_3, df = 3) + s(PAY_4, df = 3) +      PAY_5 + s(PAY_6, df = 3) + s(BILL_AMT1, df = 3) + BILL_AMT2 +      BILL_AMT3 + BILL_AMT4 + BILL_AMT5 + BILL_AMT6 + s(PAY_AMT1,      df = 3) + s(PAY_AMT2, df = 3) + s(PAY_AMT3, df = 3) + s(PAY_AMT4,      df = 2) + s(PAY_AMT5, df = 3) + s(PAY_AMT6, df = 2) ; AIC= 14487.36 \n",
      "Step:25 default ~ AGE + cust_id + s(LIMIT_BAL, df = 3) + s(PAY_0, df = 3) +      s(PAY_2, df = 3) + s(PAY_3, df = 3) + s(PAY_4, df = 3) +      PAY_5 + s(PAY_6, df = 3) + s(BILL_AMT1, df = 3) + BILL_AMT2 +      BILL_AMT3 + BILL_AMT4 + BILL_AMT5 + BILL_AMT6 + s(PAY_AMT1,      df = 3) + s(PAY_AMT2, df = 3) + s(PAY_AMT3, df = 3) + s(PAY_AMT4,      df = 2) + s(PAY_AMT5, df = 3) + s(PAY_AMT6, df = 3) ; AIC= 14487.26 \n"
     ]
    },
    {
     "data": {
      "text/plain": [
       "Call:\n",
       "gam(formula = default ~ AGE + cust_id + s(LIMIT_BAL, df = 3) + \n",
       "    s(PAY_0, df = 3) + s(PAY_2, df = 3) + s(PAY_3, df = 3) + \n",
       "    s(PAY_4, df = 3) + PAY_5 + s(PAY_6, df = 3) + s(BILL_AMT1, \n",
       "    df = 3) + BILL_AMT2 + BILL_AMT3 + BILL_AMT4 + BILL_AMT5 + \n",
       "    BILL_AMT6 + s(PAY_AMT1, df = 3) + s(PAY_AMT2, df = 3) + s(PAY_AMT3, \n",
       "    df = 3) + s(PAY_AMT4, df = 2) + s(PAY_AMT5, df = 3) + s(PAY_AMT6, \n",
       "    df = 3), family = \"binomial\", data = data, trace = FALSE)\n",
       "\n",
       "Degrees of Freedom: 16414 total; 16368 Residual\n",
       "3585 observations deleted due to missingness \n",
       "Residual Deviance: 14393.26 "
      ]
     },
     "metadata": {},
     "output_type": "display_data"
    }
   ],
   "source": [
    "# Stepwise Selection of the features \n",
    "# https://medium.com/@muscovitebob/small-guide-to-the-step-gam-9769ef0e7a26\n",
    "\n",
    "scope_list = list(\n",
    "'LIMIT_BAL' = ~1 + LIMIT_BAL + s(LIMIT_BAL, df=2) + s(LIMIT_BAL, df=3),\n",
    "'PAY_0' = ~1 + PAY_0 + s(PAY_0, df=2) + s(PAY_0, df=3),\n",
    "'PAY_2' = ~1 + PAY_2 + s(PAY_2, df=2) + s(PAY_2, df=3),\n",
    "'PAY_3' = ~1 + PAY_3 + s(PAY_3, df=2) + s(PAY_3, df=3),\n",
    "'PAY_4' = ~1 + PAY_4 + s(PAY_4, df=2) + s(PAY_4, df=3),\n",
    "'PAY_5'= ~1 + PAY_5 + s(PAY_5, df=2) + s(PAY_5, df=3),\n",
    "'PAY_6'= ~1 + PAY_6 + s(PAY_6, df=2) + s(PAY_6, df=3),\n",
    "'BILL_AMT1'= ~1 + BILL_AMT1 + s(BILL_AMT1, df=2) + s(BILL_AMT1, df=3),\n",
    "'BILL_AMT2'= ~1 + BILL_AMT2 + s(BILL_AMT2, df=2) + s(BILL_AMT2, df=3),\n",
    "'BILL_AMT3'= ~1 + BILL_AMT3 + s(BILL_AMT3, df=2) + s(BILL_AMT3, df=3),\n",
    "'BILL_AMT4'= ~1 + BILL_AMT4 + s(BILL_AMT4, df=2) + s(BILL_AMT4, df=3),\n",
    "'BILL_AMT5'= ~1 + BILL_AMT5 + s(BILL_AMT5, df=2) + s(BILL_AMT5, df=3),\n",
    "'BILL_AMT6'= ~1 + BILL_AMT6 + s(BILL_AMT6, df=2) + s(BILL_AMT6, df=3),\n",
    "'PAY_AMT1'= ~1 + PAY_AMT1 + s(PAY_AMT1, df=2) + s(PAY_AMT1, df=3),\n",
    "'PAY_AMT2'= ~1 + PAY_AMT2 + s(PAY_AMT2, df=2) + s(PAY_AMT2, df=3),\n",
    "'PAY_AMT3'= ~1 + PAY_AMT3 + s(PAY_AMT3, df=2) + s(PAY_AMT3, df=3),\n",
    "'PAY_AMT4'= ~1 + PAY_AMT4 + s(PAY_AMT4, df=2) + s(PAY_AMT4, df=3),\n",
    "'PAY_AMT5'= ~1 + PAY_AMT5 + s(PAY_AMT5, df=2) + s(PAY_AMT5, df=3),\n",
    "'PAY_AMT6'= ~1 + PAY_AMT6 + s(PAY_AMT6, df=2) + s(PAY_AMT6, df=3)\n",
    ")\n",
    "\n",
    "step.Gam(gam_1, scope_list)"
   ]
  },
  {
   "cell_type": "code",
   "execution_count": 40,
   "id": "e1a36baa",
   "metadata": {},
   "outputs": [
    {
     "data": {
      "text/plain": [
       "\n",
       "Call: gam(formula = default ~ s(LIMIT_BAL, df = 3) + s(PAY_0, df = 3) + \n",
       "    s(PAY_2, df = 3) + s(PAY_3, df = 3) + s(PAY_4, df = 3) + \n",
       "    PAY_5 + s(PAY_6, df = 3) + s(BILL_AMT1, df = 3) + BILL_AMT2 + \n",
       "    BILL_AMT3 + BILL_AMT4 + BILL_AMT5 + BILL_AMT6 + s(PAY_AMT1, \n",
       "    df = 3) + s(PAY_AMT2, df = 3) + s(PAY_AMT3, df = 3) + s(PAY_AMT4, \n",
       "    df = 2) + s(PAY_AMT5, df = 3) + s(PAY_AMT6, df = 3), family = \"binomial\", \n",
       "    data = data)\n",
       "Deviance Residuals:\n",
       "    Min      1Q  Median      3Q     Max \n",
       "-2.2987 -0.6209 -0.5211 -0.3178  3.0083 \n",
       "\n",
       "(Dispersion Parameter for binomial family taken to be 1)\n",
       "\n",
       "    Null Deviance: 17527.74 on 16592 degrees of freedom\n",
       "Residual Deviance: 14542.22 on 16548 degrees of freedom\n",
       "AIC: 14632.22 \n",
       "3407 observations deleted due to missingness \n",
       "\n",
       "Number of Local Scoring Iterations: NA \n",
       "\n",
       "Anova for Parametric Effects\n",
       "                        Df  Sum Sq Mean Sq   F value    Pr(>F)    \n",
       "s(LIMIT_BAL, df = 3)     1   281.5  281.47  292.9399 < 2.2e-16 ***\n",
       "s(PAY_0, df = 3)         1  1124.9 1124.89 1170.7313 < 2.2e-16 ***\n",
       "s(PAY_2, df = 3)         1    84.4   84.35   87.7890 < 2.2e-16 ***\n",
       "s(PAY_3, df = 3)         1    49.3   49.27   51.2790 8.350e-13 ***\n",
       "s(PAY_4, df = 3)         1    17.1   17.06   17.7564 2.524e-05 ***\n",
       "PAY_5                    1    19.1   19.11   19.8865 8.272e-06 ***\n",
       "s(PAY_6, df = 3)         1     1.2    1.20    1.2532 0.2629548    \n",
       "s(BILL_AMT1, df = 3)     1    15.4   15.44   16.0649 6.148e-05 ***\n",
       "BILL_AMT2                1     0.8    0.77    0.7967 0.3721053    \n",
       "BILL_AMT3                1     0.2    0.16    0.1628 0.6866200    \n",
       "BILL_AMT4                1     0.6    0.60    0.6240 0.4295628    \n",
       "BILL_AMT5                1     0.0    0.00    0.0007 0.9792474    \n",
       "BILL_AMT6                1     0.0    0.00    0.0019 0.9651124    \n",
       "s(PAY_AMT1, df = 3)      1    28.5   28.45   29.6099 5.359e-08 ***\n",
       "s(PAY_AMT2, df = 3)      1    12.0   11.98   12.4705 0.0004145 ***\n",
       "s(PAY_AMT3, df = 3)      1     0.1    0.05    0.0551 0.8144293    \n",
       "s(PAY_AMT4, df = 2)      1     6.7    6.71    6.9866 0.0082200 ** \n",
       "s(PAY_AMT5, df = 3)      1    10.3   10.32   10.7428 0.0010490 ** \n",
       "s(PAY_AMT6, df = 3)      1     2.6    2.64    2.7526 0.0971137 .  \n",
       "Residuals            16548 15900.0    0.96                        \n",
       "---\n",
       "Signif. codes:  0 '***' 0.001 '**' 0.01 '*' 0.05 '.' 0.1 ' ' 1\n",
       "\n",
       "Anova for Nonparametric Effects\n",
       "                     Npar Df Npar Chisq    P(Chi)    \n",
       "(Intercept)                                          \n",
       "s(LIMIT_BAL, df = 3)       2      14.69 0.0006460 ***\n",
       "s(PAY_0, df = 3)           2     345.55 < 2.2e-16 ***\n",
       "s(PAY_2, df = 3)           2      56.64 5.016e-13 ***\n",
       "s(PAY_3, df = 3)           2      28.27 7.276e-07 ***\n",
       "s(PAY_4, df = 3)           2      38.90 3.581e-09 ***\n",
       "PAY_5                                                \n",
       "s(PAY_6, df = 3)           2      74.37 < 2.2e-16 ***\n",
       "s(BILL_AMT1, df = 3)       2      56.35 5.819e-13 ***\n",
       "BILL_AMT2                                            \n",
       "BILL_AMT3                                            \n",
       "BILL_AMT4                                            \n",
       "BILL_AMT5                                            \n",
       "BILL_AMT6                                            \n",
       "s(PAY_AMT1, df = 3)        2      22.32 1.422e-05 ***\n",
       "s(PAY_AMT2, df = 3)        2      17.30 0.0001754 ***\n",
       "s(PAY_AMT3, df = 3)        2      11.55 0.0031094 ** \n",
       "s(PAY_AMT4, df = 2)        1       3.35 0.0671676 .  \n",
       "s(PAY_AMT5, df = 3)        2       9.77 0.0075764 ** \n",
       "s(PAY_AMT6, df = 3)        2       7.12 0.0284639 *  \n",
       "---\n",
       "Signif. codes:  0 '***' 0.001 '**' 0.01 '*' 0.05 '.' 0.1 ' ' 1"
      ]
     },
     "metadata": {},
     "output_type": "display_data"
    }
   ],
   "source": [
    "# Fitting the gam model with the best features\n",
    "gam_2 = gam(default ~ s(LIMIT_BAL, df = 3) + s(PAY_0, df = 3) + s(PAY_2, df = 3) + s(PAY_3, df = 3) + s(PAY_4, df = 3) + PAY_5 + s(PAY_6, df = 3) + s(BILL_AMT1, df = 3) + BILL_AMT2 + BILL_AMT3 + BILL_AMT4 + BILL_AMT5 + BILL_AMT6 + s(PAY_AMT1, df = 3) + s(PAY_AMT2, df = 3) + s(PAY_AMT3, df = 3) + s(PAY_AMT4, df = 2) + s(PAY_AMT5, df = 3) + s(PAY_AMT6, df = 3), data=data, family='binomial')\n",
    "summary(gam_2)"
   ]
  },
  {
   "cell_type": "code",
   "execution_count": 41,
   "id": "ab1da517",
   "metadata": {},
   "outputs": [
    {
     "data": {
      "text/html": [
       "<style>\n",
       ".dl-inline {width: auto; margin:0; padding: 0}\n",
       ".dl-inline>dt, .dl-inline>dd {float: none; width: auto; display: inline-block}\n",
       ".dl-inline>dt::after {content: \":\\0020\"; padding-right: .5ex}\n",
       ".dl-inline>dt:not(:first-of-type) {padding-left: .5ex}\n",
       "</style><dl class=dl-inline><dt>2463</dt><dd>0.125548098529328</dd><dt>2511</dt><dd>0.267315188646898</dd><dt>10419</dt><dd>0.146194680552735</dd><dt>8718</dt><dd>0.1872880397435</dd><dt>12483</dt><dd>0.392380087677174</dd><dt>2986</dt><dd>0.0743248288826268</dd></dl>\n"
      ],
      "text/latex": [
       "\\begin{description*}\n",
       "\\item[2463] 0.125548098529328\n",
       "\\item[2511] 0.267315188646898\n",
       "\\item[10419] 0.146194680552735\n",
       "\\item[8718] 0.1872880397435\n",
       "\\item[12483] 0.392380087677174\n",
       "\\item[2986] 0.0743248288826268\n",
       "\\end{description*}\n"
      ],
      "text/markdown": [
       "2463\n",
       ":   0.1255480985293282511\n",
       ":   0.26731518864689810419\n",
       ":   0.1461946805527358718\n",
       ":   0.187288039743512483\n",
       ":   0.3923800876771742986\n",
       ":   0.0743248288826268\n",
       "\n"
      ],
      "text/plain": [
       "      2463       2511      10419       8718      12483       2986 \n",
       "0.12554810 0.26731519 0.14619468 0.18728804 0.39238009 0.07432483 "
      ]
     },
     "metadata": {},
     "output_type": "display_data"
    },
    {
     "data": {
      "text/html": [
       "<style>\n",
       ".dl-inline {width: auto; margin:0; padding: 0}\n",
       ".dl-inline>dt, .dl-inline>dd {float: none; width: auto; display: inline-block}\n",
       ".dl-inline>dt::after {content: \":\\0020\"; padding-right: .5ex}\n",
       ".dl-inline>dt:not(:first-of-type) {padding-left: .5ex}\n",
       "</style><dl class=dl-inline><dt>14001</dt><dd>0.22249237057845</dd><dt>14002</dt><dd>0.182347512186461</dd><dt>14003</dt><dd>0.168049732420492</dd><dt>14004</dt><dd>0.304082358035657</dd><dt>14005</dt><dd>0.131598746837128</dd><dt>14006</dt><dd>0.174104445013109</dd></dl>\n"
      ],
      "text/latex": [
       "\\begin{description*}\n",
       "\\item[14001] 0.22249237057845\n",
       "\\item[14002] 0.182347512186461\n",
       "\\item[14003] 0.168049732420492\n",
       "\\item[14004] 0.304082358035657\n",
       "\\item[14005] 0.131598746837128\n",
       "\\item[14006] 0.174104445013109\n",
       "\\end{description*}\n"
      ],
      "text/markdown": [
       "14001\n",
       ":   0.2224923705784514002\n",
       ":   0.18234751218646114003\n",
       ":   0.16804973242049214004\n",
       ":   0.30408235803565714005\n",
       ":   0.13159874683712814006\n",
       ":   0.174104445013109\n",
       "\n"
      ],
      "text/plain": [
       "    14001     14002     14003     14004     14005     14006 \n",
       "0.2224924 0.1823475 0.1680497 0.3040824 0.1315987 0.1741044 "
      ]
     },
     "metadata": {},
     "output_type": "display_data"
    }
   ],
   "source": [
    "# Predicting for the train set \n",
    "pred_train_prob <- predict(gam_2, newdata=train, type='response')\n",
    "head(pred_train_prob)\n",
    "\n",
    "# Predicting for the test set \n",
    "pred_test_prob <- predict(gam_2, newdata=test, type='response')\n",
    "head(pred_test_prob)"
   ]
  },
  {
   "cell_type": "code",
   "execution_count": 42,
   "id": "c25453df",
   "metadata": {},
   "outputs": [
    {
     "name": "stdout",
     "output_type": "stream",
     "text": [
      "[1] \"Confusion matrix:\"\n"
     ]
    },
    {
     "data": {
      "text/plain": [
       "          \n",
       "pred_train     0     1\n",
       "         0 10472  2178\n",
       "         1   435   915"
      ]
     },
     "metadata": {},
     "output_type": "display_data"
    },
    {
     "name": "stdout",
     "output_type": "stream",
     "text": [
      "[1] \"Accuracy = 0.81 %\"\n",
      "[1] \"Error = 0.31 %\"\n"
     ]
    },
    {
     "name": "stderr",
     "output_type": "stream",
     "text": [
      "Warning message in roc.default(as.numeric(pred_train_prob), as.numeric(train$default == :\n",
      "\"'response' has more than two levels. Consider setting 'levels' explicitly or using 'multiclass.roc' instead\"\n",
      "Setting levels: control = 0.00545342472849552, case = 0.00565465115173577\n",
      "\n",
      "Setting direction: controls < cases\n",
      "\n"
     ]
    },
    {
     "name": "stdout",
     "output_type": "stream",
     "text": [
      "[1] \"AUC = 0.5\"\n"
     ]
    }
   ],
   "source": [
    "# Evaluation model on train\n",
    "threshold <- 0.5  # Decision threshold\n",
    "pred_train <- rep('0', length(pred_train_prob))\n",
    "pred_train[pred_train_prob > threshold] <- '1'\n",
    "\n",
    "# Confusion matrix\n",
    "print('Confusion matrix:')\n",
    "table(pred_train, train$default)\n",
    "\n",
    "# Accuracy and error rate\n",
    "acc_train_gam <- mean(pred_train == train$default)\n",
    "err_rate <- 1 - acc\n",
    "print(paste('Accuracy =', round(acc_train_gam, 2), '%'))\n",
    "print(paste('Error =', round(err_rate, 2), '%'))\n",
    "\n",
    "# AUC\n",
    "pred_roc <- pROC::roc(as.numeric(pred_train_prob), as.numeric(train$default == \"1\"))\n",
    "pred_auc_train_gam <- pROC::auc(pred_roc)\n",
    "print(paste('AUC =', pred_auc_train_gam))"
   ]
  },
  {
   "cell_type": "code",
   "execution_count": 43,
   "id": "7f54a102",
   "metadata": {},
   "outputs": [
    {
     "name": "stdout",
     "output_type": "stream",
     "text": [
      "[1] \"Confusion matrix:\"\n"
     ]
    },
    {
     "data": {
      "text/plain": [
       "         \n",
       "pred_test    0    1\n",
       "        0 4481  931\n",
       "        1  198  390"
      ]
     },
     "metadata": {},
     "output_type": "display_data"
    },
    {
     "name": "stdout",
     "output_type": "stream",
     "text": [
      "[1] \"Accuracy = 0.81 %\"\n",
      "[1] \"Error = 0.31 %\"\n"
     ]
    },
    {
     "name": "stderr",
     "output_type": "stream",
     "text": [
      "Warning message in roc.default(as.numeric(pred_test_prob), as.numeric(test$default == :\n",
      "\"'response' has more than two levels. Consider setting 'levels' explicitly or using 'multiclass.roc' instead\"\n",
      "Setting levels: control = 0.00396544041150974, case = 0.00526071164303032\n",
      "\n",
      "Setting direction: controls < cases\n",
      "\n"
     ]
    },
    {
     "name": "stdout",
     "output_type": "stream",
     "text": [
      "[1] \"AUC = 0.5\"\n"
     ]
    }
   ],
   "source": [
    "# Evaluation model on test\n",
    "threshold <- 0.5  # Decision threshold\n",
    "pred_test <- rep('0', length(pred_test_prob))\n",
    "pred_test[pred_test_prob > threshold] <- '1'\n",
    "\n",
    "# Confusion matrix\n",
    "print('Confusion matrix:')\n",
    "table(pred_test, test$default)\n",
    "\n",
    "# Accuracy and error rate\n",
    "acc_test_gam <- mean(pred_test == test$default)\n",
    "err_rate <- 1 - acc\n",
    "print(paste('Accuracy =', round(acc_test_gam, 2), '%'))\n",
    "print(paste('Error =', round(err_rate, 2), '%'))\n",
    "\n",
    "# AUC\n",
    "pred_roc <- pROC::roc(as.numeric(pred_test_prob), as.numeric(test$default == \"1\"))\n",
    "pred_auc_test_gam <- pROC::auc(pred_roc)\n",
    "print(paste('AUC =', pred_auc_test_gam))"
   ]
  },
  {
   "cell_type": "markdown",
   "id": "656eaa6c",
   "metadata": {},
   "source": [
    "### Linear Discriminant Analysis "
   ]
  },
  {
   "cell_type": "code",
   "execution_count": 44,
   "id": "b3c7ca5a",
   "metadata": {},
   "outputs": [
    {
     "data": {
      "text/plain": [
       "Call:\n",
       "lda(default ~ ., data = train)\n",
       "\n",
       "Prior probabilities of groups:\n",
       "        0         1 \n",
       "0.7790714 0.2209286 \n",
       "\n",
       "Group means:\n",
       "  LIMIT_BAL      PAY_0      PAY_2      PAY_3      PAY_4      PAY_5      PAY_6\n",
       "0  175721.6 -0.2098652 -0.2956817 -0.3109929 -0.3515174 -0.3848904 -0.4016687\n",
       "1  130387.2  0.6479146  0.4445522  0.3630779  0.2492726  0.1538959  0.1008729\n",
       "  BILL_AMT1 BILL_AMT2 BILL_AMT3 BILL_AMT4 BILL_AMT5 BILL_AMT6 PAY_AMT1 PAY_AMT2\n",
       "0   51905.8  49570.88  47496.66  43254.08  40416.86  38915.48 6167.581 6557.843\n",
       "1   48985.0  47901.33  45848.93  42084.50  39420.95  38315.61 3366.043 3126.982\n",
       "  PAY_AMT3 PAY_AMT4 PAY_AMT5 PAY_AMT6 AGE_GROUP_35_50 AGE_GROUP_50_65\n",
       "0 5536.365 5239.532 5322.901 5661.599       0.3650866      0.06995507\n",
       "1 3337.000 2969.576 3065.048 3489.725       0.3785968      0.08503071\n",
       "  AGE_GROUP_Over_65     SEX_2 EDUCATION_1 EDUCATION_2 EDUCATION_3  EDUCATION_4\n",
       "0       0.003208948 0.6157514   0.3569267   0.4677730   0.1572385 0.0045842120\n",
       "1       0.003556418 0.5729066   0.2938894   0.5163272   0.1846104 0.0009699321\n",
       "  EDUCATION_5 EDUCATION_6 MARRIAGE_1 MARRIAGE_2  MARRIAGE_3\n",
       "0 0.011460530 0.001375264  0.4421931  0.5462547 0.009718529\n",
       "1 0.002586486 0.001616554  0.4759134  0.5092144 0.014225671\n",
       "\n",
       "Coefficients of linear discriminants:\n",
       "                            LD1\n",
       "LIMIT_BAL         -3.284666e-07\n",
       "PAY_0              7.062665e-01\n",
       "PAY_2              1.251913e-01\n",
       "PAY_3              9.862849e-02\n",
       "PAY_4              3.368751e-02\n",
       "PAY_5              2.635778e-02\n",
       "PAY_6              1.526661e-02\n",
       "BILL_AMT1         -5.178287e-06\n",
       "BILL_AMT2          1.248106e-06\n",
       "BILL_AMT3          3.043070e-06\n",
       "BILL_AMT4         -1.635224e-06\n",
       "BILL_AMT5         -1.943795e-06\n",
       "BILL_AMT6          1.491705e-06\n",
       "PAY_AMT1          -7.116216e-06\n",
       "PAY_AMT2          -4.405629e-06\n",
       "PAY_AMT3           1.352130e-06\n",
       "PAY_AMT4          -3.333521e-06\n",
       "PAY_AMT5          -5.079260e-06\n",
       "PAY_AMT6           1.417818e-07\n",
       "AGE_GROUP_35_50    1.784355e-01\n",
       "AGE_GROUP_50_65    2.178348e-01\n",
       "AGE_GROUP_Over_65  4.486029e-01\n",
       "SEX_2             -7.306611e-02\n",
       "EDUCATION_1        1.541378e+00\n",
       "EDUCATION_2        1.473854e+00\n",
       "EDUCATION_3        1.441177e+00\n",
       "EDUCATION_4        8.005868e-01\n",
       "EDUCATION_5        4.413509e-01\n",
       "EDUCATION_6        1.758570e+00\n",
       "MARRIAGE_1         1.337048e+00\n",
       "MARRIAGE_2         1.153583e+00\n",
       "MARRIAGE_3         1.439137e+00"
      ]
     },
     "metadata": {},
     "output_type": "display_data"
    }
   ],
   "source": [
    "# Fitting a Linear Discriminant Analysis with all the features\n",
    "lda_1 <- lda(default ~ ., data=train)\n",
    "lda_1"
   ]
  },
  {
   "cell_type": "code",
   "execution_count": 47,
   "id": "37d21734",
   "metadata": {},
   "outputs": [
    {
     "name": "stderr",
     "output_type": "stream",
     "text": [
      " `stepwise classification', using 10-fold cross-validated correctness rate of method lda'.\n",
      "\n",
      "14000 observations of 32 variables in 2 classes; direction: forward\n",
      "\n",
      "stop criterion: assemble 5 best variables.\n",
      "\n"
     ]
    },
    {
     "name": "stdout",
     "output_type": "stream",
     "text": [
      "correctness rate: 0.81864;  in: \"PAY_0\";  variables (1): PAY_0 \n",
      "correctness rate: 0.8195;  in: \"EDUCATION_5\";  variables (2): PAY_0, EDUCATION_5 \n",
      "correctness rate: 0.82;  in: \"PAY_5\";  variables (3): PAY_0, EDUCATION_5, PAY_5 \n",
      "correctness rate: 0.82014;  in: \"AGE_GROUP_50_65\";  variables (4): PAY_0, EDUCATION_5, PAY_5, AGE_GROUP_50_65 \n",
      "correctness rate: 0.82029;  in: \"MARRIAGE_3\";  variables (5): PAY_0, EDUCATION_5, PAY_5, AGE_GROUP_50_65, MARRIAGE_3 \n",
      "\n",
      " hr.elapsed min.elapsed sec.elapsed \n",
      "       0.00        2.00       11.28 \n",
      "\n"
     ]
    }
   ],
   "source": [
    "# Stepwise regression in order to get the best features \n",
    "# source: https://stats.stackexchange.com/questions/77414/step-wise-feature-selection-with-caret\n",
    "# source:https://stackoverflow.com/questions/32159649/steplda-without-cross-validation\n",
    "set.seed(123)\n",
    "maxvar <-(5) \n",
    "direction <-\"forward\"\n",
    "tune <-data.frame(maxvar,direction)\n",
    "\n",
    "slda <- train(as.factor(default) ~ . ,data = train,\n",
    "              method = \"stepLDA\",\n",
    "              trControl = trainControl(method = \"none\"), tuneGrid = tune )"
   ]
  },
  {
   "cell_type": "code",
   "execution_count": 49,
   "id": "802feb3e",
   "metadata": {},
   "outputs": [
    {
     "data": {
      "text/plain": [
       "Call:\n",
       "lda(default ~ PAY_0 + EDUCATION_5 + PAY_5 + AGE_GROUP_50_65 + \n",
       "    MARRIAGE_3, data = train)\n",
       "\n",
       "Prior probabilities of groups:\n",
       "        0         1 \n",
       "0.7790714 0.2209286 \n",
       "\n",
       "Group means:\n",
       "       PAY_0 EDUCATION_5      PAY_5 AGE_GROUP_50_65  MARRIAGE_3\n",
       "0 -0.2098652 0.011460530 -0.3848904      0.06995507 0.009718529\n",
       "1  0.6479146 0.002586486  0.1538959      0.08503071 0.014225671\n",
       "\n",
       "Coefficients of linear discriminants:\n",
       "                       LD1\n",
       "PAY_0            0.8641706\n",
       "EDUCATION_5     -1.2699373\n",
       "PAY_5            0.1447144\n",
       "AGE_GROUP_50_65  0.2131977\n",
       "MARRIAGE_3       0.3371653"
      ]
     },
     "metadata": {},
     "output_type": "display_data"
    }
   ],
   "source": [
    "# Fitting the gam model with the best features\n",
    "lda_2 = lda(default ~ PAY_0+EDUCATION_5+PAY_5+AGE_GROUP_50_65+MARRIAGE_3, data=train)\n",
    "lda_2"
   ]
  },
  {
   "cell_type": "code",
   "execution_count": 50,
   "id": "2d945177",
   "metadata": {},
   "outputs": [],
   "source": [
    "# Predicting for the train set \n",
    "pred_train_prob <- predict(lda_2, newdata=train, type='response')\n",
    "\n",
    "# Predicting for the test set \n",
    "pred_test_prob <- predict(lda_2, newdata=test, type='response')"
   ]
  },
  {
   "cell_type": "code",
   "execution_count": 51,
   "id": "38b88b95",
   "metadata": {},
   "outputs": [
    {
     "name": "stdout",
     "output_type": "stream",
     "text": [
      "[1] \"Confusion matrix:\"\n"
     ]
    },
    {
     "data": {
      "text/plain": [
       "   \n",
       "        0     1\n",
       "  0 10538  2148\n",
       "  1   369   945"
      ]
     },
     "metadata": {},
     "output_type": "display_data"
    },
    {
     "name": "stdout",
     "output_type": "stream",
     "text": [
      "[1] \"Accuracy = 0.82 %\"\n",
      "[1] \"Error = 0.31 %\"\n"
     ]
    },
    {
     "name": "stderr",
     "output_type": "stream",
     "text": [
      "Setting levels: control = 1, case = 2\n",
      "\n",
      "Setting direction: controls < cases\n",
      "\n"
     ]
    },
    {
     "name": "stdout",
     "output_type": "stream",
     "text": [
      "[1] \"AUC = 0.774928785696237\"\n"
     ]
    }
   ],
   "source": [
    "# Evaluation model on train set\n",
    "\n",
    "# Confusion matrix\n",
    "print('Confusion matrix:')\n",
    "table(pred_train_prob$class, train$default)\n",
    "\n",
    "# Accuracy and error rate\n",
    "acc_train_lda <- mean(pred_train_prob$class == train$default)\n",
    "err_rate <- 1 - acc\n",
    "print(paste('Accuracy =', round(acc_train_lda, 2), '%'))\n",
    "print(paste('Error =', round(err_rate, 2), '%'))\n",
    "\n",
    "# AUC\n",
    "pred_roc <- pROC::roc(as.numeric(pred_train_prob$class), as.numeric(train$default == \"1\"))\n",
    "pred_auc_train_lda <- pROC::auc(pred_roc)\n",
    "print(paste('AUC =', pred_auc_train_lda))"
   ]
  },
  {
   "cell_type": "code",
   "execution_count": 52,
   "id": "07be56ff",
   "metadata": {},
   "outputs": [
    {
     "name": "stdout",
     "output_type": "stream",
     "text": [
      "[1] \"Confusion matrix:\"\n"
     ]
    },
    {
     "data": {
      "text/plain": [
       "   \n",
       "       0    1\n",
       "  0 4490  934\n",
       "  1  189  387"
      ]
     },
     "metadata": {},
     "output_type": "display_data"
    },
    {
     "name": "stdout",
     "output_type": "stream",
     "text": [
      "[1] \"Accuracy = 0.81 %\"\n",
      "[1] \"Error = 0.31 %\"\n"
     ]
    },
    {
     "name": "stderr",
     "output_type": "stream",
     "text": [
      "Setting levels: control = 1, case = 2\n",
      "\n",
      "Setting direction: controls < cases\n",
      "\n"
     ]
    },
    {
     "name": "stdout",
     "output_type": "stream",
     "text": [
      "[1] \"AUC = 0.749838679941003\"\n"
     ]
    }
   ],
   "source": [
    "# Evaluation model on test\n",
    "\n",
    "# Confusion matrix\n",
    "print('Confusion matrix:')\n",
    "table(pred_test_prob$class, test$default)\n",
    "\n",
    "# Accuracy and error rate\n",
    "acc_test_lda <- mean(pred_test_prob$class == test$default)\n",
    "err_rate <- 1 - acc\n",
    "print(paste('Accuracy =', round(acc_test_lda, 2), '%'))\n",
    "print(paste('Error =', round(err_rate, 2), '%'))\n",
    "\n",
    "# AUC\n",
    "pred_roc <- pROC::roc(as.numeric(pred_test_prob$class), as.numeric(test$default == \"1\"))\n",
    "pred_auc_test_lda <- pROC::auc(pred_roc)\n",
    "print(paste('AUC =', pred_auc_test_lda))"
   ]
  },
  {
   "cell_type": "code",
   "execution_count": 53,
   "id": "ea8aba00",
   "metadata": {},
   "outputs": [
    {
     "name": "stderr",
     "output_type": "stream",
     "text": [
      "Resampling: cross-validation\n",
      "\n",
      "Measures:             auc       \n",
      "\n",
      "[Resample] iter 1:    0.7060117 \n",
      "\n",
      "[Resample] iter 2:    0.7197367 \n",
      "\n",
      "[Resample] iter 3:    0.6890267 \n",
      "\n",
      "[Resample] iter 4:    0.6891972 \n",
      "\n",
      "[Resample] iter 5:    0.7434256 \n",
      "\n",
      "[Resample] iter 6:    0.7329274 \n",
      "\n",
      "[Resample] iter 7:    0.7329332 \n",
      "\n",
      "[Resample] iter 8:    0.7205763 \n",
      "\n",
      "[Resample] iter 9:    0.7073050 \n",
      "\n",
      "[Resample] iter 10:   0.7142358 \n",
      "\n",
      "\n",
      "\n",
      "\n",
      "Aggregated Result: auc.test.mean=0.7155375\n",
      "\n",
      "\n",
      "\n",
      "\n"
     ]
    },
    {
     "data": {
      "text/plain": [
       "Resample Result\n",
       "Task: train\n",
       "Learner: classif.lda\n",
       "Aggr perf: auc.test.mean=0.7155375\n",
       "Runtime: 2.14818"
      ]
     },
     "metadata": {},
     "output_type": "display_data"
    }
   ],
   "source": [
    "# Set up cross-validation on train set \n",
    "rdesc = makeResampleDesc(\"CV\", iters=10)\n",
    "\n",
    "# Define the model\n",
    "lnr_logreg <- makeLearner(\"classif.lda\", predict.type=\"prob\", fix.factors.prediction=T)\n",
    "\n",
    "# Define the model\n",
    "task_logreg <- makeClassifTask(id=\"train\", data=train, target=\"default\")\n",
    "\n",
    "# Run the k-fold CV\n",
    "resample(lnr_logreg, task_logreg, rdesc, measures=list(mlr::auc))"
   ]
  },
  {
   "cell_type": "code",
   "execution_count": 54,
   "id": "53d6e79e",
   "metadata": {},
   "outputs": [
    {
     "name": "stderr",
     "output_type": "stream",
     "text": [
      "Resampling: cross-validation\n",
      "\n",
      "Measures:             auc       \n",
      "\n",
      "[Resample] iter 1:    0.7074043 \n",
      "\n",
      "[Resample] iter 2:    0.6940371 \n",
      "\n",
      "[Resample] iter 3:    0.6924165 \n",
      "\n",
      "Warning message in lda.default(x, grouping, ...):\n",
      "\"variables are collinear\"\n",
      "[Resample] iter 4:    0.6948655 \n",
      "\n",
      "[Resample] iter 5:    0.6628488 \n",
      "\n",
      "[Resample] iter 6:    0.6738445 \n",
      "\n",
      "[Resample] iter 7:    0.6804800 \n",
      "\n",
      "[Resample] iter 8:    0.6976013 \n",
      "\n",
      "[Resample] iter 9:    0.7050023 \n",
      "\n",
      "[Resample] iter 10:   0.7094004 \n",
      "\n",
      "\n",
      "\n",
      "\n",
      "Aggregated Result: auc.test.mean=0.6917901\n",
      "\n",
      "\n",
      "\n",
      "\n"
     ]
    },
    {
     "data": {
      "text/plain": [
       "Resample Result\n",
       "Task: test\n",
       "Learner: classif.lda\n",
       "Aggr perf: auc.test.mean=0.6917901\n",
       "Runtime: 1.07713"
      ]
     },
     "metadata": {},
     "output_type": "display_data"
    }
   ],
   "source": [
    "# Set up cross-validation on test set\n",
    "rdesc = makeResampleDesc(\"CV\", iters=10)\n",
    "\n",
    "# Define the model\n",
    "lnr_logreg <- makeLearner(\"classif.lda\", predict.type=\"prob\", fix.factors.prediction=T)\n",
    "\n",
    "# Define the model\n",
    "task_logreg <- makeClassifTask(id=\"test\", data=test, target=\"default\")\n",
    "\n",
    "# Run the k-fold CV\n",
    "resample(lnr_logreg, task_logreg, rdesc, measures=list(mlr::auc))"
   ]
  },
  {
   "cell_type": "markdown",
   "id": "f7aacdb3",
   "metadata": {},
   "source": [
    "### Decision Tree  "
   ]
  },
  {
   "cell_type": "code",
   "execution_count": 55,
   "id": "8725c0b2",
   "metadata": {},
   "outputs": [
    {
     "data": {
      "text/plain": [
       "node), split, n, deviance, yval\n",
       "      * denotes terminal node\n",
       "\n",
       "1) root 14000 2410.0 0.2209  \n",
       "  2) PAY_0 < 1.5 12578 1753.0 0.1674  \n",
       "    4) PAY_2 < 1.5 11534 1436.0 0.1457  \n",
       "      8) PAY_AMT3 < 622.5 3097  536.8 0.2231 *\n",
       "      9) PAY_AMT3 > 622.5 8437  873.8 0.1173 *\n",
       "    5) PAY_2 > 1.5 1044  251.8 0.4061 *\n",
       "  3) PAY_0 > 1.5 1422  301.5 0.6948 *"
      ]
     },
     "metadata": {},
     "output_type": "display_data"
    }
   ],
   "source": [
    "# Fit the  tree\n",
    "tree_1 <- tree(default ~ ., data=train)\n",
    "tree_1"
   ]
  },
  {
   "cell_type": "code",
   "execution_count": 56,
   "id": "1c432512",
   "metadata": {},
   "outputs": [
    {
     "data": {
      "image/png": "[encoded data removed]",
      "text/plain": [
       "plot without title"
      ]
     },
     "metadata": {
      "image/png": {
       "height": 360,
       "width": 900
      }
     },
     "output_type": "display_data"
    }
   ],
   "source": [
    "# Plot the classification tree\n",
    "options(repr.plot.width=15, repr.plot.height=6)\n",
    "plot(tree_1, type='uniform')\n",
    "text(tree_1, pretty=0)"
   ]
  },
  {
   "cell_type": "code",
   "execution_count": 57,
   "id": "70babc8e",
   "metadata": {},
   "outputs": [
    {
     "data": {
      "text/plain": [
       "$size\n",
       "[1] 4 3 2 1\n",
       "\n",
       "$dev\n",
       "[1] 1975.334 1991.605 2055.481 2410.280\n",
       "\n",
       "$k\n",
       "[1]     -Inf  25.3482  64.9095 355.4102\n",
       "\n",
       "$method\n",
       "[1] \"deviance\"\n",
       "\n",
       "attr(,\"class\")\n",
       "[1] \"prune\"         \"tree.sequence\""
      ]
     },
     "metadata": {},
     "output_type": "display_data"
    }
   ],
   "source": [
    "# Get the best size for the tree \n",
    "set.seed(3)\n",
    "cv_bt <- cv.tree(tree_1)\n",
    "cv_bt"
   ]
  },
  {
   "cell_type": "code",
   "execution_count": 58,
   "id": "32eb3aeb",
   "metadata": {
    "scrolled": true
   },
   "outputs": [
    {
     "name": "stdout",
     "output_type": "stream",
     "text": [
      "[1] \"Best tree size = 4\"\n",
      "[1] \"Best Error = 1975.33362810381\"\n",
      "[1] \"Best alpha = -Inf\"\n"
     ]
    }
   ],
   "source": [
    "# Best tree size\n",
    "min_idx <- which.min(cv_bt$dev)\n",
    "tree_size <- cv_bt$size[min_idx]\n",
    "tree_dev <- cv_bt$dev[min_idx]\n",
    "tree_k <- cv_bt$k[min_idx]\n",
    "\n",
    "print(paste0('Best tree size = ', tree_size))\n",
    "print(paste0('Best Error = ', tree_dev))\n",
    "print(paste0('Best alpha = ', tree_k))"
   ]
  },
  {
   "cell_type": "code",
   "execution_count": 59,
   "id": "d5e987d3",
   "metadata": {},
   "outputs": [
    {
     "data": {
      "image/png": "[encoded data removed]",
      "text/plain": [
       "plot without title"
      ]
     },
     "metadata": {
      "image/png": {
       "height": 480,
       "width": 900
      }
     },
     "output_type": "display_data"
    }
   ],
   "source": [
    "# Prune the tree\n",
    "prune_tree <- prune.tree(tree_1, best=tree_size)\n",
    "\n",
    "# Show the tree\n",
    "options(repr.plot.width=15, repr.plot.height=8)\n",
    "plot(prune_tree)\n",
    "text(prune_tree, pretty=0)"
   ]
  },
  {
   "cell_type": "code",
   "execution_count": 60,
   "id": "e919cdde",
   "metadata": {
    "scrolled": true
   },
   "outputs": [],
   "source": [
    "# Predicting for the train set with modified tree  \n",
    "pred_train_prob <- predict(prune_tree, newdata=train)\n",
    "\n",
    "# Predicting for the test set \n",
    "pred_test_prob <- predict(prune_tree, newdata=test)"
   ]
  },
  {
   "cell_type": "code",
   "execution_count": 61,
   "id": "9fc05d5c",
   "metadata": {
    "scrolled": false
   },
   "outputs": [
    {
     "name": "stdout",
     "output_type": "stream",
     "text": [
      "[1] \"Confusion matrix:\"\n"
     ]
    },
    {
     "data": {
      "text/plain": [
       "          \n",
       "pred_train     0     1\n",
       "         0 10473  2105\n",
       "         1   434   988"
      ]
     },
     "metadata": {},
     "output_type": "display_data"
    },
    {
     "name": "stdout",
     "output_type": "stream",
     "text": [
      "[1] \"Accuracy = 0.82 %\"\n",
      "[1] \"Error = 0.31 %\"\n"
     ]
    },
    {
     "name": "stderr",
     "output_type": "stream",
     "text": [
      "Warning message in roc.default(as.numeric(pred_train_prob), as.numeric(train$default == :\n",
      "\"'response' has more than two levels. Consider setting 'levels' explicitly or using 'multiclass.roc' instead\"\n",
      "Setting levels: control = 0.117340286831812, case = 0.223119147562157\n",
      "\n",
      "Setting direction: controls < cases\n",
      "\n"
     ]
    },
    {
     "name": "stdout",
     "output_type": "stream",
     "text": [
      "[1] \"AUC = 0.552889430365172\"\n"
     ]
    }
   ],
   "source": [
    "# Evaluation model on train\n",
    "threshold <- 0.5  # Decision threshold\n",
    "pred_train <- rep('0', length(pred_train_prob))\n",
    "pred_train[pred_train_prob > threshold] <- '1'\n",
    "\n",
    "# Confusion matrix\n",
    "print('Confusion matrix:')\n",
    "table(pred_train, train$default)\n",
    "\n",
    "# Accuracy and error rate\n",
    "acc_train_tree <- mean(pred_train == train$default)\n",
    "err_rate <- 1 - acc\n",
    "print(paste('Accuracy =', round(acc_train_tree, 2), '%'))\n",
    "print(paste('Error =', round(err_rate, 2), '%'))\n",
    "\n",
    "# AUC\n",
    "pred_roc <- pROC::roc(as.numeric(pred_train_prob), as.numeric(train$default == \"1\"))\n",
    "pred_auc_train_tree <- pROC::auc(pred_roc)\n",
    "print(paste('AUC =', pred_auc_train_tree))"
   ]
  },
  {
   "cell_type": "code",
   "execution_count": 62,
   "id": "9607077c",
   "metadata": {},
   "outputs": [
    {
     "name": "stdout",
     "output_type": "stream",
     "text": [
      "[1] \"Confusion matrix:\"\n"
     ]
    },
    {
     "data": {
      "text/plain": [
       "         \n",
       "pred_test    0    1\n",
       "        0 4469  909\n",
       "        1  210  412"
      ]
     },
     "metadata": {},
     "output_type": "display_data"
    },
    {
     "name": "stdout",
     "output_type": "stream",
     "text": [
      "[1] \"Accuracy = 0.81 %\"\n",
      "[1] \"Error = 0.31 %\"\n"
     ]
    },
    {
     "name": "stderr",
     "output_type": "stream",
     "text": [
      "Warning message in roc.default(as.numeric(pred_test_prob), as.numeric(test$default == :\n",
      "\"'response' has more than two levels. Consider setting 'levels' explicitly or using 'multiclass.roc' instead\"\n",
      "Setting levels: control = 0.117340286831812, case = 0.223119147562157\n",
      "\n",
      "Setting direction: controls < cases\n",
      "\n"
     ]
    },
    {
     "name": "stdout",
     "output_type": "stream",
     "text": [
      "[1] \"AUC = 0.547601343660971\"\n"
     ]
    }
   ],
   "source": [
    "# Evaluation model on test\n",
    "threshold <- 0.5  # Decision threshold\n",
    "pred_test <- rep('0', length(pred_test_prob))\n",
    "pred_test[pred_test_prob > threshold] <- '1'\n",
    "\n",
    "# Confusion matrix\n",
    "print('Confusion matrix:')\n",
    "table(pred_test, test$default)\n",
    "\n",
    "# Accuracy and error rate\n",
    "acc_test_tree <- mean(pred_test == test$default)\n",
    "err_rate <- 1 - acc\n",
    "print(paste('Accuracy =', round(acc_test_tree, 2), '%'))\n",
    "print(paste('Error =', round(err_rate, 2), '%'))\n",
    "\n",
    "# AUC\n",
    "pred_roc <- pROC::roc(as.numeric(pred_test_prob), as.numeric(test$default == \"1\"))\n",
    "pred_auc_test_tree <- pROC::auc(pred_roc)\n",
    "print(paste('AUC =', pred_auc_test_tree))"
   ]
  },
  {
   "cell_type": "markdown",
   "id": "7bc695b4",
   "metadata": {},
   "source": [
    "## Benchmark "
   ]
  },
  {
   "cell_type": "code",
   "execution_count": 93,
   "id": "3446fcca",
   "metadata": {},
   "outputs": [
    {
     "name": "stdout",
     "output_type": "stream",
     "text": [
      "      KNN               Logistic Regression GAM               LDA              \n",
      "Train NA                0.810571428571429   0.813357142857143 0.820214285714286\n",
      "test  0.775666666666667 0.804833333333333   0.811833333333333 0.812833333333333\n",
      "      Decision Tree    \n",
      "Train 0.818642857142857\n",
      "test  0.8135           \n"
     ]
    }
   ],
   "source": [
    "# Creating a table with accuracy for all the models\n",
    "tab <- c('NA', acc_train_logreg, acc_train_gam, acc_train_lda, acc_train_tree, acc_test_knn, acc_test_logreg, acc_test_gam, acc_test_lda, acc_test_tree)\n",
    "benchmark_acc <- matrix(tab, ncol=5, byrow=TRUE)\n",
    "colnames(benchmark_acc) <- c('KNN', 'Logistic Regression', 'GAM', 'LDA', 'Decision Tree')\n",
    "rownames(benchmark_acc) <- c('Train', 'test')\n",
    "benchmark_table <- as.table(benchmark_acc)\n",
    "\n",
    "print(benchmark_table)"
   ]
  },
  {
   "cell_type": "code",
   "execution_count": 94,
   "id": "b64b71a0",
   "metadata": {},
   "outputs": [
    {
     "data": {
      "text/plain": [
       "      Logistic Regression       GAM       LDA Decision Tree\n",
       "Train           0.7267021 0.5000000 0.7749288     0.5528894\n",
       "test            0.7028466 0.5000000 0.7498387     0.5476013"
      ]
     },
     "metadata": {},
     "output_type": "display_data"
    }
   ],
   "source": [
    "# Creating a table with AUC for the models\n",
    "tab <- c(pred_auc_train_logreg, pred_auc_train_gam, pred_auc_train_lda, pred_auc_train_tree, pred_auc_test_logreg, pred_auc_test_gam, pred_auc_test_lda, pred_auc_test_tree)\n",
    "benchmark_auc <- matrix(tab, ncol=4, byrow=TRUE)\n",
    "colnames(benchmark_auc) <- c('Logistic Regression', 'GAM', 'LDA', 'Decision Tree')\n",
    "rownames(benchmark_auc) <- c('Train', 'test')\n",
    "benchmark2_table <- as.table(benchmark_auc)\n",
    "benchmark2_table"
   ]
  },
  {
   "cell_type": "code",
   "execution_count": 95,
   "id": "ba41bda5",
   "metadata": {},
   "outputs": [],
   "source": [
    "write.csv(train,\"C:/Users/cgallet/OneDrive - IESEG/MBD/Statistical_ML for Marketing/Individual Assignment/Individual_Assignment_CharlotteGallet/train.csv\", row.names = FALSE)"
   ]
  },
  {
   "cell_type": "code",
   "execution_count": 96,
   "id": "8aa4b1e8",
   "metadata": {},
   "outputs": [],
   "source": [
    "write.csv(test,\"C:/Users/cgallet/OneDrive - IESEG/MBD/Statistical_ML for Marketing/Individual Assignment/Individual_Assignment_CharlotteGallet/test.csv\", row.names = FALSE)"
   ]
  }
 ],
 "metadata": {
  "kernelspec": {
   "display_name": "R",
   "language": "R",
   "name": "ir"
  },
  "language_info": {
   "codemirror_mode": "r",
   "file_extension": ".r",
   "mimetype": "text/x-r-source",
   "name": "R",
   "pygments_lexer": "r",
   "version": "4.0.5"
  }
 },
 "nbformat": 4,
 "nbformat_minor": 5
}
