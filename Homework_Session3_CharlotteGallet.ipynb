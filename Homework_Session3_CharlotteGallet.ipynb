{
 "cells": [
  {
   "cell_type": "markdown",
   "id": "f94bfc7b",
   "metadata": {},
   "source": [
    "### Exercises Chapter 5 from the Introduction to Statistical Learning book "
   ]
  },
  {
   "cell_type": "markdown",
   "id": "9dd82d5d",
   "metadata": {},
   "source": [
    "Exercise 3 \n",
    "\n",
    "(a)\n",
    "\n",
    "K-fold cross validation is implemented in a way where the model looks at different groups, one at a time. \n",
    "The idea is to divide the observations of the data sets into various, random groups, of amount k, also called folds. \n",
    "Once there are k folds, we then try to use the first group as a test set and the remaining groups as the train set, on which the model is fitted. \n",
    "From this first fit, the MSE (mean squared error) is computed. \n",
    "This operation is repeted over all the k groups, which creates k MSEs. \n",
    "To have a final measure, all the MSE are averaged into one results called the Cross-Validation. \n",
    "\n",
    "(b) \n",
    "\n",
    "i.  The advantage of the k-fold cross validation relative to the validation set approach is its increased accuracy of test error rate result as it will have more training set than in the validation set approach. \n",
    "    The disadvantage relative to the validation set approach is that the k-fold cross validation requires more computation because the data set is divided into several groups, whereas the validation set approach only divides into two groups. \n",
    "    \n",
    "ii. The advantages of the k-fold cross validation relative to the LOOCV is first, the fact that it requires less computational power. It is easier to fit a model a fixed number of times rather than n number of times. Second, it gives more accurate estimates. Thanks to the bias-variance trade-off, the test error rate are often more precise. \n",
    "    The disadvantage relative to the LOOCV is that it will give a better accuracy but a lower variance in the error test rate because the models are fitted across almost indentical training set which allow a lower variance. On the contrary, k-fold cross validation is fitted on training set where they are less likely to be similar which lead to a higher variance. "
   ]
  },
  {
   "cell_type": "code",
   "execution_count": 24,
   "id": "0a372fa4",
   "metadata": {},
   "outputs": [
    {
     "data": {
      "image/png": "[encoded data removed]",
      "text/plain": [
       "plot without title"
      ]
     },
     "metadata": {
      "image/png": {
       "height": 420,
       "width": 420
      }
     },
     "output_type": "display_data"
    }
   ],
   "source": [
    "# Exercise 8 \n",
    "\n",
    "#(a)\n",
    "\n",
    "set.seed(1)\n",
    "x = rnorm(100)\n",
    "y = x-2*x^2+rnorm(100)\n",
    "data = data.frame(x,y)\n",
    "\n",
    "# In this data set, n=100 and p=2\n",
    "# The model can be written as Y = X - 2X^2 + e, where e is the standard error \n",
    "\n",
    "#(b)\n",
    "\n",
    "plot(x,y)\n",
    "\n",
    "# We can see a bell shaped distribution from this scatter plot. "
   ]
  },
  {
   "cell_type": "code",
   "execution_count": 25,
   "id": "92860a97",
   "metadata": {},
   "outputs": [
    {
     "name": "stdout",
     "output_type": "stream",
     "text": [
      "[1] 7.288162 7.284744\n",
      "[1] 0.9374236 0.9371789\n",
      "[1] 0.9566218 0.9562538\n",
      "[1] 0.9539049 0.9534453\n"
     ]
    }
   ],
   "source": [
    "#(c)\n",
    "library(boot)\n",
    "set.seed(1)\n",
    "# i. \n",
    "glm.fit.i = glm(y~x)\n",
    "cv.error.i = cv.glm(data, glm.fit.i)$delta\n",
    "print(cv.error.i)\n",
    "\n",
    "# ii. \n",
    "glm.fit.ii = glm(y~poly(x,2))\n",
    "cv.error.ii = cv.glm(data, glm.fit.ii)$delta\n",
    "print(cv.error.ii)\n",
    "\n",
    "# iii. \n",
    "glm.fit.iii = glm(y~poly(x,3))\n",
    "cv.error.iii = cv.glm(data, glm.fit.iii)$delta\n",
    "print(cv.error.iii)\n",
    "\n",
    "# iiii.\n",
    "glm.fit.iiii = glm(y~poly(x,4))\n",
    "cv.error.iiii = cv.glm(data, glm.fit.iiii)$delta\n",
    "print(cv.error.iiii)"
   ]
  },
  {
   "cell_type": "code",
   "execution_count": 26,
   "id": "4a555ef6",
   "metadata": {},
   "outputs": [
    {
     "name": "stdout",
     "output_type": "stream",
     "text": [
      "[1] 7.288162 7.284744\n",
      "[1] 0.9374236 0.9371789\n",
      "[1] 0.9566218 0.9562538\n",
      "[1] 0.9539049 0.9534453\n"
     ]
    }
   ],
   "source": [
    "#(d)\n",
    "set.seed(5)\n",
    "# i. \n",
    "glm.fit.i = glm(y~x)\n",
    "cv.error.i = cv.glm(data, glm.fit.i)$delta\n",
    "print(cv.error.i)\n",
    "\n",
    "# ii. \n",
    "glm.fit.ii = glm(y~poly(x,2))\n",
    "cv.error.ii = cv.glm(data, glm.fit.ii)$delta\n",
    "print(cv.error.ii)\n",
    "\n",
    "# iii. \n",
    "glm.fit.iii = glm(y~poly(x,3))\n",
    "cv.error.iii = cv.glm(data, glm.fit.iii)$delta\n",
    "print(cv.error.iii)\n",
    "\n",
    "# iiii.\n",
    "glm.fit.iiii = glm(y~poly(x,4))\n",
    "cv.error.iiii = cv.glm(data, glm.fit.iiii)$delta\n",
    "print(cv.error.iiii)\n",
    "\n",
    "# The results are the same in both cases. "
   ]
  },
  {
   "cell_type": "code",
   "execution_count": 27,
   "id": "0184245b",
   "metadata": {},
   "outputs": [
    {
     "data": {
      "text/plain": [
       "\n",
       "Call:\n",
       "glm(formula = y ~ x)\n",
       "\n",
       "Deviance Residuals: \n",
       "    Min       1Q   Median       3Q      Max  \n",
       "-9.5161  -0.6800   0.6812   1.5491   3.8183  \n",
       "\n",
       "Coefficients:\n",
       "            Estimate Std. Error t value Pr(>|t|)    \n",
       "(Intercept)  -1.6254     0.2619  -6.205 1.31e-08 ***\n",
       "x             0.6925     0.2909   2.380   0.0192 *  \n",
       "---\n",
       "Signif. codes:  0 '***' 0.001 '**' 0.01 '*' 0.05 '.' 0.1 ' ' 1\n",
       "\n",
       "(Dispersion parameter for gaussian family taken to be 6.760719)\n",
       "\n",
       "    Null deviance: 700.85  on 99  degrees of freedom\n",
       "Residual deviance: 662.55  on 98  degrees of freedom\n",
       "AIC: 478.88\n",
       "\n",
       "Number of Fisher Scoring iterations: 2\n"
      ]
     },
     "metadata": {},
     "output_type": "display_data"
    },
    {
     "data": {
      "text/plain": [
       "\n",
       "Call:\n",
       "glm(formula = y ~ poly(x, 2))\n",
       "\n",
       "Deviance Residuals: \n",
       "    Min       1Q   Median       3Q      Max  \n",
       "-1.9650  -0.6254  -0.1288   0.5803   2.2700  \n",
       "\n",
       "Coefficients:\n",
       "            Estimate Std. Error t value Pr(>|t|)    \n",
       "(Intercept)  -1.5500     0.0958  -16.18  < 2e-16 ***\n",
       "poly(x, 2)1   6.1888     0.9580    6.46 4.18e-09 ***\n",
       "poly(x, 2)2 -23.9483     0.9580  -25.00  < 2e-16 ***\n",
       "---\n",
       "Signif. codes:  0 '***' 0.001 '**' 0.01 '*' 0.05 '.' 0.1 ' ' 1\n",
       "\n",
       "(Dispersion parameter for gaussian family taken to be 0.9178258)\n",
       "\n",
       "    Null deviance: 700.852  on 99  degrees of freedom\n",
       "Residual deviance:  89.029  on 97  degrees of freedom\n",
       "AIC: 280.17\n",
       "\n",
       "Number of Fisher Scoring iterations: 2\n"
      ]
     },
     "metadata": {},
     "output_type": "display_data"
    },
    {
     "data": {
      "text/plain": [
       "\n",
       "Call:\n",
       "glm(formula = y ~ poly(x, 3))\n",
       "\n",
       "Deviance Residuals: \n",
       "    Min       1Q   Median       3Q      Max  \n",
       "-1.9765  -0.6302  -0.1227   0.5545   2.2843  \n",
       "\n",
       "Coefficients:\n",
       "             Estimate Std. Error t value Pr(>|t|)    \n",
       "(Intercept)  -1.55002    0.09626 -16.102  < 2e-16 ***\n",
       "poly(x, 3)1   6.18883    0.96263   6.429 4.97e-09 ***\n",
       "poly(x, 3)2 -23.94830    0.96263 -24.878  < 2e-16 ***\n",
       "poly(x, 3)3   0.26411    0.96263   0.274    0.784    \n",
       "---\n",
       "Signif. codes:  0 '***' 0.001 '**' 0.01 '*' 0.05 '.' 0.1 ' ' 1\n",
       "\n",
       "(Dispersion parameter for gaussian family taken to be 0.9266599)\n",
       "\n",
       "    Null deviance: 700.852  on 99  degrees of freedom\n",
       "Residual deviance:  88.959  on 96  degrees of freedom\n",
       "AIC: 282.09\n",
       "\n",
       "Number of Fisher Scoring iterations: 2\n"
      ]
     },
     "metadata": {},
     "output_type": "display_data"
    },
    {
     "data": {
      "text/plain": [
       "\n",
       "Call:\n",
       "glm(formula = y ~ poly(x, 4))\n",
       "\n",
       "Deviance Residuals: \n",
       "    Min       1Q   Median       3Q      Max  \n",
       "-2.0550  -0.6212  -0.1567   0.5952   2.2267  \n",
       "\n",
       "Coefficients:\n",
       "             Estimate Std. Error t value Pr(>|t|)    \n",
       "(Intercept)  -1.55002    0.09591 -16.162  < 2e-16 ***\n",
       "poly(x, 4)1   6.18883    0.95905   6.453 4.59e-09 ***\n",
       "poly(x, 4)2 -23.94830    0.95905 -24.971  < 2e-16 ***\n",
       "poly(x, 4)3   0.26411    0.95905   0.275    0.784    \n",
       "poly(x, 4)4   1.25710    0.95905   1.311    0.193    \n",
       "---\n",
       "Signif. codes:  0 '***' 0.001 '**' 0.01 '*' 0.05 '.' 0.1 ' ' 1\n",
       "\n",
       "(Dispersion parameter for gaussian family taken to be 0.9197797)\n",
       "\n",
       "    Null deviance: 700.852  on 99  degrees of freedom\n",
       "Residual deviance:  87.379  on 95  degrees of freedom\n",
       "AIC: 282.3\n",
       "\n",
       "Number of Fisher Scoring iterations: 2\n"
      ]
     },
     "metadata": {},
     "output_type": "display_data"
    }
   ],
   "source": [
    "#(e)\n",
    "\n",
    "# The model with the lowest LOOCV error seems to be the second equation. It seems logical as it is in a quadratic form which is the same as the scatter plot above. \n",
    "\n",
    "#(f)\n",
    "summary(glm.fit.i)\n",
    "summary(glm.fit.ii)\n",
    "summary(glm.fit.iii)\n",
    "summary(glm.fit.iiii)\n",
    "\n",
    "# The results agree with the conlusions d'awn based on cross-validation results as we can see that with flm.fit.ii,\n",
    "# the p-values of every predictor is statistically significant. "
   ]
  },
  {
   "cell_type": "markdown",
   "id": "f87b0e53",
   "metadata": {},
   "source": [
    "### Exercises Chapter 6 from the Introduction to Statistical Learning book "
   ]
  },
  {
   "cell_type": "markdown",
   "id": "b0542a0e",
   "metadata": {},
   "source": [
    "Exercise 1 \n",
    "\n",
    "(a)\n",
    "Best subset will be the model with the smallest training RSS as it takes into account all the predictors, it will also have the largest R^2\n",
    "\n",
    "(b)\n",
    "In link with the question before, it is possible that the best subset will have the smallest test RSS. However, this also depends on the model and its similarity to other models. If they are all quite similar, it might be interesting to take the model which has the lowest amount of predictors. \n",
    "\n",
    "(c) \n",
    "i. True \n",
    "ii. True \n",
    "iii. False\n",
    "iv. False\n",
    "v. False"
   ]
  },
  {
   "cell_type": "code",
   "execution_count": 52,
   "id": "51f6b709",
   "metadata": {},
   "outputs": [
    {
     "data": {
      "text/html": [
       "1867143.97729087"
      ],
      "text/latex": [
       "1867143.97729087"
      ],
      "text/markdown": [
       "1867143.97729087"
      ],
      "text/plain": [
       "[1] 1867144"
      ]
     },
     "metadata": {},
     "output_type": "display_data"
    }
   ],
   "source": [
    "# Exercise 9 \n",
    "\n",
    "#(a)\n",
    "library(ISLR)\n",
    "\n",
    "set.seed(8)\n",
    "x = model.matrix(Apps~.,College)[,-1]\n",
    "y = College$Apps\n",
    "grid = 10^seq(10,-2,length=100)\n",
    "\n",
    "train = sample(1:nrow(x), nrow(x)/1.3)\n",
    "test = (-train)\n",
    "y_test = y[test]\n",
    "\n",
    "train_college = data.frame(College[train,])\n",
    "test_college = data.frame(College[test,])\n",
    "#(b)\n",
    "lm.fit = lm(Apps~., data=train_college)\n",
    "lm.pred = predict(lm.fit, test_college)\n",
    "mean((lm.pred-test_college$Apps)^2)"
   ]
  },
  {
   "cell_type": "code",
   "execution_count": 38,
   "id": "714c516d",
   "metadata": {},
   "outputs": [
    {
     "data": {
      "text/html": [
       "3518664.08888025"
      ],
      "text/latex": [
       "3518664.08888025"
      ],
      "text/markdown": [
       "3518664.08888025"
      ],
      "text/plain": [
       "[1] 3518664"
      ]
     },
     "metadata": {},
     "output_type": "display_data"
    }
   ],
   "source": [
    "#(c)\n",
    "library(glmnet)\n",
    "cv = cv.glmnet(x[train,],y[train],alpha=0)\n",
    "lambda = cv$lambda.min\n",
    "\n",
    "ridge_reg = glmnet(x[train,],y[train],alpha=0,lambda=grid, thresh=1e-12)\n",
    "ridge_pred = predict(ridge_reg, s=lambda, newx=x[test,])\n",
    "mean((ridge_pred-y_test)^2)"
   ]
  },
  {
   "cell_type": "code",
   "execution_count": 40,
   "id": "673244d2",
   "metadata": {},
   "outputs": [
    {
     "data": {
      "text/html": [
       "2064128.01525483"
      ],
      "text/latex": [
       "2064128.01525483"
      ],
      "text/markdown": [
       "2064128.01525483"
      ],
      "text/plain": [
       "[1] 2064128"
      ]
     },
     "metadata": {},
     "output_type": "display_data"
    },
    {
     "data": {
      "text/html": [
       "13"
      ],
      "text/latex": [
       "13"
      ],
      "text/markdown": [
       "13"
      ],
      "text/plain": [
       "[1] 13"
      ]
     },
     "metadata": {},
     "output_type": "display_data"
    },
    {
     "data": {
      "text/html": [
       "<style>\n",
       ".dl-inline {width: auto; margin:0; padding: 0}\n",
       ".dl-inline>dt, .dl-inline>dd {float: none; width: auto; display: inline-block}\n",
       ".dl-inline>dt::after {content: \":\\0020\"; padding-right: .5ex}\n",
       ".dl-inline>dt:not(:first-of-type) {padding-left: .5ex}\n",
       "</style><dl class=dl-inline><dt>(Intercept)</dt><dd>-504.231133595047</dd><dt>PrivateYes</dt><dd>-623.648561759667</dd><dt>Accept</dt><dd>1.24612437383497</dd><dt>Enroll</dt><dd>0</dd><dt>Top10perc</dt><dd>26.5604956807554</dd><dt>Top25perc</dt><dd>-0.301821839142571</dd><dt>F.Undergrad</dt><dd>0.0307756768125218</dd><dt>P.Undergrad</dt><dd>0</dd><dt>Outstate</dt><dd>-0.0302213467441451</dd><dt>Room.Board</dt><dd>0.128936266888527</dd><dt>Books</dt><dd>0</dd><dt>Personal</dt><dd>0</dd><dt>PhD</dt><dd>-2.76112630834087</dd><dt>Terminal</dt><dd>-6.25715799304214</dd><dt>S.F.Ratio</dt><dd>0</dd><dt>perc.alumni</dt><dd>-2.16627918678636</dd><dt>Expend</dt><dd>0.081760969371448</dd><dt>Grad.Rate</dt><dd>4.64527743556032</dd></dl>\n"
      ],
      "text/latex": [
       "\\begin{description*}\n",
       "\\item[(Intercept)] -504.231133595047\n",
       "\\item[PrivateYes] -623.648561759667\n",
       "\\item[Accept] 1.24612437383497\n",
       "\\item[Enroll] 0\n",
       "\\item[Top10perc] 26.5604956807554\n",
       "\\item[Top25perc] -0.301821839142571\n",
       "\\item[F.Undergrad] 0.0307756768125218\n",
       "\\item[P.Undergrad] 0\n",
       "\\item[Outstate] -0.0302213467441451\n",
       "\\item[Room.Board] 0.128936266888527\n",
       "\\item[Books] 0\n",
       "\\item[Personal] 0\n",
       "\\item[PhD] -2.76112630834087\n",
       "\\item[Terminal] -6.25715799304214\n",
       "\\item[S.F.Ratio] 0\n",
       "\\item[perc.alumni] -2.16627918678636\n",
       "\\item[Expend] 0.081760969371448\n",
       "\\item[Grad.Rate] 4.64527743556032\n",
       "\\end{description*}\n"
      ],
      "text/markdown": [
       "(Intercept)\n",
       ":   -504.231133595047PrivateYes\n",
       ":   -623.648561759667Accept\n",
       ":   1.24612437383497Enroll\n",
       ":   0Top10perc\n",
       ":   26.5604956807554Top25perc\n",
       ":   -0.301821839142571F.Undergrad\n",
       ":   0.0307756768125218P.Undergrad\n",
       ":   0Outstate\n",
       ":   -0.0302213467441451Room.Board\n",
       ":   0.128936266888527Books\n",
       ":   0Personal\n",
       ":   0PhD\n",
       ":   -2.76112630834087Terminal\n",
       ":   -6.25715799304214S.F.Ratio\n",
       ":   0perc.alumni\n",
       ":   -2.16627918678636Expend\n",
       ":   0.081760969371448Grad.Rate\n",
       ":   4.64527743556032\n",
       "\n"
      ],
      "text/plain": [
       "  (Intercept)    PrivateYes        Accept        Enroll     Top10perc \n",
       "-504.23113360 -623.64856176    1.24612437    0.00000000   26.56049568 \n",
       "    Top25perc   F.Undergrad   P.Undergrad      Outstate    Room.Board \n",
       "  -0.30182184    0.03077568    0.00000000   -0.03022135    0.12893627 \n",
       "        Books      Personal           PhD      Terminal     S.F.Ratio \n",
       "   0.00000000    0.00000000   -2.76112631   -6.25715799    0.00000000 \n",
       "  perc.alumni        Expend     Grad.Rate \n",
       "  -2.16627919    0.08176097    4.64527744 "
      ]
     },
     "metadata": {},
     "output_type": "display_data"
    }
   ],
   "source": [
    "#(d)\n",
    "cv = cv.glmnet(x[train,],y[train],alpha=1)\n",
    "lambda = cv$lambda.min\n",
    "\n",
    "\n",
    "lasso_mod = glmnet(x[train,],y[train],alpha=1,lambda=grid)\n",
    "lasso_pred = predict(lasso_mod, s=lambda, newx=x[test,])\n",
    "mean((lasso_pred-y_test)^2)\n",
    "\n",
    "coef = predict(lasso_mod, type=\"coefficients\", s=lambda)[1:18,]\n",
    "length(coef[coef!= 0])\n",
    "coef"
   ]
  },
  {
   "cell_type": "code",
   "execution_count": 45,
   "id": "740c43fc",
   "metadata": {},
   "outputs": [
    {
     "name": "stderr",
     "output_type": "stream",
     "text": [
      "Warning message:\n",
      "\"package 'pls' is in use and will not be installed\"\n"
     ]
    },
    {
     "data": {
      "text/html": [
       "5341194.0041031"
      ],
      "text/latex": [
       "5341194.0041031"
      ],
      "text/markdown": [
       "5341194.0041031"
      ],
      "text/plain": [
       "[1] 5341194"
      ]
     },
     "metadata": {},
     "output_type": "display_data"
    },
    {
     "data": {
      "image/png": "[encoded data removed]",
      "text/plain": [
       "Plot with title \"Apps\""
      ]
     },
     "metadata": {
      "image/png": {
       "height": 420,
       "width": 420
      }
     },
     "output_type": "display_data"
    }
   ],
   "source": [
    "#(e)\n",
    "install.packages(\"pls\")\n",
    "library(pls)\n",
    "pcr_mod = pcr(Apps~., data=College, subset=train, scale=T, validation=\"CV\")\n",
    "\n",
    "validationplot(pcr_mod, val.type=\"MSEP\")\n",
    "\n",
    "pcr_pred = predict(pcr_mod, x[test,], ncomp=5)\n",
    "mean((pcr_pred-y_test)^2)"
   ]
  },
  {
   "cell_type": "code",
   "execution_count": 46,
   "id": "1eed1605",
   "metadata": {},
   "outputs": [
    {
     "data": {
      "text/html": [
       "1916197.90329462"
      ],
      "text/latex": [
       "1916197.90329462"
      ],
      "text/markdown": [
       "1916197.90329462"
      ],
      "text/plain": [
       "[1] 1916198"
      ]
     },
     "metadata": {},
     "output_type": "display_data"
    },
    {
     "data": {
      "image/png": "[encoded data removed]",
      "text/plain": [
       "Plot with title \"Apps\""
      ]
     },
     "metadata": {
      "image/png": {
       "height": 420,
       "width": 420
      }
     },
     "output_type": "display_data"
    }
   ],
   "source": [
    "#(f)\n",
    "pls_mod = plsr(Apps~., data=College, subset=train, scale=T, validation=\"CV\")\n",
    "\n",
    "validationplot(pls_mod, val.type=\"MSEP\")\n",
    "\n",
    "pls_pred = predict(pls_mod, x[test,], ncomp=8)\n",
    "mean((pls_pred-y_test)^2)"
   ]
  },
  {
   "cell_type": "markdown",
   "id": "17706a2d",
   "metadata": {},
   "source": [
    "### Exercises Chapter 7 from the Introduction to Statistical Learning book"
   ]
  },
  {
   "cell_type": "code",
   "execution_count": 68,
   "id": "fd167352",
   "metadata": {},
   "outputs": [
    {
     "name": "stderr",
     "output_type": "stream",
     "text": [
      "Warning message:\n",
      "\"package 'leaps' is in use and will not be installed\"\n"
     ]
    },
    {
     "data": {
      "image/png": "[encoded data removed]",
      "text/plain": [
       "Plot with title \"Adjusted R2\""
      ]
     },
     "metadata": {
      "image/png": {
       "height": 420,
       "width": 420
      }
     },
     "output_type": "display_data"
    }
   ],
   "source": [
    "# Exercise 10\n",
    "library(ISLR)\n",
    "install.packages(\"leaps\")\n",
    "library(leaps)\n",
    "library(gam)\n",
    "\n",
    "#(a)\n",
    "train = sample(length(College$Outstate), length(College$Outstate)/2)\n",
    "test = -train\n",
    "train_college = College[train, ]\n",
    "test_college = College[test, ]\n",
    "\n",
    "reg_fit = regsubsets(Outstate ~ ., data = train_college, nvmax = 17, method = \"forward\")\n",
    "reg_summary = summary(reg_fit)\n",
    "\n",
    "par(mfrow=c(3,3))\n",
    "plot(1:17, reg_summary$cp,xlab=\"Variables\",ylab=\"Cp\",main=\"Cp\", type='b')\n",
    "plot(1:17, reg_summary$bic,xlab=\"Variables\",ylab=\"BIC\",main=\"BIC\", type='b')\n",
    "plot(1:17, reg_summary$adjr2,xlab=\"Variables\",ylab=\"Adjusted R2\",main=\"Adjusted R2\", type='b')"
   ]
  },
  {
   "cell_type": "code",
   "execution_count": 69,
   "id": "88f386a0",
   "metadata": {},
   "outputs": [
    {
     "data": {
      "image/png": "[encoded data removed]",
      "text/plain": [
       "plot without title"
      ]
     },
     "metadata": {
      "image/png": {
       "height": 420,
       "width": 420
      }
     },
     "output_type": "display_data"
    }
   ],
   "source": [
    "#(b)\n",
    "gam = gam(Outstate~Private+\n",
    "               s(Room.Board,4)+\n",
    "               s(PhD,4)+\n",
    "               s(perc.alumni,2)+\n",
    "               s(Expend,4)+\n",
    "               s(Grad.Rate,5), data=train_college)\n",
    "par(mfrow=c(2,3))\n",
    "plot(gam, col=\"blue\", se=T)"
   ]
  },
  {
   "cell_type": "code",
   "execution_count": 70,
   "id": "5f737326",
   "metadata": {},
   "outputs": [
    {
     "data": {
      "text/html": [
       "3953155.97936947"
      ],
      "text/latex": [
       "3953155.97936947"
      ],
      "text/markdown": [
       "3953155.97936947"
      ],
      "text/plain": [
       "[1] 3953156"
      ]
     },
     "metadata": {},
     "output_type": "display_data"
    }
   ],
   "source": [
    "#(c)\n",
    "gam_pred = predict(gam, test_college)\n",
    "mean((test_college$Outstate - gam_pred)^2)"
   ]
  },
  {
   "cell_type": "code",
   "execution_count": 71,
   "id": "36a2bc5f",
   "metadata": {},
   "outputs": [
    {
     "data": {
      "text/plain": [
       "\n",
       "Call: gam(formula = Outstate ~ Private + s(Room.Board, 4) + s(PhD, \n",
       "    4) + s(perc.alumni, 2) + s(Expend, 4) + s(Grad.Rate, 5), \n",
       "    data = train_college)\n",
       "Deviance Residuals:\n",
       "     Min       1Q   Median       3Q      Max \n",
       "-4453.26 -1166.54   -35.55  1196.29  6827.86 \n",
       "\n",
       "(Dispersion Parameter for gaussian family taken to be 3061569)\n",
       "\n",
       "    Null Deviance: 6212963858 on 387 degrees of freedom\n",
       "Residual Deviance: 1123596147 on 367.0001 degrees of freedom\n",
       "AIC: 6918.068 \n",
       "\n",
       "Number of Local Scoring Iterations: NA \n",
       "\n",
       "Anova for Parametric Effects\n",
       "                   Df     Sum Sq    Mean Sq F value    Pr(>F)    \n",
       "Private             1 1689081175 1689081175 551.705 < 2.2e-16 ***\n",
       "s(Room.Board, 4)    1 1175121229 1175121229 383.830 < 2.2e-16 ***\n",
       "s(PhD, 4)           1  252466084  252466084  82.463 < 2.2e-16 ***\n",
       "s(perc.alumni, 2)   1  273484493  273484493  89.328 < 2.2e-16 ***\n",
       "s(Expend, 4)        1  646630494  646630494 211.209 < 2.2e-16 ***\n",
       "s(Grad.Rate, 5)     1   92196357   92196357  30.114 7.609e-08 ***\n",
       "Residuals         367 1123596147    3061569                      \n",
       "---\n",
       "Signif. codes:  0 '***' 0.001 '**' 0.01 '*' 0.05 '.' 0.1 ' ' 1\n",
       "\n",
       "Anova for Nonparametric Effects\n",
       "                  Npar Df Npar F   Pr(F)    \n",
       "(Intercept)                                 \n",
       "Private                                     \n",
       "s(Room.Board, 4)        3  0.971 0.40640    \n",
       "s(PhD, 4)               3  1.624 0.18342    \n",
       "s(perc.alumni, 2)       1  4.463 0.03532 *  \n",
       "s(Expend, 4)            3 35.614 < 2e-16 ***\n",
       "s(Grad.Rate, 5)         4  2.261 0.06217 .  \n",
       "---\n",
       "Signif. codes:  0 '***' 0.001 '**' 0.01 '*' 0.05 '.' 0.1 ' ' 1"
      ]
     },
     "metadata": {},
     "output_type": "display_data"
    }
   ],
   "source": [
    "summary(gam)"
   ]
  }
 ],
 "metadata": {
  "kernelspec": {
   "display_name": "R",
   "language": "R",
   "name": "ir"
  },
  "language_info": {
   "codemirror_mode": "r",
   "file_extension": ".r",
   "mimetype": "text/x-r-source",
   "name": "R",
   "pygments_lexer": "r",
   "version": "4.0.5"
  }
 },
 "nbformat": 4,
 "nbformat_minor": 5
}
